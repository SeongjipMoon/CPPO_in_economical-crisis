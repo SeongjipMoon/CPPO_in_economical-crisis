{
 "cells": [
  {
   "cell_type": "code",
   "execution_count": 1,
   "metadata": {},
   "outputs": [
    {
     "data": {
      "text/html": [
       "        <script type=\"text/javascript\">\n",
       "        window.PlotlyConfig = {MathJaxConfig: 'local'};\n",
       "        if (window.MathJax && window.MathJax.Hub && window.MathJax.Hub.Config) {window.MathJax.Hub.Config({SVG: {font: \"STIX-Web\"}});}\n",
       "        if (typeof require !== 'undefined') {\n",
       "        require.undef(\"plotly\");\n",
       "        requirejs.config({\n",
       "            paths: {\n",
       "                'plotly': ['https://cdn.plot.ly/plotly-2.16.1.min']\n",
       "            }\n",
       "        });\n",
       "        require(['plotly'], function(Plotly) {\n",
       "            window._Plotly = Plotly;\n",
       "        });\n",
       "        }\n",
       "        </script>\n",
       "        "
      ]
     },
     "metadata": {},
     "output_type": "display_data"
    }
   ],
   "source": [
    "# 라이브러리 호출\n",
    "import numpy as np\n",
    "import pandas as pd\n",
    "\n",
    "import FinanceDataReader as fdr\n",
    "from pandas_datareader import data\n",
    "\n",
    "from datetime import datetime\n",
    "from dateutil.relativedelta import relativedelta #상대적 날짜 구하기\n",
    "\n",
    "import matplotlib.pyplot as plt\n",
    "\n",
    "import plotly.graph_objs as go\n",
    "from plotly.subplots import make_subplots\n",
    "import chart_studio.plotly as py \n",
    "import cufflinks as cf \n",
    "cf.go_offline(connected=True)\n"
   ]
  },
  {
   "cell_type": "code",
   "execution_count": 2,
   "metadata": {},
   "outputs": [],
   "source": [
    "### 설정값 입력 ###\n",
    "#datetime.today().strftime('%Y-%m-%d')\n",
    "# 백테스트 날짜 설정\n",
    "start_day = '2022-02-01' \n",
    "end_day = '2022-10-01'\n",
    "\n",
    "# 포트폴리오 세부 설정\n",
    "port1_asset = ['VTI', '^KS11', 'TLT', 'IEI', 'GLD', 'GSG'] # 올웨더 포트폴리오 비중 (미국주식 15%, KOSPI 15%, 장기채권 40%, 중기채권 15%, 금 7.5%, 원자재 7.5%)\n",
    "port1_ratio = [15, 15, 40, 15, 7.5, 7.5]\n",
    "port1_leverage = [1, 1, 1, 1, 1, 1]\n",
    "\n",
    "port2_asset = ['VTI', 'TLT', 'BIL', 'GLD'] # 영구 포트폴리오 비중 (주식 25%, 채권 25%, 현금 or 단기채권 25%, 금 현물 25%)\n",
    "port2_ratio = [25, 25, 25, 25]\n",
    "port2_leverage = [1, 1, 1, 1]\n",
    "\n",
    "port3_asset = ['GLD', 'VTI', 'SHY', 'TLT', 'VBR'] # 황금나비 포트폴리오 비중 (금 20%, 주식 20%, 단기채권 20%, 장기채권(10년채) 20%, 소형가치주 20%)\n",
    "port3_ratio = [20, 20, 20, 20, 20]\n",
    "port3_leverage = [1, 1, 1, 1, 1]\n",
    "\n",
    "port4_asset = ['VTI', 'IEI'] # 60/40 포트폴리오 비중 (주식 60%, 채권 40%)\n",
    "port4_ratio = [60, 40]\n",
    "port4_leverage = [1, 1]\n",
    "\n",
    "port5_asset = ['VTI','GLD','GSG','KRW=X'] # 30, 30, 10, 30 ( Best)\n",
    "port5_ratio = [30, 30, 10, 30]\n",
    "port5_leverage = [1, 1, 1, 1]\n",
    "\n",
    "port6_asset = ['^KS11','TIP','GLD'] # Total Best\n",
    "port6_ratio = [30, 35, 35]\n",
    "port6_leverage = [1, 1, 1]\n",
    "\n",
    "# 포트폴리오 갯수\n",
    "portfolio = 6 # 전체 포트폴리오 갯수\n",
    "\n",
    "benchmark = ['VTI', 'Vanguard Total Stock Market'] #[Ticker, 이름] -> 미국 주식을 benchmark로 사용\n",
    "\n",
    "# 최초 평가액\n",
    "initial_balance = 10000"
   ]
  },
  {
   "cell_type": "code",
   "execution_count": 3,
   "metadata": {
    "scrolled": true
   },
   "outputs": [
    {
     "name": "stdout",
     "output_type": "stream",
     "text": [
      "portfolio 1\n",
      "end\n",
      "portfolio 2\n",
      "end\n",
      "portfolio 3\n",
      "end\n",
      "portfolio 4\n",
      "end\n",
      "portfolio 5\n",
      "end\n",
      "portfolio 6\n",
      "end\n",
      "첫 거래일 : 2022-02-03\n",
      "지수 데이터 생성 완료\n",
      "날짜 리스트 생성 완료\n",
      "가격, 등락률 데이터 생성 완료\n"
     ]
    }
   ],
   "source": [
    "# 첫 거래일 계산\n",
    "for port_num in range(1,portfolio+1):\n",
    "    print(\"portfolio\", port_num)\n",
    "    for i in range(len(locals()['port'+str(port_num)+'_asset'])):\n",
    "        if datetime.strptime(start_day, '%Y-%m-%d') <= data.get_data_yahoo(locals()['port'+str(port_num)+'_asset'][i], start_day, end_day).index[0]:\n",
    "            start_day = data.get_data_yahoo(locals()['port'+str(port_num)+'_asset'][i], start_day, end_day).index[0].strftime('%Y-%m-%d')\n",
    "    print(\"end\")\n",
    "print('첫 거래일 :', start_day)\n",
    "\n",
    "# 지수 데이터 생성\n",
    "for port_num in range(1,portfolio+1):\n",
    "    for i in range(len(locals()['port'+str(port_num)+'_asset'])):\n",
    "        locals()['port'+str(port_num)+'_asset'+str(i)+'_data'] = data.get_data_yahoo(locals()['port'+str(port_num)+'_asset'][i], start_day, end_day)\n",
    "print(\"지수 데이터 생성 완료\")\n",
    "benchmark_data = data.get_data_yahoo(benchmark[0], start_day, end_day)\n",
    "        \n",
    "# 날짜 리스트 생성\n",
    "date = benchmark_data.index\n",
    "\n",
    "time_period = (date[-1] - date[0]).days/365 # 거래 기간 계산\n",
    "print(\"날짜 리스트 생성 완료\")\n",
    "# 가격, 등락률 데이터 생성\n",
    "for port_num in range(1,portfolio+1):\n",
    "    for i in range(len(locals()['port'+str(port_num)+'_asset'])):\n",
    "        locals()['port'+str(port_num)+'_asset'+str(i)+'_price'] = locals()['port'+str(port_num)+'_asset'+str(i)+'_data']['Adj Close'].to_list()\n",
    "        locals()['port'+str(port_num)+'_asset'+str(i)+'_change'] = np.multiply(locals()['port'+str(port_num)+'_asset'+str(i)+'_data']['Adj Close'].pct_change().to_list(),[100 * locals()['port'+str(port_num)+'_leverage'][i]])\n",
    "print(\"가격, 등락률 데이터 생성 완료\")    \n",
    "benchmark_price = benchmark_data['Adj Close'].to_list()\n",
    "benchmark_change = np.multiply(benchmark_data['Adj Close'].pct_change().to_list(),[100]) #np.multiply(benchmark_data['Adj Close'].pct_change().to_list(),[100])"
   ]
  },
  {
   "cell_type": "code",
   "execution_count": 4,
   "metadata": {},
   "outputs": [],
   "source": [
    "# 백테스트\n",
    "def backtest(port_num):\n",
    "    \n",
    "    # 첫 거래일\n",
    "    for i in range(len(globals()['port'+str(port_num)+'_asset'])):\n",
    "        locals()['asset'+str(i)+'_balance'] = [initial_balance * globals()['port'+str(port_num)+'_ratio'][i]/sum(globals()['port'+str(port_num)+'_ratio'])]\n",
    "        \n",
    "    total_balance = [initial_balance]\n",
    "    \n",
    "    # 이후 거래일 \n",
    "    for i in range(1, len(date)):\n",
    "        total_balance_tmp = 0\n",
    "        for j in range(len(globals()['port'+str(port_num)+'_asset'])):\n",
    "            try:\n",
    "                locals()['asset'+str(j)+'_balance'].append(locals()['asset'+str(j)+'_balance'][i-1] * (1 + globals()['port'+str(port_num)+'_asset'+str(j)+'_change'][i]/100))\n",
    "            except:\n",
    "                locals()['asset'+str(j)+'_balance'].append(locals()['asset'+str(j)+'_balance'][i-1])\n",
    "            total_balance_tmp = total_balance_tmp + locals()['asset'+str(j)+'_balance'][i]\n",
    "                                         \n",
    "        total_balance.append(total_balance_tmp)\n",
    "        \n",
    "    backtest_df = pd.DataFrame()\n",
    "    backtest_df['date'] = date\n",
    "    backtest_df.set_index('date', inplace=True)\n",
    "    backtest_df['total'] = total_balance\n",
    "    for i in range(len(globals()['port'+str(port_num)+'_asset'])):\n",
    "        backtest_df['asset'+str(i)] = locals()['asset'+str(i)+'_balance']\n",
    "    \n",
    "    print('portfolio'+str(port_num)+' 테스트 완료')                                     \n",
    "    \n",
    "    return(backtest_df)"
   ]
  },
  {
   "cell_type": "code",
   "execution_count": 5,
   "metadata": {},
   "outputs": [],
   "source": [
    "def benchmark_test():\n",
    "    benchmark_balance = [initial_balance]\n",
    "    for i in range(1, len(date)):\n",
    "        benchmark_balance.append(benchmark_balance[i-1] * (1 + benchmark_change[i]/100))\n",
    "    \n",
    "    benchmark_df = pd.DataFrame()\n",
    "    benchmark_df['date'] = date\n",
    "    benchmark_df.set_index('date', inplace=True)\n",
    "    benchmark_df['benchmark'] = benchmark_balance\n",
    "    \n",
    "    return(benchmark_df)"
   ]
  },
  {
   "cell_type": "code",
   "execution_count": 6,
   "metadata": {},
   "outputs": [],
   "source": [
    "# 평가액 기준 성과지표 만들기 함수\n",
    "def balance_result(balance):\n",
    "    \n",
    "    change = [0]\n",
    "    cum_return = [0]\n",
    "    prev_high = [0]\n",
    "    prev_high_tmp = 0\n",
    "    drawdown = [0]\n",
    "    MDD = [0]\n",
    "    MDD_tmp = 0\n",
    "    CAGR = [0]\n",
    "    STDEV = [0]\n",
    "    sharpe = [0]\n",
    "    \n",
    "    for i in range(1, len(date)):\n",
    "        change.append((balance[i]/balance[i-1] - 1)*100)\n",
    "        \n",
    "        cum_return.append((balance[i]/balance[0] - 1) * 100)\n",
    "        \n",
    "        if prev_high_tmp < cum_return[i]:\n",
    "            prev_high_tmp = cum_return[i] \n",
    "        else: \n",
    "            prev_high_tmp = prev_high_tmp\n",
    "        prev_high.append(prev_high_tmp)\n",
    "        \n",
    "        CAGR.append(((balance[i]/balance[0]) ** (1 / float(time_period)) - 1) * 100)\n",
    "        \n",
    "        drawdown.append(((cum_return[i] + 100)/(prev_high[i] + 100) - 1) * 100)\n",
    "\n",
    "        if MDD_tmp > drawdown[i]:\n",
    "            MDD_tmp = drawdown[i]\n",
    "        else:\n",
    "            MDD_tmp = MDD_tmp\n",
    "        MDD.append(MDD_tmp)\n",
    "\n",
    "        STDEV.append(np.std(change))\n",
    "        \n",
    "        if STDEV[i] != 0:\n",
    "            sharpe.append(np.sqrt(252) * np.mean(change) / np.std(change))\n",
    "        else:\n",
    "            sharpe.append(0)\n",
    "        \n",
    "    return(change, cum_return, prev_high, CAGR, drawdown, MDD, STDEV, sharpe)"
   ]
  },
  {
   "cell_type": "code",
   "execution_count": 7,
   "metadata": {},
   "outputs": [],
   "source": [
    "# 백테스트 결과 정리\n",
    "def backtest_result(backtest_df):\n",
    "    backtest_result_df = pd.DataFrame()\n",
    "    backtest_result_df['date'] = date\n",
    "    backtest_result_df.set_index('date', inplace=True)\n",
    "    result_label = ['change', 'cum_return', 'prev_high', 'CAGR', 'drawdown', 'MDD', 'STDEV', 'sharpe']\n",
    "    for i in backtest_df.columns:\n",
    "        locals()[i + '_result'] = balance_result(backtest_df[i].to_list())\n",
    "        backtest_result_df[i + '_balance'] = backtest_df[i].to_list()\n",
    "        print(i + ' 완료')\n",
    "    for j in range(len(result_label)):\n",
    "        for i in backtest_df.columns:\n",
    "            backtest_result_df[i + '_' + result_label[j]] = locals()[i + '_result'][j]\n",
    "    return(backtest_result_df)"
   ]
  },
  {
   "cell_type": "code",
   "execution_count": 8,
   "metadata": {},
   "outputs": [],
   "source": [
    "# 연도별, 월별 수익률\n",
    "def annual_monthly_result(backtest_df):\n",
    "    \n",
    "    annual_return_df = pd.DataFrame()\n",
    "    monthly_return_df = pd.DataFrame()\n",
    "    \n",
    "    for label in backtest_df.columns:\n",
    "        return_year = []\n",
    "        return_month = []\n",
    "        locals()[label + '_annual_return'] = []\n",
    "        locals()[label + '_monthly_return'] = []\n",
    "        locals()[label + '_annual_start_balance'] = []\n",
    "        locals()[label + '_annual_end_balance'] = []\n",
    "        locals()[label + '_monthly_start_balance'] = []\n",
    "        locals()[label + '_monthly_end_balance'] = []\n",
    "        locals()[label + '_annual_start'] = backtest_df[label].to_list()[0]\n",
    "        locals()[label + '_monthly_start'] = backtest_df[label].to_list()[0]\n",
    "        for i in range(1, len(date)):\n",
    "            if date[i].year != date[i-1].year:\n",
    "                return_year.append(date[i-1].year)\n",
    "                locals()[label + '_annual_return'].append((backtest_df[label].to_list()[i-1]/locals()[label + '_annual_start'] - 1) * 100)\n",
    "                locals()[label + '_annual_start_balance'].append(locals()[label + '_annual_start'])\n",
    "                locals()[label + '_annual_end_balance'].append(backtest_df[label].to_list()[i-1])\n",
    "                locals()[label + '_annual_start'] = backtest_df[label].to_list()[i]\n",
    "            elif date[i] == date[-1]: # 마지막 거래일\n",
    "                return_year.append(date[i].year)\n",
    "                locals()[label + '_annual_return'].append((backtest_df[label].to_list()[i]/locals()[label + '_annual_start'] - 1) * 100)\n",
    "                locals()[label + '_annual_start_balance'].append(locals()[label + '_annual_start'])\n",
    "                locals()[label + '_annual_end_balance'].append(backtest_df[label].to_list()[i-1])\n",
    "\n",
    "            if date[i].month != date[i-1].month:\n",
    "                return_month.append(date[i-1].strftime('%Y-%m'))\n",
    "                locals()[label + '_monthly_return'].append((backtest_df[label].to_list()[i-1]/locals()[label + '_monthly_start'] - 1) * 100)\n",
    "                locals()[label + '_monthly_start_balance'].append(locals()[label + '_monthly_start'])\n",
    "                locals()[label + '_monthly_end_balance'].append(backtest_df[label].to_list()[i-1])\n",
    "                locals()[label + '_monthly_start'] = backtest_df[label].to_list()[i]\n",
    "            elif date[i] == date[-1]: # 마지막 거래일\n",
    "                return_month.append(date[i].strftime('%Y-%m'))\n",
    "                locals()[label + '_monthly_return'].append((backtest_df[label].to_list()[i]/locals()[label + '_monthly_start'] - 1) * 100)\n",
    "                locals()[label + '_monthly_start_balance'].append(locals()[label + '_monthly_start'])\n",
    "                locals()[label + '_monthly_end_balance'].append(backtest_df[label].to_list()[i-1])\n",
    "                \n",
    "        annual_return_df[label + '_annual_return'] = locals()[label + '_annual_return']\n",
    "        monthly_return_df[label + '_monthly_return'] = locals()[label + '_monthly_return']\n",
    "    annual_return_df['return_year'] = return_year\n",
    "    annual_return_df.set_index('return_year', inplace=True)\n",
    "    monthly_return_df['return_month'] = return_month\n",
    "    monthly_return_df.set_index('return_month', inplace=True)\n",
    "    \n",
    "    print('연도별, 월별 수익률 생성 완료')\n",
    "    \n",
    "    return(annual_return_df, monthly_return_df)"
   ]
  },
  {
   "cell_type": "code",
   "execution_count": 9,
   "metadata": {
    "scrolled": true
   },
   "outputs": [
    {
     "name": "stdout",
     "output_type": "stream",
     "text": [
      "portfolio1 테스트 완료\n",
      "total 완료\n",
      "asset0 완료\n",
      "asset1 완료\n",
      "asset2 완료\n",
      "asset3 완료\n",
      "asset4 완료\n",
      "asset5 완료\n",
      "연도별, 월별 수익률 생성 완료\n",
      "portfolio2 테스트 완료\n",
      "total 완료\n",
      "asset0 완료\n",
      "asset1 완료\n",
      "asset2 완료\n",
      "asset3 완료\n",
      "연도별, 월별 수익률 생성 완료\n",
      "portfolio3 테스트 완료\n",
      "total 완료\n",
      "asset0 완료\n",
      "asset1 완료\n",
      "asset2 완료\n",
      "asset3 완료\n",
      "asset4 완료\n",
      "연도별, 월별 수익률 생성 완료\n",
      "portfolio4 테스트 완료\n",
      "total 완료\n",
      "asset0 완료\n",
      "asset1 완료\n",
      "연도별, 월별 수익률 생성 완료\n",
      "portfolio5 테스트 완료\n",
      "total 완료\n",
      "asset0 완료\n",
      "asset1 완료\n",
      "asset2 완료\n",
      "asset3 완료\n",
      "연도별, 월별 수익률 생성 완료\n",
      "portfolio6 테스트 완료\n",
      "total 완료\n",
      "asset0 완료\n",
      "asset1 완료\n",
      "asset2 완료\n",
      "연도별, 월별 수익률 생성 완료\n",
      "benchmark 완료\n",
      "연도별, 월별 수익률 생성 완료\n"
     ]
    }
   ],
   "source": [
    "for port_num in range(1,portfolio+1):\n",
    "    locals()['port'+str(port_num)+'_backtest_df'] = backtest(port_num)\n",
    "    locals()['port'+str(port_num)+'_backtest_result_df'] = backtest_result(locals()['port'+str(port_num)+'_backtest_df'])\n",
    "    locals()['port'+str(port_num)+'_annual_monthly_return'] = annual_monthly_result(locals()['port'+str(port_num)+'_backtest_df'])\n",
    "    locals()['port'+str(port_num)+'_annual_return_df'] = locals()['port'+str(port_num)+'_annual_monthly_return'][0]\n",
    "    locals()['port'+str(port_num)+'_monthly_return_df'] = locals()['port'+str(port_num)+'_annual_monthly_return'][1]\n",
    "\n",
    "benchmark_test_df = benchmark_test()\n",
    "benchmark_result_df = backtest_result(benchmark_test_df)\n",
    "benchmark_annual_monthly_return = annual_monthly_result(benchmark_test_df)\n",
    "benchmark_annual_return_df = benchmark_annual_monthly_return[0]\n",
    "benchmark_monthly_return_df = benchmark_annual_monthly_return[1]"
   ]
  },
  {
   "cell_type": "code",
   "execution_count": 10,
   "metadata": {},
   "outputs": [],
   "source": [
    "# 성과지표\n",
    "portfolio_returns = pd.DataFrame(columns=['Portfolio', 'port_detail', 'Initial Balance', 'Final Balance', 'cum_return', 'CAGR', 'MDD', 'STDEV', 'Sharpe Ratio'])\n",
    "\n",
    "detail = ''\n",
    "for port_num in range(1,portfolio+1):\n",
    "    for i in range(len(globals()['port'+str(port_num)+'_asset'])):\n",
    "            detail = detail + globals()['port'+str(port_num)+'_asset'][i] + '(' + str(int(globals()['port'+str(port_num)+'_ratio'][i]/sum(globals()['port'+str(port_num)+'_ratio'])*100)) + '%,' + str(globals()['port'+str(port_num)+'_leverage'][i]) + 'x)'\n",
    "            \n",
    "    portfolio_returns.loc[port_num] = [\n",
    "        'Portfolio ' + str(port_num),\n",
    "        detail,\n",
    "        int(locals()['port'+str(port_num)+'_backtest_result_df']['total_balance'][0]),\n",
    "        int(locals()['port'+str(port_num)+'_backtest_result_df']['total_balance'][-1]),\n",
    "        str(round(locals()['port'+str(port_num)+'_backtest_result_df']['total_cum_return'][-1],1))+'%',\n",
    "        str(round(locals()['port'+str(port_num)+'_backtest_result_df']['total_CAGR'][-1],2))+'%',\n",
    "        str(round(locals()['port'+str(port_num)+'_backtest_result_df']['total_MDD'][-1],2))+'%',\n",
    "        round(locals()['port'+str(port_num)+'_backtest_result_df']['total_STDEV'][-1],2),\n",
    "        round(locals()['port'+str(port_num)+'_backtest_result_df']['total_sharpe'][-1],2),\n",
    "    ]\n",
    "    detail = ''\n",
    "\n",
    "portfolio_returns.loc[0] = [\n",
    "    'Benchmark',\n",
    "    benchmark[1],\n",
    "    int(benchmark_result_df['benchmark_balance'][0]),\n",
    "    int(benchmark_result_df['benchmark_balance'][-1]),\n",
    "    str(round(benchmark_result_df['benchmark_cum_return'][-1],1))+'%',\n",
    "    str(round(benchmark_result_df['benchmark_CAGR'][-1],2))+'%',\n",
    "    str(round(benchmark_result_df['benchmark_MDD'][-1],2))+'%',\n",
    "    round(benchmark_result_df['benchmark_STDEV'][-1],2),\n",
    "    round(benchmark_result_df['benchmark_sharpe'][-1],2),\n",
    "]\n"
   ]
  },
  {
   "cell_type": "code",
   "execution_count": 11,
   "metadata": {},
   "outputs": [],
   "source": [
    "# 라인 차트\n",
    "def line_plotting(returns, title, plot_type):\n",
    "    fig = go.Figure()\n",
    "    \n",
    "    for port_num in range(1,portfolio+1):\n",
    "        fig.add_trace(go.Scatter(x=date, y=globals()['port'+str(port_num)+'_backtest_result_df'].loc[:,'total_'+ returns], \n",
    "                                 name='Portfolio'+str(port_num),line=dict(width=1)))\n",
    "    fig.add_trace(go.Scatter(x=date, y=benchmark_result_df.loc[:,'benchmark_'+ returns], \n",
    "                                 name='Benchmark',line=dict(width=1)))\n",
    "    # Edit the layout\n",
    "    fig.update_layout(title={'text': title, 'x':0.5, 'xanchor': 'center','yanchor': 'top'},\n",
    "                     yaxis=dict(type=plot_type,autorange=True))\n",
    "    \n",
    "    fig.show()\n",
    "\n",
    "# 바 차트\n",
    "def bar_plotting(returns, title):\n",
    "    fig = go.Figure()\n",
    "    \n",
    "    for port_num in range(1,portfolio+1):\n",
    "        fig.add_trace(go.Bar(x=globals()['port'+str(port_num)+'_'+ returns + '_return_df'].index, \n",
    "                             y=globals()['port'+str(port_num)+'_'+ returns + '_return_df'].loc[:,'total_'+returns+'_return'],\n",
    "                             name='Portfolio'+str(port_num)))\n",
    "        \n",
    "    fig.add_trace(go.Bar(x=globals()['benchmark_' + returns +'_return_df'].index, \n",
    "                             y=globals()['benchmark_' + returns +'_return_df'].loc[:,'benchmark_'+returns+'_return'],\n",
    "                             name='Benchmark'))\n",
    "    # Edit the layout\n",
    "    fig.update_layout(title={'text': title, 'x':0.5, 'xanchor': 'center','yanchor': 'top'},\n",
    "                     yaxis=dict(type='linear',autorange=True))\n",
    "    \n",
    "    fig.show()"
   ]
  },
  {
   "cell_type": "code",
   "execution_count": 12,
   "metadata": {},
   "outputs": [
    {
     "name": "stdout",
     "output_type": "stream",
     "text": [
      "테스트기간 :  2022-02-03 ~ 2022-10-01 / 0.7 년\n"
     ]
    },
    {
     "data": {
      "text/html": [
       "<div>\n",
       "<style scoped>\n",
       "    .dataframe tbody tr th:only-of-type {\n",
       "        vertical-align: middle;\n",
       "    }\n",
       "\n",
       "    .dataframe tbody tr th {\n",
       "        vertical-align: top;\n",
       "    }\n",
       "\n",
       "    .dataframe thead th {\n",
       "        text-align: right;\n",
       "    }\n",
       "</style>\n",
       "<table border=\"1\" class=\"dataframe\">\n",
       "  <thead>\n",
       "    <tr style=\"text-align: right;\">\n",
       "      <th></th>\n",
       "      <th>Portfolio</th>\n",
       "      <th>port_detail</th>\n",
       "      <th>Initial Balance</th>\n",
       "      <th>Final Balance</th>\n",
       "      <th>cum_return</th>\n",
       "      <th>CAGR</th>\n",
       "      <th>MDD</th>\n",
       "      <th>STDEV</th>\n",
       "      <th>Sharpe Ratio</th>\n",
       "    </tr>\n",
       "  </thead>\n",
       "  <tbody>\n",
       "    <tr>\n",
       "      <th>1</th>\n",
       "      <td>Portfolio 1</td>\n",
       "      <td>VTI(15%,1x)^KS11(15%,1x)TLT(40%,1x)IEI(15%,1x)...</td>\n",
       "      <td>10000</td>\n",
       "      <td>8141</td>\n",
       "      <td>-18.6%</td>\n",
       "      <td>-26.85%</td>\n",
       "      <td>-19.97%</td>\n",
       "      <td>0.69</td>\n",
       "      <td>-2.76</td>\n",
       "    </tr>\n",
       "    <tr>\n",
       "      <th>2</th>\n",
       "      <td>Portfolio 2</td>\n",
       "      <td>VTI(25%,1x)TLT(25%,1x)BIL(25%,1x)GLD(25%,1x)</td>\n",
       "      <td>10000</td>\n",
       "      <td>8600</td>\n",
       "      <td>-14.0%</td>\n",
       "      <td>-20.5%</td>\n",
       "      <td>-14.95%</td>\n",
       "      <td>0.59</td>\n",
       "      <td>-2.36</td>\n",
       "    </tr>\n",
       "    <tr>\n",
       "      <th>3</th>\n",
       "      <td>Portfolio 3</td>\n",
       "      <td>GLD(20%,1x)VTI(20%,1x)SHY(20%,1x)TLT(20%,1x)VB...</td>\n",
       "      <td>10000</td>\n",
       "      <td>8471</td>\n",
       "      <td>-15.3%</td>\n",
       "      <td>-22.29%</td>\n",
       "      <td>-16.12%</td>\n",
       "      <td>0.74</td>\n",
       "      <td>-2.06</td>\n",
       "    </tr>\n",
       "    <tr>\n",
       "      <th>4</th>\n",
       "      <td>Portfolio 4</td>\n",
       "      <td>VTI(60%,1x)IEI(40%,1x)</td>\n",
       "      <td>10000</td>\n",
       "      <td>8362</td>\n",
       "      <td>-16.4%</td>\n",
       "      <td>-23.81%</td>\n",
       "      <td>-16.37%</td>\n",
       "      <td>0.97</td>\n",
       "      <td>-1.68</td>\n",
       "    </tr>\n",
       "    <tr>\n",
       "      <th>5</th>\n",
       "      <td>Portfolio 5</td>\n",
       "      <td>VTI(30%,1x)GLD(30%,1x)GSG(10%,1x)KRW=X(30%,1x)</td>\n",
       "      <td>10000</td>\n",
       "      <td>9667</td>\n",
       "      <td>-3.3%</td>\n",
       "      <td>-5.02%</td>\n",
       "      <td>-8.78%</td>\n",
       "      <td>0.67</td>\n",
       "      <td>-0.43</td>\n",
       "    </tr>\n",
       "    <tr>\n",
       "      <th>6</th>\n",
       "      <td>Portfolio 6</td>\n",
       "      <td>^KS11(30%,1x)TIP(35%,1x)GLD(35%,1x)</td>\n",
       "      <td>10000</td>\n",
       "      <td>8521</td>\n",
       "      <td>-14.8%</td>\n",
       "      <td>-21.6%</td>\n",
       "      <td>-19.7%</td>\n",
       "      <td>0.58</td>\n",
       "      <td>-2.57</td>\n",
       "    </tr>\n",
       "    <tr>\n",
       "      <th>0</th>\n",
       "      <td>Benchmark</td>\n",
       "      <td>Vanguard Total Stock Market</td>\n",
       "      <td>10000</td>\n",
       "      <td>7801</td>\n",
       "      <td>-22.0%</td>\n",
       "      <td>-31.45%</td>\n",
       "      <td>-22.99%</td>\n",
       "      <td>1.59</td>\n",
       "      <td>-1.36</td>\n",
       "    </tr>\n",
       "  </tbody>\n",
       "</table>\n",
       "</div>"
      ],
      "text/plain": [
       "     Portfolio                                        port_detail  \\\n",
       "1  Portfolio 1  VTI(15%,1x)^KS11(15%,1x)TLT(40%,1x)IEI(15%,1x)...   \n",
       "2  Portfolio 2       VTI(25%,1x)TLT(25%,1x)BIL(25%,1x)GLD(25%,1x)   \n",
       "3  Portfolio 3  GLD(20%,1x)VTI(20%,1x)SHY(20%,1x)TLT(20%,1x)VB...   \n",
       "4  Portfolio 4                             VTI(60%,1x)IEI(40%,1x)   \n",
       "5  Portfolio 5     VTI(30%,1x)GLD(30%,1x)GSG(10%,1x)KRW=X(30%,1x)   \n",
       "6  Portfolio 6                ^KS11(30%,1x)TIP(35%,1x)GLD(35%,1x)   \n",
       "0    Benchmark                        Vanguard Total Stock Market   \n",
       "\n",
       "   Initial Balance  Final Balance cum_return     CAGR      MDD  STDEV  \\\n",
       "1            10000           8141     -18.6%  -26.85%  -19.97%   0.69   \n",
       "2            10000           8600     -14.0%   -20.5%  -14.95%   0.59   \n",
       "3            10000           8471     -15.3%  -22.29%  -16.12%   0.74   \n",
       "4            10000           8362     -16.4%  -23.81%  -16.37%   0.97   \n",
       "5            10000           9667      -3.3%   -5.02%   -8.78%   0.67   \n",
       "6            10000           8521     -14.8%   -21.6%   -19.7%   0.58   \n",
       "0            10000           7801     -22.0%  -31.45%  -22.99%   1.59   \n",
       "\n",
       "   Sharpe Ratio  \n",
       "1         -2.76  \n",
       "2         -2.36  \n",
       "3         -2.06  \n",
       "4         -1.68  \n",
       "5         -0.43  \n",
       "6         -2.57  \n",
       "0         -1.36  "
      ]
     },
     "execution_count": 12,
     "metadata": {},
     "output_type": "execute_result"
    }
   ],
   "source": [
    "# 결과 출력\n",
    "print('테스트기간 : ', start_day, '~', end_day, '/', round(time_period,1), '년')\n",
    "portfolio_returns"
   ]
  },
  {
   "cell_type": "code",
   "execution_count": 13,
   "metadata": {},
   "outputs": [
    {
     "data": {
      "text/html": [
       "<div>\n",
       "<style scoped>\n",
       "    .dataframe tbody tr th:only-of-type {\n",
       "        vertical-align: middle;\n",
       "    }\n",
       "\n",
       "    .dataframe tbody tr th {\n",
       "        vertical-align: top;\n",
       "    }\n",
       "\n",
       "    .dataframe thead th {\n",
       "        text-align: right;\n",
       "    }\n",
       "</style>\n",
       "<table border=\"1\" class=\"dataframe\">\n",
       "  <thead>\n",
       "    <tr style=\"text-align: right;\">\n",
       "      <th></th>\n",
       "      <th>Portfolio</th>\n",
       "      <th>port_detail</th>\n",
       "      <th>Initial Balance</th>\n",
       "      <th>Final Balance</th>\n",
       "      <th>cum_return</th>\n",
       "      <th>CAGR</th>\n",
       "      <th>MDD</th>\n",
       "      <th>STDEV</th>\n",
       "      <th>Sharpe Ratio</th>\n",
       "    </tr>\n",
       "  </thead>\n",
       "  <tbody>\n",
       "    <tr>\n",
       "      <th>5</th>\n",
       "      <td>Portfolio 5</td>\n",
       "      <td>VTI(30%,1x)GLD(30%,1x)GSG(10%,1x)KRW=X(30%,1x)</td>\n",
       "      <td>10000</td>\n",
       "      <td>9667</td>\n",
       "      <td>-3.3%</td>\n",
       "      <td>-5.02%</td>\n",
       "      <td>-8.78%</td>\n",
       "      <td>0.67</td>\n",
       "      <td>-0.43</td>\n",
       "    </tr>\n",
       "    <tr>\n",
       "      <th>0</th>\n",
       "      <td>Benchmark</td>\n",
       "      <td>Vanguard Total Stock Market</td>\n",
       "      <td>10000</td>\n",
       "      <td>7801</td>\n",
       "      <td>-22.0%</td>\n",
       "      <td>-31.45%</td>\n",
       "      <td>-22.99%</td>\n",
       "      <td>1.59</td>\n",
       "      <td>-1.36</td>\n",
       "    </tr>\n",
       "    <tr>\n",
       "      <th>4</th>\n",
       "      <td>Portfolio 4</td>\n",
       "      <td>VTI(60%,1x)IEI(40%,1x)</td>\n",
       "      <td>10000</td>\n",
       "      <td>8362</td>\n",
       "      <td>-16.4%</td>\n",
       "      <td>-23.81%</td>\n",
       "      <td>-16.37%</td>\n",
       "      <td>0.97</td>\n",
       "      <td>-1.68</td>\n",
       "    </tr>\n",
       "    <tr>\n",
       "      <th>3</th>\n",
       "      <td>Portfolio 3</td>\n",
       "      <td>GLD(20%,1x)VTI(20%,1x)SHY(20%,1x)TLT(20%,1x)VB...</td>\n",
       "      <td>10000</td>\n",
       "      <td>8471</td>\n",
       "      <td>-15.3%</td>\n",
       "      <td>-22.29%</td>\n",
       "      <td>-16.12%</td>\n",
       "      <td>0.74</td>\n",
       "      <td>-2.06</td>\n",
       "    </tr>\n",
       "    <tr>\n",
       "      <th>2</th>\n",
       "      <td>Portfolio 2</td>\n",
       "      <td>VTI(25%,1x)TLT(25%,1x)BIL(25%,1x)GLD(25%,1x)</td>\n",
       "      <td>10000</td>\n",
       "      <td>8600</td>\n",
       "      <td>-14.0%</td>\n",
       "      <td>-20.5%</td>\n",
       "      <td>-14.95%</td>\n",
       "      <td>0.59</td>\n",
       "      <td>-2.36</td>\n",
       "    </tr>\n",
       "    <tr>\n",
       "      <th>6</th>\n",
       "      <td>Portfolio 6</td>\n",
       "      <td>^KS11(30%,1x)TIP(35%,1x)GLD(35%,1x)</td>\n",
       "      <td>10000</td>\n",
       "      <td>8521</td>\n",
       "      <td>-14.8%</td>\n",
       "      <td>-21.6%</td>\n",
       "      <td>-19.7%</td>\n",
       "      <td>0.58</td>\n",
       "      <td>-2.57</td>\n",
       "    </tr>\n",
       "    <tr>\n",
       "      <th>1</th>\n",
       "      <td>Portfolio 1</td>\n",
       "      <td>VTI(15%,1x)^KS11(15%,1x)TLT(40%,1x)IEI(15%,1x)...</td>\n",
       "      <td>10000</td>\n",
       "      <td>8141</td>\n",
       "      <td>-18.6%</td>\n",
       "      <td>-26.85%</td>\n",
       "      <td>-19.97%</td>\n",
       "      <td>0.69</td>\n",
       "      <td>-2.76</td>\n",
       "    </tr>\n",
       "  </tbody>\n",
       "</table>\n",
       "</div>"
      ],
      "text/plain": [
       "     Portfolio                                        port_detail  \\\n",
       "5  Portfolio 5     VTI(30%,1x)GLD(30%,1x)GSG(10%,1x)KRW=X(30%,1x)   \n",
       "0    Benchmark                        Vanguard Total Stock Market   \n",
       "4  Portfolio 4                             VTI(60%,1x)IEI(40%,1x)   \n",
       "3  Portfolio 3  GLD(20%,1x)VTI(20%,1x)SHY(20%,1x)TLT(20%,1x)VB...   \n",
       "2  Portfolio 2       VTI(25%,1x)TLT(25%,1x)BIL(25%,1x)GLD(25%,1x)   \n",
       "6  Portfolio 6                ^KS11(30%,1x)TIP(35%,1x)GLD(35%,1x)   \n",
       "1  Portfolio 1  VTI(15%,1x)^KS11(15%,1x)TLT(40%,1x)IEI(15%,1x)...   \n",
       "\n",
       "   Initial Balance  Final Balance cum_return     CAGR      MDD  STDEV  \\\n",
       "5            10000           9667      -3.3%   -5.02%   -8.78%   0.67   \n",
       "0            10000           7801     -22.0%  -31.45%  -22.99%   1.59   \n",
       "4            10000           8362     -16.4%  -23.81%  -16.37%   0.97   \n",
       "3            10000           8471     -15.3%  -22.29%  -16.12%   0.74   \n",
       "2            10000           8600     -14.0%   -20.5%  -14.95%   0.59   \n",
       "6            10000           8521     -14.8%   -21.6%   -19.7%   0.58   \n",
       "1            10000           8141     -18.6%  -26.85%  -19.97%   0.69   \n",
       "\n",
       "   Sharpe Ratio  \n",
       "5         -0.43  \n",
       "0         -1.36  \n",
       "4         -1.68  \n",
       "3         -2.06  \n",
       "2         -2.36  \n",
       "6         -2.57  \n",
       "1         -2.76  "
      ]
     },
     "execution_count": 13,
     "metadata": {},
     "output_type": "execute_result"
    }
   ],
   "source": [
    "# 샤프지수 높은 순서로 정렬해서 비율 찾고, csv에 쓰기\n",
    "portfolio_returns_sort = portfolio_returns.sort_values('Sharpe Ratio', ascending=False)\n",
    "portfolio_returns_sort.to_csv('sorted_Sharpe_ratio_ru-u.csv')\n",
    "portfolio_returns_sort"
   ]
  },
  {
   "cell_type": "code",
   "execution_count": 14,
   "metadata": {
    "scrolled": false
   },
   "outputs": [
    {
     "data": {
      "application/vnd.plotly.v1+json": {
       "config": {
        "plotlyServerURL": "https://plot.ly"
       },
       "data": [
        {
         "line": {
          "width": 1
         },
         "name": "Portfolio1",
         "type": "scatter",
         "x": [
          "2022-02-02T00:00:00",
          "2022-02-03T00:00:00",
          "2022-02-04T00:00:00",
          "2022-02-07T00:00:00",
          "2022-02-08T00:00:00",
          "2022-02-09T00:00:00",
          "2022-02-10T00:00:00",
          "2022-02-11T00:00:00",
          "2022-02-14T00:00:00",
          "2022-02-15T00:00:00",
          "2022-02-16T00:00:00",
          "2022-02-17T00:00:00",
          "2022-02-18T00:00:00",
          "2022-02-22T00:00:00",
          "2022-02-23T00:00:00",
          "2022-02-24T00:00:00",
          "2022-02-25T00:00:00",
          "2022-02-28T00:00:00",
          "2022-03-01T00:00:00",
          "2022-03-02T00:00:00",
          "2022-03-03T00:00:00",
          "2022-03-04T00:00:00",
          "2022-03-07T00:00:00",
          "2022-03-08T00:00:00",
          "2022-03-09T00:00:00",
          "2022-03-10T00:00:00",
          "2022-03-11T00:00:00",
          "2022-03-14T00:00:00",
          "2022-03-15T00:00:00",
          "2022-03-16T00:00:00",
          "2022-03-17T00:00:00",
          "2022-03-18T00:00:00",
          "2022-03-21T00:00:00",
          "2022-03-22T00:00:00",
          "2022-03-23T00:00:00",
          "2022-03-24T00:00:00",
          "2022-03-25T00:00:00",
          "2022-03-28T00:00:00",
          "2022-03-29T00:00:00",
          "2022-03-30T00:00:00",
          "2022-03-31T00:00:00",
          "2022-04-01T00:00:00",
          "2022-04-04T00:00:00",
          "2022-04-05T00:00:00",
          "2022-04-06T00:00:00",
          "2022-04-07T00:00:00",
          "2022-04-08T00:00:00",
          "2022-04-11T00:00:00",
          "2022-04-12T00:00:00",
          "2022-04-13T00:00:00",
          "2022-04-14T00:00:00",
          "2022-04-18T00:00:00",
          "2022-04-19T00:00:00",
          "2022-04-20T00:00:00",
          "2022-04-21T00:00:00",
          "2022-04-22T00:00:00",
          "2022-04-25T00:00:00",
          "2022-04-26T00:00:00",
          "2022-04-27T00:00:00",
          "2022-04-28T00:00:00",
          "2022-04-29T00:00:00",
          "2022-05-02T00:00:00",
          "2022-05-03T00:00:00",
          "2022-05-04T00:00:00",
          "2022-05-05T00:00:00",
          "2022-05-06T00:00:00",
          "2022-05-09T00:00:00",
          "2022-05-10T00:00:00",
          "2022-05-11T00:00:00",
          "2022-05-12T00:00:00",
          "2022-05-13T00:00:00",
          "2022-05-16T00:00:00",
          "2022-05-17T00:00:00",
          "2022-05-18T00:00:00",
          "2022-05-19T00:00:00",
          "2022-05-20T00:00:00",
          "2022-05-23T00:00:00",
          "2022-05-24T00:00:00",
          "2022-05-25T00:00:00",
          "2022-05-26T00:00:00",
          "2022-05-27T00:00:00",
          "2022-05-31T00:00:00",
          "2022-06-01T00:00:00",
          "2022-06-02T00:00:00",
          "2022-06-03T00:00:00",
          "2022-06-06T00:00:00",
          "2022-06-07T00:00:00",
          "2022-06-08T00:00:00",
          "2022-06-09T00:00:00",
          "2022-06-10T00:00:00",
          "2022-06-13T00:00:00",
          "2022-06-14T00:00:00",
          "2022-06-15T00:00:00",
          "2022-06-16T00:00:00",
          "2022-06-17T00:00:00",
          "2022-06-21T00:00:00",
          "2022-06-22T00:00:00",
          "2022-06-23T00:00:00",
          "2022-06-24T00:00:00",
          "2022-06-27T00:00:00",
          "2022-06-28T00:00:00",
          "2022-06-29T00:00:00",
          "2022-06-30T00:00:00",
          "2022-07-01T00:00:00",
          "2022-07-05T00:00:00",
          "2022-07-06T00:00:00",
          "2022-07-07T00:00:00",
          "2022-07-08T00:00:00",
          "2022-07-11T00:00:00",
          "2022-07-12T00:00:00",
          "2022-07-13T00:00:00",
          "2022-07-14T00:00:00",
          "2022-07-15T00:00:00",
          "2022-07-18T00:00:00",
          "2022-07-19T00:00:00",
          "2022-07-20T00:00:00",
          "2022-07-21T00:00:00",
          "2022-07-22T00:00:00",
          "2022-07-25T00:00:00",
          "2022-07-26T00:00:00",
          "2022-07-27T00:00:00",
          "2022-07-28T00:00:00",
          "2022-07-29T00:00:00",
          "2022-08-01T00:00:00",
          "2022-08-02T00:00:00",
          "2022-08-03T00:00:00",
          "2022-08-04T00:00:00",
          "2022-08-05T00:00:00",
          "2022-08-08T00:00:00",
          "2022-08-09T00:00:00",
          "2022-08-10T00:00:00",
          "2022-08-11T00:00:00",
          "2022-08-12T00:00:00",
          "2022-08-15T00:00:00",
          "2022-08-16T00:00:00",
          "2022-08-17T00:00:00",
          "2022-08-18T00:00:00",
          "2022-08-19T00:00:00",
          "2022-08-22T00:00:00",
          "2022-08-23T00:00:00",
          "2022-08-24T00:00:00",
          "2022-08-25T00:00:00",
          "2022-08-26T00:00:00",
          "2022-08-29T00:00:00",
          "2022-08-30T00:00:00",
          "2022-08-31T00:00:00",
          "2022-09-01T00:00:00",
          "2022-09-02T00:00:00",
          "2022-09-06T00:00:00",
          "2022-09-07T00:00:00",
          "2022-09-08T00:00:00",
          "2022-09-09T00:00:00",
          "2022-09-12T00:00:00",
          "2022-09-13T00:00:00",
          "2022-09-14T00:00:00",
          "2022-09-15T00:00:00",
          "2022-09-16T00:00:00",
          "2022-09-19T00:00:00",
          "2022-09-20T00:00:00",
          "2022-09-21T00:00:00",
          "2022-09-22T00:00:00",
          "2022-09-23T00:00:00",
          "2022-09-26T00:00:00",
          "2022-09-27T00:00:00",
          "2022-09-28T00:00:00",
          "2022-09-29T00:00:00",
          "2022-09-30T00:00:00"
         ],
         "y": [
          0,
          -0.4488868792299927,
          -0.9308864731922939,
          -0.8878303299743262,
          -0.9859069119175778,
          -0.5432980816325705,
          -1.745990505266437,
          -1.2953180066339498,
          -1.9594805090217826,
          -2.068887113063067,
          -1.6688659040168252,
          -1.516791072632806,
          -1.1907997709490026,
          -1.3273309500174357,
          -2.0126278733724967,
          -2.042150530300335,
          -1.710476973643904,
          -0.3569770428116459,
          0.6293654663736881,
          -0.005781081294986556,
          0.17942359532494567,
          0.9610151435847314,
          0.3840265484386096,
          0.7640434080072422,
          -0.7157772244621441,
          -1.6250630817134182,
          -1.730487091544497,
          -3.1262043747373514,
          -3.1134340024567386,
          -2.373571616335435,
          -2.079914632001034,
          -1.3089399161811732,
          -1.6816662751053424,
          -2.169927569046304,
          -1.087913718639899,
          -1.2685942891168978,
          -1.7208373504488783,
          -1.9705283293509068,
          -1.3363340373103716,
          -1.0316963945423252,
          -1.3656474097538784,
          -1.2977180781728936,
          -1.309194578463324,
          -2.87776156180396,
          -3.4339792534671676,
          -3.6708198000631076,
          -4.142871397687964,
          -4.773062146025642,
          -4.401049843264682,
          -3.943144937913201,
          -4.822445774794836,
          -4.710612894234856,
          -5.224835322206578,
          -4.399609152265471,
          -5.0944557782562905,
          -6.196721369637947,
          -5.913998019059941,
          -5.920446699924254,
          -6.206915876823549,
          -5.535789386283973,
          -6.672559005930978,
          -7.243085208516908,
          -7.1388414850181325,
          -6.245955991305651,
          -8.093207689364334,
          -8.710180644985288,
          -9.71684681025794,
          -9.193996214008438,
          -8.471271881875476,
          -8.407897013161204,
          -8.449846607040179,
          -8.401438344026813,
          -8.500775055669996,
          -8.449319887076323,
          -8.364871300469733,
          -7.845801014446785,
          -8.15101182008624,
          -7.387191644468471,
          -6.901063761298099,
          -6.5731412041170945,
          -6.196765940200388,
          -7.184728558606035,
          -7.514089889246756,
          -6.927322356825116,
          -7.226106405130739,
          -8.038756259609748,
          -7.90053077467574,
          -8.356753691351738,
          -8.889172248518861,
          -9.580143580761346,
          -11.621421910542972,
          -12.626995697405796,
          -11.572377571172021,
          -11.924110528748022,
          -12.364282310623143,
          -12.387330603824353,
          -11.380178175545586,
          -11.098858261885947,
          -11.275971611860914,
          -11.847985168552167,
          -12.013568927289542,
          -11.679840756042736,
          -11.513762062764854,
          -11.105000900226425,
          -11.305219302108583,
          -12.068669227518436,
          -11.918136200504614,
          -12.314115121415725,
          -11.854372590219919,
          -12.268697879608602,
          -11.804827735643997,
          -12.071696728148396,
          -11.554497191242408,
          -11.681562294294324,
          -11.36008655084877,
          -11.339014881819786,
          -10.54767337388225,
          -10.064768395459067,
          -10.254921273506856,
          -10.2863545545819,
          -9.728770262577434,
          -9.140558968547108,
          -9.041042731611137,
          -8.350364845204183,
          -9.335962648438167,
          -8.529944863469542,
          -8.48470584678751,
          -9.496486762253065,
          -8.884478629987736,
          -8.796572076414488,
          -8.552179054439424,
          -9.187905170750078,
          -8.65201040894441,
          -8.912819343278223,
          -8.972466820556257,
          -9.653424114384034,
          -9.585694662488297,
          -10.340197141017725,
          -10.580823841337239,
          -10.559189627897359,
          -10.941259290442652,
          -10.212166881794948,
          -10.403576964212247,
          -10.954125108043122,
          -11.404768859548131,
          -12.123912250676238,
          -12.97558440907276,
          -12.927347225984375,
          -13.905789481415521,
          -12.917770755566437,
          -13.377077946871118,
          -12.877940103774744,
          -12.931609125208999,
          -13.823434784706535,
          -13.601355774129697,
          -14.32767553782812,
          -14.739937688709048,
          -14.78647242603942,
          -15.721680290498096,
          -15.407925197554706,
          -16.77134742523303,
          -17.305760189627474,
          -18.488059062595084,
          -19.19769881944271,
          -17.401957934313984,
          -17.89210642458604,
          -18.584732870664645
         ]
        },
        {
         "line": {
          "width": 1
         },
         "name": "Portfolio2",
         "type": "scatter",
         "x": [
          "2022-02-02T00:00:00",
          "2022-02-03T00:00:00",
          "2022-02-04T00:00:00",
          "2022-02-07T00:00:00",
          "2022-02-08T00:00:00",
          "2022-02-09T00:00:00",
          "2022-02-10T00:00:00",
          "2022-02-11T00:00:00",
          "2022-02-14T00:00:00",
          "2022-02-15T00:00:00",
          "2022-02-16T00:00:00",
          "2022-02-17T00:00:00",
          "2022-02-18T00:00:00",
          "2022-02-22T00:00:00",
          "2022-02-23T00:00:00",
          "2022-02-24T00:00:00",
          "2022-02-25T00:00:00",
          "2022-02-28T00:00:00",
          "2022-03-01T00:00:00",
          "2022-03-02T00:00:00",
          "2022-03-03T00:00:00",
          "2022-03-04T00:00:00",
          "2022-03-07T00:00:00",
          "2022-03-08T00:00:00",
          "2022-03-09T00:00:00",
          "2022-03-10T00:00:00",
          "2022-03-11T00:00:00",
          "2022-03-14T00:00:00",
          "2022-03-15T00:00:00",
          "2022-03-16T00:00:00",
          "2022-03-17T00:00:00",
          "2022-03-18T00:00:00",
          "2022-03-21T00:00:00",
          "2022-03-22T00:00:00",
          "2022-03-23T00:00:00",
          "2022-03-24T00:00:00",
          "2022-03-25T00:00:00",
          "2022-03-28T00:00:00",
          "2022-03-29T00:00:00",
          "2022-03-30T00:00:00",
          "2022-03-31T00:00:00",
          "2022-04-01T00:00:00",
          "2022-04-04T00:00:00",
          "2022-04-05T00:00:00",
          "2022-04-06T00:00:00",
          "2022-04-07T00:00:00",
          "2022-04-08T00:00:00",
          "2022-04-11T00:00:00",
          "2022-04-12T00:00:00",
          "2022-04-13T00:00:00",
          "2022-04-14T00:00:00",
          "2022-04-18T00:00:00",
          "2022-04-19T00:00:00",
          "2022-04-20T00:00:00",
          "2022-04-21T00:00:00",
          "2022-04-22T00:00:00",
          "2022-04-25T00:00:00",
          "2022-04-26T00:00:00",
          "2022-04-27T00:00:00",
          "2022-04-28T00:00:00",
          "2022-04-29T00:00:00",
          "2022-05-02T00:00:00",
          "2022-05-03T00:00:00",
          "2022-05-04T00:00:00",
          "2022-05-05T00:00:00",
          "2022-05-06T00:00:00",
          "2022-05-09T00:00:00",
          "2022-05-10T00:00:00",
          "2022-05-11T00:00:00",
          "2022-05-12T00:00:00",
          "2022-05-13T00:00:00",
          "2022-05-16T00:00:00",
          "2022-05-17T00:00:00",
          "2022-05-18T00:00:00",
          "2022-05-19T00:00:00",
          "2022-05-20T00:00:00",
          "2022-05-23T00:00:00",
          "2022-05-24T00:00:00",
          "2022-05-25T00:00:00",
          "2022-05-26T00:00:00",
          "2022-05-27T00:00:00",
          "2022-05-31T00:00:00",
          "2022-06-01T00:00:00",
          "2022-06-02T00:00:00",
          "2022-06-03T00:00:00",
          "2022-06-06T00:00:00",
          "2022-06-07T00:00:00",
          "2022-06-08T00:00:00",
          "2022-06-09T00:00:00",
          "2022-06-10T00:00:00",
          "2022-06-13T00:00:00",
          "2022-06-14T00:00:00",
          "2022-06-15T00:00:00",
          "2022-06-16T00:00:00",
          "2022-06-17T00:00:00",
          "2022-06-21T00:00:00",
          "2022-06-22T00:00:00",
          "2022-06-23T00:00:00",
          "2022-06-24T00:00:00",
          "2022-06-27T00:00:00",
          "2022-06-28T00:00:00",
          "2022-06-29T00:00:00",
          "2022-06-30T00:00:00",
          "2022-07-01T00:00:00",
          "2022-07-05T00:00:00",
          "2022-07-06T00:00:00",
          "2022-07-07T00:00:00",
          "2022-07-08T00:00:00",
          "2022-07-11T00:00:00",
          "2022-07-12T00:00:00",
          "2022-07-13T00:00:00",
          "2022-07-14T00:00:00",
          "2022-07-15T00:00:00",
          "2022-07-18T00:00:00",
          "2022-07-19T00:00:00",
          "2022-07-20T00:00:00",
          "2022-07-21T00:00:00",
          "2022-07-22T00:00:00",
          "2022-07-25T00:00:00",
          "2022-07-26T00:00:00",
          "2022-07-27T00:00:00",
          "2022-07-28T00:00:00",
          "2022-07-29T00:00:00",
          "2022-08-01T00:00:00",
          "2022-08-02T00:00:00",
          "2022-08-03T00:00:00",
          "2022-08-04T00:00:00",
          "2022-08-05T00:00:00",
          "2022-08-08T00:00:00",
          "2022-08-09T00:00:00",
          "2022-08-10T00:00:00",
          "2022-08-11T00:00:00",
          "2022-08-12T00:00:00",
          "2022-08-15T00:00:00",
          "2022-08-16T00:00:00",
          "2022-08-17T00:00:00",
          "2022-08-18T00:00:00",
          "2022-08-19T00:00:00",
          "2022-08-22T00:00:00",
          "2022-08-23T00:00:00",
          "2022-08-24T00:00:00",
          "2022-08-25T00:00:00",
          "2022-08-26T00:00:00",
          "2022-08-29T00:00:00",
          "2022-08-30T00:00:00",
          "2022-08-31T00:00:00",
          "2022-09-01T00:00:00",
          "2022-09-02T00:00:00",
          "2022-09-06T00:00:00",
          "2022-09-07T00:00:00",
          "2022-09-08T00:00:00",
          "2022-09-09T00:00:00",
          "2022-09-12T00:00:00",
          "2022-09-13T00:00:00",
          "2022-09-14T00:00:00",
          "2022-09-15T00:00:00",
          "2022-09-16T00:00:00",
          "2022-09-19T00:00:00",
          "2022-09-20T00:00:00",
          "2022-09-21T00:00:00",
          "2022-09-22T00:00:00",
          "2022-09-23T00:00:00",
          "2022-09-26T00:00:00",
          "2022-09-27T00:00:00",
          "2022-09-28T00:00:00",
          "2022-09-29T00:00:00",
          "2022-09-30T00:00:00"
         ],
         "y": [
          0,
          -0.8251186667410315,
          -0.9958548567350789,
          -0.8568814832212945,
          -0.7157020594423358,
          -0.18475991291452276,
          -1.0937840154167322,
          -0.7366643400778972,
          -0.9931951296638375,
          -1.076771227250506,
          -0.6497420738836857,
          -0.6796014974620679,
          -0.6352968393291358,
          -0.7910702650265389,
          -1.4447516662449589,
          -1.1938652253741355,
          -0.7398449288002817,
          0.03246559396081761,
          0.42761982272199184,
          -0.2536971884756323,
          -0.031476698262600245,
          0.5748592322741386,
          0.06044762616863597,
          0.43982335692727137,
          -0.006791884331691644,
          -0.3713584090932587,
          -0.8061762216437285,
          -1.9982088155184319,
          -2.0730984454457757,
          -1.09221421952731,
          -0.8166996202384147,
          -0.48889329070936904,
          -0.8528258235242392,
          -1.040857096139447,
          -0.5132382141968095,
          -0.15136427659075968,
          -0.4807785876622783,
          -0.6173884147288811,
          -0.05366285660318715,
          0.13855178559889492,
          -0.17519568206102454,
          -0.15776840782280033,
          0.017599686563918304,
          -1.0434702752582958,
          -1.4464253573206798,
          -1.4223375999789067,
          -1.5756112357100949,
          -2.1713363995325974,
          -2.0681374225724025,
          -1.5787170034901599,
          -2.4037789747089477,
          -2.463849715065791,
          -2.615418495856481,
          -2.0866339913020004,
          -2.740540418572013,
          -3.793417387590703,
          -3.9313126534896603,
          -4.348290589308412,
          -4.778819489501296,
          -4.04390416359467,
          -5.189239200311546,
          -5.867171096910207,
          -5.554348964276235,
          -4.511556893655488,
          -6.051386470502895,
          -6.490735212660981,
          -7.4887368461027615,
          -7.47763581657277,
          -7.268936089831934,
          -7.674544434567798,
          -7.612234946955798,
          -7.50568976461069,
          -7.445904747821919,
          -7.872642326362145,
          -7.5438673420555435,
          -7.2912065531714365,
          -7.153047696864723,
          -6.774017563577761,
          -6.605016487855952,
          -6.298627569550264,
          -5.679232229736497,
          -6.566636172421281,
          -6.5767524235299195,
          -5.791090288686684,
          -6.466974538839699,
          -6.8888955618689796,
          -6.263992748102409,
          -6.720493117629411,
          -7.270479038470967,
          -7.711417715917235,
          -9.892809819833492,
          -10.400622380670466,
          -9.416464089279852,
          -9.692659120048951,
          -9.766738750984228,
          -9.707095324365111,
          -9.070856591052001,
          -8.875839750565861,
          -8.517307977456912,
          -8.780958739908751,
          -9.163822896369622,
          -8.905734313917968,
          -9.058081665475747,
          -8.654271676887381,
          -8.947134312208249,
          -9.63946624475106,
          -9.45933805284338,
          -9.696966607058787,
          -9.748374531054383,
          -9.90108722297791,
          -9.643909956037078,
          -10.237636861293542,
          -9.77085968905158,
          -10.108715343358599,
          -9.577916428893928,
          -9.57281632249849,
          -8.66889036312356,
          -8.496962683155129,
          -8.74094147572203,
          -9.021264747512102,
          -8.334358153057398,
          -7.588306393928956,
          -7.271017742537566,
          -6.682569440421105,
          -7.397517431179946,
          -6.652400170110139,
          -6.273158580212057,
          -7.05809165213206,
          -6.493372716650924,
          -6.64566740016398,
          -6.326372994391683,
          -6.875272048544733,
          -6.0366617899511805,
          -6.285052235708122,
          -6.189661869267038,
          -6.775314740107619,
          -6.7365405940849605,
          -7.57877984101728,
          -8.29923588064485,
          -8.290193016984993,
          -8.261308703153103,
          -7.579824602065999,
          -8.48746077906033,
          -8.80267235191743,
          -9.196352763192007,
          -9.727172453398158,
          -10.279898332050418,
          -10.176598284199756,
          -10.887730505457638,
          -9.947843962860192,
          -10.11090399166269,
          -9.578260066844269,
          -9.378682822979023,
          -10.610053248511742,
          -10.550248948648221,
          -11.223304226196962,
          -11.452049347983861,
          -11.238750648941275,
          -11.813250220811899,
          -11.746629610625591,
          -12.473304548109887,
          -13.150536897030173,
          -14.001111642627361,
          -14.462525329479359,
          -12.970846605833064,
          -13.49016465273991,
          -13.998650577635397
         ]
        },
        {
         "line": {
          "width": 1
         },
         "name": "Portfolio3",
         "type": "scatter",
         "x": [
          "2022-02-02T00:00:00",
          "2022-02-03T00:00:00",
          "2022-02-04T00:00:00",
          "2022-02-07T00:00:00",
          "2022-02-08T00:00:00",
          "2022-02-09T00:00:00",
          "2022-02-10T00:00:00",
          "2022-02-11T00:00:00",
          "2022-02-14T00:00:00",
          "2022-02-15T00:00:00",
          "2022-02-16T00:00:00",
          "2022-02-17T00:00:00",
          "2022-02-18T00:00:00",
          "2022-02-22T00:00:00",
          "2022-02-23T00:00:00",
          "2022-02-24T00:00:00",
          "2022-02-25T00:00:00",
          "2022-02-28T00:00:00",
          "2022-03-01T00:00:00",
          "2022-03-02T00:00:00",
          "2022-03-03T00:00:00",
          "2022-03-04T00:00:00",
          "2022-03-07T00:00:00",
          "2022-03-08T00:00:00",
          "2022-03-09T00:00:00",
          "2022-03-10T00:00:00",
          "2022-03-11T00:00:00",
          "2022-03-14T00:00:00",
          "2022-03-15T00:00:00",
          "2022-03-16T00:00:00",
          "2022-03-17T00:00:00",
          "2022-03-18T00:00:00",
          "2022-03-21T00:00:00",
          "2022-03-22T00:00:00",
          "2022-03-23T00:00:00",
          "2022-03-24T00:00:00",
          "2022-03-25T00:00:00",
          "2022-03-28T00:00:00",
          "2022-03-29T00:00:00",
          "2022-03-30T00:00:00",
          "2022-03-31T00:00:00",
          "2022-04-01T00:00:00",
          "2022-04-04T00:00:00",
          "2022-04-05T00:00:00",
          "2022-04-06T00:00:00",
          "2022-04-07T00:00:00",
          "2022-04-08T00:00:00",
          "2022-04-11T00:00:00",
          "2022-04-12T00:00:00",
          "2022-04-13T00:00:00",
          "2022-04-14T00:00:00",
          "2022-04-18T00:00:00",
          "2022-04-19T00:00:00",
          "2022-04-20T00:00:00",
          "2022-04-21T00:00:00",
          "2022-04-22T00:00:00",
          "2022-04-25T00:00:00",
          "2022-04-26T00:00:00",
          "2022-04-27T00:00:00",
          "2022-04-28T00:00:00",
          "2022-04-29T00:00:00",
          "2022-05-02T00:00:00",
          "2022-05-03T00:00:00",
          "2022-05-04T00:00:00",
          "2022-05-05T00:00:00",
          "2022-05-06T00:00:00",
          "2022-05-09T00:00:00",
          "2022-05-10T00:00:00",
          "2022-05-11T00:00:00",
          "2022-05-12T00:00:00",
          "2022-05-13T00:00:00",
          "2022-05-16T00:00:00",
          "2022-05-17T00:00:00",
          "2022-05-18T00:00:00",
          "2022-05-19T00:00:00",
          "2022-05-20T00:00:00",
          "2022-05-23T00:00:00",
          "2022-05-24T00:00:00",
          "2022-05-25T00:00:00",
          "2022-05-26T00:00:00",
          "2022-05-27T00:00:00",
          "2022-05-31T00:00:00",
          "2022-06-01T00:00:00",
          "2022-06-02T00:00:00",
          "2022-06-03T00:00:00",
          "2022-06-06T00:00:00",
          "2022-06-07T00:00:00",
          "2022-06-08T00:00:00",
          "2022-06-09T00:00:00",
          "2022-06-10T00:00:00",
          "2022-06-13T00:00:00",
          "2022-06-14T00:00:00",
          "2022-06-15T00:00:00",
          "2022-06-16T00:00:00",
          "2022-06-17T00:00:00",
          "2022-06-21T00:00:00",
          "2022-06-22T00:00:00",
          "2022-06-23T00:00:00",
          "2022-06-24T00:00:00",
          "2022-06-27T00:00:00",
          "2022-06-28T00:00:00",
          "2022-06-29T00:00:00",
          "2022-06-30T00:00:00",
          "2022-07-01T00:00:00",
          "2022-07-05T00:00:00",
          "2022-07-06T00:00:00",
          "2022-07-07T00:00:00",
          "2022-07-08T00:00:00",
          "2022-07-11T00:00:00",
          "2022-07-12T00:00:00",
          "2022-07-13T00:00:00",
          "2022-07-14T00:00:00",
          "2022-07-15T00:00:00",
          "2022-07-18T00:00:00",
          "2022-07-19T00:00:00",
          "2022-07-20T00:00:00",
          "2022-07-21T00:00:00",
          "2022-07-22T00:00:00",
          "2022-07-25T00:00:00",
          "2022-07-26T00:00:00",
          "2022-07-27T00:00:00",
          "2022-07-28T00:00:00",
          "2022-07-29T00:00:00",
          "2022-08-01T00:00:00",
          "2022-08-02T00:00:00",
          "2022-08-03T00:00:00",
          "2022-08-04T00:00:00",
          "2022-08-05T00:00:00",
          "2022-08-08T00:00:00",
          "2022-08-09T00:00:00",
          "2022-08-10T00:00:00",
          "2022-08-11T00:00:00",
          "2022-08-12T00:00:00",
          "2022-08-15T00:00:00",
          "2022-08-16T00:00:00",
          "2022-08-17T00:00:00",
          "2022-08-18T00:00:00",
          "2022-08-19T00:00:00",
          "2022-08-22T00:00:00",
          "2022-08-23T00:00:00",
          "2022-08-24T00:00:00",
          "2022-08-25T00:00:00",
          "2022-08-26T00:00:00",
          "2022-08-29T00:00:00",
          "2022-08-30T00:00:00",
          "2022-08-31T00:00:00",
          "2022-09-01T00:00:00",
          "2022-09-02T00:00:00",
          "2022-09-06T00:00:00",
          "2022-09-07T00:00:00",
          "2022-09-08T00:00:00",
          "2022-09-09T00:00:00",
          "2022-09-12T00:00:00",
          "2022-09-13T00:00:00",
          "2022-09-14T00:00:00",
          "2022-09-15T00:00:00",
          "2022-09-16T00:00:00",
          "2022-09-19T00:00:00",
          "2022-09-20T00:00:00",
          "2022-09-21T00:00:00",
          "2022-09-22T00:00:00",
          "2022-09-23T00:00:00",
          "2022-09-26T00:00:00",
          "2022-09-27T00:00:00",
          "2022-09-28T00:00:00",
          "2022-09-29T00:00:00",
          "2022-09-30T00:00:00"
         ],
         "y": [
          0,
          -0.9529591899691714,
          -1.1332893378100395,
          -0.9827139919660888,
          -0.5716692125669942,
          0.15358674991257093,
          -0.9131017314988998,
          -0.7396478450248156,
          -1.1307765701156325,
          -0.7508922672050167,
          -0.25268800364356414,
          -0.6534776572063805,
          -0.6826279248848155,
          -1.1244373415748132,
          -1.944908561876868,
          -1.5658190237446967,
          -0.634814447976495,
          0.03223418575508674,
          -0.05227244202565817,
          -0.10358405432252527,
          -0.015883266192506795,
          0.20012990795132968,
          -0.8918366971704228,
          -0.5610467605058678,
          -0.46755673819373067,
          -0.694754289610211,
          -1.2209343959426078,
          -2.3523019659061672,
          -2.1729587536041928,
          -0.9639472642864355,
          -0.5482283542126654,
          -0.18442965065070815,
          -0.5623389881399654,
          -0.6228200361120262,
          -0.4629543877753495,
          0.0075156956848676515,
          -0.08299931682096418,
          -0.2912027247437776,
          0.5649239539510464,
          0.424406798167265,
          -0.09582517810318159,
          0.007093028226856646,
          0.0835946669187404,
          -1.1604828798062572,
          -1.6368535614839308,
          -1.6556681055812206,
          -1.7625245661304523,
          -2.300406010003919,
          -2.143998711376338,
          -1.4122949954929354,
          -2.1797701974479833,
          -2.253225999298669,
          -2.015529130368865,
          -1.4226247712499807,
          -2.3501019370797405,
          -3.732235206503154,
          -3.7688465127063364,
          -4.581316523626466,
          -4.938644849761387,
          -4.0048341553603155,
          -5.496379110569938,
          -5.969214382870591,
          -5.429114632110998,
          -4.0240063524624725,
          -5.928306273606454,
          -6.4840699873516705,
          -7.864400840628982,
          -8.011213143746176,
          -8.128533983880226,
          -8.298104869270173,
          -7.810726687701186,
          -7.719637950635827,
          -7.146764749414835,
          -8.16225538710712,
          -7.9600362435924605,
          -7.820351914563561,
          -7.455827944567972,
          -7.280855497601513,
          -6.763494780393254,
          -6.103749547152271,
          -5.199936230388779,
          -6.132121031313598,
          -6.286090783020281,
          -5.318357973133281,
          -6.032355771683684,
          -6.251812953552049,
          -5.5198848763414965,
          -6.257706095680426,
          -7.137618138895741,
          -8.081508419693417,
          -10.801760271735894,
          -11.31087499472333,
          -10.261074664416158,
          -11.307618063124991,
          -11.278893357253416,
          -10.982683534848547,
          -10.494692518269167,
          -10.298604141540524,
          -9.419755963032072,
          -9.569121067917841,
          -10.080411373236043,
          -10.049601646280736,
          -10.267678187209162,
          -9.637089062730485,
          -9.96936251806323,
          -10.71630693302975,
          -10.24704766696727,
          -10.529705517919973,
          -10.743179519376566,
          -10.849046738038759,
          -10.732195866984807,
          -11.432170817535702,
          -10.700734917355149,
          -10.96533442215959,
          -9.981250241067608,
          -9.820947882440068,
          -8.996415973889793,
          -8.942068033232175,
          -8.980186594121664,
          -9.31883165373345,
          -8.435432185740943,
          -7.510253164760017,
          -7.048748961798534,
          -6.590493323487623,
          -7.448927947493045,
          -6.7129487460568456,
          -6.511539743372485,
          -7.132131966771016,
          -6.508549202941305,
          -6.767212178414084,
          -6.082267457944212,
          -6.339576725387419,
          -5.372164237832711,
          -5.5428066866276104,
          -5.328984597321362,
          -6.063590134381358,
          -5.874211118264105,
          -6.877024080592764,
          -7.895540133293688,
          -7.859305714038567,
          -7.785926570201884,
          -6.909278424342391,
          -8.192829284220693,
          -8.566461558815641,
          -9.171744735688714,
          -9.738406820340773,
          -10.344722755547497,
          -10.29747308493324,
          -11.073394785047363,
          -9.945457996803453,
          -9.94188301478356,
          -9.195347611050785,
          -8.83179638918653,
          -10.6070196195579,
          -10.590907494676072,
          -11.266852205248757,
          -11.675927133823095,
          -11.29804149794803,
          -12.045932801243941,
          -12.273625971201696,
          -13.254906286874702,
          -14.231636226055889,
          -15.252705159888391,
          -15.643657925846133,
          -13.932488331072923,
          -14.742879718526346,
          -15.281100144326576
         ]
        },
        {
         "line": {
          "width": 1
         },
         "name": "Portfolio4",
         "type": "scatter",
         "x": [
          "2022-02-02T00:00:00",
          "2022-02-03T00:00:00",
          "2022-02-04T00:00:00",
          "2022-02-07T00:00:00",
          "2022-02-08T00:00:00",
          "2022-02-09T00:00:00",
          "2022-02-10T00:00:00",
          "2022-02-11T00:00:00",
          "2022-02-14T00:00:00",
          "2022-02-15T00:00:00",
          "2022-02-16T00:00:00",
          "2022-02-17T00:00:00",
          "2022-02-18T00:00:00",
          "2022-02-22T00:00:00",
          "2022-02-23T00:00:00",
          "2022-02-24T00:00:00",
          "2022-02-25T00:00:00",
          "2022-02-28T00:00:00",
          "2022-03-01T00:00:00",
          "2022-03-02T00:00:00",
          "2022-03-03T00:00:00",
          "2022-03-04T00:00:00",
          "2022-03-07T00:00:00",
          "2022-03-08T00:00:00",
          "2022-03-09T00:00:00",
          "2022-03-10T00:00:00",
          "2022-03-11T00:00:00",
          "2022-03-14T00:00:00",
          "2022-03-15T00:00:00",
          "2022-03-16T00:00:00",
          "2022-03-17T00:00:00",
          "2022-03-18T00:00:00",
          "2022-03-21T00:00:00",
          "2022-03-22T00:00:00",
          "2022-03-23T00:00:00",
          "2022-03-24T00:00:00",
          "2022-03-25T00:00:00",
          "2022-03-28T00:00:00",
          "2022-03-29T00:00:00",
          "2022-03-30T00:00:00",
          "2022-03-31T00:00:00",
          "2022-04-01T00:00:00",
          "2022-04-04T00:00:00",
          "2022-04-05T00:00:00",
          "2022-04-06T00:00:00",
          "2022-04-07T00:00:00",
          "2022-04-08T00:00:00",
          "2022-04-11T00:00:00",
          "2022-04-12T00:00:00",
          "2022-04-13T00:00:00",
          "2022-04-14T00:00:00",
          "2022-04-18T00:00:00",
          "2022-04-19T00:00:00",
          "2022-04-20T00:00:00",
          "2022-04-21T00:00:00",
          "2022-04-22T00:00:00",
          "2022-04-25T00:00:00",
          "2022-04-26T00:00:00",
          "2022-04-27T00:00:00",
          "2022-04-28T00:00:00",
          "2022-04-29T00:00:00",
          "2022-05-02T00:00:00",
          "2022-05-03T00:00:00",
          "2022-05-04T00:00:00",
          "2022-05-05T00:00:00",
          "2022-05-06T00:00:00",
          "2022-05-09T00:00:00",
          "2022-05-10T00:00:00",
          "2022-05-11T00:00:00",
          "2022-05-12T00:00:00",
          "2022-05-13T00:00:00",
          "2022-05-16T00:00:00",
          "2022-05-17T00:00:00",
          "2022-05-18T00:00:00",
          "2022-05-19T00:00:00",
          "2022-05-20T00:00:00",
          "2022-05-23T00:00:00",
          "2022-05-24T00:00:00",
          "2022-05-25T00:00:00",
          "2022-05-26T00:00:00",
          "2022-05-27T00:00:00",
          "2022-05-31T00:00:00",
          "2022-06-01T00:00:00",
          "2022-06-02T00:00:00",
          "2022-06-03T00:00:00",
          "2022-06-06T00:00:00",
          "2022-06-07T00:00:00",
          "2022-06-08T00:00:00",
          "2022-06-09T00:00:00",
          "2022-06-10T00:00:00",
          "2022-06-13T00:00:00",
          "2022-06-14T00:00:00",
          "2022-06-15T00:00:00",
          "2022-06-16T00:00:00",
          "2022-06-17T00:00:00",
          "2022-06-21T00:00:00",
          "2022-06-22T00:00:00",
          "2022-06-23T00:00:00",
          "2022-06-24T00:00:00",
          "2022-06-27T00:00:00",
          "2022-06-28T00:00:00",
          "2022-06-29T00:00:00",
          "2022-06-30T00:00:00",
          "2022-07-01T00:00:00",
          "2022-07-05T00:00:00",
          "2022-07-06T00:00:00",
          "2022-07-07T00:00:00",
          "2022-07-08T00:00:00",
          "2022-07-11T00:00:00",
          "2022-07-12T00:00:00",
          "2022-07-13T00:00:00",
          "2022-07-14T00:00:00",
          "2022-07-15T00:00:00",
          "2022-07-18T00:00:00",
          "2022-07-19T00:00:00",
          "2022-07-20T00:00:00",
          "2022-07-21T00:00:00",
          "2022-07-22T00:00:00",
          "2022-07-25T00:00:00",
          "2022-07-26T00:00:00",
          "2022-07-27T00:00:00",
          "2022-07-28T00:00:00",
          "2022-07-29T00:00:00",
          "2022-08-01T00:00:00",
          "2022-08-02T00:00:00",
          "2022-08-03T00:00:00",
          "2022-08-04T00:00:00",
          "2022-08-05T00:00:00",
          "2022-08-08T00:00:00",
          "2022-08-09T00:00:00",
          "2022-08-10T00:00:00",
          "2022-08-11T00:00:00",
          "2022-08-12T00:00:00",
          "2022-08-15T00:00:00",
          "2022-08-16T00:00:00",
          "2022-08-17T00:00:00",
          "2022-08-18T00:00:00",
          "2022-08-19T00:00:00",
          "2022-08-22T00:00:00",
          "2022-08-23T00:00:00",
          "2022-08-24T00:00:00",
          "2022-08-25T00:00:00",
          "2022-08-26T00:00:00",
          "2022-08-29T00:00:00",
          "2022-08-30T00:00:00",
          "2022-08-31T00:00:00",
          "2022-09-01T00:00:00",
          "2022-09-02T00:00:00",
          "2022-09-06T00:00:00",
          "2022-09-07T00:00:00",
          "2022-09-08T00:00:00",
          "2022-09-09T00:00:00",
          "2022-09-12T00:00:00",
          "2022-09-13T00:00:00",
          "2022-09-14T00:00:00",
          "2022-09-15T00:00:00",
          "2022-09-16T00:00:00",
          "2022-09-19T00:00:00",
          "2022-09-20T00:00:00",
          "2022-09-21T00:00:00",
          "2022-09-22T00:00:00",
          "2022-09-23T00:00:00",
          "2022-09-26T00:00:00",
          "2022-09-27T00:00:00",
          "2022-09-28T00:00:00",
          "2022-09-29T00:00:00",
          "2022-09-30T00:00:00"
         ],
         "y": [
          0,
          -1.5212751980806516,
          -1.3503132057683054,
          -1.480055557208948,
          -1.0284848602091778,
          -0.063477637215692,
          -1.3918407222676787,
          -2.2802104318004446,
          -2.664416465917674,
          -1.6657458370418876,
          -1.5321185111215496,
          -2.765445832464264,
          -3.176618140916576,
          -3.8685605825595437,
          -5.00699212895146,
          -3.9584531206235063,
          -2.7107997854789234,
          -2.5210546672729484,
          -3.1560428698130583,
          -2.4418528887499846,
          -2.8100381526710017,
          -3.194442033316869,
          -5.0828270859258895,
          -5.554162041931798,
          -4.156726610994099,
          -4.513869194590258,
          -5.310161835851501,
          -6.142491294376596,
          -5.009599248389895,
          -3.68107552240563,
          -2.945851719718817,
          -2.245647757187652,
          -2.6286681438066783,
          -2.0256115779938577,
          -2.6925249286320674,
          -1.9620952250725687,
          -2.0018498014370056,
          -1.5957059196763712,
          -0.590563782406639,
          -0.9998122962560974,
          -1.912888027601789,
          -1.8715975276292762,
          -1.3356197379887247,
          -2.4826407627259517,
          -3.1654863444234627,
          -2.91151448628052,
          -3.2146831897788775,
          -4.180379054629723,
          -4.168756501147941,
          -3.355795834843267,
          -4.275902794765829,
          -4.410064654180079,
          -3.5939626196170527,
          -3.552950426900092,
          -4.665287412361973,
          -6.219257704853609,
          -5.767845974543739,
          -7.2004986357546485,
          -7.184829320401698,
          -5.90478105171951,
          -8.111161255522637,
          -7.840540430839338,
          -7.56572836344187,
          -5.7538535460911255,
          -8.032946021569709,
          -8.5552146938922,
          -10.256442537651678,
          -10.113858036304213,
          -10.989320641437883,
          -10.830050960105542,
          -9.547656857599318,
          -9.708662972364213,
          -8.812813459520019,
          -10.792556216632022,
          -10.919001047993005,
          -10.84313584049913,
          -10.086272121191165,
          -10.395098843764716,
          -9.749433394591723,
          -8.687777284336084,
          -7.336692372092546,
          -7.973753669267147,
          -8.500103432209194,
          -7.371701380265206,
          -8.299320590598692,
          -8.291602017809542,
          -7.635950230064736,
          -8.314597686305913,
          -9.651325752890315,
          -11.522764327807455,
          -14.028180585856154,
          -14.321879176986329,
          -13.278039270721331,
          -14.873953750333346,
          -14.728234207769898,
          -13.643097001076022,
          -13.363017613812556,
          -12.780691396475163,
          -11.226384196556605,
          -11.50106054459722,
          -12.551212996262784,
          -12.464412497851685,
          -12.695863009127228,
          -11.859912379747751,
          -11.640128449395448,
          -11.771512427078235,
          -11.07765889926945,
          -11.256874657478766,
          -11.760526556516037,
          -12.139555525785095,
          -12.348076461626711,
          -12.685898975862308,
          -11.655387233221337,
          -12.058578457589686,
          -10.763591894750457,
          -10.38077729354442,
          -9.571400313485812,
          -9.881692751266124,
          -9.877282594683424,
          -10.533497520132695,
          -9.07884603188137,
          -8.156277193068872,
          -7.419174815898133,
          -7.487231898460578,
          -8.137105796536959,
          -7.203158526172171,
          -7.125683778135494,
          -7.515068779022038,
          -7.3510048020015155,
          -7.783890259426185,
          -6.4896282567796,
          -6.601152114618758,
          -5.566843259477306,
          -5.26692658276623,
          -5.219029414553445,
          -5.8808157701537915,
          -5.679812305987886,
          -6.6162215286539094,
          -7.917108170892373,
          -8.048085529810923,
          -7.895659222944962,
          -6.997208684347045,
          -8.89090350442826,
          -9.390101436827115,
          -9.993795709438603,
          -10.462369817549611,
          -10.560385821027364,
          -10.909573238419357,
          -11.345136940681444,
          -10.23869075616638,
          -9.922089747123797,
          -9.07016745087883,
          -8.511337972954802,
          -11.05341406446685,
          -10.88608322572665,
          -11.53502385318319,
          -11.948053952297066,
          -11.664941970442811,
          -12.3686093326011,
          -13.219003022313213,
          -14.076946897121745,
          -14.9903518395615,
          -15.84069754839893,
          -16.010345481265286,
          -14.507921188179484,
          -15.637263498322195,
          -16.374543073151273
         ]
        },
        {
         "line": {
          "width": 1
         },
         "name": "Portfolio5",
         "type": "scatter",
         "x": [
          "2022-02-02T00:00:00",
          "2022-02-03T00:00:00",
          "2022-02-04T00:00:00",
          "2022-02-07T00:00:00",
          "2022-02-08T00:00:00",
          "2022-02-09T00:00:00",
          "2022-02-10T00:00:00",
          "2022-02-11T00:00:00",
          "2022-02-14T00:00:00",
          "2022-02-15T00:00:00",
          "2022-02-16T00:00:00",
          "2022-02-17T00:00:00",
          "2022-02-18T00:00:00",
          "2022-02-22T00:00:00",
          "2022-02-23T00:00:00",
          "2022-02-24T00:00:00",
          "2022-02-25T00:00:00",
          "2022-02-28T00:00:00",
          "2022-03-01T00:00:00",
          "2022-03-02T00:00:00",
          "2022-03-03T00:00:00",
          "2022-03-04T00:00:00",
          "2022-03-07T00:00:00",
          "2022-03-08T00:00:00",
          "2022-03-09T00:00:00",
          "2022-03-10T00:00:00",
          "2022-03-11T00:00:00",
          "2022-03-14T00:00:00",
          "2022-03-15T00:00:00",
          "2022-03-16T00:00:00",
          "2022-03-17T00:00:00",
          "2022-03-18T00:00:00",
          "2022-03-21T00:00:00",
          "2022-03-22T00:00:00",
          "2022-03-23T00:00:00",
          "2022-03-24T00:00:00",
          "2022-03-25T00:00:00",
          "2022-03-28T00:00:00",
          "2022-03-29T00:00:00",
          "2022-03-30T00:00:00",
          "2022-03-31T00:00:00",
          "2022-04-01T00:00:00",
          "2022-04-04T00:00:00",
          "2022-04-05T00:00:00",
          "2022-04-06T00:00:00",
          "2022-04-07T00:00:00",
          "2022-04-08T00:00:00",
          "2022-04-11T00:00:00",
          "2022-04-12T00:00:00",
          "2022-04-13T00:00:00",
          "2022-04-14T00:00:00",
          "2022-04-18T00:00:00",
          "2022-04-19T00:00:00",
          "2022-04-20T00:00:00",
          "2022-04-21T00:00:00",
          "2022-04-22T00:00:00",
          "2022-04-25T00:00:00",
          "2022-04-26T00:00:00",
          "2022-04-27T00:00:00",
          "2022-04-28T00:00:00",
          "2022-04-29T00:00:00",
          "2022-05-02T00:00:00",
          "2022-05-03T00:00:00",
          "2022-05-04T00:00:00",
          "2022-05-05T00:00:00",
          "2022-05-06T00:00:00",
          "2022-05-09T00:00:00",
          "2022-05-10T00:00:00",
          "2022-05-11T00:00:00",
          "2022-05-12T00:00:00",
          "2022-05-13T00:00:00",
          "2022-05-16T00:00:00",
          "2022-05-17T00:00:00",
          "2022-05-18T00:00:00",
          "2022-05-19T00:00:00",
          "2022-05-20T00:00:00",
          "2022-05-23T00:00:00",
          "2022-05-24T00:00:00",
          "2022-05-25T00:00:00",
          "2022-05-26T00:00:00",
          "2022-05-27T00:00:00",
          "2022-05-31T00:00:00",
          "2022-06-01T00:00:00",
          "2022-06-02T00:00:00",
          "2022-06-03T00:00:00",
          "2022-06-06T00:00:00",
          "2022-06-07T00:00:00",
          "2022-06-08T00:00:00",
          "2022-06-09T00:00:00",
          "2022-06-10T00:00:00",
          "2022-06-13T00:00:00",
          "2022-06-14T00:00:00",
          "2022-06-15T00:00:00",
          "2022-06-16T00:00:00",
          "2022-06-17T00:00:00",
          "2022-06-21T00:00:00",
          "2022-06-22T00:00:00",
          "2022-06-23T00:00:00",
          "2022-06-24T00:00:00",
          "2022-06-27T00:00:00",
          "2022-06-28T00:00:00",
          "2022-06-29T00:00:00",
          "2022-06-30T00:00:00",
          "2022-07-01T00:00:00",
          "2022-07-05T00:00:00",
          "2022-07-06T00:00:00",
          "2022-07-07T00:00:00",
          "2022-07-08T00:00:00",
          "2022-07-11T00:00:00",
          "2022-07-12T00:00:00",
          "2022-07-13T00:00:00",
          "2022-07-14T00:00:00",
          "2022-07-15T00:00:00",
          "2022-07-18T00:00:00",
          "2022-07-19T00:00:00",
          "2022-07-20T00:00:00",
          "2022-07-21T00:00:00",
          "2022-07-22T00:00:00",
          "2022-07-25T00:00:00",
          "2022-07-26T00:00:00",
          "2022-07-27T00:00:00",
          "2022-07-28T00:00:00",
          "2022-07-29T00:00:00",
          "2022-08-01T00:00:00",
          "2022-08-02T00:00:00",
          "2022-08-03T00:00:00",
          "2022-08-04T00:00:00",
          "2022-08-05T00:00:00",
          "2022-08-08T00:00:00",
          "2022-08-09T00:00:00",
          "2022-08-10T00:00:00",
          "2022-08-11T00:00:00",
          "2022-08-12T00:00:00",
          "2022-08-15T00:00:00",
          "2022-08-16T00:00:00",
          "2022-08-17T00:00:00",
          "2022-08-18T00:00:00",
          "2022-08-19T00:00:00",
          "2022-08-22T00:00:00",
          "2022-08-23T00:00:00",
          "2022-08-24T00:00:00",
          "2022-08-25T00:00:00",
          "2022-08-26T00:00:00",
          "2022-08-29T00:00:00",
          "2022-08-30T00:00:00",
          "2022-08-31T00:00:00",
          "2022-09-01T00:00:00",
          "2022-09-02T00:00:00",
          "2022-09-06T00:00:00",
          "2022-09-07T00:00:00",
          "2022-09-08T00:00:00",
          "2022-09-09T00:00:00",
          "2022-09-12T00:00:00",
          "2022-09-13T00:00:00",
          "2022-09-14T00:00:00",
          "2022-09-15T00:00:00",
          "2022-09-16T00:00:00",
          "2022-09-19T00:00:00",
          "2022-09-20T00:00:00",
          "2022-09-21T00:00:00",
          "2022-09-22T00:00:00",
          "2022-09-23T00:00:00",
          "2022-09-26T00:00:00",
          "2022-09-27T00:00:00",
          "2022-09-28T00:00:00",
          "2022-09-29T00:00:00",
          "2022-09-30T00:00:00"
         ],
         "y": [
          0,
          -0.7779267047053007,
          -0.38844330919071135,
          -0.34220632046267907,
          -0.09972745504451819,
          0.587481605446305,
          -0.16462343314714856,
          0.19304163594739965,
          0.3158995917171614,
          0.30281264372344907,
          0.5970168819021238,
          0.4218615708557083,
          0.25182339815221777,
          0.07018874839734845,
          -0.2607810841976588,
          0.12668354090483724,
          0.46226278052496905,
          1.3956276220813413,
          1.9637766597441875,
          2.829571916996798,
          2.9307804302958873,
          3.633353342110124,
          3.6493894196985677,
          5.154373351768093,
          3.858821300032056,
          3.596788257215766,
          2.9541427106846374,
          1.8539889768627527,
          1.6948276904548143,
          2.6335517190140045,
          3.7903707400203546,
          3.484401037561957,
          3.9640583503250726,
          4.004221157211441,
          4.704614950029162,
          5.0806711901839385,
          5.248984738673568,
          4.111391090604055,
          4.792635473923146,
          4.974813363803343,
          3.7696654288689624,
          3.696349477290961,
          4.480324569586691,
          3.753971992490701,
          3.1842696623266775,
          3.506227133712936,
          3.7213262713788664,
          3.361986503111103,
          4.100959939083371,
          5.141706323327067,
          4.671869693889863,
          4.788590006247939,
          4.555292563514146,
          4.666758097595292,
          4.2743134604872335,
          3.0687464921607788,
          2.368890975507121,
          2.004398603599622,
          1.9246434260993261,
          3.0629343836404033,
          2.2054725866368585,
          2.162390824409388,
          2.2647648812666343,
          3.5786172773241143,
          2.4731237953682594,
          2.1849454887427955,
          -0.18444767142987706,
          -0.02454656285036938,
          0.16680739376462306,
          -0.08093988162382049,
          0.6292238044701026,
          1.1259121042329845,
          1.6586046106711327,
          0.0262579712124289,
          0.6032758071206068,
          0.35764615095372765,
          1.242056790902124,
          0.8660213467103217,
          1.2793933432731608,
          1.5822751976450666,
          2.459363077010157,
          1.963097407839487,
          1.8641563021292384,
          2.859145494355042,
          1.8472570792692045,
          1.9413253791037643,
          2.6616719709904313,
          2.28340539545413,
          1.7501541401525822,
          1.331952230964295,
          -0.6476062863272958,
          -1.1479677352698836,
          -0.24551040660495405,
          -0.33176692124623486,
          -0.6275328741091601,
          -0.22736513284895565,
          -0.6361455881933376,
          -0.6290992292196096,
          0.3873734430199116,
          0.37864890565926235,
          -0.0671159182578207,
          -0.20829728688650517,
          -0.910706005763462,
          -0.8166963011464579,
          -2.2057880850002376,
          -2.634638257766597,
          -1.5164976792600648,
          -1.6885841511179,
          -1.9174626496182845,
          -2.9079892706411536,
          -2.4787171880351178,
          -3.144368186311164,
          -2.759099352440475,
          -2.6980372579688217,
          -1.4412111651138204,
          -1.6244001900313054,
          -1.2177616352906595,
          -1.278427340245758,
          -1.0708866631541247,
          -1.3963571149842369,
          -0.49189223160570616,
          0.34987806616579853,
          0.7176894626824248,
          0.5295465320779735,
          0.1330615888366138,
          0.5451822141850915,
          0.7286160796415198,
          0.0693550879619309,
          0.634820198769459,
          0.7684238595765169,
          1.6797885928108158,
          1.6497901754549904,
          2.223525577947938,
          1.733601409674801,
          1.5153562698221767,
          1.3660667516678382,
          1.2682550732562747,
          0.9149092294420624,
          0.11114206322127007,
          0.7724829374219366,
          1.0522214464167234,
          1.4921815064872002,
          0.5491205405283806,
          0.7869238564225389,
          0.08575761221942813,
          -0.6983857750062494,
          -1.1775815544343593,
          -1.2452287535060114,
          -1.4353824257780423,
          -0.8605724262657932,
          -0.6502572387223293,
          0.05555820912137577,
          0.9847351831919537,
          -0.47060905284103116,
          -0.4186222041761334,
          -1.1975906381369028,
          -1.3953786197707485,
          -0.9087266137262517,
          -1.4904859543000581,
          -1.9197675268052272,
          -1.8008045212235424,
          -3.176522457732167,
          -3.8269831060296355,
          -3.996890871986647,
          -2.4686737604675324,
          -2.9749975075381685,
          -3.328289330218759
         ]
        },
        {
         "line": {
          "width": 1
         },
         "name": "Portfolio6",
         "type": "scatter",
         "x": [
          "2022-02-02T00:00:00",
          "2022-02-03T00:00:00",
          "2022-02-04T00:00:00",
          "2022-02-07T00:00:00",
          "2022-02-08T00:00:00",
          "2022-02-09T00:00:00",
          "2022-02-10T00:00:00",
          "2022-02-11T00:00:00",
          "2022-02-14T00:00:00",
          "2022-02-15T00:00:00",
          "2022-02-16T00:00:00",
          "2022-02-17T00:00:00",
          "2022-02-18T00:00:00",
          "2022-02-22T00:00:00",
          "2022-02-23T00:00:00",
          "2022-02-24T00:00:00",
          "2022-02-25T00:00:00",
          "2022-02-28T00:00:00",
          "2022-03-01T00:00:00",
          "2022-03-02T00:00:00",
          "2022-03-03T00:00:00",
          "2022-03-04T00:00:00",
          "2022-03-07T00:00:00",
          "2022-03-08T00:00:00",
          "2022-03-09T00:00:00",
          "2022-03-10T00:00:00",
          "2022-03-11T00:00:00",
          "2022-03-14T00:00:00",
          "2022-03-15T00:00:00",
          "2022-03-16T00:00:00",
          "2022-03-17T00:00:00",
          "2022-03-18T00:00:00",
          "2022-03-21T00:00:00",
          "2022-03-22T00:00:00",
          "2022-03-23T00:00:00",
          "2022-03-24T00:00:00",
          "2022-03-25T00:00:00",
          "2022-03-28T00:00:00",
          "2022-03-29T00:00:00",
          "2022-03-30T00:00:00",
          "2022-03-31T00:00:00",
          "2022-04-01T00:00:00",
          "2022-04-04T00:00:00",
          "2022-04-05T00:00:00",
          "2022-04-06T00:00:00",
          "2022-04-07T00:00:00",
          "2022-04-08T00:00:00",
          "2022-04-11T00:00:00",
          "2022-04-12T00:00:00",
          "2022-04-13T00:00:00",
          "2022-04-14T00:00:00",
          "2022-04-18T00:00:00",
          "2022-04-19T00:00:00",
          "2022-04-20T00:00:00",
          "2022-04-21T00:00:00",
          "2022-04-22T00:00:00",
          "2022-04-25T00:00:00",
          "2022-04-26T00:00:00",
          "2022-04-27T00:00:00",
          "2022-04-28T00:00:00",
          "2022-04-29T00:00:00",
          "2022-05-02T00:00:00",
          "2022-05-03T00:00:00",
          "2022-05-04T00:00:00",
          "2022-05-05T00:00:00",
          "2022-05-06T00:00:00",
          "2022-05-09T00:00:00",
          "2022-05-10T00:00:00",
          "2022-05-11T00:00:00",
          "2022-05-12T00:00:00",
          "2022-05-13T00:00:00",
          "2022-05-16T00:00:00",
          "2022-05-17T00:00:00",
          "2022-05-18T00:00:00",
          "2022-05-19T00:00:00",
          "2022-05-20T00:00:00",
          "2022-05-23T00:00:00",
          "2022-05-24T00:00:00",
          "2022-05-25T00:00:00",
          "2022-05-26T00:00:00",
          "2022-05-27T00:00:00",
          "2022-05-31T00:00:00",
          "2022-06-01T00:00:00",
          "2022-06-02T00:00:00",
          "2022-06-03T00:00:00",
          "2022-06-06T00:00:00",
          "2022-06-07T00:00:00",
          "2022-06-08T00:00:00",
          "2022-06-09T00:00:00",
          "2022-06-10T00:00:00",
          "2022-06-13T00:00:00",
          "2022-06-14T00:00:00",
          "2022-06-15T00:00:00",
          "2022-06-16T00:00:00",
          "2022-06-17T00:00:00",
          "2022-06-21T00:00:00",
          "2022-06-22T00:00:00",
          "2022-06-23T00:00:00",
          "2022-06-24T00:00:00",
          "2022-06-27T00:00:00",
          "2022-06-28T00:00:00",
          "2022-06-29T00:00:00",
          "2022-06-30T00:00:00",
          "2022-07-01T00:00:00",
          "2022-07-05T00:00:00",
          "2022-07-06T00:00:00",
          "2022-07-07T00:00:00",
          "2022-07-08T00:00:00",
          "2022-07-11T00:00:00",
          "2022-07-12T00:00:00",
          "2022-07-13T00:00:00",
          "2022-07-14T00:00:00",
          "2022-07-15T00:00:00",
          "2022-07-18T00:00:00",
          "2022-07-19T00:00:00",
          "2022-07-20T00:00:00",
          "2022-07-21T00:00:00",
          "2022-07-22T00:00:00",
          "2022-07-25T00:00:00",
          "2022-07-26T00:00:00",
          "2022-07-27T00:00:00",
          "2022-07-28T00:00:00",
          "2022-07-29T00:00:00",
          "2022-08-01T00:00:00",
          "2022-08-02T00:00:00",
          "2022-08-03T00:00:00",
          "2022-08-04T00:00:00",
          "2022-08-05T00:00:00",
          "2022-08-08T00:00:00",
          "2022-08-09T00:00:00",
          "2022-08-10T00:00:00",
          "2022-08-11T00:00:00",
          "2022-08-12T00:00:00",
          "2022-08-15T00:00:00",
          "2022-08-16T00:00:00",
          "2022-08-17T00:00:00",
          "2022-08-18T00:00:00",
          "2022-08-19T00:00:00",
          "2022-08-22T00:00:00",
          "2022-08-23T00:00:00",
          "2022-08-24T00:00:00",
          "2022-08-25T00:00:00",
          "2022-08-26T00:00:00",
          "2022-08-29T00:00:00",
          "2022-08-30T00:00:00",
          "2022-08-31T00:00:00",
          "2022-09-01T00:00:00",
          "2022-09-02T00:00:00",
          "2022-09-06T00:00:00",
          "2022-09-07T00:00:00",
          "2022-09-08T00:00:00",
          "2022-09-09T00:00:00",
          "2022-09-12T00:00:00",
          "2022-09-13T00:00:00",
          "2022-09-14T00:00:00",
          "2022-09-15T00:00:00",
          "2022-09-16T00:00:00",
          "2022-09-19T00:00:00",
          "2022-09-20T00:00:00",
          "2022-09-21T00:00:00",
          "2022-09-22T00:00:00",
          "2022-09-23T00:00:00",
          "2022-09-26T00:00:00",
          "2022-09-27T00:00:00",
          "2022-09-28T00:00:00",
          "2022-09-29T00:00:00",
          "2022-09-30T00:00:00"
         ],
         "y": [
          0,
          0.19998433806873717,
          -0.004653102648299878,
          0.2561344432345791,
          0.5672286285792305,
          0.7885592318831236,
          0.10920751005838447,
          0.6109466426462262,
          0.4020960282759889,
          0.5043981712601564,
          1.100011134727219,
          1.6783529583803913,
          1.7578412417172284,
          1.5305514184680291,
          1.8626497308694923,
          0.9829629524061634,
          1.1397305804731195,
          2.373039823901446,
          3.28252602365815,
          3.1417157095263715,
          2.9488543454488703,
          3.128330473959573,
          3.5665084612586995,
          5.438440906030917,
          3.69077783890992,
          3.559703580543072,
          3.2720771324137976,
          2.7151308849117983,
          2.1340055861257756,
          2.301061405538607,
          2.72835323832028,
          2.5552599049606384,
          2.804235038143821,
          2.311102542358201,
          3.26065305715999,
          3.311965802276573,
          3.0440190262764677,
          2.3795405879252662,
          2.391418671750367,
          2.6629504134687343,
          2.7658083765931485,
          2.128808309119612,
          2.016261856524215,
          1.0996887840946545,
          1.0862447486316595,
          1.10179241776438,
          1.1056083724755528,
          1.7845310188842722,
          2.0743964815638227,
          1.9638495466820949,
          1.8030308231588688,
          2.194537343851799,
          1.4465282636134003,
          1.984860174500258,
          1.7237091553939266,
          0.6957012063627532,
          0.1228122564288503,
          -0.07272344210353943,
          -0.09133939119123635,
          0.6034842077801583,
          0.23328531943385133,
          -1.27197756316898,
          -1.0886430696931515,
          -0.8409091229456322,
          -1.8626553955938263,
          -1.9365787885816999,
          -3.058903151013437,
          -2.9094217606906336,
          -2.307800575419372,
          -2.735117565383205,
          -2.7895818103808367,
          -2.8173681333522604,
          -2.68645153409367,
          -2.349336968294069,
          -2.410259977654061,
          -2.245688242412014,
          -2.2499029595261844,
          -1.5181926176344729,
          -1.3577427440952805,
          -1.1074139484267276,
          -1.280847426443943,
          -1.7433485824921435,
          -2.5245722705363516,
          -1.9365139330609238,
          -2.1215334366388783,
          -2.821559736578616,
          -3.5234318579640655,
          -3.76538080670924,
          -4.390068637651279,
          -4.011678242576055,
          -5.633177984780724,
          -6.9088577219170055,
          -5.816364040767763,
          -6.245780343422592,
          -6.839037555371563,
          -6.5041211515446395,
          -5.787671628278391,
          -5.686985922371967,
          -6.180114961506355,
          -6.953558896359335,
          -7.424797803225214,
          -7.563835458584423,
          -7.346142722918425,
          -7.574950298141903,
          -7.936101844606524,
          -8.586339658602938,
          -8.732473078352553,
          -9.0008358093843,
          -9.010746435711658,
          -9.215972885221035,
          -8.795764292226105,
          -8.853997602922338,
          -8.783570480108482,
          -8.618397546249323,
          -8.325944201092629,
          -8.842281451123457,
          -8.064988943505591,
          -7.608677885920601,
          -7.732809220563109,
          -7.553496328970977,
          -6.829283577187473,
          -6.0805143723046235,
          -5.960435289927646,
          -5.832767801466576,
          -6.291839979400848,
          -5.842707034219297,
          -5.258959485623304,
          -5.860403865985941,
          -5.599892055578204,
          -5.110971190298008,
          -5.20775934783374,
          -5.345982805260652,
          -5.0921395423684235,
          -5.6666689676651565,
          -5.888590275328731,
          -6.542542708235921,
          -6.76794151558624,
          -6.938343276386871,
          -6.893352000693831,
          -6.564314883318623,
          -7.07021552223126,
          -6.5997643390264376,
          -6.825736047965036,
          -7.55588382629756,
          -7.9602395677607625,
          -8.565410890369463,
          -9.424439453067057,
          -9.323929557121724,
          -9.728672032046159,
          -8.543538414157592,
          -9.337895726168577,
          -9.256058221498408,
          -9.391295287548395,
          -10.217101468304502,
          -10.130360214516553,
          -11.126832080429194,
          -11.242003572783032,
          -11.825411076256264,
          -12.82246319542104,
          -12.582256946350068,
          -13.551532653558118,
          -14.219361716315548,
          -15.239396914469905,
          -15.3314096332129,
          -14.159366496725179,
          -14.584178681149462,
          -14.78303208727657
         ]
        },
        {
         "line": {
          "width": 1
         },
         "name": "Benchmark",
         "type": "scatter",
         "x": [
          "2022-02-02T00:00:00",
          "2022-02-03T00:00:00",
          "2022-02-04T00:00:00",
          "2022-02-07T00:00:00",
          "2022-02-08T00:00:00",
          "2022-02-09T00:00:00",
          "2022-02-10T00:00:00",
          "2022-02-11T00:00:00",
          "2022-02-14T00:00:00",
          "2022-02-15T00:00:00",
          "2022-02-16T00:00:00",
          "2022-02-17T00:00:00",
          "2022-02-18T00:00:00",
          "2022-02-22T00:00:00",
          "2022-02-23T00:00:00",
          "2022-02-24T00:00:00",
          "2022-02-25T00:00:00",
          "2022-02-28T00:00:00",
          "2022-03-01T00:00:00",
          "2022-03-02T00:00:00",
          "2022-03-03T00:00:00",
          "2022-03-04T00:00:00",
          "2022-03-07T00:00:00",
          "2022-03-08T00:00:00",
          "2022-03-09T00:00:00",
          "2022-03-10T00:00:00",
          "2022-03-11T00:00:00",
          "2022-03-14T00:00:00",
          "2022-03-15T00:00:00",
          "2022-03-16T00:00:00",
          "2022-03-17T00:00:00",
          "2022-03-18T00:00:00",
          "2022-03-21T00:00:00",
          "2022-03-22T00:00:00",
          "2022-03-23T00:00:00",
          "2022-03-24T00:00:00",
          "2022-03-25T00:00:00",
          "2022-03-28T00:00:00",
          "2022-03-29T00:00:00",
          "2022-03-30T00:00:00",
          "2022-03-31T00:00:00",
          "2022-04-01T00:00:00",
          "2022-04-04T00:00:00",
          "2022-04-05T00:00:00",
          "2022-04-06T00:00:00",
          "2022-04-07T00:00:00",
          "2022-04-08T00:00:00",
          "2022-04-11T00:00:00",
          "2022-04-12T00:00:00",
          "2022-04-13T00:00:00",
          "2022-04-14T00:00:00",
          "2022-04-18T00:00:00",
          "2022-04-19T00:00:00",
          "2022-04-20T00:00:00",
          "2022-04-21T00:00:00",
          "2022-04-22T00:00:00",
          "2022-04-25T00:00:00",
          "2022-04-26T00:00:00",
          "2022-04-27T00:00:00",
          "2022-04-28T00:00:00",
          "2022-04-29T00:00:00",
          "2022-05-02T00:00:00",
          "2022-05-03T00:00:00",
          "2022-05-04T00:00:00",
          "2022-05-05T00:00:00",
          "2022-05-06T00:00:00",
          "2022-05-09T00:00:00",
          "2022-05-10T00:00:00",
          "2022-05-11T00:00:00",
          "2022-05-12T00:00:00",
          "2022-05-13T00:00:00",
          "2022-05-16T00:00:00",
          "2022-05-17T00:00:00",
          "2022-05-18T00:00:00",
          "2022-05-19T00:00:00",
          "2022-05-20T00:00:00",
          "2022-05-23T00:00:00",
          "2022-05-24T00:00:00",
          "2022-05-25T00:00:00",
          "2022-05-26T00:00:00",
          "2022-05-27T00:00:00",
          "2022-05-31T00:00:00",
          "2022-06-01T00:00:00",
          "2022-06-02T00:00:00",
          "2022-06-03T00:00:00",
          "2022-06-06T00:00:00",
          "2022-06-07T00:00:00",
          "2022-06-08T00:00:00",
          "2022-06-09T00:00:00",
          "2022-06-10T00:00:00",
          "2022-06-13T00:00:00",
          "2022-06-14T00:00:00",
          "2022-06-15T00:00:00",
          "2022-06-16T00:00:00",
          "2022-06-17T00:00:00",
          "2022-06-21T00:00:00",
          "2022-06-22T00:00:00",
          "2022-06-23T00:00:00",
          "2022-06-24T00:00:00",
          "2022-06-27T00:00:00",
          "2022-06-28T00:00:00",
          "2022-06-29T00:00:00",
          "2022-06-30T00:00:00",
          "2022-07-01T00:00:00",
          "2022-07-05T00:00:00",
          "2022-07-06T00:00:00",
          "2022-07-07T00:00:00",
          "2022-07-08T00:00:00",
          "2022-07-11T00:00:00",
          "2022-07-12T00:00:00",
          "2022-07-13T00:00:00",
          "2022-07-14T00:00:00",
          "2022-07-15T00:00:00",
          "2022-07-18T00:00:00",
          "2022-07-19T00:00:00",
          "2022-07-20T00:00:00",
          "2022-07-21T00:00:00",
          "2022-07-22T00:00:00",
          "2022-07-25T00:00:00",
          "2022-07-26T00:00:00",
          "2022-07-27T00:00:00",
          "2022-07-28T00:00:00",
          "2022-07-29T00:00:00",
          "2022-08-01T00:00:00",
          "2022-08-02T00:00:00",
          "2022-08-03T00:00:00",
          "2022-08-04T00:00:00",
          "2022-08-05T00:00:00",
          "2022-08-08T00:00:00",
          "2022-08-09T00:00:00",
          "2022-08-10T00:00:00",
          "2022-08-11T00:00:00",
          "2022-08-12T00:00:00",
          "2022-08-15T00:00:00",
          "2022-08-16T00:00:00",
          "2022-08-17T00:00:00",
          "2022-08-18T00:00:00",
          "2022-08-19T00:00:00",
          "2022-08-22T00:00:00",
          "2022-08-23T00:00:00",
          "2022-08-24T00:00:00",
          "2022-08-25T00:00:00",
          "2022-08-26T00:00:00",
          "2022-08-29T00:00:00",
          "2022-08-30T00:00:00",
          "2022-08-31T00:00:00",
          "2022-09-01T00:00:00",
          "2022-09-02T00:00:00",
          "2022-09-06T00:00:00",
          "2022-09-07T00:00:00",
          "2022-09-08T00:00:00",
          "2022-09-09T00:00:00",
          "2022-09-12T00:00:00",
          "2022-09-13T00:00:00",
          "2022-09-14T00:00:00",
          "2022-09-15T00:00:00",
          "2022-09-16T00:00:00",
          "2022-09-19T00:00:00",
          "2022-09-20T00:00:00",
          "2022-09-21T00:00:00",
          "2022-09-22T00:00:00",
          "2022-09-23T00:00:00",
          "2022-09-26T00:00:00",
          "2022-09-27T00:00:00",
          "2022-09-28T00:00:00",
          "2022-09-29T00:00:00",
          "2022-09-30T00:00:00"
         ],
         "y": [
          0,
          -2.3777444677853032,
          -1.730056802756752,
          -1.977832206650365,
          -1.0780246444861419,
          0.5303200193518931,
          -1.1736565583242875,
          -3.090632695515305,
          -3.4470801257873607,
          -1.7300568027567742,
          -1.6387760149747965,
          -3.8730726120028702,
          -4.642472415950161,
          -5.737881666218636,
          -7.472289595031556,
          -5.850904818653257,
          -3.7557049663262343,
          -3.860032499462618,
          -5.3597051369222,
          -3.564441138649932,
          -4.2990650982184135,
          -5.255377603785838,
          -8.176482203463342,
          -8.69376211027496,
          -6.159529659192142,
          -6.581177652165604,
          -7.850466124328048,
          -8.75896930579051,
          -6.8550332811397885,
          -4.525104770273558,
          -3.247120678812898,
          -2.1169355841656357,
          -2.2082163719476244,
          -1.0084795885427544,
          -2.6602957160578256,
          -1.273639598218701,
          -0.8519916052452392,
          -0.20864843345872464,
          1.3040643165411536,
          0.4825040624327315,
          -1.0345598136233258,
          -0.6389920457304243,
          0.20430394021651033,
          -1.2605994856784153,
          -2.3951357063818457,
          -2.0256481635695156,
          -2.3299285108663192,
          -3.8556880062205923,
          -4.1512727342191695,
          -2.8950243745969995,
          -4.077376552219503,
          -4.242560154815234,
          -2.5559681829214087,
          -2.6820248150821846,
          -4.2729848731378866,
          -6.881113506220348,
          -6.372529218706968,
          -9.04151392124879,
          -8.863290206112762,
          -6.642033721624962,
          -10.071722608815836,
          -9.393610225464633,
          -8.963273246007041,
          -6.294281910651112,
          -9.750057655736688,
          -10.475985996006965,
          -13.64921049282013,
          -13.47533127092616,
          -15.04021110390129,
          -14.948923683305203,
          -12.671162255414215,
          -13.101499234871794,
          -11.245385799954255,
          -14.718539518008056,
          -15.096716047304504,
          -15.096716047304504,
          -13.644859366763972,
          -14.50989108454942,
          -13.557923072224053,
          -11.788745931846446,
          -9.55444270200424,
          -10.297762280870938,
          -10.888938369682199,
          -9.071945272385529,
          -10.523801952926037,
          -10.25864194325009,
          -9.284938199086223,
          -10.302106774112996,
          -12.449467076601161,
          -15.048906723199506,
          -18.517715948011247,
          -18.748100113308396,
          -17.565747935685884,
          -20.44338107168636,
          -20.14344521763163,
          -18.209084474658287,
          -18.222124587198575,
          -17.80917221352333,
          -15.153227623521781,
          -15.41404313995567,
          -17.157140055252718,
          -17.296243432767877,
          -18.009131660497857,
          -17.144099942712423,
          -16.848515214713842,
          -16.683331612118092,
          -15.309715606819264,
          -15.396651901359181,
          -16.465987559361206,
          -17.187571406389413,
          -17.548363329903516,
          -17.913499746659678,
          -16.318195195361916,
          -16.896331171632905,
          -14.57509164725077,
          -13.883939151359304,
          -13.031947546114154,
          -13.97522657195539,
          -13.857858926278709,
          -14.922843458224566,
          -12.688546861196459,
          -11.54966614725097,
          -10.345578237789944,
          -10.554226671248601,
          -11.03673073368141,
          -9.606609784979392,
          -9.693546079519312,
          -9.723977430656028,
          -9.641385629358156,
          -10.210825986330907,
          -8.163442090922945,
          -8.159097597680887,
          -6.5681375396251855,
          -6.203001122869023,
          -6.003041675894494,
          -6.846337661841407,
          -6.602913384003973,
          -7.937409051681932,
          -9.90654563903407,
          -10.07607373487186,
          -9.697890572761303,
          -8.38948176297799,
          -11.423602882275997,
          -12.071290547304558,
          -13.049338784710486,
          -13.688330830440831,
          -13.636170380279689,
          -14.49249984595279,
          -14.840251656926606,
          -13.26668283746738,
          -12.57987483481796,
          -11.128018154277452,
          -10.17170564871005,
          -14.031731515358514,
          -13.69702644973908,
          -14.618563110927695,
          -15.396651901359093,
          -14.796786826063713,
          -15.787875176009914,
          -17.226691744010147,
          -18.152579531254943,
          -19.904372065850207,
          -20.78243726336182,
          -20.899804909038476,
          -19.234948668983144,
          -20.912845021578775,
          -21.986525172822844
         ]
        }
       ],
       "layout": {
        "template": {
         "data": {
          "bar": [
           {
            "error_x": {
             "color": "#2a3f5f"
            },
            "error_y": {
             "color": "#2a3f5f"
            },
            "marker": {
             "line": {
              "color": "#E5ECF6",
              "width": 0.5
             },
             "pattern": {
              "fillmode": "overlay",
              "size": 10,
              "solidity": 0.2
             }
            },
            "type": "bar"
           }
          ],
          "barpolar": [
           {
            "marker": {
             "line": {
              "color": "#E5ECF6",
              "width": 0.5
             },
             "pattern": {
              "fillmode": "overlay",
              "size": 10,
              "solidity": 0.2
             }
            },
            "type": "barpolar"
           }
          ],
          "carpet": [
           {
            "aaxis": {
             "endlinecolor": "#2a3f5f",
             "gridcolor": "white",
             "linecolor": "white",
             "minorgridcolor": "white",
             "startlinecolor": "#2a3f5f"
            },
            "baxis": {
             "endlinecolor": "#2a3f5f",
             "gridcolor": "white",
             "linecolor": "white",
             "minorgridcolor": "white",
             "startlinecolor": "#2a3f5f"
            },
            "type": "carpet"
           }
          ],
          "choropleth": [
           {
            "colorbar": {
             "outlinewidth": 0,
             "ticks": ""
            },
            "type": "choropleth"
           }
          ],
          "contour": [
           {
            "colorbar": {
             "outlinewidth": 0,
             "ticks": ""
            },
            "colorscale": [
             [
              0,
              "#0d0887"
             ],
             [
              0.1111111111111111,
              "#46039f"
             ],
             [
              0.2222222222222222,
              "#7201a8"
             ],
             [
              0.3333333333333333,
              "#9c179e"
             ],
             [
              0.4444444444444444,
              "#bd3786"
             ],
             [
              0.5555555555555556,
              "#d8576b"
             ],
             [
              0.6666666666666666,
              "#ed7953"
             ],
             [
              0.7777777777777778,
              "#fb9f3a"
             ],
             [
              0.8888888888888888,
              "#fdca26"
             ],
             [
              1,
              "#f0f921"
             ]
            ],
            "type": "contour"
           }
          ],
          "contourcarpet": [
           {
            "colorbar": {
             "outlinewidth": 0,
             "ticks": ""
            },
            "type": "contourcarpet"
           }
          ],
          "heatmap": [
           {
            "colorbar": {
             "outlinewidth": 0,
             "ticks": ""
            },
            "colorscale": [
             [
              0,
              "#0d0887"
             ],
             [
              0.1111111111111111,
              "#46039f"
             ],
             [
              0.2222222222222222,
              "#7201a8"
             ],
             [
              0.3333333333333333,
              "#9c179e"
             ],
             [
              0.4444444444444444,
              "#bd3786"
             ],
             [
              0.5555555555555556,
              "#d8576b"
             ],
             [
              0.6666666666666666,
              "#ed7953"
             ],
             [
              0.7777777777777778,
              "#fb9f3a"
             ],
             [
              0.8888888888888888,
              "#fdca26"
             ],
             [
              1,
              "#f0f921"
             ]
            ],
            "type": "heatmap"
           }
          ],
          "heatmapgl": [
           {
            "colorbar": {
             "outlinewidth": 0,
             "ticks": ""
            },
            "colorscale": [
             [
              0,
              "#0d0887"
             ],
             [
              0.1111111111111111,
              "#46039f"
             ],
             [
              0.2222222222222222,
              "#7201a8"
             ],
             [
              0.3333333333333333,
              "#9c179e"
             ],
             [
              0.4444444444444444,
              "#bd3786"
             ],
             [
              0.5555555555555556,
              "#d8576b"
             ],
             [
              0.6666666666666666,
              "#ed7953"
             ],
             [
              0.7777777777777778,
              "#fb9f3a"
             ],
             [
              0.8888888888888888,
              "#fdca26"
             ],
             [
              1,
              "#f0f921"
             ]
            ],
            "type": "heatmapgl"
           }
          ],
          "histogram": [
           {
            "marker": {
             "pattern": {
              "fillmode": "overlay",
              "size": 10,
              "solidity": 0.2
             }
            },
            "type": "histogram"
           }
          ],
          "histogram2d": [
           {
            "colorbar": {
             "outlinewidth": 0,
             "ticks": ""
            },
            "colorscale": [
             [
              0,
              "#0d0887"
             ],
             [
              0.1111111111111111,
              "#46039f"
             ],
             [
              0.2222222222222222,
              "#7201a8"
             ],
             [
              0.3333333333333333,
              "#9c179e"
             ],
             [
              0.4444444444444444,
              "#bd3786"
             ],
             [
              0.5555555555555556,
              "#d8576b"
             ],
             [
              0.6666666666666666,
              "#ed7953"
             ],
             [
              0.7777777777777778,
              "#fb9f3a"
             ],
             [
              0.8888888888888888,
              "#fdca26"
             ],
             [
              1,
              "#f0f921"
             ]
            ],
            "type": "histogram2d"
           }
          ],
          "histogram2dcontour": [
           {
            "colorbar": {
             "outlinewidth": 0,
             "ticks": ""
            },
            "colorscale": [
             [
              0,
              "#0d0887"
             ],
             [
              0.1111111111111111,
              "#46039f"
             ],
             [
              0.2222222222222222,
              "#7201a8"
             ],
             [
              0.3333333333333333,
              "#9c179e"
             ],
             [
              0.4444444444444444,
              "#bd3786"
             ],
             [
              0.5555555555555556,
              "#d8576b"
             ],
             [
              0.6666666666666666,
              "#ed7953"
             ],
             [
              0.7777777777777778,
              "#fb9f3a"
             ],
             [
              0.8888888888888888,
              "#fdca26"
             ],
             [
              1,
              "#f0f921"
             ]
            ],
            "type": "histogram2dcontour"
           }
          ],
          "mesh3d": [
           {
            "colorbar": {
             "outlinewidth": 0,
             "ticks": ""
            },
            "type": "mesh3d"
           }
          ],
          "parcoords": [
           {
            "line": {
             "colorbar": {
              "outlinewidth": 0,
              "ticks": ""
             }
            },
            "type": "parcoords"
           }
          ],
          "pie": [
           {
            "automargin": true,
            "type": "pie"
           }
          ],
          "scatter": [
           {
            "fillpattern": {
             "fillmode": "overlay",
             "size": 10,
             "solidity": 0.2
            },
            "type": "scatter"
           }
          ],
          "scatter3d": [
           {
            "line": {
             "colorbar": {
              "outlinewidth": 0,
              "ticks": ""
             }
            },
            "marker": {
             "colorbar": {
              "outlinewidth": 0,
              "ticks": ""
             }
            },
            "type": "scatter3d"
           }
          ],
          "scattercarpet": [
           {
            "marker": {
             "colorbar": {
              "outlinewidth": 0,
              "ticks": ""
             }
            },
            "type": "scattercarpet"
           }
          ],
          "scattergeo": [
           {
            "marker": {
             "colorbar": {
              "outlinewidth": 0,
              "ticks": ""
             }
            },
            "type": "scattergeo"
           }
          ],
          "scattergl": [
           {
            "marker": {
             "colorbar": {
              "outlinewidth": 0,
              "ticks": ""
             }
            },
            "type": "scattergl"
           }
          ],
          "scattermapbox": [
           {
            "marker": {
             "colorbar": {
              "outlinewidth": 0,
              "ticks": ""
             }
            },
            "type": "scattermapbox"
           }
          ],
          "scatterpolar": [
           {
            "marker": {
             "colorbar": {
              "outlinewidth": 0,
              "ticks": ""
             }
            },
            "type": "scatterpolar"
           }
          ],
          "scatterpolargl": [
           {
            "marker": {
             "colorbar": {
              "outlinewidth": 0,
              "ticks": ""
             }
            },
            "type": "scatterpolargl"
           }
          ],
          "scatterternary": [
           {
            "marker": {
             "colorbar": {
              "outlinewidth": 0,
              "ticks": ""
             }
            },
            "type": "scatterternary"
           }
          ],
          "surface": [
           {
            "colorbar": {
             "outlinewidth": 0,
             "ticks": ""
            },
            "colorscale": [
             [
              0,
              "#0d0887"
             ],
             [
              0.1111111111111111,
              "#46039f"
             ],
             [
              0.2222222222222222,
              "#7201a8"
             ],
             [
              0.3333333333333333,
              "#9c179e"
             ],
             [
              0.4444444444444444,
              "#bd3786"
             ],
             [
              0.5555555555555556,
              "#d8576b"
             ],
             [
              0.6666666666666666,
              "#ed7953"
             ],
             [
              0.7777777777777778,
              "#fb9f3a"
             ],
             [
              0.8888888888888888,
              "#fdca26"
             ],
             [
              1,
              "#f0f921"
             ]
            ],
            "type": "surface"
           }
          ],
          "table": [
           {
            "cells": {
             "fill": {
              "color": "#EBF0F8"
             },
             "line": {
              "color": "white"
             }
            },
            "header": {
             "fill": {
              "color": "#C8D4E3"
             },
             "line": {
              "color": "white"
             }
            },
            "type": "table"
           }
          ]
         },
         "layout": {
          "annotationdefaults": {
           "arrowcolor": "#2a3f5f",
           "arrowhead": 0,
           "arrowwidth": 1
          },
          "autotypenumbers": "strict",
          "coloraxis": {
           "colorbar": {
            "outlinewidth": 0,
            "ticks": ""
           }
          },
          "colorscale": {
           "diverging": [
            [
             0,
             "#8e0152"
            ],
            [
             0.1,
             "#c51b7d"
            ],
            [
             0.2,
             "#de77ae"
            ],
            [
             0.3,
             "#f1b6da"
            ],
            [
             0.4,
             "#fde0ef"
            ],
            [
             0.5,
             "#f7f7f7"
            ],
            [
             0.6,
             "#e6f5d0"
            ],
            [
             0.7,
             "#b8e186"
            ],
            [
             0.8,
             "#7fbc41"
            ],
            [
             0.9,
             "#4d9221"
            ],
            [
             1,
             "#276419"
            ]
           ],
           "sequential": [
            [
             0,
             "#0d0887"
            ],
            [
             0.1111111111111111,
             "#46039f"
            ],
            [
             0.2222222222222222,
             "#7201a8"
            ],
            [
             0.3333333333333333,
             "#9c179e"
            ],
            [
             0.4444444444444444,
             "#bd3786"
            ],
            [
             0.5555555555555556,
             "#d8576b"
            ],
            [
             0.6666666666666666,
             "#ed7953"
            ],
            [
             0.7777777777777778,
             "#fb9f3a"
            ],
            [
             0.8888888888888888,
             "#fdca26"
            ],
            [
             1,
             "#f0f921"
            ]
           ],
           "sequentialminus": [
            [
             0,
             "#0d0887"
            ],
            [
             0.1111111111111111,
             "#46039f"
            ],
            [
             0.2222222222222222,
             "#7201a8"
            ],
            [
             0.3333333333333333,
             "#9c179e"
            ],
            [
             0.4444444444444444,
             "#bd3786"
            ],
            [
             0.5555555555555556,
             "#d8576b"
            ],
            [
             0.6666666666666666,
             "#ed7953"
            ],
            [
             0.7777777777777778,
             "#fb9f3a"
            ],
            [
             0.8888888888888888,
             "#fdca26"
            ],
            [
             1,
             "#f0f921"
            ]
           ]
          },
          "colorway": [
           "#636efa",
           "#EF553B",
           "#00cc96",
           "#ab63fa",
           "#FFA15A",
           "#19d3f3",
           "#FF6692",
           "#B6E880",
           "#FF97FF",
           "#FECB52"
          ],
          "font": {
           "color": "#2a3f5f"
          },
          "geo": {
           "bgcolor": "white",
           "lakecolor": "white",
           "landcolor": "#E5ECF6",
           "showlakes": true,
           "showland": true,
           "subunitcolor": "white"
          },
          "hoverlabel": {
           "align": "left"
          },
          "hovermode": "closest",
          "mapbox": {
           "style": "light"
          },
          "paper_bgcolor": "white",
          "plot_bgcolor": "#E5ECF6",
          "polar": {
           "angularaxis": {
            "gridcolor": "white",
            "linecolor": "white",
            "ticks": ""
           },
           "bgcolor": "#E5ECF6",
           "radialaxis": {
            "gridcolor": "white",
            "linecolor": "white",
            "ticks": ""
           }
          },
          "scene": {
           "xaxis": {
            "backgroundcolor": "#E5ECF6",
            "gridcolor": "white",
            "gridwidth": 2,
            "linecolor": "white",
            "showbackground": true,
            "ticks": "",
            "zerolinecolor": "white"
           },
           "yaxis": {
            "backgroundcolor": "#E5ECF6",
            "gridcolor": "white",
            "gridwidth": 2,
            "linecolor": "white",
            "showbackground": true,
            "ticks": "",
            "zerolinecolor": "white"
           },
           "zaxis": {
            "backgroundcolor": "#E5ECF6",
            "gridcolor": "white",
            "gridwidth": 2,
            "linecolor": "white",
            "showbackground": true,
            "ticks": "",
            "zerolinecolor": "white"
           }
          },
          "shapedefaults": {
           "line": {
            "color": "#2a3f5f"
           }
          },
          "ternary": {
           "aaxis": {
            "gridcolor": "white",
            "linecolor": "white",
            "ticks": ""
           },
           "baxis": {
            "gridcolor": "white",
            "linecolor": "white",
            "ticks": ""
           },
           "bgcolor": "#E5ECF6",
           "caxis": {
            "gridcolor": "white",
            "linecolor": "white",
            "ticks": ""
           }
          },
          "title": {
           "x": 0.05
          },
          "xaxis": {
           "automargin": true,
           "gridcolor": "white",
           "linecolor": "white",
           "ticks": "",
           "title": {
            "standoff": 15
           },
           "zerolinecolor": "white",
           "zerolinewidth": 2
          },
          "yaxis": {
           "automargin": true,
           "gridcolor": "white",
           "linecolor": "white",
           "ticks": "",
           "title": {
            "standoff": 15
           },
           "zerolinecolor": "white",
           "zerolinewidth": 2
          }
         }
        },
        "title": {
         "text": "누적 수익률 비교",
         "x": 0.5,
         "xanchor": "center",
         "yanchor": "top"
        },
        "yaxis": {
         "autorange": true,
         "type": "linear"
        }
       }
      },
      "text/html": [
       "<div>                            <div id=\"778cd610-684c-423b-abbf-f24c89903b51\" class=\"plotly-graph-div\" style=\"height:525px; width:100%;\"></div>            <script type=\"text/javascript\">                require([\"plotly\"], function(Plotly) {                    window.PLOTLYENV=window.PLOTLYENV || {};                                    if (document.getElementById(\"778cd610-684c-423b-abbf-f24c89903b51\")) {                    Plotly.newPlot(                        \"778cd610-684c-423b-abbf-f24c89903b51\",                        [{\"line\":{\"width\":1},\"name\":\"Portfolio1\",\"x\":[\"2022-02-02T00:00:00\",\"2022-02-03T00:00:00\",\"2022-02-04T00:00:00\",\"2022-02-07T00:00:00\",\"2022-02-08T00:00:00\",\"2022-02-09T00:00:00\",\"2022-02-10T00:00:00\",\"2022-02-11T00:00:00\",\"2022-02-14T00:00:00\",\"2022-02-15T00:00:00\",\"2022-02-16T00:00:00\",\"2022-02-17T00:00:00\",\"2022-02-18T00:00:00\",\"2022-02-22T00:00:00\",\"2022-02-23T00:00:00\",\"2022-02-24T00:00:00\",\"2022-02-25T00:00:00\",\"2022-02-28T00:00:00\",\"2022-03-01T00:00:00\",\"2022-03-02T00:00:00\",\"2022-03-03T00:00:00\",\"2022-03-04T00:00:00\",\"2022-03-07T00:00:00\",\"2022-03-08T00:00:00\",\"2022-03-09T00:00:00\",\"2022-03-10T00:00:00\",\"2022-03-11T00:00:00\",\"2022-03-14T00:00:00\",\"2022-03-15T00:00:00\",\"2022-03-16T00:00:00\",\"2022-03-17T00:00:00\",\"2022-03-18T00:00:00\",\"2022-03-21T00:00:00\",\"2022-03-22T00:00:00\",\"2022-03-23T00:00:00\",\"2022-03-24T00:00:00\",\"2022-03-25T00:00:00\",\"2022-03-28T00:00:00\",\"2022-03-29T00:00:00\",\"2022-03-30T00:00:00\",\"2022-03-31T00:00:00\",\"2022-04-01T00:00:00\",\"2022-04-04T00:00:00\",\"2022-04-05T00:00:00\",\"2022-04-06T00:00:00\",\"2022-04-07T00:00:00\",\"2022-04-08T00:00:00\",\"2022-04-11T00:00:00\",\"2022-04-12T00:00:00\",\"2022-04-13T00:00:00\",\"2022-04-14T00:00:00\",\"2022-04-18T00:00:00\",\"2022-04-19T00:00:00\",\"2022-04-20T00:00:00\",\"2022-04-21T00:00:00\",\"2022-04-22T00:00:00\",\"2022-04-25T00:00:00\",\"2022-04-26T00:00:00\",\"2022-04-27T00:00:00\",\"2022-04-28T00:00:00\",\"2022-04-29T00:00:00\",\"2022-05-02T00:00:00\",\"2022-05-03T00:00:00\",\"2022-05-04T00:00:00\",\"2022-05-05T00:00:00\",\"2022-05-06T00:00:00\",\"2022-05-09T00:00:00\",\"2022-05-10T00:00:00\",\"2022-05-11T00:00:00\",\"2022-05-12T00:00:00\",\"2022-05-13T00:00:00\",\"2022-05-16T00:00:00\",\"2022-05-17T00:00:00\",\"2022-05-18T00:00:00\",\"2022-05-19T00:00:00\",\"2022-05-20T00:00:00\",\"2022-05-23T00:00:00\",\"2022-05-24T00:00:00\",\"2022-05-25T00:00:00\",\"2022-05-26T00:00:00\",\"2022-05-27T00:00:00\",\"2022-05-31T00:00:00\",\"2022-06-01T00:00:00\",\"2022-06-02T00:00:00\",\"2022-06-03T00:00:00\",\"2022-06-06T00:00:00\",\"2022-06-07T00:00:00\",\"2022-06-08T00:00:00\",\"2022-06-09T00:00:00\",\"2022-06-10T00:00:00\",\"2022-06-13T00:00:00\",\"2022-06-14T00:00:00\",\"2022-06-15T00:00:00\",\"2022-06-16T00:00:00\",\"2022-06-17T00:00:00\",\"2022-06-21T00:00:00\",\"2022-06-22T00:00:00\",\"2022-06-23T00:00:00\",\"2022-06-24T00:00:00\",\"2022-06-27T00:00:00\",\"2022-06-28T00:00:00\",\"2022-06-29T00:00:00\",\"2022-06-30T00:00:00\",\"2022-07-01T00:00:00\",\"2022-07-05T00:00:00\",\"2022-07-06T00:00:00\",\"2022-07-07T00:00:00\",\"2022-07-08T00:00:00\",\"2022-07-11T00:00:00\",\"2022-07-12T00:00:00\",\"2022-07-13T00:00:00\",\"2022-07-14T00:00:00\",\"2022-07-15T00:00:00\",\"2022-07-18T00:00:00\",\"2022-07-19T00:00:00\",\"2022-07-20T00:00:00\",\"2022-07-21T00:00:00\",\"2022-07-22T00:00:00\",\"2022-07-25T00:00:00\",\"2022-07-26T00:00:00\",\"2022-07-27T00:00:00\",\"2022-07-28T00:00:00\",\"2022-07-29T00:00:00\",\"2022-08-01T00:00:00\",\"2022-08-02T00:00:00\",\"2022-08-03T00:00:00\",\"2022-08-04T00:00:00\",\"2022-08-05T00:00:00\",\"2022-08-08T00:00:00\",\"2022-08-09T00:00:00\",\"2022-08-10T00:00:00\",\"2022-08-11T00:00:00\",\"2022-08-12T00:00:00\",\"2022-08-15T00:00:00\",\"2022-08-16T00:00:00\",\"2022-08-17T00:00:00\",\"2022-08-18T00:00:00\",\"2022-08-19T00:00:00\",\"2022-08-22T00:00:00\",\"2022-08-23T00:00:00\",\"2022-08-24T00:00:00\",\"2022-08-25T00:00:00\",\"2022-08-26T00:00:00\",\"2022-08-29T00:00:00\",\"2022-08-30T00:00:00\",\"2022-08-31T00:00:00\",\"2022-09-01T00:00:00\",\"2022-09-02T00:00:00\",\"2022-09-06T00:00:00\",\"2022-09-07T00:00:00\",\"2022-09-08T00:00:00\",\"2022-09-09T00:00:00\",\"2022-09-12T00:00:00\",\"2022-09-13T00:00:00\",\"2022-09-14T00:00:00\",\"2022-09-15T00:00:00\",\"2022-09-16T00:00:00\",\"2022-09-19T00:00:00\",\"2022-09-20T00:00:00\",\"2022-09-21T00:00:00\",\"2022-09-22T00:00:00\",\"2022-09-23T00:00:00\",\"2022-09-26T00:00:00\",\"2022-09-27T00:00:00\",\"2022-09-28T00:00:00\",\"2022-09-29T00:00:00\",\"2022-09-30T00:00:00\"],\"y\":[0.0,-0.4488868792299927,-0.9308864731922939,-0.8878303299743262,-0.9859069119175778,-0.5432980816325705,-1.745990505266437,-1.2953180066339498,-1.9594805090217826,-2.068887113063067,-1.6688659040168252,-1.516791072632806,-1.1907997709490026,-1.3273309500174357,-2.0126278733724967,-2.042150530300335,-1.710476973643904,-0.3569770428116459,0.6293654663736881,-0.005781081294986556,0.17942359532494567,0.9610151435847314,0.3840265484386096,0.7640434080072422,-0.7157772244621441,-1.6250630817134182,-1.730487091544497,-3.1262043747373514,-3.1134340024567386,-2.373571616335435,-2.079914632001034,-1.3089399161811732,-1.6816662751053424,-2.169927569046304,-1.087913718639899,-1.2685942891168978,-1.7208373504488783,-1.9705283293509068,-1.3363340373103716,-1.0316963945423252,-1.3656474097538784,-1.2977180781728936,-1.309194578463324,-2.87776156180396,-3.4339792534671676,-3.6708198000631076,-4.142871397687964,-4.773062146025642,-4.401049843264682,-3.943144937913201,-4.822445774794836,-4.710612894234856,-5.224835322206578,-4.399609152265471,-5.0944557782562905,-6.196721369637947,-5.913998019059941,-5.920446699924254,-6.206915876823549,-5.535789386283973,-6.672559005930978,-7.243085208516908,-7.1388414850181325,-6.245955991305651,-8.093207689364334,-8.710180644985288,-9.71684681025794,-9.193996214008438,-8.471271881875476,-8.407897013161204,-8.449846607040179,-8.401438344026813,-8.500775055669996,-8.449319887076323,-8.364871300469733,-7.845801014446785,-8.15101182008624,-7.387191644468471,-6.901063761298099,-6.5731412041170945,-6.196765940200388,-7.184728558606035,-7.514089889246756,-6.927322356825116,-7.226106405130739,-8.038756259609748,-7.90053077467574,-8.356753691351738,-8.889172248518861,-9.580143580761346,-11.621421910542972,-12.626995697405796,-11.572377571172021,-11.924110528748022,-12.364282310623143,-12.387330603824353,-11.380178175545586,-11.098858261885947,-11.275971611860914,-11.847985168552167,-12.013568927289542,-11.679840756042736,-11.513762062764854,-11.105000900226425,-11.305219302108583,-12.068669227518436,-11.918136200504614,-12.314115121415725,-11.854372590219919,-12.268697879608602,-11.804827735643997,-12.071696728148396,-11.554497191242408,-11.681562294294324,-11.36008655084877,-11.339014881819786,-10.54767337388225,-10.064768395459067,-10.254921273506856,-10.2863545545819,-9.728770262577434,-9.140558968547108,-9.041042731611137,-8.350364845204183,-9.335962648438167,-8.529944863469542,-8.48470584678751,-9.496486762253065,-8.884478629987736,-8.796572076414488,-8.552179054439424,-9.187905170750078,-8.65201040894441,-8.912819343278223,-8.972466820556257,-9.653424114384034,-9.585694662488297,-10.340197141017725,-10.580823841337239,-10.559189627897359,-10.941259290442652,-10.212166881794948,-10.403576964212247,-10.954125108043122,-11.404768859548131,-12.123912250676238,-12.97558440907276,-12.927347225984375,-13.905789481415521,-12.917770755566437,-13.377077946871118,-12.877940103774744,-12.931609125208999,-13.823434784706535,-13.601355774129697,-14.32767553782812,-14.739937688709048,-14.78647242603942,-15.721680290498096,-15.407925197554706,-16.77134742523303,-17.305760189627474,-18.488059062595084,-19.19769881944271,-17.401957934313984,-17.89210642458604,-18.584732870664645],\"type\":\"scatter\"},{\"line\":{\"width\":1},\"name\":\"Portfolio2\",\"x\":[\"2022-02-02T00:00:00\",\"2022-02-03T00:00:00\",\"2022-02-04T00:00:00\",\"2022-02-07T00:00:00\",\"2022-02-08T00:00:00\",\"2022-02-09T00:00:00\",\"2022-02-10T00:00:00\",\"2022-02-11T00:00:00\",\"2022-02-14T00:00:00\",\"2022-02-15T00:00:00\",\"2022-02-16T00:00:00\",\"2022-02-17T00:00:00\",\"2022-02-18T00:00:00\",\"2022-02-22T00:00:00\",\"2022-02-23T00:00:00\",\"2022-02-24T00:00:00\",\"2022-02-25T00:00:00\",\"2022-02-28T00:00:00\",\"2022-03-01T00:00:00\",\"2022-03-02T00:00:00\",\"2022-03-03T00:00:00\",\"2022-03-04T00:00:00\",\"2022-03-07T00:00:00\",\"2022-03-08T00:00:00\",\"2022-03-09T00:00:00\",\"2022-03-10T00:00:00\",\"2022-03-11T00:00:00\",\"2022-03-14T00:00:00\",\"2022-03-15T00:00:00\",\"2022-03-16T00:00:00\",\"2022-03-17T00:00:00\",\"2022-03-18T00:00:00\",\"2022-03-21T00:00:00\",\"2022-03-22T00:00:00\",\"2022-03-23T00:00:00\",\"2022-03-24T00:00:00\",\"2022-03-25T00:00:00\",\"2022-03-28T00:00:00\",\"2022-03-29T00:00:00\",\"2022-03-30T00:00:00\",\"2022-03-31T00:00:00\",\"2022-04-01T00:00:00\",\"2022-04-04T00:00:00\",\"2022-04-05T00:00:00\",\"2022-04-06T00:00:00\",\"2022-04-07T00:00:00\",\"2022-04-08T00:00:00\",\"2022-04-11T00:00:00\",\"2022-04-12T00:00:00\",\"2022-04-13T00:00:00\",\"2022-04-14T00:00:00\",\"2022-04-18T00:00:00\",\"2022-04-19T00:00:00\",\"2022-04-20T00:00:00\",\"2022-04-21T00:00:00\",\"2022-04-22T00:00:00\",\"2022-04-25T00:00:00\",\"2022-04-26T00:00:00\",\"2022-04-27T00:00:00\",\"2022-04-28T00:00:00\",\"2022-04-29T00:00:00\",\"2022-05-02T00:00:00\",\"2022-05-03T00:00:00\",\"2022-05-04T00:00:00\",\"2022-05-05T00:00:00\",\"2022-05-06T00:00:00\",\"2022-05-09T00:00:00\",\"2022-05-10T00:00:00\",\"2022-05-11T00:00:00\",\"2022-05-12T00:00:00\",\"2022-05-13T00:00:00\",\"2022-05-16T00:00:00\",\"2022-05-17T00:00:00\",\"2022-05-18T00:00:00\",\"2022-05-19T00:00:00\",\"2022-05-20T00:00:00\",\"2022-05-23T00:00:00\",\"2022-05-24T00:00:00\",\"2022-05-25T00:00:00\",\"2022-05-26T00:00:00\",\"2022-05-27T00:00:00\",\"2022-05-31T00:00:00\",\"2022-06-01T00:00:00\",\"2022-06-02T00:00:00\",\"2022-06-03T00:00:00\",\"2022-06-06T00:00:00\",\"2022-06-07T00:00:00\",\"2022-06-08T00:00:00\",\"2022-06-09T00:00:00\",\"2022-06-10T00:00:00\",\"2022-06-13T00:00:00\",\"2022-06-14T00:00:00\",\"2022-06-15T00:00:00\",\"2022-06-16T00:00:00\",\"2022-06-17T00:00:00\",\"2022-06-21T00:00:00\",\"2022-06-22T00:00:00\",\"2022-06-23T00:00:00\",\"2022-06-24T00:00:00\",\"2022-06-27T00:00:00\",\"2022-06-28T00:00:00\",\"2022-06-29T00:00:00\",\"2022-06-30T00:00:00\",\"2022-07-01T00:00:00\",\"2022-07-05T00:00:00\",\"2022-07-06T00:00:00\",\"2022-07-07T00:00:00\",\"2022-07-08T00:00:00\",\"2022-07-11T00:00:00\",\"2022-07-12T00:00:00\",\"2022-07-13T00:00:00\",\"2022-07-14T00:00:00\",\"2022-07-15T00:00:00\",\"2022-07-18T00:00:00\",\"2022-07-19T00:00:00\",\"2022-07-20T00:00:00\",\"2022-07-21T00:00:00\",\"2022-07-22T00:00:00\",\"2022-07-25T00:00:00\",\"2022-07-26T00:00:00\",\"2022-07-27T00:00:00\",\"2022-07-28T00:00:00\",\"2022-07-29T00:00:00\",\"2022-08-01T00:00:00\",\"2022-08-02T00:00:00\",\"2022-08-03T00:00:00\",\"2022-08-04T00:00:00\",\"2022-08-05T00:00:00\",\"2022-08-08T00:00:00\",\"2022-08-09T00:00:00\",\"2022-08-10T00:00:00\",\"2022-08-11T00:00:00\",\"2022-08-12T00:00:00\",\"2022-08-15T00:00:00\",\"2022-08-16T00:00:00\",\"2022-08-17T00:00:00\",\"2022-08-18T00:00:00\",\"2022-08-19T00:00:00\",\"2022-08-22T00:00:00\",\"2022-08-23T00:00:00\",\"2022-08-24T00:00:00\",\"2022-08-25T00:00:00\",\"2022-08-26T00:00:00\",\"2022-08-29T00:00:00\",\"2022-08-30T00:00:00\",\"2022-08-31T00:00:00\",\"2022-09-01T00:00:00\",\"2022-09-02T00:00:00\",\"2022-09-06T00:00:00\",\"2022-09-07T00:00:00\",\"2022-09-08T00:00:00\",\"2022-09-09T00:00:00\",\"2022-09-12T00:00:00\",\"2022-09-13T00:00:00\",\"2022-09-14T00:00:00\",\"2022-09-15T00:00:00\",\"2022-09-16T00:00:00\",\"2022-09-19T00:00:00\",\"2022-09-20T00:00:00\",\"2022-09-21T00:00:00\",\"2022-09-22T00:00:00\",\"2022-09-23T00:00:00\",\"2022-09-26T00:00:00\",\"2022-09-27T00:00:00\",\"2022-09-28T00:00:00\",\"2022-09-29T00:00:00\",\"2022-09-30T00:00:00\"],\"y\":[0.0,-0.8251186667410315,-0.9958548567350789,-0.8568814832212945,-0.7157020594423358,-0.18475991291452276,-1.0937840154167322,-0.7366643400778972,-0.9931951296638375,-1.076771227250506,-0.6497420738836857,-0.6796014974620679,-0.6352968393291358,-0.7910702650265389,-1.4447516662449589,-1.1938652253741355,-0.7398449288002817,0.03246559396081761,0.42761982272199184,-0.2536971884756323,-0.031476698262600245,0.5748592322741386,0.06044762616863597,0.43982335692727137,-0.006791884331691644,-0.3713584090932587,-0.8061762216437285,-1.9982088155184319,-2.0730984454457757,-1.09221421952731,-0.8166996202384147,-0.48889329070936904,-0.8528258235242392,-1.040857096139447,-0.5132382141968095,-0.15136427659075968,-0.4807785876622783,-0.6173884147288811,-0.05366285660318715,0.13855178559889492,-0.17519568206102454,-0.15776840782280033,0.017599686563918304,-1.0434702752582958,-1.4464253573206798,-1.4223375999789067,-1.5756112357100949,-2.1713363995325974,-2.0681374225724025,-1.5787170034901599,-2.4037789747089477,-2.463849715065791,-2.615418495856481,-2.0866339913020004,-2.740540418572013,-3.793417387590703,-3.9313126534896603,-4.348290589308412,-4.778819489501296,-4.04390416359467,-5.189239200311546,-5.867171096910207,-5.554348964276235,-4.511556893655488,-6.051386470502895,-6.490735212660981,-7.4887368461027615,-7.47763581657277,-7.268936089831934,-7.674544434567798,-7.612234946955798,-7.50568976461069,-7.445904747821919,-7.872642326362145,-7.5438673420555435,-7.2912065531714365,-7.153047696864723,-6.774017563577761,-6.605016487855952,-6.298627569550264,-5.679232229736497,-6.566636172421281,-6.5767524235299195,-5.791090288686684,-6.466974538839699,-6.8888955618689796,-6.263992748102409,-6.720493117629411,-7.270479038470967,-7.711417715917235,-9.892809819833492,-10.400622380670466,-9.416464089279852,-9.692659120048951,-9.766738750984228,-9.707095324365111,-9.070856591052001,-8.875839750565861,-8.517307977456912,-8.780958739908751,-9.163822896369622,-8.905734313917968,-9.058081665475747,-8.654271676887381,-8.947134312208249,-9.63946624475106,-9.45933805284338,-9.696966607058787,-9.748374531054383,-9.90108722297791,-9.643909956037078,-10.237636861293542,-9.77085968905158,-10.108715343358599,-9.577916428893928,-9.57281632249849,-8.66889036312356,-8.496962683155129,-8.74094147572203,-9.021264747512102,-8.334358153057398,-7.588306393928956,-7.271017742537566,-6.682569440421105,-7.397517431179946,-6.652400170110139,-6.273158580212057,-7.05809165213206,-6.493372716650924,-6.64566740016398,-6.326372994391683,-6.875272048544733,-6.0366617899511805,-6.285052235708122,-6.189661869267038,-6.775314740107619,-6.7365405940849605,-7.57877984101728,-8.29923588064485,-8.290193016984993,-8.261308703153103,-7.579824602065999,-8.48746077906033,-8.80267235191743,-9.196352763192007,-9.727172453398158,-10.279898332050418,-10.176598284199756,-10.887730505457638,-9.947843962860192,-10.11090399166269,-9.578260066844269,-9.378682822979023,-10.610053248511742,-10.550248948648221,-11.223304226196962,-11.452049347983861,-11.238750648941275,-11.813250220811899,-11.746629610625591,-12.473304548109887,-13.150536897030173,-14.001111642627361,-14.462525329479359,-12.970846605833064,-13.49016465273991,-13.998650577635397],\"type\":\"scatter\"},{\"line\":{\"width\":1},\"name\":\"Portfolio3\",\"x\":[\"2022-02-02T00:00:00\",\"2022-02-03T00:00:00\",\"2022-02-04T00:00:00\",\"2022-02-07T00:00:00\",\"2022-02-08T00:00:00\",\"2022-02-09T00:00:00\",\"2022-02-10T00:00:00\",\"2022-02-11T00:00:00\",\"2022-02-14T00:00:00\",\"2022-02-15T00:00:00\",\"2022-02-16T00:00:00\",\"2022-02-17T00:00:00\",\"2022-02-18T00:00:00\",\"2022-02-22T00:00:00\",\"2022-02-23T00:00:00\",\"2022-02-24T00:00:00\",\"2022-02-25T00:00:00\",\"2022-02-28T00:00:00\",\"2022-03-01T00:00:00\",\"2022-03-02T00:00:00\",\"2022-03-03T00:00:00\",\"2022-03-04T00:00:00\",\"2022-03-07T00:00:00\",\"2022-03-08T00:00:00\",\"2022-03-09T00:00:00\",\"2022-03-10T00:00:00\",\"2022-03-11T00:00:00\",\"2022-03-14T00:00:00\",\"2022-03-15T00:00:00\",\"2022-03-16T00:00:00\",\"2022-03-17T00:00:00\",\"2022-03-18T00:00:00\",\"2022-03-21T00:00:00\",\"2022-03-22T00:00:00\",\"2022-03-23T00:00:00\",\"2022-03-24T00:00:00\",\"2022-03-25T00:00:00\",\"2022-03-28T00:00:00\",\"2022-03-29T00:00:00\",\"2022-03-30T00:00:00\",\"2022-03-31T00:00:00\",\"2022-04-01T00:00:00\",\"2022-04-04T00:00:00\",\"2022-04-05T00:00:00\",\"2022-04-06T00:00:00\",\"2022-04-07T00:00:00\",\"2022-04-08T00:00:00\",\"2022-04-11T00:00:00\",\"2022-04-12T00:00:00\",\"2022-04-13T00:00:00\",\"2022-04-14T00:00:00\",\"2022-04-18T00:00:00\",\"2022-04-19T00:00:00\",\"2022-04-20T00:00:00\",\"2022-04-21T00:00:00\",\"2022-04-22T00:00:00\",\"2022-04-25T00:00:00\",\"2022-04-26T00:00:00\",\"2022-04-27T00:00:00\",\"2022-04-28T00:00:00\",\"2022-04-29T00:00:00\",\"2022-05-02T00:00:00\",\"2022-05-03T00:00:00\",\"2022-05-04T00:00:00\",\"2022-05-05T00:00:00\",\"2022-05-06T00:00:00\",\"2022-05-09T00:00:00\",\"2022-05-10T00:00:00\",\"2022-05-11T00:00:00\",\"2022-05-12T00:00:00\",\"2022-05-13T00:00:00\",\"2022-05-16T00:00:00\",\"2022-05-17T00:00:00\",\"2022-05-18T00:00:00\",\"2022-05-19T00:00:00\",\"2022-05-20T00:00:00\",\"2022-05-23T00:00:00\",\"2022-05-24T00:00:00\",\"2022-05-25T00:00:00\",\"2022-05-26T00:00:00\",\"2022-05-27T00:00:00\",\"2022-05-31T00:00:00\",\"2022-06-01T00:00:00\",\"2022-06-02T00:00:00\",\"2022-06-03T00:00:00\",\"2022-06-06T00:00:00\",\"2022-06-07T00:00:00\",\"2022-06-08T00:00:00\",\"2022-06-09T00:00:00\",\"2022-06-10T00:00:00\",\"2022-06-13T00:00:00\",\"2022-06-14T00:00:00\",\"2022-06-15T00:00:00\",\"2022-06-16T00:00:00\",\"2022-06-17T00:00:00\",\"2022-06-21T00:00:00\",\"2022-06-22T00:00:00\",\"2022-06-23T00:00:00\",\"2022-06-24T00:00:00\",\"2022-06-27T00:00:00\",\"2022-06-28T00:00:00\",\"2022-06-29T00:00:00\",\"2022-06-30T00:00:00\",\"2022-07-01T00:00:00\",\"2022-07-05T00:00:00\",\"2022-07-06T00:00:00\",\"2022-07-07T00:00:00\",\"2022-07-08T00:00:00\",\"2022-07-11T00:00:00\",\"2022-07-12T00:00:00\",\"2022-07-13T00:00:00\",\"2022-07-14T00:00:00\",\"2022-07-15T00:00:00\",\"2022-07-18T00:00:00\",\"2022-07-19T00:00:00\",\"2022-07-20T00:00:00\",\"2022-07-21T00:00:00\",\"2022-07-22T00:00:00\",\"2022-07-25T00:00:00\",\"2022-07-26T00:00:00\",\"2022-07-27T00:00:00\",\"2022-07-28T00:00:00\",\"2022-07-29T00:00:00\",\"2022-08-01T00:00:00\",\"2022-08-02T00:00:00\",\"2022-08-03T00:00:00\",\"2022-08-04T00:00:00\",\"2022-08-05T00:00:00\",\"2022-08-08T00:00:00\",\"2022-08-09T00:00:00\",\"2022-08-10T00:00:00\",\"2022-08-11T00:00:00\",\"2022-08-12T00:00:00\",\"2022-08-15T00:00:00\",\"2022-08-16T00:00:00\",\"2022-08-17T00:00:00\",\"2022-08-18T00:00:00\",\"2022-08-19T00:00:00\",\"2022-08-22T00:00:00\",\"2022-08-23T00:00:00\",\"2022-08-24T00:00:00\",\"2022-08-25T00:00:00\",\"2022-08-26T00:00:00\",\"2022-08-29T00:00:00\",\"2022-08-30T00:00:00\",\"2022-08-31T00:00:00\",\"2022-09-01T00:00:00\",\"2022-09-02T00:00:00\",\"2022-09-06T00:00:00\",\"2022-09-07T00:00:00\",\"2022-09-08T00:00:00\",\"2022-09-09T00:00:00\",\"2022-09-12T00:00:00\",\"2022-09-13T00:00:00\",\"2022-09-14T00:00:00\",\"2022-09-15T00:00:00\",\"2022-09-16T00:00:00\",\"2022-09-19T00:00:00\",\"2022-09-20T00:00:00\",\"2022-09-21T00:00:00\",\"2022-09-22T00:00:00\",\"2022-09-23T00:00:00\",\"2022-09-26T00:00:00\",\"2022-09-27T00:00:00\",\"2022-09-28T00:00:00\",\"2022-09-29T00:00:00\",\"2022-09-30T00:00:00\"],\"y\":[0.0,-0.9529591899691714,-1.1332893378100395,-0.9827139919660888,-0.5716692125669942,0.15358674991257093,-0.9131017314988998,-0.7396478450248156,-1.1307765701156325,-0.7508922672050167,-0.25268800364356414,-0.6534776572063805,-0.6826279248848155,-1.1244373415748132,-1.944908561876868,-1.5658190237446967,-0.634814447976495,0.03223418575508674,-0.05227244202565817,-0.10358405432252527,-0.015883266192506795,0.20012990795132968,-0.8918366971704228,-0.5610467605058678,-0.46755673819373067,-0.694754289610211,-1.2209343959426078,-2.3523019659061672,-2.1729587536041928,-0.9639472642864355,-0.5482283542126654,-0.18442965065070815,-0.5623389881399654,-0.6228200361120262,-0.4629543877753495,0.0075156956848676515,-0.08299931682096418,-0.2912027247437776,0.5649239539510464,0.424406798167265,-0.09582517810318159,0.007093028226856646,0.0835946669187404,-1.1604828798062572,-1.6368535614839308,-1.6556681055812206,-1.7625245661304523,-2.300406010003919,-2.143998711376338,-1.4122949954929354,-2.1797701974479833,-2.253225999298669,-2.015529130368865,-1.4226247712499807,-2.3501019370797405,-3.732235206503154,-3.7688465127063364,-4.581316523626466,-4.938644849761387,-4.0048341553603155,-5.496379110569938,-5.969214382870591,-5.429114632110998,-4.0240063524624725,-5.928306273606454,-6.4840699873516705,-7.864400840628982,-8.011213143746176,-8.128533983880226,-8.298104869270173,-7.810726687701186,-7.719637950635827,-7.146764749414835,-8.16225538710712,-7.9600362435924605,-7.820351914563561,-7.455827944567972,-7.280855497601513,-6.763494780393254,-6.103749547152271,-5.199936230388779,-6.132121031313598,-6.286090783020281,-5.318357973133281,-6.032355771683684,-6.251812953552049,-5.5198848763414965,-6.257706095680426,-7.137618138895741,-8.081508419693417,-10.801760271735894,-11.31087499472333,-10.261074664416158,-11.307618063124991,-11.278893357253416,-10.982683534848547,-10.494692518269167,-10.298604141540524,-9.419755963032072,-9.569121067917841,-10.080411373236043,-10.049601646280736,-10.267678187209162,-9.637089062730485,-9.96936251806323,-10.71630693302975,-10.24704766696727,-10.529705517919973,-10.743179519376566,-10.849046738038759,-10.732195866984807,-11.432170817535702,-10.700734917355149,-10.96533442215959,-9.981250241067608,-9.820947882440068,-8.996415973889793,-8.942068033232175,-8.980186594121664,-9.31883165373345,-8.435432185740943,-7.510253164760017,-7.048748961798534,-6.590493323487623,-7.448927947493045,-6.7129487460568456,-6.511539743372485,-7.132131966771016,-6.508549202941305,-6.767212178414084,-6.082267457944212,-6.339576725387419,-5.372164237832711,-5.5428066866276104,-5.328984597321362,-6.063590134381358,-5.874211118264105,-6.877024080592764,-7.895540133293688,-7.859305714038567,-7.785926570201884,-6.909278424342391,-8.192829284220693,-8.566461558815641,-9.171744735688714,-9.738406820340773,-10.344722755547497,-10.29747308493324,-11.073394785047363,-9.945457996803453,-9.94188301478356,-9.195347611050785,-8.83179638918653,-10.6070196195579,-10.590907494676072,-11.266852205248757,-11.675927133823095,-11.29804149794803,-12.045932801243941,-12.273625971201696,-13.254906286874702,-14.231636226055889,-15.252705159888391,-15.643657925846133,-13.932488331072923,-14.742879718526346,-15.281100144326576],\"type\":\"scatter\"},{\"line\":{\"width\":1},\"name\":\"Portfolio4\",\"x\":[\"2022-02-02T00:00:00\",\"2022-02-03T00:00:00\",\"2022-02-04T00:00:00\",\"2022-02-07T00:00:00\",\"2022-02-08T00:00:00\",\"2022-02-09T00:00:00\",\"2022-02-10T00:00:00\",\"2022-02-11T00:00:00\",\"2022-02-14T00:00:00\",\"2022-02-15T00:00:00\",\"2022-02-16T00:00:00\",\"2022-02-17T00:00:00\",\"2022-02-18T00:00:00\",\"2022-02-22T00:00:00\",\"2022-02-23T00:00:00\",\"2022-02-24T00:00:00\",\"2022-02-25T00:00:00\",\"2022-02-28T00:00:00\",\"2022-03-01T00:00:00\",\"2022-03-02T00:00:00\",\"2022-03-03T00:00:00\",\"2022-03-04T00:00:00\",\"2022-03-07T00:00:00\",\"2022-03-08T00:00:00\",\"2022-03-09T00:00:00\",\"2022-03-10T00:00:00\",\"2022-03-11T00:00:00\",\"2022-03-14T00:00:00\",\"2022-03-15T00:00:00\",\"2022-03-16T00:00:00\",\"2022-03-17T00:00:00\",\"2022-03-18T00:00:00\",\"2022-03-21T00:00:00\",\"2022-03-22T00:00:00\",\"2022-03-23T00:00:00\",\"2022-03-24T00:00:00\",\"2022-03-25T00:00:00\",\"2022-03-28T00:00:00\",\"2022-03-29T00:00:00\",\"2022-03-30T00:00:00\",\"2022-03-31T00:00:00\",\"2022-04-01T00:00:00\",\"2022-04-04T00:00:00\",\"2022-04-05T00:00:00\",\"2022-04-06T00:00:00\",\"2022-04-07T00:00:00\",\"2022-04-08T00:00:00\",\"2022-04-11T00:00:00\",\"2022-04-12T00:00:00\",\"2022-04-13T00:00:00\",\"2022-04-14T00:00:00\",\"2022-04-18T00:00:00\",\"2022-04-19T00:00:00\",\"2022-04-20T00:00:00\",\"2022-04-21T00:00:00\",\"2022-04-22T00:00:00\",\"2022-04-25T00:00:00\",\"2022-04-26T00:00:00\",\"2022-04-27T00:00:00\",\"2022-04-28T00:00:00\",\"2022-04-29T00:00:00\",\"2022-05-02T00:00:00\",\"2022-05-03T00:00:00\",\"2022-05-04T00:00:00\",\"2022-05-05T00:00:00\",\"2022-05-06T00:00:00\",\"2022-05-09T00:00:00\",\"2022-05-10T00:00:00\",\"2022-05-11T00:00:00\",\"2022-05-12T00:00:00\",\"2022-05-13T00:00:00\",\"2022-05-16T00:00:00\",\"2022-05-17T00:00:00\",\"2022-05-18T00:00:00\",\"2022-05-19T00:00:00\",\"2022-05-20T00:00:00\",\"2022-05-23T00:00:00\",\"2022-05-24T00:00:00\",\"2022-05-25T00:00:00\",\"2022-05-26T00:00:00\",\"2022-05-27T00:00:00\",\"2022-05-31T00:00:00\",\"2022-06-01T00:00:00\",\"2022-06-02T00:00:00\",\"2022-06-03T00:00:00\",\"2022-06-06T00:00:00\",\"2022-06-07T00:00:00\",\"2022-06-08T00:00:00\",\"2022-06-09T00:00:00\",\"2022-06-10T00:00:00\",\"2022-06-13T00:00:00\",\"2022-06-14T00:00:00\",\"2022-06-15T00:00:00\",\"2022-06-16T00:00:00\",\"2022-06-17T00:00:00\",\"2022-06-21T00:00:00\",\"2022-06-22T00:00:00\",\"2022-06-23T00:00:00\",\"2022-06-24T00:00:00\",\"2022-06-27T00:00:00\",\"2022-06-28T00:00:00\",\"2022-06-29T00:00:00\",\"2022-06-30T00:00:00\",\"2022-07-01T00:00:00\",\"2022-07-05T00:00:00\",\"2022-07-06T00:00:00\",\"2022-07-07T00:00:00\",\"2022-07-08T00:00:00\",\"2022-07-11T00:00:00\",\"2022-07-12T00:00:00\",\"2022-07-13T00:00:00\",\"2022-07-14T00:00:00\",\"2022-07-15T00:00:00\",\"2022-07-18T00:00:00\",\"2022-07-19T00:00:00\",\"2022-07-20T00:00:00\",\"2022-07-21T00:00:00\",\"2022-07-22T00:00:00\",\"2022-07-25T00:00:00\",\"2022-07-26T00:00:00\",\"2022-07-27T00:00:00\",\"2022-07-28T00:00:00\",\"2022-07-29T00:00:00\",\"2022-08-01T00:00:00\",\"2022-08-02T00:00:00\",\"2022-08-03T00:00:00\",\"2022-08-04T00:00:00\",\"2022-08-05T00:00:00\",\"2022-08-08T00:00:00\",\"2022-08-09T00:00:00\",\"2022-08-10T00:00:00\",\"2022-08-11T00:00:00\",\"2022-08-12T00:00:00\",\"2022-08-15T00:00:00\",\"2022-08-16T00:00:00\",\"2022-08-17T00:00:00\",\"2022-08-18T00:00:00\",\"2022-08-19T00:00:00\",\"2022-08-22T00:00:00\",\"2022-08-23T00:00:00\",\"2022-08-24T00:00:00\",\"2022-08-25T00:00:00\",\"2022-08-26T00:00:00\",\"2022-08-29T00:00:00\",\"2022-08-30T00:00:00\",\"2022-08-31T00:00:00\",\"2022-09-01T00:00:00\",\"2022-09-02T00:00:00\",\"2022-09-06T00:00:00\",\"2022-09-07T00:00:00\",\"2022-09-08T00:00:00\",\"2022-09-09T00:00:00\",\"2022-09-12T00:00:00\",\"2022-09-13T00:00:00\",\"2022-09-14T00:00:00\",\"2022-09-15T00:00:00\",\"2022-09-16T00:00:00\",\"2022-09-19T00:00:00\",\"2022-09-20T00:00:00\",\"2022-09-21T00:00:00\",\"2022-09-22T00:00:00\",\"2022-09-23T00:00:00\",\"2022-09-26T00:00:00\",\"2022-09-27T00:00:00\",\"2022-09-28T00:00:00\",\"2022-09-29T00:00:00\",\"2022-09-30T00:00:00\"],\"y\":[0.0,-1.5212751980806516,-1.3503132057683054,-1.480055557208948,-1.0284848602091778,-0.063477637215692,-1.3918407222676787,-2.2802104318004446,-2.664416465917674,-1.6657458370418876,-1.5321185111215496,-2.765445832464264,-3.176618140916576,-3.8685605825595437,-5.00699212895146,-3.9584531206235063,-2.7107997854789234,-2.5210546672729484,-3.1560428698130583,-2.4418528887499846,-2.8100381526710017,-3.194442033316869,-5.0828270859258895,-5.554162041931798,-4.156726610994099,-4.513869194590258,-5.310161835851501,-6.142491294376596,-5.009599248389895,-3.68107552240563,-2.945851719718817,-2.245647757187652,-2.6286681438066783,-2.0256115779938577,-2.6925249286320674,-1.9620952250725687,-2.0018498014370056,-1.5957059196763712,-0.590563782406639,-0.9998122962560974,-1.912888027601789,-1.8715975276292762,-1.3356197379887247,-2.4826407627259517,-3.1654863444234627,-2.91151448628052,-3.2146831897788775,-4.180379054629723,-4.168756501147941,-3.355795834843267,-4.275902794765829,-4.410064654180079,-3.5939626196170527,-3.552950426900092,-4.665287412361973,-6.219257704853609,-5.767845974543739,-7.2004986357546485,-7.184829320401698,-5.90478105171951,-8.111161255522637,-7.840540430839338,-7.56572836344187,-5.7538535460911255,-8.032946021569709,-8.5552146938922,-10.256442537651678,-10.113858036304213,-10.989320641437883,-10.830050960105542,-9.547656857599318,-9.708662972364213,-8.812813459520019,-10.792556216632022,-10.919001047993005,-10.84313584049913,-10.086272121191165,-10.395098843764716,-9.749433394591723,-8.687777284336084,-7.336692372092546,-7.973753669267147,-8.500103432209194,-7.371701380265206,-8.299320590598692,-8.291602017809542,-7.635950230064736,-8.314597686305913,-9.651325752890315,-11.522764327807455,-14.028180585856154,-14.321879176986329,-13.278039270721331,-14.873953750333346,-14.728234207769898,-13.643097001076022,-13.363017613812556,-12.780691396475163,-11.226384196556605,-11.50106054459722,-12.551212996262784,-12.464412497851685,-12.695863009127228,-11.859912379747751,-11.640128449395448,-11.771512427078235,-11.07765889926945,-11.256874657478766,-11.760526556516037,-12.139555525785095,-12.348076461626711,-12.685898975862308,-11.655387233221337,-12.058578457589686,-10.763591894750457,-10.38077729354442,-9.571400313485812,-9.881692751266124,-9.877282594683424,-10.533497520132695,-9.07884603188137,-8.156277193068872,-7.419174815898133,-7.487231898460578,-8.137105796536959,-7.203158526172171,-7.125683778135494,-7.515068779022038,-7.3510048020015155,-7.783890259426185,-6.4896282567796,-6.601152114618758,-5.566843259477306,-5.26692658276623,-5.219029414553445,-5.8808157701537915,-5.679812305987886,-6.6162215286539094,-7.917108170892373,-8.048085529810923,-7.895659222944962,-6.997208684347045,-8.89090350442826,-9.390101436827115,-9.993795709438603,-10.462369817549611,-10.560385821027364,-10.909573238419357,-11.345136940681444,-10.23869075616638,-9.922089747123797,-9.07016745087883,-8.511337972954802,-11.05341406446685,-10.88608322572665,-11.53502385318319,-11.948053952297066,-11.664941970442811,-12.3686093326011,-13.219003022313213,-14.076946897121745,-14.9903518395615,-15.84069754839893,-16.010345481265286,-14.507921188179484,-15.637263498322195,-16.374543073151273],\"type\":\"scatter\"},{\"line\":{\"width\":1},\"name\":\"Portfolio5\",\"x\":[\"2022-02-02T00:00:00\",\"2022-02-03T00:00:00\",\"2022-02-04T00:00:00\",\"2022-02-07T00:00:00\",\"2022-02-08T00:00:00\",\"2022-02-09T00:00:00\",\"2022-02-10T00:00:00\",\"2022-02-11T00:00:00\",\"2022-02-14T00:00:00\",\"2022-02-15T00:00:00\",\"2022-02-16T00:00:00\",\"2022-02-17T00:00:00\",\"2022-02-18T00:00:00\",\"2022-02-22T00:00:00\",\"2022-02-23T00:00:00\",\"2022-02-24T00:00:00\",\"2022-02-25T00:00:00\",\"2022-02-28T00:00:00\",\"2022-03-01T00:00:00\",\"2022-03-02T00:00:00\",\"2022-03-03T00:00:00\",\"2022-03-04T00:00:00\",\"2022-03-07T00:00:00\",\"2022-03-08T00:00:00\",\"2022-03-09T00:00:00\",\"2022-03-10T00:00:00\",\"2022-03-11T00:00:00\",\"2022-03-14T00:00:00\",\"2022-03-15T00:00:00\",\"2022-03-16T00:00:00\",\"2022-03-17T00:00:00\",\"2022-03-18T00:00:00\",\"2022-03-21T00:00:00\",\"2022-03-22T00:00:00\",\"2022-03-23T00:00:00\",\"2022-03-24T00:00:00\",\"2022-03-25T00:00:00\",\"2022-03-28T00:00:00\",\"2022-03-29T00:00:00\",\"2022-03-30T00:00:00\",\"2022-03-31T00:00:00\",\"2022-04-01T00:00:00\",\"2022-04-04T00:00:00\",\"2022-04-05T00:00:00\",\"2022-04-06T00:00:00\",\"2022-04-07T00:00:00\",\"2022-04-08T00:00:00\",\"2022-04-11T00:00:00\",\"2022-04-12T00:00:00\",\"2022-04-13T00:00:00\",\"2022-04-14T00:00:00\",\"2022-04-18T00:00:00\",\"2022-04-19T00:00:00\",\"2022-04-20T00:00:00\",\"2022-04-21T00:00:00\",\"2022-04-22T00:00:00\",\"2022-04-25T00:00:00\",\"2022-04-26T00:00:00\",\"2022-04-27T00:00:00\",\"2022-04-28T00:00:00\",\"2022-04-29T00:00:00\",\"2022-05-02T00:00:00\",\"2022-05-03T00:00:00\",\"2022-05-04T00:00:00\",\"2022-05-05T00:00:00\",\"2022-05-06T00:00:00\",\"2022-05-09T00:00:00\",\"2022-05-10T00:00:00\",\"2022-05-11T00:00:00\",\"2022-05-12T00:00:00\",\"2022-05-13T00:00:00\",\"2022-05-16T00:00:00\",\"2022-05-17T00:00:00\",\"2022-05-18T00:00:00\",\"2022-05-19T00:00:00\",\"2022-05-20T00:00:00\",\"2022-05-23T00:00:00\",\"2022-05-24T00:00:00\",\"2022-05-25T00:00:00\",\"2022-05-26T00:00:00\",\"2022-05-27T00:00:00\",\"2022-05-31T00:00:00\",\"2022-06-01T00:00:00\",\"2022-06-02T00:00:00\",\"2022-06-03T00:00:00\",\"2022-06-06T00:00:00\",\"2022-06-07T00:00:00\",\"2022-06-08T00:00:00\",\"2022-06-09T00:00:00\",\"2022-06-10T00:00:00\",\"2022-06-13T00:00:00\",\"2022-06-14T00:00:00\",\"2022-06-15T00:00:00\",\"2022-06-16T00:00:00\",\"2022-06-17T00:00:00\",\"2022-06-21T00:00:00\",\"2022-06-22T00:00:00\",\"2022-06-23T00:00:00\",\"2022-06-24T00:00:00\",\"2022-06-27T00:00:00\",\"2022-06-28T00:00:00\",\"2022-06-29T00:00:00\",\"2022-06-30T00:00:00\",\"2022-07-01T00:00:00\",\"2022-07-05T00:00:00\",\"2022-07-06T00:00:00\",\"2022-07-07T00:00:00\",\"2022-07-08T00:00:00\",\"2022-07-11T00:00:00\",\"2022-07-12T00:00:00\",\"2022-07-13T00:00:00\",\"2022-07-14T00:00:00\",\"2022-07-15T00:00:00\",\"2022-07-18T00:00:00\",\"2022-07-19T00:00:00\",\"2022-07-20T00:00:00\",\"2022-07-21T00:00:00\",\"2022-07-22T00:00:00\",\"2022-07-25T00:00:00\",\"2022-07-26T00:00:00\",\"2022-07-27T00:00:00\",\"2022-07-28T00:00:00\",\"2022-07-29T00:00:00\",\"2022-08-01T00:00:00\",\"2022-08-02T00:00:00\",\"2022-08-03T00:00:00\",\"2022-08-04T00:00:00\",\"2022-08-05T00:00:00\",\"2022-08-08T00:00:00\",\"2022-08-09T00:00:00\",\"2022-08-10T00:00:00\",\"2022-08-11T00:00:00\",\"2022-08-12T00:00:00\",\"2022-08-15T00:00:00\",\"2022-08-16T00:00:00\",\"2022-08-17T00:00:00\",\"2022-08-18T00:00:00\",\"2022-08-19T00:00:00\",\"2022-08-22T00:00:00\",\"2022-08-23T00:00:00\",\"2022-08-24T00:00:00\",\"2022-08-25T00:00:00\",\"2022-08-26T00:00:00\",\"2022-08-29T00:00:00\",\"2022-08-30T00:00:00\",\"2022-08-31T00:00:00\",\"2022-09-01T00:00:00\",\"2022-09-02T00:00:00\",\"2022-09-06T00:00:00\",\"2022-09-07T00:00:00\",\"2022-09-08T00:00:00\",\"2022-09-09T00:00:00\",\"2022-09-12T00:00:00\",\"2022-09-13T00:00:00\",\"2022-09-14T00:00:00\",\"2022-09-15T00:00:00\",\"2022-09-16T00:00:00\",\"2022-09-19T00:00:00\",\"2022-09-20T00:00:00\",\"2022-09-21T00:00:00\",\"2022-09-22T00:00:00\",\"2022-09-23T00:00:00\",\"2022-09-26T00:00:00\",\"2022-09-27T00:00:00\",\"2022-09-28T00:00:00\",\"2022-09-29T00:00:00\",\"2022-09-30T00:00:00\"],\"y\":[0.0,-0.7779267047053007,-0.38844330919071135,-0.34220632046267907,-0.09972745504451819,0.587481605446305,-0.16462343314714856,0.19304163594739965,0.3158995917171614,0.30281264372344907,0.5970168819021238,0.4218615708557083,0.25182339815221777,0.07018874839734845,-0.2607810841976588,0.12668354090483724,0.46226278052496905,1.3956276220813413,1.9637766597441875,2.829571916996798,2.9307804302958873,3.633353342110124,3.6493894196985677,5.154373351768093,3.858821300032056,3.596788257215766,2.9541427106846374,1.8539889768627527,1.6948276904548143,2.6335517190140045,3.7903707400203546,3.484401037561957,3.9640583503250726,4.004221157211441,4.704614950029162,5.0806711901839385,5.248984738673568,4.111391090604055,4.792635473923146,4.974813363803343,3.7696654288689624,3.696349477290961,4.480324569586691,3.753971992490701,3.1842696623266775,3.506227133712936,3.7213262713788664,3.361986503111103,4.100959939083371,5.141706323327067,4.671869693889863,4.788590006247939,4.555292563514146,4.666758097595292,4.2743134604872335,3.0687464921607788,2.368890975507121,2.004398603599622,1.9246434260993261,3.0629343836404033,2.2054725866368585,2.162390824409388,2.2647648812666343,3.5786172773241143,2.4731237953682594,2.1849454887427955,-0.18444767142987706,-0.02454656285036938,0.16680739376462306,-0.08093988162382049,0.6292238044701026,1.1259121042329845,1.6586046106711327,0.0262579712124289,0.6032758071206068,0.35764615095372765,1.242056790902124,0.8660213467103217,1.2793933432731608,1.5822751976450666,2.459363077010157,1.963097407839487,1.8641563021292384,2.859145494355042,1.8472570792692045,1.9413253791037643,2.6616719709904313,2.28340539545413,1.7501541401525822,1.331952230964295,-0.6476062863272958,-1.1479677352698836,-0.24551040660495405,-0.33176692124623486,-0.6275328741091601,-0.22736513284895565,-0.6361455881933376,-0.6290992292196096,0.3873734430199116,0.37864890565926235,-0.0671159182578207,-0.20829728688650517,-0.910706005763462,-0.8166963011464579,-2.2057880850002376,-2.634638257766597,-1.5164976792600648,-1.6885841511179,-1.9174626496182845,-2.9079892706411536,-2.4787171880351178,-3.144368186311164,-2.759099352440475,-2.6980372579688217,-1.4412111651138204,-1.6244001900313054,-1.2177616352906595,-1.278427340245758,-1.0708866631541247,-1.3963571149842369,-0.49189223160570616,0.34987806616579853,0.7176894626824248,0.5295465320779735,0.1330615888366138,0.5451822141850915,0.7286160796415198,0.0693550879619309,0.634820198769459,0.7684238595765169,1.6797885928108158,1.6497901754549904,2.223525577947938,1.733601409674801,1.5153562698221767,1.3660667516678382,1.2682550732562747,0.9149092294420624,0.11114206322127007,0.7724829374219366,1.0522214464167234,1.4921815064872002,0.5491205405283806,0.7869238564225389,0.08575761221942813,-0.6983857750062494,-1.1775815544343593,-1.2452287535060114,-1.4353824257780423,-0.8605724262657932,-0.6502572387223293,0.05555820912137577,0.9847351831919537,-0.47060905284103116,-0.4186222041761334,-1.1975906381369028,-1.3953786197707485,-0.9087266137262517,-1.4904859543000581,-1.9197675268052272,-1.8008045212235424,-3.176522457732167,-3.8269831060296355,-3.996890871986647,-2.4686737604675324,-2.9749975075381685,-3.328289330218759],\"type\":\"scatter\"},{\"line\":{\"width\":1},\"name\":\"Portfolio6\",\"x\":[\"2022-02-02T00:00:00\",\"2022-02-03T00:00:00\",\"2022-02-04T00:00:00\",\"2022-02-07T00:00:00\",\"2022-02-08T00:00:00\",\"2022-02-09T00:00:00\",\"2022-02-10T00:00:00\",\"2022-02-11T00:00:00\",\"2022-02-14T00:00:00\",\"2022-02-15T00:00:00\",\"2022-02-16T00:00:00\",\"2022-02-17T00:00:00\",\"2022-02-18T00:00:00\",\"2022-02-22T00:00:00\",\"2022-02-23T00:00:00\",\"2022-02-24T00:00:00\",\"2022-02-25T00:00:00\",\"2022-02-28T00:00:00\",\"2022-03-01T00:00:00\",\"2022-03-02T00:00:00\",\"2022-03-03T00:00:00\",\"2022-03-04T00:00:00\",\"2022-03-07T00:00:00\",\"2022-03-08T00:00:00\",\"2022-03-09T00:00:00\",\"2022-03-10T00:00:00\",\"2022-03-11T00:00:00\",\"2022-03-14T00:00:00\",\"2022-03-15T00:00:00\",\"2022-03-16T00:00:00\",\"2022-03-17T00:00:00\",\"2022-03-18T00:00:00\",\"2022-03-21T00:00:00\",\"2022-03-22T00:00:00\",\"2022-03-23T00:00:00\",\"2022-03-24T00:00:00\",\"2022-03-25T00:00:00\",\"2022-03-28T00:00:00\",\"2022-03-29T00:00:00\",\"2022-03-30T00:00:00\",\"2022-03-31T00:00:00\",\"2022-04-01T00:00:00\",\"2022-04-04T00:00:00\",\"2022-04-05T00:00:00\",\"2022-04-06T00:00:00\",\"2022-04-07T00:00:00\",\"2022-04-08T00:00:00\",\"2022-04-11T00:00:00\",\"2022-04-12T00:00:00\",\"2022-04-13T00:00:00\",\"2022-04-14T00:00:00\",\"2022-04-18T00:00:00\",\"2022-04-19T00:00:00\",\"2022-04-20T00:00:00\",\"2022-04-21T00:00:00\",\"2022-04-22T00:00:00\",\"2022-04-25T00:00:00\",\"2022-04-26T00:00:00\",\"2022-04-27T00:00:00\",\"2022-04-28T00:00:00\",\"2022-04-29T00:00:00\",\"2022-05-02T00:00:00\",\"2022-05-03T00:00:00\",\"2022-05-04T00:00:00\",\"2022-05-05T00:00:00\",\"2022-05-06T00:00:00\",\"2022-05-09T00:00:00\",\"2022-05-10T00:00:00\",\"2022-05-11T00:00:00\",\"2022-05-12T00:00:00\",\"2022-05-13T00:00:00\",\"2022-05-16T00:00:00\",\"2022-05-17T00:00:00\",\"2022-05-18T00:00:00\",\"2022-05-19T00:00:00\",\"2022-05-20T00:00:00\",\"2022-05-23T00:00:00\",\"2022-05-24T00:00:00\",\"2022-05-25T00:00:00\",\"2022-05-26T00:00:00\",\"2022-05-27T00:00:00\",\"2022-05-31T00:00:00\",\"2022-06-01T00:00:00\",\"2022-06-02T00:00:00\",\"2022-06-03T00:00:00\",\"2022-06-06T00:00:00\",\"2022-06-07T00:00:00\",\"2022-06-08T00:00:00\",\"2022-06-09T00:00:00\",\"2022-06-10T00:00:00\",\"2022-06-13T00:00:00\",\"2022-06-14T00:00:00\",\"2022-06-15T00:00:00\",\"2022-06-16T00:00:00\",\"2022-06-17T00:00:00\",\"2022-06-21T00:00:00\",\"2022-06-22T00:00:00\",\"2022-06-23T00:00:00\",\"2022-06-24T00:00:00\",\"2022-06-27T00:00:00\",\"2022-06-28T00:00:00\",\"2022-06-29T00:00:00\",\"2022-06-30T00:00:00\",\"2022-07-01T00:00:00\",\"2022-07-05T00:00:00\",\"2022-07-06T00:00:00\",\"2022-07-07T00:00:00\",\"2022-07-08T00:00:00\",\"2022-07-11T00:00:00\",\"2022-07-12T00:00:00\",\"2022-07-13T00:00:00\",\"2022-07-14T00:00:00\",\"2022-07-15T00:00:00\",\"2022-07-18T00:00:00\",\"2022-07-19T00:00:00\",\"2022-07-20T00:00:00\",\"2022-07-21T00:00:00\",\"2022-07-22T00:00:00\",\"2022-07-25T00:00:00\",\"2022-07-26T00:00:00\",\"2022-07-27T00:00:00\",\"2022-07-28T00:00:00\",\"2022-07-29T00:00:00\",\"2022-08-01T00:00:00\",\"2022-08-02T00:00:00\",\"2022-08-03T00:00:00\",\"2022-08-04T00:00:00\",\"2022-08-05T00:00:00\",\"2022-08-08T00:00:00\",\"2022-08-09T00:00:00\",\"2022-08-10T00:00:00\",\"2022-08-11T00:00:00\",\"2022-08-12T00:00:00\",\"2022-08-15T00:00:00\",\"2022-08-16T00:00:00\",\"2022-08-17T00:00:00\",\"2022-08-18T00:00:00\",\"2022-08-19T00:00:00\",\"2022-08-22T00:00:00\",\"2022-08-23T00:00:00\",\"2022-08-24T00:00:00\",\"2022-08-25T00:00:00\",\"2022-08-26T00:00:00\",\"2022-08-29T00:00:00\",\"2022-08-30T00:00:00\",\"2022-08-31T00:00:00\",\"2022-09-01T00:00:00\",\"2022-09-02T00:00:00\",\"2022-09-06T00:00:00\",\"2022-09-07T00:00:00\",\"2022-09-08T00:00:00\",\"2022-09-09T00:00:00\",\"2022-09-12T00:00:00\",\"2022-09-13T00:00:00\",\"2022-09-14T00:00:00\",\"2022-09-15T00:00:00\",\"2022-09-16T00:00:00\",\"2022-09-19T00:00:00\",\"2022-09-20T00:00:00\",\"2022-09-21T00:00:00\",\"2022-09-22T00:00:00\",\"2022-09-23T00:00:00\",\"2022-09-26T00:00:00\",\"2022-09-27T00:00:00\",\"2022-09-28T00:00:00\",\"2022-09-29T00:00:00\",\"2022-09-30T00:00:00\"],\"y\":[0.0,0.19998433806873717,-0.004653102648299878,0.2561344432345791,0.5672286285792305,0.7885592318831236,0.10920751005838447,0.6109466426462262,0.4020960282759889,0.5043981712601564,1.100011134727219,1.6783529583803913,1.7578412417172284,1.5305514184680291,1.8626497308694923,0.9829629524061634,1.1397305804731195,2.373039823901446,3.28252602365815,3.1417157095263715,2.9488543454488703,3.128330473959573,3.5665084612586995,5.438440906030917,3.69077783890992,3.559703580543072,3.2720771324137976,2.7151308849117983,2.1340055861257756,2.301061405538607,2.72835323832028,2.5552599049606384,2.804235038143821,2.311102542358201,3.26065305715999,3.311965802276573,3.0440190262764677,2.3795405879252662,2.391418671750367,2.6629504134687343,2.7658083765931485,2.128808309119612,2.016261856524215,1.0996887840946545,1.0862447486316595,1.10179241776438,1.1056083724755528,1.7845310188842722,2.0743964815638227,1.9638495466820949,1.8030308231588688,2.194537343851799,1.4465282636134003,1.984860174500258,1.7237091553939266,0.6957012063627532,0.1228122564288503,-0.07272344210353943,-0.09133939119123635,0.6034842077801583,0.23328531943385133,-1.27197756316898,-1.0886430696931515,-0.8409091229456322,-1.8626553955938263,-1.9365787885816999,-3.058903151013437,-2.9094217606906336,-2.307800575419372,-2.735117565383205,-2.7895818103808367,-2.8173681333522604,-2.68645153409367,-2.349336968294069,-2.410259977654061,-2.245688242412014,-2.2499029595261844,-1.5181926176344729,-1.3577427440952805,-1.1074139484267276,-1.280847426443943,-1.7433485824921435,-2.5245722705363516,-1.9365139330609238,-2.1215334366388783,-2.821559736578616,-3.5234318579640655,-3.76538080670924,-4.390068637651279,-4.011678242576055,-5.633177984780724,-6.9088577219170055,-5.816364040767763,-6.245780343422592,-6.839037555371563,-6.5041211515446395,-5.787671628278391,-5.686985922371967,-6.180114961506355,-6.953558896359335,-7.424797803225214,-7.563835458584423,-7.346142722918425,-7.574950298141903,-7.936101844606524,-8.586339658602938,-8.732473078352553,-9.0008358093843,-9.010746435711658,-9.215972885221035,-8.795764292226105,-8.853997602922338,-8.783570480108482,-8.618397546249323,-8.325944201092629,-8.842281451123457,-8.064988943505591,-7.608677885920601,-7.732809220563109,-7.553496328970977,-6.829283577187473,-6.0805143723046235,-5.960435289927646,-5.832767801466576,-6.291839979400848,-5.842707034219297,-5.258959485623304,-5.860403865985941,-5.599892055578204,-5.110971190298008,-5.20775934783374,-5.345982805260652,-5.0921395423684235,-5.6666689676651565,-5.888590275328731,-6.542542708235921,-6.76794151558624,-6.938343276386871,-6.893352000693831,-6.564314883318623,-7.07021552223126,-6.5997643390264376,-6.825736047965036,-7.55588382629756,-7.9602395677607625,-8.565410890369463,-9.424439453067057,-9.323929557121724,-9.728672032046159,-8.543538414157592,-9.337895726168577,-9.256058221498408,-9.391295287548395,-10.217101468304502,-10.130360214516553,-11.126832080429194,-11.242003572783032,-11.825411076256264,-12.82246319542104,-12.582256946350068,-13.551532653558118,-14.219361716315548,-15.239396914469905,-15.3314096332129,-14.159366496725179,-14.584178681149462,-14.78303208727657],\"type\":\"scatter\"},{\"line\":{\"width\":1},\"name\":\"Benchmark\",\"x\":[\"2022-02-02T00:00:00\",\"2022-02-03T00:00:00\",\"2022-02-04T00:00:00\",\"2022-02-07T00:00:00\",\"2022-02-08T00:00:00\",\"2022-02-09T00:00:00\",\"2022-02-10T00:00:00\",\"2022-02-11T00:00:00\",\"2022-02-14T00:00:00\",\"2022-02-15T00:00:00\",\"2022-02-16T00:00:00\",\"2022-02-17T00:00:00\",\"2022-02-18T00:00:00\",\"2022-02-22T00:00:00\",\"2022-02-23T00:00:00\",\"2022-02-24T00:00:00\",\"2022-02-25T00:00:00\",\"2022-02-28T00:00:00\",\"2022-03-01T00:00:00\",\"2022-03-02T00:00:00\",\"2022-03-03T00:00:00\",\"2022-03-04T00:00:00\",\"2022-03-07T00:00:00\",\"2022-03-08T00:00:00\",\"2022-03-09T00:00:00\",\"2022-03-10T00:00:00\",\"2022-03-11T00:00:00\",\"2022-03-14T00:00:00\",\"2022-03-15T00:00:00\",\"2022-03-16T00:00:00\",\"2022-03-17T00:00:00\",\"2022-03-18T00:00:00\",\"2022-03-21T00:00:00\",\"2022-03-22T00:00:00\",\"2022-03-23T00:00:00\",\"2022-03-24T00:00:00\",\"2022-03-25T00:00:00\",\"2022-03-28T00:00:00\",\"2022-03-29T00:00:00\",\"2022-03-30T00:00:00\",\"2022-03-31T00:00:00\",\"2022-04-01T00:00:00\",\"2022-04-04T00:00:00\",\"2022-04-05T00:00:00\",\"2022-04-06T00:00:00\",\"2022-04-07T00:00:00\",\"2022-04-08T00:00:00\",\"2022-04-11T00:00:00\",\"2022-04-12T00:00:00\",\"2022-04-13T00:00:00\",\"2022-04-14T00:00:00\",\"2022-04-18T00:00:00\",\"2022-04-19T00:00:00\",\"2022-04-20T00:00:00\",\"2022-04-21T00:00:00\",\"2022-04-22T00:00:00\",\"2022-04-25T00:00:00\",\"2022-04-26T00:00:00\",\"2022-04-27T00:00:00\",\"2022-04-28T00:00:00\",\"2022-04-29T00:00:00\",\"2022-05-02T00:00:00\",\"2022-05-03T00:00:00\",\"2022-05-04T00:00:00\",\"2022-05-05T00:00:00\",\"2022-05-06T00:00:00\",\"2022-05-09T00:00:00\",\"2022-05-10T00:00:00\",\"2022-05-11T00:00:00\",\"2022-05-12T00:00:00\",\"2022-05-13T00:00:00\",\"2022-05-16T00:00:00\",\"2022-05-17T00:00:00\",\"2022-05-18T00:00:00\",\"2022-05-19T00:00:00\",\"2022-05-20T00:00:00\",\"2022-05-23T00:00:00\",\"2022-05-24T00:00:00\",\"2022-05-25T00:00:00\",\"2022-05-26T00:00:00\",\"2022-05-27T00:00:00\",\"2022-05-31T00:00:00\",\"2022-06-01T00:00:00\",\"2022-06-02T00:00:00\",\"2022-06-03T00:00:00\",\"2022-06-06T00:00:00\",\"2022-06-07T00:00:00\",\"2022-06-08T00:00:00\",\"2022-06-09T00:00:00\",\"2022-06-10T00:00:00\",\"2022-06-13T00:00:00\",\"2022-06-14T00:00:00\",\"2022-06-15T00:00:00\",\"2022-06-16T00:00:00\",\"2022-06-17T00:00:00\",\"2022-06-21T00:00:00\",\"2022-06-22T00:00:00\",\"2022-06-23T00:00:00\",\"2022-06-24T00:00:00\",\"2022-06-27T00:00:00\",\"2022-06-28T00:00:00\",\"2022-06-29T00:00:00\",\"2022-06-30T00:00:00\",\"2022-07-01T00:00:00\",\"2022-07-05T00:00:00\",\"2022-07-06T00:00:00\",\"2022-07-07T00:00:00\",\"2022-07-08T00:00:00\",\"2022-07-11T00:00:00\",\"2022-07-12T00:00:00\",\"2022-07-13T00:00:00\",\"2022-07-14T00:00:00\",\"2022-07-15T00:00:00\",\"2022-07-18T00:00:00\",\"2022-07-19T00:00:00\",\"2022-07-20T00:00:00\",\"2022-07-21T00:00:00\",\"2022-07-22T00:00:00\",\"2022-07-25T00:00:00\",\"2022-07-26T00:00:00\",\"2022-07-27T00:00:00\",\"2022-07-28T00:00:00\",\"2022-07-29T00:00:00\",\"2022-08-01T00:00:00\",\"2022-08-02T00:00:00\",\"2022-08-03T00:00:00\",\"2022-08-04T00:00:00\",\"2022-08-05T00:00:00\",\"2022-08-08T00:00:00\",\"2022-08-09T00:00:00\",\"2022-08-10T00:00:00\",\"2022-08-11T00:00:00\",\"2022-08-12T00:00:00\",\"2022-08-15T00:00:00\",\"2022-08-16T00:00:00\",\"2022-08-17T00:00:00\",\"2022-08-18T00:00:00\",\"2022-08-19T00:00:00\",\"2022-08-22T00:00:00\",\"2022-08-23T00:00:00\",\"2022-08-24T00:00:00\",\"2022-08-25T00:00:00\",\"2022-08-26T00:00:00\",\"2022-08-29T00:00:00\",\"2022-08-30T00:00:00\",\"2022-08-31T00:00:00\",\"2022-09-01T00:00:00\",\"2022-09-02T00:00:00\",\"2022-09-06T00:00:00\",\"2022-09-07T00:00:00\",\"2022-09-08T00:00:00\",\"2022-09-09T00:00:00\",\"2022-09-12T00:00:00\",\"2022-09-13T00:00:00\",\"2022-09-14T00:00:00\",\"2022-09-15T00:00:00\",\"2022-09-16T00:00:00\",\"2022-09-19T00:00:00\",\"2022-09-20T00:00:00\",\"2022-09-21T00:00:00\",\"2022-09-22T00:00:00\",\"2022-09-23T00:00:00\",\"2022-09-26T00:00:00\",\"2022-09-27T00:00:00\",\"2022-09-28T00:00:00\",\"2022-09-29T00:00:00\",\"2022-09-30T00:00:00\"],\"y\":[0.0,-2.3777444677853032,-1.730056802756752,-1.977832206650365,-1.0780246444861419,0.5303200193518931,-1.1736565583242875,-3.090632695515305,-3.4470801257873607,-1.7300568027567742,-1.6387760149747965,-3.8730726120028702,-4.642472415950161,-5.737881666218636,-7.472289595031556,-5.850904818653257,-3.7557049663262343,-3.860032499462618,-5.3597051369222,-3.564441138649932,-4.2990650982184135,-5.255377603785838,-8.176482203463342,-8.69376211027496,-6.159529659192142,-6.581177652165604,-7.850466124328048,-8.75896930579051,-6.8550332811397885,-4.525104770273558,-3.247120678812898,-2.1169355841656357,-2.2082163719476244,-1.0084795885427544,-2.6602957160578256,-1.273639598218701,-0.8519916052452392,-0.20864843345872464,1.3040643165411536,0.4825040624327315,-1.0345598136233258,-0.6389920457304243,0.20430394021651033,-1.2605994856784153,-2.3951357063818457,-2.0256481635695156,-2.3299285108663192,-3.8556880062205923,-4.1512727342191695,-2.8950243745969995,-4.077376552219503,-4.242560154815234,-2.5559681829214087,-2.6820248150821846,-4.2729848731378866,-6.881113506220348,-6.372529218706968,-9.04151392124879,-8.863290206112762,-6.642033721624962,-10.071722608815836,-9.393610225464633,-8.963273246007041,-6.294281910651112,-9.750057655736688,-10.475985996006965,-13.64921049282013,-13.47533127092616,-15.04021110390129,-14.948923683305203,-12.671162255414215,-13.101499234871794,-11.245385799954255,-14.718539518008056,-15.096716047304504,-15.096716047304504,-13.644859366763972,-14.50989108454942,-13.557923072224053,-11.788745931846446,-9.55444270200424,-10.297762280870938,-10.888938369682199,-9.071945272385529,-10.523801952926037,-10.25864194325009,-9.284938199086223,-10.302106774112996,-12.449467076601161,-15.048906723199506,-18.517715948011247,-18.748100113308396,-17.565747935685884,-20.44338107168636,-20.14344521763163,-18.209084474658287,-18.222124587198575,-17.80917221352333,-15.153227623521781,-15.41404313995567,-17.157140055252718,-17.296243432767877,-18.009131660497857,-17.144099942712423,-16.848515214713842,-16.683331612118092,-15.309715606819264,-15.396651901359181,-16.465987559361206,-17.187571406389413,-17.548363329903516,-17.913499746659678,-16.318195195361916,-16.896331171632905,-14.57509164725077,-13.883939151359304,-13.031947546114154,-13.97522657195539,-13.857858926278709,-14.922843458224566,-12.688546861196459,-11.54966614725097,-10.345578237789944,-10.554226671248601,-11.03673073368141,-9.606609784979392,-9.693546079519312,-9.723977430656028,-9.641385629358156,-10.210825986330907,-8.163442090922945,-8.159097597680887,-6.5681375396251855,-6.203001122869023,-6.003041675894494,-6.846337661841407,-6.602913384003973,-7.937409051681932,-9.90654563903407,-10.07607373487186,-9.697890572761303,-8.38948176297799,-11.423602882275997,-12.071290547304558,-13.049338784710486,-13.688330830440831,-13.636170380279689,-14.49249984595279,-14.840251656926606,-13.26668283746738,-12.57987483481796,-11.128018154277452,-10.17170564871005,-14.031731515358514,-13.69702644973908,-14.618563110927695,-15.396651901359093,-14.796786826063713,-15.787875176009914,-17.226691744010147,-18.152579531254943,-19.904372065850207,-20.78243726336182,-20.899804909038476,-19.234948668983144,-20.912845021578775,-21.986525172822844],\"type\":\"scatter\"}],                        {\"template\":{\"data\":{\"histogram2dcontour\":[{\"type\":\"histogram2dcontour\",\"colorbar\":{\"outlinewidth\":0,\"ticks\":\"\"},\"colorscale\":[[0.0,\"#0d0887\"],[0.1111111111111111,\"#46039f\"],[0.2222222222222222,\"#7201a8\"],[0.3333333333333333,\"#9c179e\"],[0.4444444444444444,\"#bd3786\"],[0.5555555555555556,\"#d8576b\"],[0.6666666666666666,\"#ed7953\"],[0.7777777777777778,\"#fb9f3a\"],[0.8888888888888888,\"#fdca26\"],[1.0,\"#f0f921\"]]}],\"choropleth\":[{\"type\":\"choropleth\",\"colorbar\":{\"outlinewidth\":0,\"ticks\":\"\"}}],\"histogram2d\":[{\"type\":\"histogram2d\",\"colorbar\":{\"outlinewidth\":0,\"ticks\":\"\"},\"colorscale\":[[0.0,\"#0d0887\"],[0.1111111111111111,\"#46039f\"],[0.2222222222222222,\"#7201a8\"],[0.3333333333333333,\"#9c179e\"],[0.4444444444444444,\"#bd3786\"],[0.5555555555555556,\"#d8576b\"],[0.6666666666666666,\"#ed7953\"],[0.7777777777777778,\"#fb9f3a\"],[0.8888888888888888,\"#fdca26\"],[1.0,\"#f0f921\"]]}],\"heatmap\":[{\"type\":\"heatmap\",\"colorbar\":{\"outlinewidth\":0,\"ticks\":\"\"},\"colorscale\":[[0.0,\"#0d0887\"],[0.1111111111111111,\"#46039f\"],[0.2222222222222222,\"#7201a8\"],[0.3333333333333333,\"#9c179e\"],[0.4444444444444444,\"#bd3786\"],[0.5555555555555556,\"#d8576b\"],[0.6666666666666666,\"#ed7953\"],[0.7777777777777778,\"#fb9f3a\"],[0.8888888888888888,\"#fdca26\"],[1.0,\"#f0f921\"]]}],\"heatmapgl\":[{\"type\":\"heatmapgl\",\"colorbar\":{\"outlinewidth\":0,\"ticks\":\"\"},\"colorscale\":[[0.0,\"#0d0887\"],[0.1111111111111111,\"#46039f\"],[0.2222222222222222,\"#7201a8\"],[0.3333333333333333,\"#9c179e\"],[0.4444444444444444,\"#bd3786\"],[0.5555555555555556,\"#d8576b\"],[0.6666666666666666,\"#ed7953\"],[0.7777777777777778,\"#fb9f3a\"],[0.8888888888888888,\"#fdca26\"],[1.0,\"#f0f921\"]]}],\"contourcarpet\":[{\"type\":\"contourcarpet\",\"colorbar\":{\"outlinewidth\":0,\"ticks\":\"\"}}],\"contour\":[{\"type\":\"contour\",\"colorbar\":{\"outlinewidth\":0,\"ticks\":\"\"},\"colorscale\":[[0.0,\"#0d0887\"],[0.1111111111111111,\"#46039f\"],[0.2222222222222222,\"#7201a8\"],[0.3333333333333333,\"#9c179e\"],[0.4444444444444444,\"#bd3786\"],[0.5555555555555556,\"#d8576b\"],[0.6666666666666666,\"#ed7953\"],[0.7777777777777778,\"#fb9f3a\"],[0.8888888888888888,\"#fdca26\"],[1.0,\"#f0f921\"]]}],\"surface\":[{\"type\":\"surface\",\"colorbar\":{\"outlinewidth\":0,\"ticks\":\"\"},\"colorscale\":[[0.0,\"#0d0887\"],[0.1111111111111111,\"#46039f\"],[0.2222222222222222,\"#7201a8\"],[0.3333333333333333,\"#9c179e\"],[0.4444444444444444,\"#bd3786\"],[0.5555555555555556,\"#d8576b\"],[0.6666666666666666,\"#ed7953\"],[0.7777777777777778,\"#fb9f3a\"],[0.8888888888888888,\"#fdca26\"],[1.0,\"#f0f921\"]]}],\"mesh3d\":[{\"type\":\"mesh3d\",\"colorbar\":{\"outlinewidth\":0,\"ticks\":\"\"}}],\"scatter\":[{\"fillpattern\":{\"fillmode\":\"overlay\",\"size\":10,\"solidity\":0.2},\"type\":\"scatter\"}],\"parcoords\":[{\"type\":\"parcoords\",\"line\":{\"colorbar\":{\"outlinewidth\":0,\"ticks\":\"\"}}}],\"scatterpolargl\":[{\"type\":\"scatterpolargl\",\"marker\":{\"colorbar\":{\"outlinewidth\":0,\"ticks\":\"\"}}}],\"bar\":[{\"error_x\":{\"color\":\"#2a3f5f\"},\"error_y\":{\"color\":\"#2a3f5f\"},\"marker\":{\"line\":{\"color\":\"#E5ECF6\",\"width\":0.5},\"pattern\":{\"fillmode\":\"overlay\",\"size\":10,\"solidity\":0.2}},\"type\":\"bar\"}],\"scattergeo\":[{\"type\":\"scattergeo\",\"marker\":{\"colorbar\":{\"outlinewidth\":0,\"ticks\":\"\"}}}],\"scatterpolar\":[{\"type\":\"scatterpolar\",\"marker\":{\"colorbar\":{\"outlinewidth\":0,\"ticks\":\"\"}}}],\"histogram\":[{\"marker\":{\"pattern\":{\"fillmode\":\"overlay\",\"size\":10,\"solidity\":0.2}},\"type\":\"histogram\"}],\"scattergl\":[{\"type\":\"scattergl\",\"marker\":{\"colorbar\":{\"outlinewidth\":0,\"ticks\":\"\"}}}],\"scatter3d\":[{\"type\":\"scatter3d\",\"line\":{\"colorbar\":{\"outlinewidth\":0,\"ticks\":\"\"}},\"marker\":{\"colorbar\":{\"outlinewidth\":0,\"ticks\":\"\"}}}],\"scattermapbox\":[{\"type\":\"scattermapbox\",\"marker\":{\"colorbar\":{\"outlinewidth\":0,\"ticks\":\"\"}}}],\"scatterternary\":[{\"type\":\"scatterternary\",\"marker\":{\"colorbar\":{\"outlinewidth\":0,\"ticks\":\"\"}}}],\"scattercarpet\":[{\"type\":\"scattercarpet\",\"marker\":{\"colorbar\":{\"outlinewidth\":0,\"ticks\":\"\"}}}],\"carpet\":[{\"aaxis\":{\"endlinecolor\":\"#2a3f5f\",\"gridcolor\":\"white\",\"linecolor\":\"white\",\"minorgridcolor\":\"white\",\"startlinecolor\":\"#2a3f5f\"},\"baxis\":{\"endlinecolor\":\"#2a3f5f\",\"gridcolor\":\"white\",\"linecolor\":\"white\",\"minorgridcolor\":\"white\",\"startlinecolor\":\"#2a3f5f\"},\"type\":\"carpet\"}],\"table\":[{\"cells\":{\"fill\":{\"color\":\"#EBF0F8\"},\"line\":{\"color\":\"white\"}},\"header\":{\"fill\":{\"color\":\"#C8D4E3\"},\"line\":{\"color\":\"white\"}},\"type\":\"table\"}],\"barpolar\":[{\"marker\":{\"line\":{\"color\":\"#E5ECF6\",\"width\":0.5},\"pattern\":{\"fillmode\":\"overlay\",\"size\":10,\"solidity\":0.2}},\"type\":\"barpolar\"}],\"pie\":[{\"automargin\":true,\"type\":\"pie\"}]},\"layout\":{\"autotypenumbers\":\"strict\",\"colorway\":[\"#636efa\",\"#EF553B\",\"#00cc96\",\"#ab63fa\",\"#FFA15A\",\"#19d3f3\",\"#FF6692\",\"#B6E880\",\"#FF97FF\",\"#FECB52\"],\"font\":{\"color\":\"#2a3f5f\"},\"hovermode\":\"closest\",\"hoverlabel\":{\"align\":\"left\"},\"paper_bgcolor\":\"white\",\"plot_bgcolor\":\"#E5ECF6\",\"polar\":{\"bgcolor\":\"#E5ECF6\",\"angularaxis\":{\"gridcolor\":\"white\",\"linecolor\":\"white\",\"ticks\":\"\"},\"radialaxis\":{\"gridcolor\":\"white\",\"linecolor\":\"white\",\"ticks\":\"\"}},\"ternary\":{\"bgcolor\":\"#E5ECF6\",\"aaxis\":{\"gridcolor\":\"white\",\"linecolor\":\"white\",\"ticks\":\"\"},\"baxis\":{\"gridcolor\":\"white\",\"linecolor\":\"white\",\"ticks\":\"\"},\"caxis\":{\"gridcolor\":\"white\",\"linecolor\":\"white\",\"ticks\":\"\"}},\"coloraxis\":{\"colorbar\":{\"outlinewidth\":0,\"ticks\":\"\"}},\"colorscale\":{\"sequential\":[[0.0,\"#0d0887\"],[0.1111111111111111,\"#46039f\"],[0.2222222222222222,\"#7201a8\"],[0.3333333333333333,\"#9c179e\"],[0.4444444444444444,\"#bd3786\"],[0.5555555555555556,\"#d8576b\"],[0.6666666666666666,\"#ed7953\"],[0.7777777777777778,\"#fb9f3a\"],[0.8888888888888888,\"#fdca26\"],[1.0,\"#f0f921\"]],\"sequentialminus\":[[0.0,\"#0d0887\"],[0.1111111111111111,\"#46039f\"],[0.2222222222222222,\"#7201a8\"],[0.3333333333333333,\"#9c179e\"],[0.4444444444444444,\"#bd3786\"],[0.5555555555555556,\"#d8576b\"],[0.6666666666666666,\"#ed7953\"],[0.7777777777777778,\"#fb9f3a\"],[0.8888888888888888,\"#fdca26\"],[1.0,\"#f0f921\"]],\"diverging\":[[0,\"#8e0152\"],[0.1,\"#c51b7d\"],[0.2,\"#de77ae\"],[0.3,\"#f1b6da\"],[0.4,\"#fde0ef\"],[0.5,\"#f7f7f7\"],[0.6,\"#e6f5d0\"],[0.7,\"#b8e186\"],[0.8,\"#7fbc41\"],[0.9,\"#4d9221\"],[1,\"#276419\"]]},\"xaxis\":{\"gridcolor\":\"white\",\"linecolor\":\"white\",\"ticks\":\"\",\"title\":{\"standoff\":15},\"zerolinecolor\":\"white\",\"automargin\":true,\"zerolinewidth\":2},\"yaxis\":{\"gridcolor\":\"white\",\"linecolor\":\"white\",\"ticks\":\"\",\"title\":{\"standoff\":15},\"zerolinecolor\":\"white\",\"automargin\":true,\"zerolinewidth\":2},\"scene\":{\"xaxis\":{\"backgroundcolor\":\"#E5ECF6\",\"gridcolor\":\"white\",\"linecolor\":\"white\",\"showbackground\":true,\"ticks\":\"\",\"zerolinecolor\":\"white\",\"gridwidth\":2},\"yaxis\":{\"backgroundcolor\":\"#E5ECF6\",\"gridcolor\":\"white\",\"linecolor\":\"white\",\"showbackground\":true,\"ticks\":\"\",\"zerolinecolor\":\"white\",\"gridwidth\":2},\"zaxis\":{\"backgroundcolor\":\"#E5ECF6\",\"gridcolor\":\"white\",\"linecolor\":\"white\",\"showbackground\":true,\"ticks\":\"\",\"zerolinecolor\":\"white\",\"gridwidth\":2}},\"shapedefaults\":{\"line\":{\"color\":\"#2a3f5f\"}},\"annotationdefaults\":{\"arrowcolor\":\"#2a3f5f\",\"arrowhead\":0,\"arrowwidth\":1},\"geo\":{\"bgcolor\":\"white\",\"landcolor\":\"#E5ECF6\",\"subunitcolor\":\"white\",\"showland\":true,\"showlakes\":true,\"lakecolor\":\"white\"},\"title\":{\"x\":0.05},\"mapbox\":{\"style\":\"light\"}}},\"title\":{\"text\":\"\\ub204\\uc801 \\uc218\\uc775\\ub960 \\ube44\\uad50\",\"x\":0.5,\"xanchor\":\"center\",\"yanchor\":\"top\"},\"yaxis\":{\"type\":\"linear\",\"autorange\":true}},                        {\"responsive\": true}                    ).then(function(){\n",
       "                            \n",
       "var gd = document.getElementById('778cd610-684c-423b-abbf-f24c89903b51');\n",
       "var x = new MutationObserver(function (mutations, observer) {{\n",
       "        var display = window.getComputedStyle(gd).display;\n",
       "        if (!display || display === 'none') {{\n",
       "            console.log([gd, 'removed!']);\n",
       "            Plotly.purge(gd);\n",
       "            observer.disconnect();\n",
       "        }}\n",
       "}});\n",
       "\n",
       "// Listen for the removal of the full notebook cells\n",
       "var notebookContainer = gd.closest('#notebook-container');\n",
       "if (notebookContainer) {{\n",
       "    x.observe(notebookContainer, {childList: true});\n",
       "}}\n",
       "\n",
       "// Listen for the clearing of the current output cell\n",
       "var outputEl = gd.closest('.output');\n",
       "if (outputEl) {{\n",
       "    x.observe(outputEl, {childList: true});\n",
       "}}\n",
       "\n",
       "                        })                };                });            </script>        </div>"
      ]
     },
     "metadata": {},
     "output_type": "display_data"
    },
    {
     "data": {
      "application/vnd.plotly.v1+json": {
       "config": {
        "plotlyServerURL": "https://plot.ly"
       },
       "data": [
        {
         "line": {
          "width": 1
         },
         "name": "Portfolio1",
         "type": "scatter",
         "x": [
          "2022-02-02T00:00:00",
          "2022-02-03T00:00:00",
          "2022-02-04T00:00:00",
          "2022-02-07T00:00:00",
          "2022-02-08T00:00:00",
          "2022-02-09T00:00:00",
          "2022-02-10T00:00:00",
          "2022-02-11T00:00:00",
          "2022-02-14T00:00:00",
          "2022-02-15T00:00:00",
          "2022-02-16T00:00:00",
          "2022-02-17T00:00:00",
          "2022-02-18T00:00:00",
          "2022-02-22T00:00:00",
          "2022-02-23T00:00:00",
          "2022-02-24T00:00:00",
          "2022-02-25T00:00:00",
          "2022-02-28T00:00:00",
          "2022-03-01T00:00:00",
          "2022-03-02T00:00:00",
          "2022-03-03T00:00:00",
          "2022-03-04T00:00:00",
          "2022-03-07T00:00:00",
          "2022-03-08T00:00:00",
          "2022-03-09T00:00:00",
          "2022-03-10T00:00:00",
          "2022-03-11T00:00:00",
          "2022-03-14T00:00:00",
          "2022-03-15T00:00:00",
          "2022-03-16T00:00:00",
          "2022-03-17T00:00:00",
          "2022-03-18T00:00:00",
          "2022-03-21T00:00:00",
          "2022-03-22T00:00:00",
          "2022-03-23T00:00:00",
          "2022-03-24T00:00:00",
          "2022-03-25T00:00:00",
          "2022-03-28T00:00:00",
          "2022-03-29T00:00:00",
          "2022-03-30T00:00:00",
          "2022-03-31T00:00:00",
          "2022-04-01T00:00:00",
          "2022-04-04T00:00:00",
          "2022-04-05T00:00:00",
          "2022-04-06T00:00:00",
          "2022-04-07T00:00:00",
          "2022-04-08T00:00:00",
          "2022-04-11T00:00:00",
          "2022-04-12T00:00:00",
          "2022-04-13T00:00:00",
          "2022-04-14T00:00:00",
          "2022-04-18T00:00:00",
          "2022-04-19T00:00:00",
          "2022-04-20T00:00:00",
          "2022-04-21T00:00:00",
          "2022-04-22T00:00:00",
          "2022-04-25T00:00:00",
          "2022-04-26T00:00:00",
          "2022-04-27T00:00:00",
          "2022-04-28T00:00:00",
          "2022-04-29T00:00:00",
          "2022-05-02T00:00:00",
          "2022-05-03T00:00:00",
          "2022-05-04T00:00:00",
          "2022-05-05T00:00:00",
          "2022-05-06T00:00:00",
          "2022-05-09T00:00:00",
          "2022-05-10T00:00:00",
          "2022-05-11T00:00:00",
          "2022-05-12T00:00:00",
          "2022-05-13T00:00:00",
          "2022-05-16T00:00:00",
          "2022-05-17T00:00:00",
          "2022-05-18T00:00:00",
          "2022-05-19T00:00:00",
          "2022-05-20T00:00:00",
          "2022-05-23T00:00:00",
          "2022-05-24T00:00:00",
          "2022-05-25T00:00:00",
          "2022-05-26T00:00:00",
          "2022-05-27T00:00:00",
          "2022-05-31T00:00:00",
          "2022-06-01T00:00:00",
          "2022-06-02T00:00:00",
          "2022-06-03T00:00:00",
          "2022-06-06T00:00:00",
          "2022-06-07T00:00:00",
          "2022-06-08T00:00:00",
          "2022-06-09T00:00:00",
          "2022-06-10T00:00:00",
          "2022-06-13T00:00:00",
          "2022-06-14T00:00:00",
          "2022-06-15T00:00:00",
          "2022-06-16T00:00:00",
          "2022-06-17T00:00:00",
          "2022-06-21T00:00:00",
          "2022-06-22T00:00:00",
          "2022-06-23T00:00:00",
          "2022-06-24T00:00:00",
          "2022-06-27T00:00:00",
          "2022-06-28T00:00:00",
          "2022-06-29T00:00:00",
          "2022-06-30T00:00:00",
          "2022-07-01T00:00:00",
          "2022-07-05T00:00:00",
          "2022-07-06T00:00:00",
          "2022-07-07T00:00:00",
          "2022-07-08T00:00:00",
          "2022-07-11T00:00:00",
          "2022-07-12T00:00:00",
          "2022-07-13T00:00:00",
          "2022-07-14T00:00:00",
          "2022-07-15T00:00:00",
          "2022-07-18T00:00:00",
          "2022-07-19T00:00:00",
          "2022-07-20T00:00:00",
          "2022-07-21T00:00:00",
          "2022-07-22T00:00:00",
          "2022-07-25T00:00:00",
          "2022-07-26T00:00:00",
          "2022-07-27T00:00:00",
          "2022-07-28T00:00:00",
          "2022-07-29T00:00:00",
          "2022-08-01T00:00:00",
          "2022-08-02T00:00:00",
          "2022-08-03T00:00:00",
          "2022-08-04T00:00:00",
          "2022-08-05T00:00:00",
          "2022-08-08T00:00:00",
          "2022-08-09T00:00:00",
          "2022-08-10T00:00:00",
          "2022-08-11T00:00:00",
          "2022-08-12T00:00:00",
          "2022-08-15T00:00:00",
          "2022-08-16T00:00:00",
          "2022-08-17T00:00:00",
          "2022-08-18T00:00:00",
          "2022-08-19T00:00:00",
          "2022-08-22T00:00:00",
          "2022-08-23T00:00:00",
          "2022-08-24T00:00:00",
          "2022-08-25T00:00:00",
          "2022-08-26T00:00:00",
          "2022-08-29T00:00:00",
          "2022-08-30T00:00:00",
          "2022-08-31T00:00:00",
          "2022-09-01T00:00:00",
          "2022-09-02T00:00:00",
          "2022-09-06T00:00:00",
          "2022-09-07T00:00:00",
          "2022-09-08T00:00:00",
          "2022-09-09T00:00:00",
          "2022-09-12T00:00:00",
          "2022-09-13T00:00:00",
          "2022-09-14T00:00:00",
          "2022-09-15T00:00:00",
          "2022-09-16T00:00:00",
          "2022-09-19T00:00:00",
          "2022-09-20T00:00:00",
          "2022-09-21T00:00:00",
          "2022-09-22T00:00:00",
          "2022-09-23T00:00:00",
          "2022-09-26T00:00:00",
          "2022-09-27T00:00:00",
          "2022-09-28T00:00:00",
          "2022-09-29T00:00:00",
          "2022-09-30T00:00:00"
         ],
         "y": [
          0,
          -0.4488868792299927,
          -0.9308864731922828,
          -0.8878303299743262,
          -0.9859069119175778,
          -0.5432980816325705,
          -1.745990505266437,
          -1.2953180066339498,
          -1.9594805090217826,
          -2.068887113063067,
          -1.6688659040168252,
          -1.516791072632795,
          -1.1907997709490026,
          -1.3273309500174357,
          -2.0126278733724967,
          -2.042150530300335,
          -1.710476973643904,
          -0.3569770428116459,
          0,
          -0.6311741555012684,
          -0.44712780306568334,
          0,
          -0.5714964279286749,
          -0.1950968255394092,
          -1.660831525576656,
          -2.56146218579546,
          -2.665882698684674,
          -4.04831460193752,
          -4.035665786686948,
          -3.3028459105505115,
          -3.011984151764935,
          -2.2483480941010936,
          -2.6175265917559476,
          -3.101140284869641,
          -2.029425773216209,
          -2.208386503969595,
          -2.6563248103434023,
          -2.9036390618363495,
          -2.275481459480033,
          -1.9737435635854728,
          -2.304515807442775,
          -2.237233073127576,
          -2.248600332335604,
          -3.802236635526357,
          -4.353159871462697,
          -4.587746009744997,
          -5.055304301382124,
          -5.679496468469026,
          -5.311025230108468,
          -4.857478972971241,
          -5.72841003049983,
          -5.617641650842664,
          -6.126969362376078,
          -5.309598252579406,
          -5.997830858999443,
          -7.089604341876998,
          -6.809572143135812,
          -6.815959441099428,
          -7.099701810856585,
          -6.434963555615081,
          -7.5609126341087185,
          -8.126008182895072,
          -8.022756721575563,
          -7.138370315156573,
          -8.968038623692854,
          -9.579138813943022,
          -10.576222850628858,
          -10.058349099551855,
          -9.342504145828768,
          -9.279732521926064,
          -9.321282811232601,
          -9.273335330767473,
          -9.371726488485043,
          -9.320761104945186,
          -9.237116357032837,
          -8.722986932635957,
          -9.025292535650543,
          -8.268742916442108,
          -7.787242326854127,
          -7.462441158091471,
          -7.089648488186729,
          -8.068207010999306,
          -8.394433258003964,
          -7.813250975330632,
          -8.10919099522911,
          -8.914105499429848,
          -8.777195738035882,
          -9.229076016802063,
          -9.756426654481288,
          -10.440820854816735,
          -12.462668918525843,
          -13.45867097479747,
          -12.414091416307594,
          -12.762476341989803,
          -13.198458271499058,
          -13.221287175475938,
          -12.223721504363748,
          -11.945079383680302,
          -12.120506849146118,
          -12.687075594396713,
          -12.851083215062841,
          -12.520531693990888,
          -12.356033849905534,
          -11.951163552239564,
          -12.149476140120541,
          -12.905659033412665,
          -12.75655888143843,
          -13.148768607487582,
          -12.693402216270178,
          -13.103783677668346,
          -12.64432896308878,
          -12.908657716246474,
          -12.396381233912734,
          -12.522236845478464,
          -12.203821125323145,
          -12.182950030674377,
          -11.39914104577846,
          -10.920832683153147,
          -11.109175557655105,
          -11.14030963552699,
          -10.588032807474612,
          -10.005420505890894,
          -9.906851531723559,
          -9.22274798400794,
          -10.198964201557148,
          -9.40061863834909,
          -9.35581023718781,
          -10.357960338419092,
          -9.75177771298199,
          -9.66470791336852,
          -9.422641189269621,
          -10.052316034957865,
          -9.52152228150409,
          -9.779848660218581,
          -9.838928372514676,
          -10.51340385481775,
          -10.446319097597922,
          -11.193639711853232,
          -11.431975964690322,
          -11.410547680308369,
          -11.78898054570886,
          -11.066828131125062,
          -11.256416243076083,
          -11.801723897766259,
          -12.248078117624406,
          -12.960376216158142,
          -13.803941583627232,
          -13.756163554632806,
          -14.7252923357169,
          -13.74667823952942,
          -14.201613434714865,
          -13.70722672278799,
          -13.760384886221589,
          -14.64372154664364,
          -14.42375643410887,
          -15.143162595650994,
          -15.551500556887433,
          -15.597592345152622,
          -16.523898269403325,
          -16.213129709383225,
          -17.56357396327598,
          -18.09289982597101,
          -19.2639447795961,
          -19.966829705860345,
          -18.188181895539845,
          -18.673664821375112,
          -19.35969838105511
         ]
        },
        {
         "line": {
          "width": 1
         },
         "name": "Portfolio2",
         "type": "scatter",
         "x": [
          "2022-02-02T00:00:00",
          "2022-02-03T00:00:00",
          "2022-02-04T00:00:00",
          "2022-02-07T00:00:00",
          "2022-02-08T00:00:00",
          "2022-02-09T00:00:00",
          "2022-02-10T00:00:00",
          "2022-02-11T00:00:00",
          "2022-02-14T00:00:00",
          "2022-02-15T00:00:00",
          "2022-02-16T00:00:00",
          "2022-02-17T00:00:00",
          "2022-02-18T00:00:00",
          "2022-02-22T00:00:00",
          "2022-02-23T00:00:00",
          "2022-02-24T00:00:00",
          "2022-02-25T00:00:00",
          "2022-02-28T00:00:00",
          "2022-03-01T00:00:00",
          "2022-03-02T00:00:00",
          "2022-03-03T00:00:00",
          "2022-03-04T00:00:00",
          "2022-03-07T00:00:00",
          "2022-03-08T00:00:00",
          "2022-03-09T00:00:00",
          "2022-03-10T00:00:00",
          "2022-03-11T00:00:00",
          "2022-03-14T00:00:00",
          "2022-03-15T00:00:00",
          "2022-03-16T00:00:00",
          "2022-03-17T00:00:00",
          "2022-03-18T00:00:00",
          "2022-03-21T00:00:00",
          "2022-03-22T00:00:00",
          "2022-03-23T00:00:00",
          "2022-03-24T00:00:00",
          "2022-03-25T00:00:00",
          "2022-03-28T00:00:00",
          "2022-03-29T00:00:00",
          "2022-03-30T00:00:00",
          "2022-03-31T00:00:00",
          "2022-04-01T00:00:00",
          "2022-04-04T00:00:00",
          "2022-04-05T00:00:00",
          "2022-04-06T00:00:00",
          "2022-04-07T00:00:00",
          "2022-04-08T00:00:00",
          "2022-04-11T00:00:00",
          "2022-04-12T00:00:00",
          "2022-04-13T00:00:00",
          "2022-04-14T00:00:00",
          "2022-04-18T00:00:00",
          "2022-04-19T00:00:00",
          "2022-04-20T00:00:00",
          "2022-04-21T00:00:00",
          "2022-04-22T00:00:00",
          "2022-04-25T00:00:00",
          "2022-04-26T00:00:00",
          "2022-04-27T00:00:00",
          "2022-04-28T00:00:00",
          "2022-04-29T00:00:00",
          "2022-05-02T00:00:00",
          "2022-05-03T00:00:00",
          "2022-05-04T00:00:00",
          "2022-05-05T00:00:00",
          "2022-05-06T00:00:00",
          "2022-05-09T00:00:00",
          "2022-05-10T00:00:00",
          "2022-05-11T00:00:00",
          "2022-05-12T00:00:00",
          "2022-05-13T00:00:00",
          "2022-05-16T00:00:00",
          "2022-05-17T00:00:00",
          "2022-05-18T00:00:00",
          "2022-05-19T00:00:00",
          "2022-05-20T00:00:00",
          "2022-05-23T00:00:00",
          "2022-05-24T00:00:00",
          "2022-05-25T00:00:00",
          "2022-05-26T00:00:00",
          "2022-05-27T00:00:00",
          "2022-05-31T00:00:00",
          "2022-06-01T00:00:00",
          "2022-06-02T00:00:00",
          "2022-06-03T00:00:00",
          "2022-06-06T00:00:00",
          "2022-06-07T00:00:00",
          "2022-06-08T00:00:00",
          "2022-06-09T00:00:00",
          "2022-06-10T00:00:00",
          "2022-06-13T00:00:00",
          "2022-06-14T00:00:00",
          "2022-06-15T00:00:00",
          "2022-06-16T00:00:00",
          "2022-06-17T00:00:00",
          "2022-06-21T00:00:00",
          "2022-06-22T00:00:00",
          "2022-06-23T00:00:00",
          "2022-06-24T00:00:00",
          "2022-06-27T00:00:00",
          "2022-06-28T00:00:00",
          "2022-06-29T00:00:00",
          "2022-06-30T00:00:00",
          "2022-07-01T00:00:00",
          "2022-07-05T00:00:00",
          "2022-07-06T00:00:00",
          "2022-07-07T00:00:00",
          "2022-07-08T00:00:00",
          "2022-07-11T00:00:00",
          "2022-07-12T00:00:00",
          "2022-07-13T00:00:00",
          "2022-07-14T00:00:00",
          "2022-07-15T00:00:00",
          "2022-07-18T00:00:00",
          "2022-07-19T00:00:00",
          "2022-07-20T00:00:00",
          "2022-07-21T00:00:00",
          "2022-07-22T00:00:00",
          "2022-07-25T00:00:00",
          "2022-07-26T00:00:00",
          "2022-07-27T00:00:00",
          "2022-07-28T00:00:00",
          "2022-07-29T00:00:00",
          "2022-08-01T00:00:00",
          "2022-08-02T00:00:00",
          "2022-08-03T00:00:00",
          "2022-08-04T00:00:00",
          "2022-08-05T00:00:00",
          "2022-08-08T00:00:00",
          "2022-08-09T00:00:00",
          "2022-08-10T00:00:00",
          "2022-08-11T00:00:00",
          "2022-08-12T00:00:00",
          "2022-08-15T00:00:00",
          "2022-08-16T00:00:00",
          "2022-08-17T00:00:00",
          "2022-08-18T00:00:00",
          "2022-08-19T00:00:00",
          "2022-08-22T00:00:00",
          "2022-08-23T00:00:00",
          "2022-08-24T00:00:00",
          "2022-08-25T00:00:00",
          "2022-08-26T00:00:00",
          "2022-08-29T00:00:00",
          "2022-08-30T00:00:00",
          "2022-08-31T00:00:00",
          "2022-09-01T00:00:00",
          "2022-09-02T00:00:00",
          "2022-09-06T00:00:00",
          "2022-09-07T00:00:00",
          "2022-09-08T00:00:00",
          "2022-09-09T00:00:00",
          "2022-09-12T00:00:00",
          "2022-09-13T00:00:00",
          "2022-09-14T00:00:00",
          "2022-09-15T00:00:00",
          "2022-09-16T00:00:00",
          "2022-09-19T00:00:00",
          "2022-09-20T00:00:00",
          "2022-09-21T00:00:00",
          "2022-09-22T00:00:00",
          "2022-09-23T00:00:00",
          "2022-09-26T00:00:00",
          "2022-09-27T00:00:00",
          "2022-09-28T00:00:00",
          "2022-09-29T00:00:00",
          "2022-09-30T00:00:00"
         ],
         "y": [
          0,
          -0.8251186667410315,
          -0.9958548567350789,
          -0.8568814832213056,
          -0.7157020594423358,
          -0.18475991291453386,
          -1.0937840154167322,
          -0.7366643400778972,
          -0.9931951296638264,
          -1.076771227250506,
          -0.6497420738836857,
          -0.6796014974620679,
          -0.6352968393291247,
          -0.7910702650265389,
          -1.4447516662449589,
          -1.1938652253741355,
          -0.7398449288002817,
          0,
          0,
          -0.6784159700292669,
          -0.45714169248957104,
          0,
          -0.5114713657391023,
          -0.134264046082333,
          -0.5783265530230786,
          -0.9408093121782479,
          -1.373141821385404,
          -2.558361072969706,
          -2.6328226536261434,
          -1.6575449019037625,
          -1.3836050710235526,
          -1.0576723955703526,
          -1.419524786508708,
          -1.6064813222180563,
          -1.0818781699291402,
          -0.7220726078151385,
          -1.0496040740146095,
          -1.1854330755259213,
          -0.6249296232428869,
          -0.43381362897819686,
          -0.7457677992896206,
          -0.7284401347308456,
          -0.5540743978803442,
          -1.6090795650978373,
          -2.009731462737352,
          -1.9857813846307026,
          -2.138178948893976,
          -2.7304991056109618,
          -2.627889986644305,
          -2.1412669649287563,
          -2.9616131006497515,
          -3.0213404925798937,
          -3.172042946401521,
          -2.646280833890613,
          -3.2964497053775133,
          -4.343308708766336,
          -4.480415801882398,
          -4.895010402363786,
          -5.323078513499391,
          -4.592363768764452,
          -5.7311523740477766,
          -6.405209391649958,
          -6.094175267394775,
          -5.057343519798252,
          -6.588371839003959,
          -7.025209380226293,
          -8.01750670090854,
          -8.006469121920368,
          -7.798962267489829,
          -8.202252262456778,
          -8.140298919357292,
          -8.034362721028609,
          -7.974919419546367,
          -8.399217879218767,
          -8.072322085561922,
          -7.82110543876493,
          -7.683736261853991,
          -7.306872564325362,
          -7.13883745394901,
          -6.834199773474525,
          -6.218344733217107,
          -7.100676510222481,
          -7.110734939521679,
          -6.329563441156683,
          -7.001584516117454,
          -7.421093950433311,
          -6.799762915484131,
          -7.253654049920355,
          -7.800496397043489,
          -8.238914785905394,
          -10.407838630857945,
          -10.91274866972184,
          -9.934215566217574,
          -10.208831939412022,
          -10.282488150815905,
          -10.22318563021145,
          -9.59058346882663,
          -9.396681292900377,
          -9.040198792357245,
          -9.302342596946577,
          -9.683018403389077,
          -9.426404986853631,
          -9.577881561338252,
          -9.176379643591803,
          -9.467568353729106,
          -10.15594310048754,
          -9.976844473571555,
          -10.21311480596806,
          -10.264228895898697,
          -10.41606872256039,
          -10.160361412697904,
          -10.750694732365062,
          -10.28658553469375,
          -10.622510095648641,
          -10.094745087060552,
          -10.089674131521198,
          -9.19091477329298,
          -9.019969786364012,
          -9.262554060833084,
          -9.541275079117263,
          -8.85829466065272,
          -8.11650713559593,
          -7.801032022020459,
          -7.215947134397139,
          -7.926808671978513,
          -7.18595030363719,
          -6.808876358127369,
          -7.589322960699518,
          -7.027831808942652,
          -7.179256016419123,
          -6.861786612823051,
          -7.4075483054995335,
          -6.573731320822674,
          -6.820702032641712,
          -6.725856892246551,
          -7.308162326538071,
          -7.269609803254773,
          -8.107035033935139,
          -8.82337313783813,
          -8.81438196078963,
          -8.78566274203817,
          -8.10807382340668,
          -9.010522192633996,
          -9.323932099705445,
          -9.715362338116595,
          -10.243148003697533,
          -10.792714647758917,
          -10.690005035596196,
          -11.397072613603488,
          -10.462558213313045,
          -10.624686234219261,
          -10.095086760867467,
          -9.896650247618833,
          -11.120982486244124,
          -11.061520011904069,
          -11.730728283918001,
          -11.958165959230694,
          -11.746086419004865,
          -12.317302303626521,
          -12.251062479186448,
          -12.9735839353747,
          -13.646945403727573,
          -14.49265848957223,
          -14.951434858114176,
          -13.468282174597789,
          -13.984631937223357,
          -14.490211491375316
         ]
        },
        {
         "line": {
          "width": 1
         },
         "name": "Portfolio3",
         "type": "scatter",
         "x": [
          "2022-02-02T00:00:00",
          "2022-02-03T00:00:00",
          "2022-02-04T00:00:00",
          "2022-02-07T00:00:00",
          "2022-02-08T00:00:00",
          "2022-02-09T00:00:00",
          "2022-02-10T00:00:00",
          "2022-02-11T00:00:00",
          "2022-02-14T00:00:00",
          "2022-02-15T00:00:00",
          "2022-02-16T00:00:00",
          "2022-02-17T00:00:00",
          "2022-02-18T00:00:00",
          "2022-02-22T00:00:00",
          "2022-02-23T00:00:00",
          "2022-02-24T00:00:00",
          "2022-02-25T00:00:00",
          "2022-02-28T00:00:00",
          "2022-03-01T00:00:00",
          "2022-03-02T00:00:00",
          "2022-03-03T00:00:00",
          "2022-03-04T00:00:00",
          "2022-03-07T00:00:00",
          "2022-03-08T00:00:00",
          "2022-03-09T00:00:00",
          "2022-03-10T00:00:00",
          "2022-03-11T00:00:00",
          "2022-03-14T00:00:00",
          "2022-03-15T00:00:00",
          "2022-03-16T00:00:00",
          "2022-03-17T00:00:00",
          "2022-03-18T00:00:00",
          "2022-03-21T00:00:00",
          "2022-03-22T00:00:00",
          "2022-03-23T00:00:00",
          "2022-03-24T00:00:00",
          "2022-03-25T00:00:00",
          "2022-03-28T00:00:00",
          "2022-03-29T00:00:00",
          "2022-03-30T00:00:00",
          "2022-03-31T00:00:00",
          "2022-04-01T00:00:00",
          "2022-04-04T00:00:00",
          "2022-04-05T00:00:00",
          "2022-04-06T00:00:00",
          "2022-04-07T00:00:00",
          "2022-04-08T00:00:00",
          "2022-04-11T00:00:00",
          "2022-04-12T00:00:00",
          "2022-04-13T00:00:00",
          "2022-04-14T00:00:00",
          "2022-04-18T00:00:00",
          "2022-04-19T00:00:00",
          "2022-04-20T00:00:00",
          "2022-04-21T00:00:00",
          "2022-04-22T00:00:00",
          "2022-04-25T00:00:00",
          "2022-04-26T00:00:00",
          "2022-04-27T00:00:00",
          "2022-04-28T00:00:00",
          "2022-04-29T00:00:00",
          "2022-05-02T00:00:00",
          "2022-05-03T00:00:00",
          "2022-05-04T00:00:00",
          "2022-05-05T00:00:00",
          "2022-05-06T00:00:00",
          "2022-05-09T00:00:00",
          "2022-05-10T00:00:00",
          "2022-05-11T00:00:00",
          "2022-05-12T00:00:00",
          "2022-05-13T00:00:00",
          "2022-05-16T00:00:00",
          "2022-05-17T00:00:00",
          "2022-05-18T00:00:00",
          "2022-05-19T00:00:00",
          "2022-05-20T00:00:00",
          "2022-05-23T00:00:00",
          "2022-05-24T00:00:00",
          "2022-05-25T00:00:00",
          "2022-05-26T00:00:00",
          "2022-05-27T00:00:00",
          "2022-05-31T00:00:00",
          "2022-06-01T00:00:00",
          "2022-06-02T00:00:00",
          "2022-06-03T00:00:00",
          "2022-06-06T00:00:00",
          "2022-06-07T00:00:00",
          "2022-06-08T00:00:00",
          "2022-06-09T00:00:00",
          "2022-06-10T00:00:00",
          "2022-06-13T00:00:00",
          "2022-06-14T00:00:00",
          "2022-06-15T00:00:00",
          "2022-06-16T00:00:00",
          "2022-06-17T00:00:00",
          "2022-06-21T00:00:00",
          "2022-06-22T00:00:00",
          "2022-06-23T00:00:00",
          "2022-06-24T00:00:00",
          "2022-06-27T00:00:00",
          "2022-06-28T00:00:00",
          "2022-06-29T00:00:00",
          "2022-06-30T00:00:00",
          "2022-07-01T00:00:00",
          "2022-07-05T00:00:00",
          "2022-07-06T00:00:00",
          "2022-07-07T00:00:00",
          "2022-07-08T00:00:00",
          "2022-07-11T00:00:00",
          "2022-07-12T00:00:00",
          "2022-07-13T00:00:00",
          "2022-07-14T00:00:00",
          "2022-07-15T00:00:00",
          "2022-07-18T00:00:00",
          "2022-07-19T00:00:00",
          "2022-07-20T00:00:00",
          "2022-07-21T00:00:00",
          "2022-07-22T00:00:00",
          "2022-07-25T00:00:00",
          "2022-07-26T00:00:00",
          "2022-07-27T00:00:00",
          "2022-07-28T00:00:00",
          "2022-07-29T00:00:00",
          "2022-08-01T00:00:00",
          "2022-08-02T00:00:00",
          "2022-08-03T00:00:00",
          "2022-08-04T00:00:00",
          "2022-08-05T00:00:00",
          "2022-08-08T00:00:00",
          "2022-08-09T00:00:00",
          "2022-08-10T00:00:00",
          "2022-08-11T00:00:00",
          "2022-08-12T00:00:00",
          "2022-08-15T00:00:00",
          "2022-08-16T00:00:00",
          "2022-08-17T00:00:00",
          "2022-08-18T00:00:00",
          "2022-08-19T00:00:00",
          "2022-08-22T00:00:00",
          "2022-08-23T00:00:00",
          "2022-08-24T00:00:00",
          "2022-08-25T00:00:00",
          "2022-08-26T00:00:00",
          "2022-08-29T00:00:00",
          "2022-08-30T00:00:00",
          "2022-08-31T00:00:00",
          "2022-09-01T00:00:00",
          "2022-09-02T00:00:00",
          "2022-09-06T00:00:00",
          "2022-09-07T00:00:00",
          "2022-09-08T00:00:00",
          "2022-09-09T00:00:00",
          "2022-09-12T00:00:00",
          "2022-09-13T00:00:00",
          "2022-09-14T00:00:00",
          "2022-09-15T00:00:00",
          "2022-09-16T00:00:00",
          "2022-09-19T00:00:00",
          "2022-09-20T00:00:00",
          "2022-09-21T00:00:00",
          "2022-09-22T00:00:00",
          "2022-09-23T00:00:00",
          "2022-09-26T00:00:00",
          "2022-09-27T00:00:00",
          "2022-09-28T00:00:00",
          "2022-09-29T00:00:00",
          "2022-09-30T00:00:00"
         ],
         "y": [
          0,
          -0.9529591899691825,
          -1.1332893378100395,
          -0.9827139919660888,
          -0.5716692125669831,
          0,
          -1.0650527015822586,
          -0.891864808763998,
          -1.282393733172349,
          -0.9030919874852938,
          -0.4056517262538306,
          -0.8058267639822314,
          -0.8349323293687427,
          -1.2760642259160182,
          -2.0952772435693934,
          -1.7167690438792738,
          -0.7871921750119082,
          -0.12116646851650925,
          -0.20554350435024737,
          -0.2567764296622421,
          -0.16921013176318667,
          0,
          -1.0897856181672494,
          -0.7596563688654578,
          -0.6663530743507451,
          -0.8930968436703934,
          -1.4182260094866117,
          -2.5473338968744708,
          -2.3683488871077962,
          -1.161752158711915,
          -0.7468635647992494,
          -0.38379147707225947,
          -0.7609460155308612,
          -0.8213062645920366,
          -0.6617599162155097,
          -0.1922295035379773,
          -0.28256373023906045,
          -0.49035129310359693,
          0,
          -0.13972779997141194,
          -0.6570373705615196,
          -0.554697307760732,
          -0.4786254173997251,
          -1.7157143523992224,
          -2.1894090194342297,
          -2.2081178727376916,
          -2.3143740665952706,
          -2.8492339588175097,
          -2.6937052789577143,
          -1.9661119122899806,
          -2.729275818530752,
          -2.802318982053975,
          -2.565957376452166,
          -1.976383660481007,
          -2.898650718779039,
          -4.273019847777027,
          -4.309425489787899,
          -5.117331446433548,
          -5.472652478942397,
          -4.544087470700886,
          -6.027253664803123,
          -6.497432782640633,
          -5.960367044882098,
          -4.563151967891721,
          -6.456754474881099,
          -7.009396183236294,
          -8.381973021169742,
          -8.527960605453512,
          -8.644622395192226,
          -8.813240715301129,
          -8.32860038305948,
          -8.238023337421707,
          -7.668368254220626,
          -8.678154368270963,
          -8.47707119178761,
          -8.338171540162698,
          -7.975695285357887,
          -7.801705746971144,
          -7.28725130613136,
          -6.631212194976577,
          -5.732476053956514,
          -6.659424302186368,
          -6.812529128057054,
          -5.850232561979873,
          -6.560219474392137,
          -6.778443854464111,
          -6.050627386820073,
          -6.78430389183765,
          -7.659273024831014,
          -8.597860997343066,
          -11.30283182125389,
          -11.809086589785867,
          -10.765183517987309,
          -11.805847954016757,
          -11.777284609321425,
          -11.482738747047904,
          -10.997489022399542,
          -10.802502173089712,
          -9.928590928538005,
          -10.077116974213896,
          -10.585535103732212,
          -10.554898450569317,
          -10.771749945458609,
          -10.144703158482038,
          -10.475110066048444,
          -11.21785851709739,
          -10.75123531726544,
          -11.032305336352955,
          -11.24458014655849,
          -11.349852655600179,
          -11.233658194887951,
          -11.929701032718187,
          -11.202373977297263,
          -11.465487093084636,
          -10.486931009710487,
          -10.327529150369408,
          -9.507629053862765,
          -9.45358641302857,
          -9.491490842715145,
          -9.828233562042277,
          -8.94979659489753,
          -8.029814771608358,
          -7.570903070772383,
          -7.115221685759099,
          -7.968834049050411,
          -7.236989214390944,
          -7.0367116277678114,
          -7.653817671305118,
          -7.033737886712199,
          -7.290947821650562,
          -6.6098507815100955,
          -6.865714612880391,
          -5.903736569723228,
          -6.073420433724397,
          -5.860799491054413,
          -6.591278377904031,
          -6.402963199339418,
          -7.400142854929714,
          -8.412937388705044,
          -8.376906516477955,
          -8.303939580341957,
          -7.432216009745007,
          -8.708556516367416,
          -9.080089909825794,
          -9.68197290548165,
          -10.245451763091618,
          -10.84836171555611,
          -10.80137747019847,
          -11.572940426353451,
          -10.451339828554174,
          -10.447784929013327,
          -9.705443191575513,
          -9.34393422048464,
          -11.109185125645416,
          -11.093163510704196,
          -11.765311098547249,
          -12.172088046702312,
          -11.796325185241695,
          -12.540015205470178,
          -12.766429307928039,
          -13.742197276610968,
          -14.713440430564361,
          -15.728773504648974,
          -16.11753009152489,
          -14.41597300034988,
          -15.221812010206348,
          -15.757008980122688
         ]
        },
        {
         "line": {
          "width": 1
         },
         "name": "Portfolio4",
         "type": "scatter",
         "x": [
          "2022-02-02T00:00:00",
          "2022-02-03T00:00:00",
          "2022-02-04T00:00:00",
          "2022-02-07T00:00:00",
          "2022-02-08T00:00:00",
          "2022-02-09T00:00:00",
          "2022-02-10T00:00:00",
          "2022-02-11T00:00:00",
          "2022-02-14T00:00:00",
          "2022-02-15T00:00:00",
          "2022-02-16T00:00:00",
          "2022-02-17T00:00:00",
          "2022-02-18T00:00:00",
          "2022-02-22T00:00:00",
          "2022-02-23T00:00:00",
          "2022-02-24T00:00:00",
          "2022-02-25T00:00:00",
          "2022-02-28T00:00:00",
          "2022-03-01T00:00:00",
          "2022-03-02T00:00:00",
          "2022-03-03T00:00:00",
          "2022-03-04T00:00:00",
          "2022-03-07T00:00:00",
          "2022-03-08T00:00:00",
          "2022-03-09T00:00:00",
          "2022-03-10T00:00:00",
          "2022-03-11T00:00:00",
          "2022-03-14T00:00:00",
          "2022-03-15T00:00:00",
          "2022-03-16T00:00:00",
          "2022-03-17T00:00:00",
          "2022-03-18T00:00:00",
          "2022-03-21T00:00:00",
          "2022-03-22T00:00:00",
          "2022-03-23T00:00:00",
          "2022-03-24T00:00:00",
          "2022-03-25T00:00:00",
          "2022-03-28T00:00:00",
          "2022-03-29T00:00:00",
          "2022-03-30T00:00:00",
          "2022-03-31T00:00:00",
          "2022-04-01T00:00:00",
          "2022-04-04T00:00:00",
          "2022-04-05T00:00:00",
          "2022-04-06T00:00:00",
          "2022-04-07T00:00:00",
          "2022-04-08T00:00:00",
          "2022-04-11T00:00:00",
          "2022-04-12T00:00:00",
          "2022-04-13T00:00:00",
          "2022-04-14T00:00:00",
          "2022-04-18T00:00:00",
          "2022-04-19T00:00:00",
          "2022-04-20T00:00:00",
          "2022-04-21T00:00:00",
          "2022-04-22T00:00:00",
          "2022-04-25T00:00:00",
          "2022-04-26T00:00:00",
          "2022-04-27T00:00:00",
          "2022-04-28T00:00:00",
          "2022-04-29T00:00:00",
          "2022-05-02T00:00:00",
          "2022-05-03T00:00:00",
          "2022-05-04T00:00:00",
          "2022-05-05T00:00:00",
          "2022-05-06T00:00:00",
          "2022-05-09T00:00:00",
          "2022-05-10T00:00:00",
          "2022-05-11T00:00:00",
          "2022-05-12T00:00:00",
          "2022-05-13T00:00:00",
          "2022-05-16T00:00:00",
          "2022-05-17T00:00:00",
          "2022-05-18T00:00:00",
          "2022-05-19T00:00:00",
          "2022-05-20T00:00:00",
          "2022-05-23T00:00:00",
          "2022-05-24T00:00:00",
          "2022-05-25T00:00:00",
          "2022-05-26T00:00:00",
          "2022-05-27T00:00:00",
          "2022-05-31T00:00:00",
          "2022-06-01T00:00:00",
          "2022-06-02T00:00:00",
          "2022-06-03T00:00:00",
          "2022-06-06T00:00:00",
          "2022-06-07T00:00:00",
          "2022-06-08T00:00:00",
          "2022-06-09T00:00:00",
          "2022-06-10T00:00:00",
          "2022-06-13T00:00:00",
          "2022-06-14T00:00:00",
          "2022-06-15T00:00:00",
          "2022-06-16T00:00:00",
          "2022-06-17T00:00:00",
          "2022-06-21T00:00:00",
          "2022-06-22T00:00:00",
          "2022-06-23T00:00:00",
          "2022-06-24T00:00:00",
          "2022-06-27T00:00:00",
          "2022-06-28T00:00:00",
          "2022-06-29T00:00:00",
          "2022-06-30T00:00:00",
          "2022-07-01T00:00:00",
          "2022-07-05T00:00:00",
          "2022-07-06T00:00:00",
          "2022-07-07T00:00:00",
          "2022-07-08T00:00:00",
          "2022-07-11T00:00:00",
          "2022-07-12T00:00:00",
          "2022-07-13T00:00:00",
          "2022-07-14T00:00:00",
          "2022-07-15T00:00:00",
          "2022-07-18T00:00:00",
          "2022-07-19T00:00:00",
          "2022-07-20T00:00:00",
          "2022-07-21T00:00:00",
          "2022-07-22T00:00:00",
          "2022-07-25T00:00:00",
          "2022-07-26T00:00:00",
          "2022-07-27T00:00:00",
          "2022-07-28T00:00:00",
          "2022-07-29T00:00:00",
          "2022-08-01T00:00:00",
          "2022-08-02T00:00:00",
          "2022-08-03T00:00:00",
          "2022-08-04T00:00:00",
          "2022-08-05T00:00:00",
          "2022-08-08T00:00:00",
          "2022-08-09T00:00:00",
          "2022-08-10T00:00:00",
          "2022-08-11T00:00:00",
          "2022-08-12T00:00:00",
          "2022-08-15T00:00:00",
          "2022-08-16T00:00:00",
          "2022-08-17T00:00:00",
          "2022-08-18T00:00:00",
          "2022-08-19T00:00:00",
          "2022-08-22T00:00:00",
          "2022-08-23T00:00:00",
          "2022-08-24T00:00:00",
          "2022-08-25T00:00:00",
          "2022-08-26T00:00:00",
          "2022-08-29T00:00:00",
          "2022-08-30T00:00:00",
          "2022-08-31T00:00:00",
          "2022-09-01T00:00:00",
          "2022-09-02T00:00:00",
          "2022-09-06T00:00:00",
          "2022-09-07T00:00:00",
          "2022-09-08T00:00:00",
          "2022-09-09T00:00:00",
          "2022-09-12T00:00:00",
          "2022-09-13T00:00:00",
          "2022-09-14T00:00:00",
          "2022-09-15T00:00:00",
          "2022-09-16T00:00:00",
          "2022-09-19T00:00:00",
          "2022-09-20T00:00:00",
          "2022-09-21T00:00:00",
          "2022-09-22T00:00:00",
          "2022-09-23T00:00:00",
          "2022-09-26T00:00:00",
          "2022-09-27T00:00:00",
          "2022-09-28T00:00:00",
          "2022-09-29T00:00:00",
          "2022-09-30T00:00:00"
         ],
         "y": [
          0,
          -1.5212751980806405,
          -1.3503132057683054,
          -1.480055557208937,
          -1.0284848602091778,
          -0.0634776372157031,
          -1.3918407222676787,
          -2.2802104318004446,
          -2.664416465917663,
          -1.6657458370418876,
          -1.5321185111215496,
          -2.765445832464264,
          -3.176618140916576,
          -3.8685605825595437,
          -5.006992128951449,
          -3.9584531206235063,
          -2.7107997854789234,
          -2.5210546672729484,
          -3.1560428698130583,
          -2.4418528887499957,
          -2.8100381526710017,
          -3.19444203331688,
          -5.0828270859258895,
          -5.554162041931798,
          -4.156726610994099,
          -4.513869194590258,
          -5.310161835851501,
          -6.142491294376596,
          -5.009599248389884,
          -3.68107552240563,
          -2.945851719718817,
          -2.245647757187652,
          -2.6286681438066783,
          -2.0256115779938577,
          -2.6925249286320674,
          -1.9620952250725687,
          -2.0018498014370056,
          -1.5957059196763712,
          -0.5905637824066279,
          -0.9998122962560974,
          -1.9128880276018,
          -1.8715975276292762,
          -1.3356197379887247,
          -2.4826407627259517,
          -3.1654863444234516,
          -2.91151448628052,
          -3.2146831897788775,
          -4.180379054629723,
          -4.168756501147941,
          -3.355795834843267,
          -4.275902794765829,
          -4.410064654180079,
          -3.5939626196170638,
          -3.552950426900092,
          -4.665287412361973,
          -6.219257704853609,
          -5.76784597454375,
          -7.200498635754659,
          -7.184829320401709,
          -5.90478105171951,
          -8.111161255522637,
          -7.840540430839338,
          -7.565728363441881,
          -5.7538535460911255,
          -8.032946021569709,
          -8.5552146938922,
          -10.256442537651678,
          -10.113858036304213,
          -10.989320641437883,
          -10.830050960105542,
          -9.547656857599318,
          -9.708662972364213,
          -8.812813459520019,
          -10.792556216632022,
          -10.919001047993005,
          -10.84313584049913,
          -10.086272121191175,
          -10.395098843764716,
          -9.749433394591723,
          -8.687777284336073,
          -7.336692372092546,
          -7.9737536692671585,
          -8.500103432209183,
          -7.371701380265206,
          -8.299320590598702,
          -8.291602017809542,
          -7.635950230064736,
          -8.314597686305913,
          -9.651325752890315,
          -11.522764327807455,
          -14.028180585856154,
          -14.321879176986329,
          -13.278039270721331,
          -14.873953750333346,
          -14.728234207769898,
          -13.643097001076033,
          -13.363017613812556,
          -12.780691396475163,
          -11.226384196556605,
          -11.50106054459722,
          -12.551212996262795,
          -12.464412497851685,
          -12.695863009127217,
          -11.859912379747751,
          -11.640128449395448,
          -11.771512427078235,
          -11.07765889926945,
          -11.256874657478766,
          -11.760526556516037,
          -12.139555525785095,
          -12.3480764616267,
          -12.685898975862298,
          -11.655387233221337,
          -12.058578457589686,
          -10.763591894750457,
          -10.380777293544408,
          -9.571400313485812,
          -9.881692751266124,
          -9.877282594683424,
          -10.533497520132695,
          -9.07884603188137,
          -8.156277193068872,
          -7.419174815898133,
          -7.487231898460578,
          -8.137105796536959,
          -7.203158526172171,
          -7.125683778135494,
          -7.51506877902205,
          -7.3510048020015155,
          -7.783890259426185,
          -6.4896282567796,
          -6.601152114618758,
          -5.566843259477306,
          -5.26692658276623,
          -5.219029414553445,
          -5.8808157701537915,
          -5.679812305987886,
          -6.6162215286539094,
          -7.917108170892373,
          -8.048085529810923,
          -7.895659222944962,
          -6.997208684347045,
          -8.890903504428271,
          -9.390101436827115,
          -9.993795709438603,
          -10.462369817549611,
          -10.560385821027364,
          -10.909573238419357,
          -11.345136940681444,
          -10.23869075616638,
          -9.922089747123797,
          -9.07016745087883,
          -8.511337972954802,
          -11.05341406446685,
          -10.88608322572665,
          -11.53502385318319,
          -11.948053952297077,
          -11.664941970442811,
          -12.3686093326011,
          -13.219003022313213,
          -14.076946897121745,
          -14.9903518395615,
          -15.840697548398941,
          -16.010345481265286,
          -14.507921188179484,
          -15.637263498322195,
          -16.374543073151273
         ]
        },
        {
         "line": {
          "width": 1
         },
         "name": "Portfolio5",
         "type": "scatter",
         "x": [
          "2022-02-02T00:00:00",
          "2022-02-03T00:00:00",
          "2022-02-04T00:00:00",
          "2022-02-07T00:00:00",
          "2022-02-08T00:00:00",
          "2022-02-09T00:00:00",
          "2022-02-10T00:00:00",
          "2022-02-11T00:00:00",
          "2022-02-14T00:00:00",
          "2022-02-15T00:00:00",
          "2022-02-16T00:00:00",
          "2022-02-17T00:00:00",
          "2022-02-18T00:00:00",
          "2022-02-22T00:00:00",
          "2022-02-23T00:00:00",
          "2022-02-24T00:00:00",
          "2022-02-25T00:00:00",
          "2022-02-28T00:00:00",
          "2022-03-01T00:00:00",
          "2022-03-02T00:00:00",
          "2022-03-03T00:00:00",
          "2022-03-04T00:00:00",
          "2022-03-07T00:00:00",
          "2022-03-08T00:00:00",
          "2022-03-09T00:00:00",
          "2022-03-10T00:00:00",
          "2022-03-11T00:00:00",
          "2022-03-14T00:00:00",
          "2022-03-15T00:00:00",
          "2022-03-16T00:00:00",
          "2022-03-17T00:00:00",
          "2022-03-18T00:00:00",
          "2022-03-21T00:00:00",
          "2022-03-22T00:00:00",
          "2022-03-23T00:00:00",
          "2022-03-24T00:00:00",
          "2022-03-25T00:00:00",
          "2022-03-28T00:00:00",
          "2022-03-29T00:00:00",
          "2022-03-30T00:00:00",
          "2022-03-31T00:00:00",
          "2022-04-01T00:00:00",
          "2022-04-04T00:00:00",
          "2022-04-05T00:00:00",
          "2022-04-06T00:00:00",
          "2022-04-07T00:00:00",
          "2022-04-08T00:00:00",
          "2022-04-11T00:00:00",
          "2022-04-12T00:00:00",
          "2022-04-13T00:00:00",
          "2022-04-14T00:00:00",
          "2022-04-18T00:00:00",
          "2022-04-19T00:00:00",
          "2022-04-20T00:00:00",
          "2022-04-21T00:00:00",
          "2022-04-22T00:00:00",
          "2022-04-25T00:00:00",
          "2022-04-26T00:00:00",
          "2022-04-27T00:00:00",
          "2022-04-28T00:00:00",
          "2022-04-29T00:00:00",
          "2022-05-02T00:00:00",
          "2022-05-03T00:00:00",
          "2022-05-04T00:00:00",
          "2022-05-05T00:00:00",
          "2022-05-06T00:00:00",
          "2022-05-09T00:00:00",
          "2022-05-10T00:00:00",
          "2022-05-11T00:00:00",
          "2022-05-12T00:00:00",
          "2022-05-13T00:00:00",
          "2022-05-16T00:00:00",
          "2022-05-17T00:00:00",
          "2022-05-18T00:00:00",
          "2022-05-19T00:00:00",
          "2022-05-20T00:00:00",
          "2022-05-23T00:00:00",
          "2022-05-24T00:00:00",
          "2022-05-25T00:00:00",
          "2022-05-26T00:00:00",
          "2022-05-27T00:00:00",
          "2022-05-31T00:00:00",
          "2022-06-01T00:00:00",
          "2022-06-02T00:00:00",
          "2022-06-03T00:00:00",
          "2022-06-06T00:00:00",
          "2022-06-07T00:00:00",
          "2022-06-08T00:00:00",
          "2022-06-09T00:00:00",
          "2022-06-10T00:00:00",
          "2022-06-13T00:00:00",
          "2022-06-14T00:00:00",
          "2022-06-15T00:00:00",
          "2022-06-16T00:00:00",
          "2022-06-17T00:00:00",
          "2022-06-21T00:00:00",
          "2022-06-22T00:00:00",
          "2022-06-23T00:00:00",
          "2022-06-24T00:00:00",
          "2022-06-27T00:00:00",
          "2022-06-28T00:00:00",
          "2022-06-29T00:00:00",
          "2022-06-30T00:00:00",
          "2022-07-01T00:00:00",
          "2022-07-05T00:00:00",
          "2022-07-06T00:00:00",
          "2022-07-07T00:00:00",
          "2022-07-08T00:00:00",
          "2022-07-11T00:00:00",
          "2022-07-12T00:00:00",
          "2022-07-13T00:00:00",
          "2022-07-14T00:00:00",
          "2022-07-15T00:00:00",
          "2022-07-18T00:00:00",
          "2022-07-19T00:00:00",
          "2022-07-20T00:00:00",
          "2022-07-21T00:00:00",
          "2022-07-22T00:00:00",
          "2022-07-25T00:00:00",
          "2022-07-26T00:00:00",
          "2022-07-27T00:00:00",
          "2022-07-28T00:00:00",
          "2022-07-29T00:00:00",
          "2022-08-01T00:00:00",
          "2022-08-02T00:00:00",
          "2022-08-03T00:00:00",
          "2022-08-04T00:00:00",
          "2022-08-05T00:00:00",
          "2022-08-08T00:00:00",
          "2022-08-09T00:00:00",
          "2022-08-10T00:00:00",
          "2022-08-11T00:00:00",
          "2022-08-12T00:00:00",
          "2022-08-15T00:00:00",
          "2022-08-16T00:00:00",
          "2022-08-17T00:00:00",
          "2022-08-18T00:00:00",
          "2022-08-19T00:00:00",
          "2022-08-22T00:00:00",
          "2022-08-23T00:00:00",
          "2022-08-24T00:00:00",
          "2022-08-25T00:00:00",
          "2022-08-26T00:00:00",
          "2022-08-29T00:00:00",
          "2022-08-30T00:00:00",
          "2022-08-31T00:00:00",
          "2022-09-01T00:00:00",
          "2022-09-02T00:00:00",
          "2022-09-06T00:00:00",
          "2022-09-07T00:00:00",
          "2022-09-08T00:00:00",
          "2022-09-09T00:00:00",
          "2022-09-12T00:00:00",
          "2022-09-13T00:00:00",
          "2022-09-14T00:00:00",
          "2022-09-15T00:00:00",
          "2022-09-16T00:00:00",
          "2022-09-19T00:00:00",
          "2022-09-20T00:00:00",
          "2022-09-21T00:00:00",
          "2022-09-22T00:00:00",
          "2022-09-23T00:00:00",
          "2022-09-26T00:00:00",
          "2022-09-27T00:00:00",
          "2022-09-28T00:00:00",
          "2022-09-29T00:00:00",
          "2022-09-30T00:00:00"
         ],
         "y": [
          0,
          -0.7779267047052896,
          -0.38844330919070025,
          -0.34220632046267907,
          -0.09972745504451819,
          0,
          -0.7477123659816565,
          -0.3921362412134921,
          -0.2699958378463263,
          -0.28300635146574216,
          0,
          -0.17411581026506306,
          -0.3431448510597068,
          -0.5237015468592454,
          -0.8527071603990133,
          -0.4675420361117122,
          -0.13395437116724418,
          0,
          0,
          0,
          0,
          0,
          0,
          0,
          -1.2320477127490292,
          -1.481236628496485,
          -2.0923814872854885,
          -3.1386087612968128,
          -3.2899684064876977,
          -2.3972580049726577,
          -1.2971430177086574,
          -1.5881149408971007,
          -1.1319690884002642,
          -1.0937749500052663,
          -0.42771250248848647,
          -0.07008948770738099,
          0,
          -1.0808594979743402,
          -0.43359018225545,
          -0.260497880859345,
          -1.4055425935724397,
          -1.4752021268781834,
          -0.7303254952961469,
          -1.42045336579244,
          -1.9617434614437879,
          -1.6558426756208444,
          -1.4514709772144418,
          -1.792889727390501,
          -1.0907704263757756,
          -0.10192821870240731,
          -0.5483331228483102,
          -0.4374338940834055,
          -0.659096310412699,
          -0.5531897932544494,
          -0.926062403933281,
          -2.071505251975758,
          -2.7364575252839973,
          -3.082771908090176,
          -3.1585495297920207,
          -2.0770274986129267,
          -2.891725900818476,
          -2.9326590863826385,
          -2.835390635659396,
          -1.587062778322157,
          -2.6374230119156072,
          -2.9112292698486253,
          -5.162455888381546,
          -5.010529379088813,
          -4.82871864040082,
          -5.064110246318531,
          -4.389363893318343,
          -3.917446467229979,
          -3.4113204387834384,
          -4.96225857230721,
          -4.4140178103265875,
          -4.64739740707687,
          -3.8070941565093386,
          -4.164375934690357,
          -3.771619655293257,
          -3.4838431459768615,
          -2.6504974547639226,
          -3.1220133277225726,
          -3.216020035678868,
          -2.2706530141381798,
          -3.2320764593127826,
          -3.1426995403162516,
          -2.4582781241142326,
          -2.8176797625010686,
          -3.324336673848538,
          -3.7216819881303542,
          -5.602515824396514,
          -6.077923212111425,
          -5.220473298551043,
          -5.302428022252625,
          -5.583443514798503,
          -5.203232967158733,
          -5.591626695002628,
          -5.58493175253717,
          -4.619152676602745,
          -4.627442103225066,
          -5.050975712621774,
          -5.1851160741456574,
          -5.8524942161970905,
          -5.763172970153329,
          -7.082987871268809,
          -7.490450398181691,
          -6.428073804922585,
          -6.591577968202733,
          -6.8090418221949385,
          -7.75016883019628,
          -7.342305434960794,
          -7.97475904002769,
          -7.608704360424568,
          -7.550687559005276,
          -6.356541985083009,
          -6.530594994118999,
          -6.144236345861898,
          -6.20187652653037,
          -6.004686332623088,
          -6.31392489928313,
          -5.454567551918432,
          -4.65477808139616,
          -4.305310200608636,
          -4.484070053800194,
          -4.860781472181863,
          -4.469214155526268,
          -4.294928516655839,
          -4.921310797982836,
          -4.384046602787461,
          -4.257106033109959,
          -3.3911929456847956,
          -3.419695279869106,
          -2.874573249554524,
          -3.3400638853925635,
          -3.5474246883442584,
          -3.68926882919276,
          -3.782202436727722,
          -4.117926191870391,
          -4.881607825680446,
          -4.2532493898791435,
          -3.9874620193982246,
          -3.56944367825901,
          -4.465472241670221,
          -4.239528669402414,
          -4.905726301563962,
          -5.6507628348594015,
          -6.106060128812329,
          -6.170333622033786,
          -6.351003937043642,
          -5.804860902087561,
          -5.605034568308032,
          -4.934419597915496,
          -4.051582602976611,
          -5.434345809335817,
          -5.38495165242876,
          -6.125071318091003,
          -6.312995203651461,
          -5.850613540538207,
          -6.403359338531667,
          -6.8112317503853825,
          -6.698201676150395,
          -8.005309711372256,
          -8.623330540658646,
          -8.784764654611287,
          -7.332762893916323,
          -7.813835227609411,
          -8.149507655764221
         ]
        },
        {
         "line": {
          "width": 1
         },
         "name": "Portfolio6",
         "type": "scatter",
         "x": [
          "2022-02-02T00:00:00",
          "2022-02-03T00:00:00",
          "2022-02-04T00:00:00",
          "2022-02-07T00:00:00",
          "2022-02-08T00:00:00",
          "2022-02-09T00:00:00",
          "2022-02-10T00:00:00",
          "2022-02-11T00:00:00",
          "2022-02-14T00:00:00",
          "2022-02-15T00:00:00",
          "2022-02-16T00:00:00",
          "2022-02-17T00:00:00",
          "2022-02-18T00:00:00",
          "2022-02-22T00:00:00",
          "2022-02-23T00:00:00",
          "2022-02-24T00:00:00",
          "2022-02-25T00:00:00",
          "2022-02-28T00:00:00",
          "2022-03-01T00:00:00",
          "2022-03-02T00:00:00",
          "2022-03-03T00:00:00",
          "2022-03-04T00:00:00",
          "2022-03-07T00:00:00",
          "2022-03-08T00:00:00",
          "2022-03-09T00:00:00",
          "2022-03-10T00:00:00",
          "2022-03-11T00:00:00",
          "2022-03-14T00:00:00",
          "2022-03-15T00:00:00",
          "2022-03-16T00:00:00",
          "2022-03-17T00:00:00",
          "2022-03-18T00:00:00",
          "2022-03-21T00:00:00",
          "2022-03-22T00:00:00",
          "2022-03-23T00:00:00",
          "2022-03-24T00:00:00",
          "2022-03-25T00:00:00",
          "2022-03-28T00:00:00",
          "2022-03-29T00:00:00",
          "2022-03-30T00:00:00",
          "2022-03-31T00:00:00",
          "2022-04-01T00:00:00",
          "2022-04-04T00:00:00",
          "2022-04-05T00:00:00",
          "2022-04-06T00:00:00",
          "2022-04-07T00:00:00",
          "2022-04-08T00:00:00",
          "2022-04-11T00:00:00",
          "2022-04-12T00:00:00",
          "2022-04-13T00:00:00",
          "2022-04-14T00:00:00",
          "2022-04-18T00:00:00",
          "2022-04-19T00:00:00",
          "2022-04-20T00:00:00",
          "2022-04-21T00:00:00",
          "2022-04-22T00:00:00",
          "2022-04-25T00:00:00",
          "2022-04-26T00:00:00",
          "2022-04-27T00:00:00",
          "2022-04-28T00:00:00",
          "2022-04-29T00:00:00",
          "2022-05-02T00:00:00",
          "2022-05-03T00:00:00",
          "2022-05-04T00:00:00",
          "2022-05-05T00:00:00",
          "2022-05-06T00:00:00",
          "2022-05-09T00:00:00",
          "2022-05-10T00:00:00",
          "2022-05-11T00:00:00",
          "2022-05-12T00:00:00",
          "2022-05-13T00:00:00",
          "2022-05-16T00:00:00",
          "2022-05-17T00:00:00",
          "2022-05-18T00:00:00",
          "2022-05-19T00:00:00",
          "2022-05-20T00:00:00",
          "2022-05-23T00:00:00",
          "2022-05-24T00:00:00",
          "2022-05-25T00:00:00",
          "2022-05-26T00:00:00",
          "2022-05-27T00:00:00",
          "2022-05-31T00:00:00",
          "2022-06-01T00:00:00",
          "2022-06-02T00:00:00",
          "2022-06-03T00:00:00",
          "2022-06-06T00:00:00",
          "2022-06-07T00:00:00",
          "2022-06-08T00:00:00",
          "2022-06-09T00:00:00",
          "2022-06-10T00:00:00",
          "2022-06-13T00:00:00",
          "2022-06-14T00:00:00",
          "2022-06-15T00:00:00",
          "2022-06-16T00:00:00",
          "2022-06-17T00:00:00",
          "2022-06-21T00:00:00",
          "2022-06-22T00:00:00",
          "2022-06-23T00:00:00",
          "2022-06-24T00:00:00",
          "2022-06-27T00:00:00",
          "2022-06-28T00:00:00",
          "2022-06-29T00:00:00",
          "2022-06-30T00:00:00",
          "2022-07-01T00:00:00",
          "2022-07-05T00:00:00",
          "2022-07-06T00:00:00",
          "2022-07-07T00:00:00",
          "2022-07-08T00:00:00",
          "2022-07-11T00:00:00",
          "2022-07-12T00:00:00",
          "2022-07-13T00:00:00",
          "2022-07-14T00:00:00",
          "2022-07-15T00:00:00",
          "2022-07-18T00:00:00",
          "2022-07-19T00:00:00",
          "2022-07-20T00:00:00",
          "2022-07-21T00:00:00",
          "2022-07-22T00:00:00",
          "2022-07-25T00:00:00",
          "2022-07-26T00:00:00",
          "2022-07-27T00:00:00",
          "2022-07-28T00:00:00",
          "2022-07-29T00:00:00",
          "2022-08-01T00:00:00",
          "2022-08-02T00:00:00",
          "2022-08-03T00:00:00",
          "2022-08-04T00:00:00",
          "2022-08-05T00:00:00",
          "2022-08-08T00:00:00",
          "2022-08-09T00:00:00",
          "2022-08-10T00:00:00",
          "2022-08-11T00:00:00",
          "2022-08-12T00:00:00",
          "2022-08-15T00:00:00",
          "2022-08-16T00:00:00",
          "2022-08-17T00:00:00",
          "2022-08-18T00:00:00",
          "2022-08-19T00:00:00",
          "2022-08-22T00:00:00",
          "2022-08-23T00:00:00",
          "2022-08-24T00:00:00",
          "2022-08-25T00:00:00",
          "2022-08-26T00:00:00",
          "2022-08-29T00:00:00",
          "2022-08-30T00:00:00",
          "2022-08-31T00:00:00",
          "2022-09-01T00:00:00",
          "2022-09-02T00:00:00",
          "2022-09-06T00:00:00",
          "2022-09-07T00:00:00",
          "2022-09-08T00:00:00",
          "2022-09-09T00:00:00",
          "2022-09-12T00:00:00",
          "2022-09-13T00:00:00",
          "2022-09-14T00:00:00",
          "2022-09-15T00:00:00",
          "2022-09-16T00:00:00",
          "2022-09-19T00:00:00",
          "2022-09-20T00:00:00",
          "2022-09-21T00:00:00",
          "2022-09-22T00:00:00",
          "2022-09-23T00:00:00",
          "2022-09-26T00:00:00",
          "2022-09-27T00:00:00",
          "2022-09-28T00:00:00",
          "2022-09-29T00:00:00",
          "2022-09-30T00:00:00"
         ],
         "y": [
          0,
          0,
          -0.20422901467389565,
          0,
          0,
          0,
          -0.6740365444273921,
          -0.1762229667637838,
          -0.38343955559281273,
          -0.28193781396279594,
          0,
          0,
          0,
          -0.22336344843369993,
          0,
          -0.8636009182831361,
          -0.709699926623153,
          0,
          0,
          -0.13633507966248626,
          -0.3230669224074334,
          -0.14929490557119562,
          0,
          0,
          -1.6575198306266192,
          -1.7818333705846623,
          -2.054624248046144,
          -2.582843598328799,
          -3.133994861371414,
          -2.975555664075513,
          -2.5703032446448337,
          -2.734468545148383,
          -2.4983353748892823,
          -2.966032442057709,
          -2.065459077502696,
          -2.0167930078267227,
          -2.2709192768588182,
          -2.9011243829295763,
          -2.889858962345737,
          -2.632332637615309,
          -2.534780016160987,
          -3.138924066471105,
          -3.2456654518977834,
          -4.114962327452332,
          -4.127712928985772,
          -4.112967197733363,
          -4.109348067292529,
          -3.4654437752954848,
          -3.1905293700854376,
          -3.2953743715211536,
          -3.4478981779634044,
          -3.0765852892970513,
          -3.78601258527258,
          -3.275447457164671,
          -3.5231284896821036,
          -4.498112508980478,
          -5.0414522482739255,
          -5.226902352478946,
          -5.244558103956054,
          -4.5855730193884225,
          -4.936677308455295,
          -6.364299786242444,
          -6.190421557485992,
          -5.955465554135841,
          -6.924510869931821,
          -6.994621346104124,
          -8.059057004283076,
          -7.917285759338332,
          -7.3466957732748694,
          -7.751972052297873,
          -7.803627069699138,
          -7.8299801936003055,
          -7.705816180804181,
          -7.386089748107738,
          -7.44387039133092,
          -7.28778715088475,
          -7.291784475843233,
          -6.597815240710259,
          -6.445641259228319,
          -6.208224247446392,
          -6.372712148184401,
          -6.811357818657083,
          -7.55228653623975,
          -6.9945598357856635,
          -7.170036163003801,
          -7.833955596869114,
          -8.49962564600325,
          -8.729095037494739,
          -9.32156190780703,
          -8.962688624188909,
          -10.500552545801511,
          -11.710433615906846,
          -10.674289993370845,
          -11.08155730400714,
          -11.644214724632018,
          -11.326573074253854,
          -10.647077515414205,
          -10.551585107672567,
          -11.019278896481389,
          -11.752829135091524,
          -12.19976186931685,
          -12.331628059829958,
          -12.12516376294226,
          -12.34216960375073,
          -12.684693206491104,
          -13.301392209633534,
          -13.439988169981486,
          -13.694508939376126,
          -13.70390838254144,
          -13.89854939557793,
          -13.50001486738871,
          -13.555244544720646,
          -13.488450003556451,
          -13.331796573896625,
          -13.0544277673744,
          -13.544132703822577,
          -12.806932399134274,
          -12.374157546183184,
          -12.491886273557995,
          -12.321822215277823,
          -11.63496384980849,
          -10.9248156358851,
          -10.810930148443198,
          -10.689847659586171,
          -11.125241216233517,
          -10.69927423367748,
          -10.145635974632805,
          -10.716058275260965,
          -10.468983481505322,
          -10.005280811891737,
          -10.097076704076835,
          -10.228170692416516,
          -9.987420487167897,
          -10.532316087254367,
          -10.742790849358785,
          -11.363012873971224,
          -11.576785768765074,
          -11.738398326136345,
          -11.695727668920208,
          -11.383662055517929,
          -11.863468693936952,
          -11.41728305313815,
          -11.631599299657758,
          -12.324086567165116,
          -12.707585922797248,
          -13.28154293260171,
          -14.096263403917453,
          -14.0009377379823,
          -14.384803879634712,
          -13.260798623387803,
          -14.014183541815173,
          -13.936567158296075,
          -14.06482879123364,
          -14.848040467791057,
          -14.765773267097849,
          -15.71084781234906,
          -15.820078839822694,
          -16.373394593033773,
          -17.319019462480934,
          -17.091202883435496,
          -18.010484028792984,
          -18.643866936410735,
          -19.61128943373639,
          -19.69855620091573,
          -18.586966228210933,
          -18.989866897809115,
          -19.178463584575677
         ]
        },
        {
         "line": {
          "width": 1
         },
         "name": "Benchmark",
         "type": "scatter",
         "x": [
          "2022-02-02T00:00:00",
          "2022-02-03T00:00:00",
          "2022-02-04T00:00:00",
          "2022-02-07T00:00:00",
          "2022-02-08T00:00:00",
          "2022-02-09T00:00:00",
          "2022-02-10T00:00:00",
          "2022-02-11T00:00:00",
          "2022-02-14T00:00:00",
          "2022-02-15T00:00:00",
          "2022-02-16T00:00:00",
          "2022-02-17T00:00:00",
          "2022-02-18T00:00:00",
          "2022-02-22T00:00:00",
          "2022-02-23T00:00:00",
          "2022-02-24T00:00:00",
          "2022-02-25T00:00:00",
          "2022-02-28T00:00:00",
          "2022-03-01T00:00:00",
          "2022-03-02T00:00:00",
          "2022-03-03T00:00:00",
          "2022-03-04T00:00:00",
          "2022-03-07T00:00:00",
          "2022-03-08T00:00:00",
          "2022-03-09T00:00:00",
          "2022-03-10T00:00:00",
          "2022-03-11T00:00:00",
          "2022-03-14T00:00:00",
          "2022-03-15T00:00:00",
          "2022-03-16T00:00:00",
          "2022-03-17T00:00:00",
          "2022-03-18T00:00:00",
          "2022-03-21T00:00:00",
          "2022-03-22T00:00:00",
          "2022-03-23T00:00:00",
          "2022-03-24T00:00:00",
          "2022-03-25T00:00:00",
          "2022-03-28T00:00:00",
          "2022-03-29T00:00:00",
          "2022-03-30T00:00:00",
          "2022-03-31T00:00:00",
          "2022-04-01T00:00:00",
          "2022-04-04T00:00:00",
          "2022-04-05T00:00:00",
          "2022-04-06T00:00:00",
          "2022-04-07T00:00:00",
          "2022-04-08T00:00:00",
          "2022-04-11T00:00:00",
          "2022-04-12T00:00:00",
          "2022-04-13T00:00:00",
          "2022-04-14T00:00:00",
          "2022-04-18T00:00:00",
          "2022-04-19T00:00:00",
          "2022-04-20T00:00:00",
          "2022-04-21T00:00:00",
          "2022-04-22T00:00:00",
          "2022-04-25T00:00:00",
          "2022-04-26T00:00:00",
          "2022-04-27T00:00:00",
          "2022-04-28T00:00:00",
          "2022-04-29T00:00:00",
          "2022-05-02T00:00:00",
          "2022-05-03T00:00:00",
          "2022-05-04T00:00:00",
          "2022-05-05T00:00:00",
          "2022-05-06T00:00:00",
          "2022-05-09T00:00:00",
          "2022-05-10T00:00:00",
          "2022-05-11T00:00:00",
          "2022-05-12T00:00:00",
          "2022-05-13T00:00:00",
          "2022-05-16T00:00:00",
          "2022-05-17T00:00:00",
          "2022-05-18T00:00:00",
          "2022-05-19T00:00:00",
          "2022-05-20T00:00:00",
          "2022-05-23T00:00:00",
          "2022-05-24T00:00:00",
          "2022-05-25T00:00:00",
          "2022-05-26T00:00:00",
          "2022-05-27T00:00:00",
          "2022-05-31T00:00:00",
          "2022-06-01T00:00:00",
          "2022-06-02T00:00:00",
          "2022-06-03T00:00:00",
          "2022-06-06T00:00:00",
          "2022-06-07T00:00:00",
          "2022-06-08T00:00:00",
          "2022-06-09T00:00:00",
          "2022-06-10T00:00:00",
          "2022-06-13T00:00:00",
          "2022-06-14T00:00:00",
          "2022-06-15T00:00:00",
          "2022-06-16T00:00:00",
          "2022-06-17T00:00:00",
          "2022-06-21T00:00:00",
          "2022-06-22T00:00:00",
          "2022-06-23T00:00:00",
          "2022-06-24T00:00:00",
          "2022-06-27T00:00:00",
          "2022-06-28T00:00:00",
          "2022-06-29T00:00:00",
          "2022-06-30T00:00:00",
          "2022-07-01T00:00:00",
          "2022-07-05T00:00:00",
          "2022-07-06T00:00:00",
          "2022-07-07T00:00:00",
          "2022-07-08T00:00:00",
          "2022-07-11T00:00:00",
          "2022-07-12T00:00:00",
          "2022-07-13T00:00:00",
          "2022-07-14T00:00:00",
          "2022-07-15T00:00:00",
          "2022-07-18T00:00:00",
          "2022-07-19T00:00:00",
          "2022-07-20T00:00:00",
          "2022-07-21T00:00:00",
          "2022-07-22T00:00:00",
          "2022-07-25T00:00:00",
          "2022-07-26T00:00:00",
          "2022-07-27T00:00:00",
          "2022-07-28T00:00:00",
          "2022-07-29T00:00:00",
          "2022-08-01T00:00:00",
          "2022-08-02T00:00:00",
          "2022-08-03T00:00:00",
          "2022-08-04T00:00:00",
          "2022-08-05T00:00:00",
          "2022-08-08T00:00:00",
          "2022-08-09T00:00:00",
          "2022-08-10T00:00:00",
          "2022-08-11T00:00:00",
          "2022-08-12T00:00:00",
          "2022-08-15T00:00:00",
          "2022-08-16T00:00:00",
          "2022-08-17T00:00:00",
          "2022-08-18T00:00:00",
          "2022-08-19T00:00:00",
          "2022-08-22T00:00:00",
          "2022-08-23T00:00:00",
          "2022-08-24T00:00:00",
          "2022-08-25T00:00:00",
          "2022-08-26T00:00:00",
          "2022-08-29T00:00:00",
          "2022-08-30T00:00:00",
          "2022-08-31T00:00:00",
          "2022-09-01T00:00:00",
          "2022-09-02T00:00:00",
          "2022-09-06T00:00:00",
          "2022-09-07T00:00:00",
          "2022-09-08T00:00:00",
          "2022-09-09T00:00:00",
          "2022-09-12T00:00:00",
          "2022-09-13T00:00:00",
          "2022-09-14T00:00:00",
          "2022-09-15T00:00:00",
          "2022-09-16T00:00:00",
          "2022-09-19T00:00:00",
          "2022-09-20T00:00:00",
          "2022-09-21T00:00:00",
          "2022-09-22T00:00:00",
          "2022-09-23T00:00:00",
          "2022-09-26T00:00:00",
          "2022-09-27T00:00:00",
          "2022-09-28T00:00:00",
          "2022-09-29T00:00:00",
          "2022-09-30T00:00:00"
         ],
         "y": [
          0,
          -2.3777444677853032,
          -1.730056802756752,
          -1.977832206650365,
          -1.0780246444861308,
          0,
          -1.6949877184795237,
          -3.6018513759532245,
          -3.956418465964906,
          -2.248452826643299,
          -2.1576535655204676,
          -4.380163746128652,
          -5.145504793286548,
          -6.235135513707624,
          -7.960394051111108,
          -6.347562443625742,
          -4.2634152411462285,
          -4.367192423111133,
          -5.858953950549717,
          -4.073160373122842,
          -4.80390902629243,
          -5.755176768584825,
          -8.660871885356759,
          -9.175423024467877,
          -6.654559218807076,
          -7.0739829239064855,
          -8.336575614269059,
          -9.240286237380158,
          -7.34639390292402,
          -5.028756288304159,
          -3.757513849988392,
          -2.633290735579008,
          -2.7240899967018506,
          -1.5306820943158495,
          -3.17378452072522,
          -1.7944433253801795,
          -1.3750196202807707,
          -0.7350702282339916,
          0,
          -0.8109844947003619,
          -2.3085195504664813,
          -1.9180438370174135,
          -1.0856034096403788,
          -2.5316494649275434,
          -3.6515810573643392,
          -3.28684984415476,
          -3.5872132593342765,
          -5.093331997657325,
          -5.385111730279868,
          -4.145034771771261,
          -5.312166797124219,
          -5.4752240285493965,
          -3.8103431737953386,
          -3.934777107429921,
          -5.505257096351668,
          -8.079811879201182,
          -7.577774482237309,
          -10.212401948122729,
          -10.036472466577806,
          -7.843809714620365,
          -11.22934899217023,
          -10.559965796218352,
          -10.135168447404263,
          -7.500534434087447,
          -10.911824759308198,
          -11.628408388176236,
          -14.76078468346278,
          -14.58914376948064,
          -16.13387925816291,
          -16.043766959893368,
          -13.795326639894224,
          -14.2201239887083,
          -12.387903882397644,
          -15.816348477869525,
          -16.18965682620467,
          -16.18965682620467,
          -14.756489568468611,
          -15.610385928522364,
          -14.670672385193251,
          -12.924269462157978,
          -10.718727912649396,
          -11.452478906631313,
          -12.036044919307798,
          -10.242441563356387,
          -11.675608821092398,
          -11.413862156272113,
          -10.452692680266317,
          -11.456767474194097,
          -13.57648529299591,
          -16.14246294071986,
          -19.566618968628934,
          -19.7940374506528,
          -18.626905425299846,
          -21.467495440532435,
          -21.171420592915734,
          -19.261960438455272,
          -19.274832688575017,
          -18.867196157443445,
          -16.245440941677757,
          -16.502899038935258,
          -18.223557461731065,
          -18.360870192916767,
          -19.06458157166505,
          -18.21068521161131,
          -17.918905478988766,
          -17.755848247563577,
          -16.399914490545953,
          -16.485731673821313,
          -17.541302015659443,
          -18.253597076964667,
          -18.609744607617284,
          -18.970180705832696,
          -17.395412149348154,
          -17.96610591190493,
          -15.674747179120974,
          -14.992491733049373,
          -14.151467623115387,
          -15.082604031318914,
          -14.966747232809885,
          -16.018022459653825,
          -13.812487457576639,
          -12.688267297577072,
          -11.499679339547397,
          -11.705641888894592,
          -12.181934785618997,
          -10.770223460559658,
          -10.856040643835009,
          -10.886080259068631,
          -10.804551643356042,
          -11.366661723355831,
          -9.345633337949133,
          -9.34134477038635,
          -7.770864781464592,
          -7.410428683249204,
          -7.213043269027586,
          -8.04548369640461,
          -7.805192964261021,
          -9.122509970919413,
          -11.066298308176293,
          -11.233644107164253,
          -10.860329211397735,
          -9.568763252410173,
          -12.563826816511014,
          -13.20317694466061,
          -14.16863498822918,
          -14.799401433821835,
          -14.747912433342892,
          -15.593218563408273,
          -15.936493843941157,
          -14.383181220133334,
          -13.705214341624504,
          -12.272047083888493,
          -11.32804497299662,
          -15.138381599360585,
          -14.80798511637882,
          -15.717659044474264,
          -16.485731673821224,
          -15.893588526019176,
          -16.871918819707478,
          -18.292213827323756,
          -19.2061828704134,
          -20.93542497576616,
          -21.802187038508237,
          -21.918043837017244,
          -20.27461891493988,
          -21.930916087137,
          -22.990774996537876
         ]
        }
       ],
       "layout": {
        "template": {
         "data": {
          "bar": [
           {
            "error_x": {
             "color": "#2a3f5f"
            },
            "error_y": {
             "color": "#2a3f5f"
            },
            "marker": {
             "line": {
              "color": "#E5ECF6",
              "width": 0.5
             },
             "pattern": {
              "fillmode": "overlay",
              "size": 10,
              "solidity": 0.2
             }
            },
            "type": "bar"
           }
          ],
          "barpolar": [
           {
            "marker": {
             "line": {
              "color": "#E5ECF6",
              "width": 0.5
             },
             "pattern": {
              "fillmode": "overlay",
              "size": 10,
              "solidity": 0.2
             }
            },
            "type": "barpolar"
           }
          ],
          "carpet": [
           {
            "aaxis": {
             "endlinecolor": "#2a3f5f",
             "gridcolor": "white",
             "linecolor": "white",
             "minorgridcolor": "white",
             "startlinecolor": "#2a3f5f"
            },
            "baxis": {
             "endlinecolor": "#2a3f5f",
             "gridcolor": "white",
             "linecolor": "white",
             "minorgridcolor": "white",
             "startlinecolor": "#2a3f5f"
            },
            "type": "carpet"
           }
          ],
          "choropleth": [
           {
            "colorbar": {
             "outlinewidth": 0,
             "ticks": ""
            },
            "type": "choropleth"
           }
          ],
          "contour": [
           {
            "colorbar": {
             "outlinewidth": 0,
             "ticks": ""
            },
            "colorscale": [
             [
              0,
              "#0d0887"
             ],
             [
              0.1111111111111111,
              "#46039f"
             ],
             [
              0.2222222222222222,
              "#7201a8"
             ],
             [
              0.3333333333333333,
              "#9c179e"
             ],
             [
              0.4444444444444444,
              "#bd3786"
             ],
             [
              0.5555555555555556,
              "#d8576b"
             ],
             [
              0.6666666666666666,
              "#ed7953"
             ],
             [
              0.7777777777777778,
              "#fb9f3a"
             ],
             [
              0.8888888888888888,
              "#fdca26"
             ],
             [
              1,
              "#f0f921"
             ]
            ],
            "type": "contour"
           }
          ],
          "contourcarpet": [
           {
            "colorbar": {
             "outlinewidth": 0,
             "ticks": ""
            },
            "type": "contourcarpet"
           }
          ],
          "heatmap": [
           {
            "colorbar": {
             "outlinewidth": 0,
             "ticks": ""
            },
            "colorscale": [
             [
              0,
              "#0d0887"
             ],
             [
              0.1111111111111111,
              "#46039f"
             ],
             [
              0.2222222222222222,
              "#7201a8"
             ],
             [
              0.3333333333333333,
              "#9c179e"
             ],
             [
              0.4444444444444444,
              "#bd3786"
             ],
             [
              0.5555555555555556,
              "#d8576b"
             ],
             [
              0.6666666666666666,
              "#ed7953"
             ],
             [
              0.7777777777777778,
              "#fb9f3a"
             ],
             [
              0.8888888888888888,
              "#fdca26"
             ],
             [
              1,
              "#f0f921"
             ]
            ],
            "type": "heatmap"
           }
          ],
          "heatmapgl": [
           {
            "colorbar": {
             "outlinewidth": 0,
             "ticks": ""
            },
            "colorscale": [
             [
              0,
              "#0d0887"
             ],
             [
              0.1111111111111111,
              "#46039f"
             ],
             [
              0.2222222222222222,
              "#7201a8"
             ],
             [
              0.3333333333333333,
              "#9c179e"
             ],
             [
              0.4444444444444444,
              "#bd3786"
             ],
             [
              0.5555555555555556,
              "#d8576b"
             ],
             [
              0.6666666666666666,
              "#ed7953"
             ],
             [
              0.7777777777777778,
              "#fb9f3a"
             ],
             [
              0.8888888888888888,
              "#fdca26"
             ],
             [
              1,
              "#f0f921"
             ]
            ],
            "type": "heatmapgl"
           }
          ],
          "histogram": [
           {
            "marker": {
             "pattern": {
              "fillmode": "overlay",
              "size": 10,
              "solidity": 0.2
             }
            },
            "type": "histogram"
           }
          ],
          "histogram2d": [
           {
            "colorbar": {
             "outlinewidth": 0,
             "ticks": ""
            },
            "colorscale": [
             [
              0,
              "#0d0887"
             ],
             [
              0.1111111111111111,
              "#46039f"
             ],
             [
              0.2222222222222222,
              "#7201a8"
             ],
             [
              0.3333333333333333,
              "#9c179e"
             ],
             [
              0.4444444444444444,
              "#bd3786"
             ],
             [
              0.5555555555555556,
              "#d8576b"
             ],
             [
              0.6666666666666666,
              "#ed7953"
             ],
             [
              0.7777777777777778,
              "#fb9f3a"
             ],
             [
              0.8888888888888888,
              "#fdca26"
             ],
             [
              1,
              "#f0f921"
             ]
            ],
            "type": "histogram2d"
           }
          ],
          "histogram2dcontour": [
           {
            "colorbar": {
             "outlinewidth": 0,
             "ticks": ""
            },
            "colorscale": [
             [
              0,
              "#0d0887"
             ],
             [
              0.1111111111111111,
              "#46039f"
             ],
             [
              0.2222222222222222,
              "#7201a8"
             ],
             [
              0.3333333333333333,
              "#9c179e"
             ],
             [
              0.4444444444444444,
              "#bd3786"
             ],
             [
              0.5555555555555556,
              "#d8576b"
             ],
             [
              0.6666666666666666,
              "#ed7953"
             ],
             [
              0.7777777777777778,
              "#fb9f3a"
             ],
             [
              0.8888888888888888,
              "#fdca26"
             ],
             [
              1,
              "#f0f921"
             ]
            ],
            "type": "histogram2dcontour"
           }
          ],
          "mesh3d": [
           {
            "colorbar": {
             "outlinewidth": 0,
             "ticks": ""
            },
            "type": "mesh3d"
           }
          ],
          "parcoords": [
           {
            "line": {
             "colorbar": {
              "outlinewidth": 0,
              "ticks": ""
             }
            },
            "type": "parcoords"
           }
          ],
          "pie": [
           {
            "automargin": true,
            "type": "pie"
           }
          ],
          "scatter": [
           {
            "fillpattern": {
             "fillmode": "overlay",
             "size": 10,
             "solidity": 0.2
            },
            "type": "scatter"
           }
          ],
          "scatter3d": [
           {
            "line": {
             "colorbar": {
              "outlinewidth": 0,
              "ticks": ""
             }
            },
            "marker": {
             "colorbar": {
              "outlinewidth": 0,
              "ticks": ""
             }
            },
            "type": "scatter3d"
           }
          ],
          "scattercarpet": [
           {
            "marker": {
             "colorbar": {
              "outlinewidth": 0,
              "ticks": ""
             }
            },
            "type": "scattercarpet"
           }
          ],
          "scattergeo": [
           {
            "marker": {
             "colorbar": {
              "outlinewidth": 0,
              "ticks": ""
             }
            },
            "type": "scattergeo"
           }
          ],
          "scattergl": [
           {
            "marker": {
             "colorbar": {
              "outlinewidth": 0,
              "ticks": ""
             }
            },
            "type": "scattergl"
           }
          ],
          "scattermapbox": [
           {
            "marker": {
             "colorbar": {
              "outlinewidth": 0,
              "ticks": ""
             }
            },
            "type": "scattermapbox"
           }
          ],
          "scatterpolar": [
           {
            "marker": {
             "colorbar": {
              "outlinewidth": 0,
              "ticks": ""
             }
            },
            "type": "scatterpolar"
           }
          ],
          "scatterpolargl": [
           {
            "marker": {
             "colorbar": {
              "outlinewidth": 0,
              "ticks": ""
             }
            },
            "type": "scatterpolargl"
           }
          ],
          "scatterternary": [
           {
            "marker": {
             "colorbar": {
              "outlinewidth": 0,
              "ticks": ""
             }
            },
            "type": "scatterternary"
           }
          ],
          "surface": [
           {
            "colorbar": {
             "outlinewidth": 0,
             "ticks": ""
            },
            "colorscale": [
             [
              0,
              "#0d0887"
             ],
             [
              0.1111111111111111,
              "#46039f"
             ],
             [
              0.2222222222222222,
              "#7201a8"
             ],
             [
              0.3333333333333333,
              "#9c179e"
             ],
             [
              0.4444444444444444,
              "#bd3786"
             ],
             [
              0.5555555555555556,
              "#d8576b"
             ],
             [
              0.6666666666666666,
              "#ed7953"
             ],
             [
              0.7777777777777778,
              "#fb9f3a"
             ],
             [
              0.8888888888888888,
              "#fdca26"
             ],
             [
              1,
              "#f0f921"
             ]
            ],
            "type": "surface"
           }
          ],
          "table": [
           {
            "cells": {
             "fill": {
              "color": "#EBF0F8"
             },
             "line": {
              "color": "white"
             }
            },
            "header": {
             "fill": {
              "color": "#C8D4E3"
             },
             "line": {
              "color": "white"
             }
            },
            "type": "table"
           }
          ]
         },
         "layout": {
          "annotationdefaults": {
           "arrowcolor": "#2a3f5f",
           "arrowhead": 0,
           "arrowwidth": 1
          },
          "autotypenumbers": "strict",
          "coloraxis": {
           "colorbar": {
            "outlinewidth": 0,
            "ticks": ""
           }
          },
          "colorscale": {
           "diverging": [
            [
             0,
             "#8e0152"
            ],
            [
             0.1,
             "#c51b7d"
            ],
            [
             0.2,
             "#de77ae"
            ],
            [
             0.3,
             "#f1b6da"
            ],
            [
             0.4,
             "#fde0ef"
            ],
            [
             0.5,
             "#f7f7f7"
            ],
            [
             0.6,
             "#e6f5d0"
            ],
            [
             0.7,
             "#b8e186"
            ],
            [
             0.8,
             "#7fbc41"
            ],
            [
             0.9,
             "#4d9221"
            ],
            [
             1,
             "#276419"
            ]
           ],
           "sequential": [
            [
             0,
             "#0d0887"
            ],
            [
             0.1111111111111111,
             "#46039f"
            ],
            [
             0.2222222222222222,
             "#7201a8"
            ],
            [
             0.3333333333333333,
             "#9c179e"
            ],
            [
             0.4444444444444444,
             "#bd3786"
            ],
            [
             0.5555555555555556,
             "#d8576b"
            ],
            [
             0.6666666666666666,
             "#ed7953"
            ],
            [
             0.7777777777777778,
             "#fb9f3a"
            ],
            [
             0.8888888888888888,
             "#fdca26"
            ],
            [
             1,
             "#f0f921"
            ]
           ],
           "sequentialminus": [
            [
             0,
             "#0d0887"
            ],
            [
             0.1111111111111111,
             "#46039f"
            ],
            [
             0.2222222222222222,
             "#7201a8"
            ],
            [
             0.3333333333333333,
             "#9c179e"
            ],
            [
             0.4444444444444444,
             "#bd3786"
            ],
            [
             0.5555555555555556,
             "#d8576b"
            ],
            [
             0.6666666666666666,
             "#ed7953"
            ],
            [
             0.7777777777777778,
             "#fb9f3a"
            ],
            [
             0.8888888888888888,
             "#fdca26"
            ],
            [
             1,
             "#f0f921"
            ]
           ]
          },
          "colorway": [
           "#636efa",
           "#EF553B",
           "#00cc96",
           "#ab63fa",
           "#FFA15A",
           "#19d3f3",
           "#FF6692",
           "#B6E880",
           "#FF97FF",
           "#FECB52"
          ],
          "font": {
           "color": "#2a3f5f"
          },
          "geo": {
           "bgcolor": "white",
           "lakecolor": "white",
           "landcolor": "#E5ECF6",
           "showlakes": true,
           "showland": true,
           "subunitcolor": "white"
          },
          "hoverlabel": {
           "align": "left"
          },
          "hovermode": "closest",
          "mapbox": {
           "style": "light"
          },
          "paper_bgcolor": "white",
          "plot_bgcolor": "#E5ECF6",
          "polar": {
           "angularaxis": {
            "gridcolor": "white",
            "linecolor": "white",
            "ticks": ""
           },
           "bgcolor": "#E5ECF6",
           "radialaxis": {
            "gridcolor": "white",
            "linecolor": "white",
            "ticks": ""
           }
          },
          "scene": {
           "xaxis": {
            "backgroundcolor": "#E5ECF6",
            "gridcolor": "white",
            "gridwidth": 2,
            "linecolor": "white",
            "showbackground": true,
            "ticks": "",
            "zerolinecolor": "white"
           },
           "yaxis": {
            "backgroundcolor": "#E5ECF6",
            "gridcolor": "white",
            "gridwidth": 2,
            "linecolor": "white",
            "showbackground": true,
            "ticks": "",
            "zerolinecolor": "white"
           },
           "zaxis": {
            "backgroundcolor": "#E5ECF6",
            "gridcolor": "white",
            "gridwidth": 2,
            "linecolor": "white",
            "showbackground": true,
            "ticks": "",
            "zerolinecolor": "white"
           }
          },
          "shapedefaults": {
           "line": {
            "color": "#2a3f5f"
           }
          },
          "ternary": {
           "aaxis": {
            "gridcolor": "white",
            "linecolor": "white",
            "ticks": ""
           },
           "baxis": {
            "gridcolor": "white",
            "linecolor": "white",
            "ticks": ""
           },
           "bgcolor": "#E5ECF6",
           "caxis": {
            "gridcolor": "white",
            "linecolor": "white",
            "ticks": ""
           }
          },
          "title": {
           "x": 0.05
          },
          "xaxis": {
           "automargin": true,
           "gridcolor": "white",
           "linecolor": "white",
           "ticks": "",
           "title": {
            "standoff": 15
           },
           "zerolinecolor": "white",
           "zerolinewidth": 2
          },
          "yaxis": {
           "automargin": true,
           "gridcolor": "white",
           "linecolor": "white",
           "ticks": "",
           "title": {
            "standoff": 15
           },
           "zerolinecolor": "white",
           "zerolinewidth": 2
          }
         }
        },
        "title": {
         "text": "낙폭 비교",
         "x": 0.5,
         "xanchor": "center",
         "yanchor": "top"
        },
        "yaxis": {
         "autorange": true,
         "type": "linear"
        }
       }
      },
      "text/html": [
       "<div>                            <div id=\"3efa9afe-69da-4edd-bacc-90917e1f992e\" class=\"plotly-graph-div\" style=\"height:525px; width:100%;\"></div>            <script type=\"text/javascript\">                require([\"plotly\"], function(Plotly) {                    window.PLOTLYENV=window.PLOTLYENV || {};                                    if (document.getElementById(\"3efa9afe-69da-4edd-bacc-90917e1f992e\")) {                    Plotly.newPlot(                        \"3efa9afe-69da-4edd-bacc-90917e1f992e\",                        [{\"line\":{\"width\":1},\"name\":\"Portfolio1\",\"x\":[\"2022-02-02T00:00:00\",\"2022-02-03T00:00:00\",\"2022-02-04T00:00:00\",\"2022-02-07T00:00:00\",\"2022-02-08T00:00:00\",\"2022-02-09T00:00:00\",\"2022-02-10T00:00:00\",\"2022-02-11T00:00:00\",\"2022-02-14T00:00:00\",\"2022-02-15T00:00:00\",\"2022-02-16T00:00:00\",\"2022-02-17T00:00:00\",\"2022-02-18T00:00:00\",\"2022-02-22T00:00:00\",\"2022-02-23T00:00:00\",\"2022-02-24T00:00:00\",\"2022-02-25T00:00:00\",\"2022-02-28T00:00:00\",\"2022-03-01T00:00:00\",\"2022-03-02T00:00:00\",\"2022-03-03T00:00:00\",\"2022-03-04T00:00:00\",\"2022-03-07T00:00:00\",\"2022-03-08T00:00:00\",\"2022-03-09T00:00:00\",\"2022-03-10T00:00:00\",\"2022-03-11T00:00:00\",\"2022-03-14T00:00:00\",\"2022-03-15T00:00:00\",\"2022-03-16T00:00:00\",\"2022-03-17T00:00:00\",\"2022-03-18T00:00:00\",\"2022-03-21T00:00:00\",\"2022-03-22T00:00:00\",\"2022-03-23T00:00:00\",\"2022-03-24T00:00:00\",\"2022-03-25T00:00:00\",\"2022-03-28T00:00:00\",\"2022-03-29T00:00:00\",\"2022-03-30T00:00:00\",\"2022-03-31T00:00:00\",\"2022-04-01T00:00:00\",\"2022-04-04T00:00:00\",\"2022-04-05T00:00:00\",\"2022-04-06T00:00:00\",\"2022-04-07T00:00:00\",\"2022-04-08T00:00:00\",\"2022-04-11T00:00:00\",\"2022-04-12T00:00:00\",\"2022-04-13T00:00:00\",\"2022-04-14T00:00:00\",\"2022-04-18T00:00:00\",\"2022-04-19T00:00:00\",\"2022-04-20T00:00:00\",\"2022-04-21T00:00:00\",\"2022-04-22T00:00:00\",\"2022-04-25T00:00:00\",\"2022-04-26T00:00:00\",\"2022-04-27T00:00:00\",\"2022-04-28T00:00:00\",\"2022-04-29T00:00:00\",\"2022-05-02T00:00:00\",\"2022-05-03T00:00:00\",\"2022-05-04T00:00:00\",\"2022-05-05T00:00:00\",\"2022-05-06T00:00:00\",\"2022-05-09T00:00:00\",\"2022-05-10T00:00:00\",\"2022-05-11T00:00:00\",\"2022-05-12T00:00:00\",\"2022-05-13T00:00:00\",\"2022-05-16T00:00:00\",\"2022-05-17T00:00:00\",\"2022-05-18T00:00:00\",\"2022-05-19T00:00:00\",\"2022-05-20T00:00:00\",\"2022-05-23T00:00:00\",\"2022-05-24T00:00:00\",\"2022-05-25T00:00:00\",\"2022-05-26T00:00:00\",\"2022-05-27T00:00:00\",\"2022-05-31T00:00:00\",\"2022-06-01T00:00:00\",\"2022-06-02T00:00:00\",\"2022-06-03T00:00:00\",\"2022-06-06T00:00:00\",\"2022-06-07T00:00:00\",\"2022-06-08T00:00:00\",\"2022-06-09T00:00:00\",\"2022-06-10T00:00:00\",\"2022-06-13T00:00:00\",\"2022-06-14T00:00:00\",\"2022-06-15T00:00:00\",\"2022-06-16T00:00:00\",\"2022-06-17T00:00:00\",\"2022-06-21T00:00:00\",\"2022-06-22T00:00:00\",\"2022-06-23T00:00:00\",\"2022-06-24T00:00:00\",\"2022-06-27T00:00:00\",\"2022-06-28T00:00:00\",\"2022-06-29T00:00:00\",\"2022-06-30T00:00:00\",\"2022-07-01T00:00:00\",\"2022-07-05T00:00:00\",\"2022-07-06T00:00:00\",\"2022-07-07T00:00:00\",\"2022-07-08T00:00:00\",\"2022-07-11T00:00:00\",\"2022-07-12T00:00:00\",\"2022-07-13T00:00:00\",\"2022-07-14T00:00:00\",\"2022-07-15T00:00:00\",\"2022-07-18T00:00:00\",\"2022-07-19T00:00:00\",\"2022-07-20T00:00:00\",\"2022-07-21T00:00:00\",\"2022-07-22T00:00:00\",\"2022-07-25T00:00:00\",\"2022-07-26T00:00:00\",\"2022-07-27T00:00:00\",\"2022-07-28T00:00:00\",\"2022-07-29T00:00:00\",\"2022-08-01T00:00:00\",\"2022-08-02T00:00:00\",\"2022-08-03T00:00:00\",\"2022-08-04T00:00:00\",\"2022-08-05T00:00:00\",\"2022-08-08T00:00:00\",\"2022-08-09T00:00:00\",\"2022-08-10T00:00:00\",\"2022-08-11T00:00:00\",\"2022-08-12T00:00:00\",\"2022-08-15T00:00:00\",\"2022-08-16T00:00:00\",\"2022-08-17T00:00:00\",\"2022-08-18T00:00:00\",\"2022-08-19T00:00:00\",\"2022-08-22T00:00:00\",\"2022-08-23T00:00:00\",\"2022-08-24T00:00:00\",\"2022-08-25T00:00:00\",\"2022-08-26T00:00:00\",\"2022-08-29T00:00:00\",\"2022-08-30T00:00:00\",\"2022-08-31T00:00:00\",\"2022-09-01T00:00:00\",\"2022-09-02T00:00:00\",\"2022-09-06T00:00:00\",\"2022-09-07T00:00:00\",\"2022-09-08T00:00:00\",\"2022-09-09T00:00:00\",\"2022-09-12T00:00:00\",\"2022-09-13T00:00:00\",\"2022-09-14T00:00:00\",\"2022-09-15T00:00:00\",\"2022-09-16T00:00:00\",\"2022-09-19T00:00:00\",\"2022-09-20T00:00:00\",\"2022-09-21T00:00:00\",\"2022-09-22T00:00:00\",\"2022-09-23T00:00:00\",\"2022-09-26T00:00:00\",\"2022-09-27T00:00:00\",\"2022-09-28T00:00:00\",\"2022-09-29T00:00:00\",\"2022-09-30T00:00:00\"],\"y\":[0.0,-0.4488868792299927,-0.9308864731922828,-0.8878303299743262,-0.9859069119175778,-0.5432980816325705,-1.745990505266437,-1.2953180066339498,-1.9594805090217826,-2.068887113063067,-1.6688659040168252,-1.516791072632795,-1.1907997709490026,-1.3273309500174357,-2.0126278733724967,-2.042150530300335,-1.710476973643904,-0.3569770428116459,0.0,-0.6311741555012684,-0.44712780306568334,0.0,-0.5714964279286749,-0.1950968255394092,-1.660831525576656,-2.56146218579546,-2.665882698684674,-4.04831460193752,-4.035665786686948,-3.3028459105505115,-3.011984151764935,-2.2483480941010936,-2.6175265917559476,-3.101140284869641,-2.029425773216209,-2.208386503969595,-2.6563248103434023,-2.9036390618363495,-2.275481459480033,-1.9737435635854728,-2.304515807442775,-2.237233073127576,-2.248600332335604,-3.802236635526357,-4.353159871462697,-4.587746009744997,-5.055304301382124,-5.679496468469026,-5.311025230108468,-4.857478972971241,-5.72841003049983,-5.617641650842664,-6.126969362376078,-5.309598252579406,-5.997830858999443,-7.089604341876998,-6.809572143135812,-6.815959441099428,-7.099701810856585,-6.434963555615081,-7.5609126341087185,-8.126008182895072,-8.022756721575563,-7.138370315156573,-8.968038623692854,-9.579138813943022,-10.576222850628858,-10.058349099551855,-9.342504145828768,-9.279732521926064,-9.321282811232601,-9.273335330767473,-9.371726488485043,-9.320761104945186,-9.237116357032837,-8.722986932635957,-9.025292535650543,-8.268742916442108,-7.787242326854127,-7.462441158091471,-7.089648488186729,-8.068207010999306,-8.394433258003964,-7.813250975330632,-8.10919099522911,-8.914105499429848,-8.777195738035882,-9.229076016802063,-9.756426654481288,-10.440820854816735,-12.462668918525843,-13.45867097479747,-12.414091416307594,-12.762476341989803,-13.198458271499058,-13.221287175475938,-12.223721504363748,-11.945079383680302,-12.120506849146118,-12.687075594396713,-12.851083215062841,-12.520531693990888,-12.356033849905534,-11.951163552239564,-12.149476140120541,-12.905659033412665,-12.75655888143843,-13.148768607487582,-12.693402216270178,-13.103783677668346,-12.64432896308878,-12.908657716246474,-12.396381233912734,-12.522236845478464,-12.203821125323145,-12.182950030674377,-11.39914104577846,-10.920832683153147,-11.109175557655105,-11.14030963552699,-10.588032807474612,-10.005420505890894,-9.906851531723559,-9.22274798400794,-10.198964201557148,-9.40061863834909,-9.35581023718781,-10.357960338419092,-9.75177771298199,-9.66470791336852,-9.422641189269621,-10.052316034957865,-9.52152228150409,-9.779848660218581,-9.838928372514676,-10.51340385481775,-10.446319097597922,-11.193639711853232,-11.431975964690322,-11.410547680308369,-11.78898054570886,-11.066828131125062,-11.256416243076083,-11.801723897766259,-12.248078117624406,-12.960376216158142,-13.803941583627232,-13.756163554632806,-14.7252923357169,-13.74667823952942,-14.201613434714865,-13.70722672278799,-13.760384886221589,-14.64372154664364,-14.42375643410887,-15.143162595650994,-15.551500556887433,-15.597592345152622,-16.523898269403325,-16.213129709383225,-17.56357396327598,-18.09289982597101,-19.2639447795961,-19.966829705860345,-18.188181895539845,-18.673664821375112,-19.35969838105511],\"type\":\"scatter\"},{\"line\":{\"width\":1},\"name\":\"Portfolio2\",\"x\":[\"2022-02-02T00:00:00\",\"2022-02-03T00:00:00\",\"2022-02-04T00:00:00\",\"2022-02-07T00:00:00\",\"2022-02-08T00:00:00\",\"2022-02-09T00:00:00\",\"2022-02-10T00:00:00\",\"2022-02-11T00:00:00\",\"2022-02-14T00:00:00\",\"2022-02-15T00:00:00\",\"2022-02-16T00:00:00\",\"2022-02-17T00:00:00\",\"2022-02-18T00:00:00\",\"2022-02-22T00:00:00\",\"2022-02-23T00:00:00\",\"2022-02-24T00:00:00\",\"2022-02-25T00:00:00\",\"2022-02-28T00:00:00\",\"2022-03-01T00:00:00\",\"2022-03-02T00:00:00\",\"2022-03-03T00:00:00\",\"2022-03-04T00:00:00\",\"2022-03-07T00:00:00\",\"2022-03-08T00:00:00\",\"2022-03-09T00:00:00\",\"2022-03-10T00:00:00\",\"2022-03-11T00:00:00\",\"2022-03-14T00:00:00\",\"2022-03-15T00:00:00\",\"2022-03-16T00:00:00\",\"2022-03-17T00:00:00\",\"2022-03-18T00:00:00\",\"2022-03-21T00:00:00\",\"2022-03-22T00:00:00\",\"2022-03-23T00:00:00\",\"2022-03-24T00:00:00\",\"2022-03-25T00:00:00\",\"2022-03-28T00:00:00\",\"2022-03-29T00:00:00\",\"2022-03-30T00:00:00\",\"2022-03-31T00:00:00\",\"2022-04-01T00:00:00\",\"2022-04-04T00:00:00\",\"2022-04-05T00:00:00\",\"2022-04-06T00:00:00\",\"2022-04-07T00:00:00\",\"2022-04-08T00:00:00\",\"2022-04-11T00:00:00\",\"2022-04-12T00:00:00\",\"2022-04-13T00:00:00\",\"2022-04-14T00:00:00\",\"2022-04-18T00:00:00\",\"2022-04-19T00:00:00\",\"2022-04-20T00:00:00\",\"2022-04-21T00:00:00\",\"2022-04-22T00:00:00\",\"2022-04-25T00:00:00\",\"2022-04-26T00:00:00\",\"2022-04-27T00:00:00\",\"2022-04-28T00:00:00\",\"2022-04-29T00:00:00\",\"2022-05-02T00:00:00\",\"2022-05-03T00:00:00\",\"2022-05-04T00:00:00\",\"2022-05-05T00:00:00\",\"2022-05-06T00:00:00\",\"2022-05-09T00:00:00\",\"2022-05-10T00:00:00\",\"2022-05-11T00:00:00\",\"2022-05-12T00:00:00\",\"2022-05-13T00:00:00\",\"2022-05-16T00:00:00\",\"2022-05-17T00:00:00\",\"2022-05-18T00:00:00\",\"2022-05-19T00:00:00\",\"2022-05-20T00:00:00\",\"2022-05-23T00:00:00\",\"2022-05-24T00:00:00\",\"2022-05-25T00:00:00\",\"2022-05-26T00:00:00\",\"2022-05-27T00:00:00\",\"2022-05-31T00:00:00\",\"2022-06-01T00:00:00\",\"2022-06-02T00:00:00\",\"2022-06-03T00:00:00\",\"2022-06-06T00:00:00\",\"2022-06-07T00:00:00\",\"2022-06-08T00:00:00\",\"2022-06-09T00:00:00\",\"2022-06-10T00:00:00\",\"2022-06-13T00:00:00\",\"2022-06-14T00:00:00\",\"2022-06-15T00:00:00\",\"2022-06-16T00:00:00\",\"2022-06-17T00:00:00\",\"2022-06-21T00:00:00\",\"2022-06-22T00:00:00\",\"2022-06-23T00:00:00\",\"2022-06-24T00:00:00\",\"2022-06-27T00:00:00\",\"2022-06-28T00:00:00\",\"2022-06-29T00:00:00\",\"2022-06-30T00:00:00\",\"2022-07-01T00:00:00\",\"2022-07-05T00:00:00\",\"2022-07-06T00:00:00\",\"2022-07-07T00:00:00\",\"2022-07-08T00:00:00\",\"2022-07-11T00:00:00\",\"2022-07-12T00:00:00\",\"2022-07-13T00:00:00\",\"2022-07-14T00:00:00\",\"2022-07-15T00:00:00\",\"2022-07-18T00:00:00\",\"2022-07-19T00:00:00\",\"2022-07-20T00:00:00\",\"2022-07-21T00:00:00\",\"2022-07-22T00:00:00\",\"2022-07-25T00:00:00\",\"2022-07-26T00:00:00\",\"2022-07-27T00:00:00\",\"2022-07-28T00:00:00\",\"2022-07-29T00:00:00\",\"2022-08-01T00:00:00\",\"2022-08-02T00:00:00\",\"2022-08-03T00:00:00\",\"2022-08-04T00:00:00\",\"2022-08-05T00:00:00\",\"2022-08-08T00:00:00\",\"2022-08-09T00:00:00\",\"2022-08-10T00:00:00\",\"2022-08-11T00:00:00\",\"2022-08-12T00:00:00\",\"2022-08-15T00:00:00\",\"2022-08-16T00:00:00\",\"2022-08-17T00:00:00\",\"2022-08-18T00:00:00\",\"2022-08-19T00:00:00\",\"2022-08-22T00:00:00\",\"2022-08-23T00:00:00\",\"2022-08-24T00:00:00\",\"2022-08-25T00:00:00\",\"2022-08-26T00:00:00\",\"2022-08-29T00:00:00\",\"2022-08-30T00:00:00\",\"2022-08-31T00:00:00\",\"2022-09-01T00:00:00\",\"2022-09-02T00:00:00\",\"2022-09-06T00:00:00\",\"2022-09-07T00:00:00\",\"2022-09-08T00:00:00\",\"2022-09-09T00:00:00\",\"2022-09-12T00:00:00\",\"2022-09-13T00:00:00\",\"2022-09-14T00:00:00\",\"2022-09-15T00:00:00\",\"2022-09-16T00:00:00\",\"2022-09-19T00:00:00\",\"2022-09-20T00:00:00\",\"2022-09-21T00:00:00\",\"2022-09-22T00:00:00\",\"2022-09-23T00:00:00\",\"2022-09-26T00:00:00\",\"2022-09-27T00:00:00\",\"2022-09-28T00:00:00\",\"2022-09-29T00:00:00\",\"2022-09-30T00:00:00\"],\"y\":[0.0,-0.8251186667410315,-0.9958548567350789,-0.8568814832213056,-0.7157020594423358,-0.18475991291453386,-1.0937840154167322,-0.7366643400778972,-0.9931951296638264,-1.076771227250506,-0.6497420738836857,-0.6796014974620679,-0.6352968393291247,-0.7910702650265389,-1.4447516662449589,-1.1938652253741355,-0.7398449288002817,0.0,0.0,-0.6784159700292669,-0.45714169248957104,0.0,-0.5114713657391023,-0.134264046082333,-0.5783265530230786,-0.9408093121782479,-1.373141821385404,-2.558361072969706,-2.6328226536261434,-1.6575449019037625,-1.3836050710235526,-1.0576723955703526,-1.419524786508708,-1.6064813222180563,-1.0818781699291402,-0.7220726078151385,-1.0496040740146095,-1.1854330755259213,-0.6249296232428869,-0.43381362897819686,-0.7457677992896206,-0.7284401347308456,-0.5540743978803442,-1.6090795650978373,-2.009731462737352,-1.9857813846307026,-2.138178948893976,-2.7304991056109618,-2.627889986644305,-2.1412669649287563,-2.9616131006497515,-3.0213404925798937,-3.172042946401521,-2.646280833890613,-3.2964497053775133,-4.343308708766336,-4.480415801882398,-4.895010402363786,-5.323078513499391,-4.592363768764452,-5.7311523740477766,-6.405209391649958,-6.094175267394775,-5.057343519798252,-6.588371839003959,-7.025209380226293,-8.01750670090854,-8.006469121920368,-7.798962267489829,-8.202252262456778,-8.140298919357292,-8.034362721028609,-7.974919419546367,-8.399217879218767,-8.072322085561922,-7.82110543876493,-7.683736261853991,-7.306872564325362,-7.13883745394901,-6.834199773474525,-6.218344733217107,-7.100676510222481,-7.110734939521679,-6.329563441156683,-7.001584516117454,-7.421093950433311,-6.799762915484131,-7.253654049920355,-7.800496397043489,-8.238914785905394,-10.407838630857945,-10.91274866972184,-9.934215566217574,-10.208831939412022,-10.282488150815905,-10.22318563021145,-9.59058346882663,-9.396681292900377,-9.040198792357245,-9.302342596946577,-9.683018403389077,-9.426404986853631,-9.577881561338252,-9.176379643591803,-9.467568353729106,-10.15594310048754,-9.976844473571555,-10.21311480596806,-10.264228895898697,-10.41606872256039,-10.160361412697904,-10.750694732365062,-10.28658553469375,-10.622510095648641,-10.094745087060552,-10.089674131521198,-9.19091477329298,-9.019969786364012,-9.262554060833084,-9.541275079117263,-8.85829466065272,-8.11650713559593,-7.801032022020459,-7.215947134397139,-7.926808671978513,-7.18595030363719,-6.808876358127369,-7.589322960699518,-7.027831808942652,-7.179256016419123,-6.861786612823051,-7.4075483054995335,-6.573731320822674,-6.820702032641712,-6.725856892246551,-7.308162326538071,-7.269609803254773,-8.107035033935139,-8.82337313783813,-8.81438196078963,-8.78566274203817,-8.10807382340668,-9.010522192633996,-9.323932099705445,-9.715362338116595,-10.243148003697533,-10.792714647758917,-10.690005035596196,-11.397072613603488,-10.462558213313045,-10.624686234219261,-10.095086760867467,-9.896650247618833,-11.120982486244124,-11.061520011904069,-11.730728283918001,-11.958165959230694,-11.746086419004865,-12.317302303626521,-12.251062479186448,-12.9735839353747,-13.646945403727573,-14.49265848957223,-14.951434858114176,-13.468282174597789,-13.984631937223357,-14.490211491375316],\"type\":\"scatter\"},{\"line\":{\"width\":1},\"name\":\"Portfolio3\",\"x\":[\"2022-02-02T00:00:00\",\"2022-02-03T00:00:00\",\"2022-02-04T00:00:00\",\"2022-02-07T00:00:00\",\"2022-02-08T00:00:00\",\"2022-02-09T00:00:00\",\"2022-02-10T00:00:00\",\"2022-02-11T00:00:00\",\"2022-02-14T00:00:00\",\"2022-02-15T00:00:00\",\"2022-02-16T00:00:00\",\"2022-02-17T00:00:00\",\"2022-02-18T00:00:00\",\"2022-02-22T00:00:00\",\"2022-02-23T00:00:00\",\"2022-02-24T00:00:00\",\"2022-02-25T00:00:00\",\"2022-02-28T00:00:00\",\"2022-03-01T00:00:00\",\"2022-03-02T00:00:00\",\"2022-03-03T00:00:00\",\"2022-03-04T00:00:00\",\"2022-03-07T00:00:00\",\"2022-03-08T00:00:00\",\"2022-03-09T00:00:00\",\"2022-03-10T00:00:00\",\"2022-03-11T00:00:00\",\"2022-03-14T00:00:00\",\"2022-03-15T00:00:00\",\"2022-03-16T00:00:00\",\"2022-03-17T00:00:00\",\"2022-03-18T00:00:00\",\"2022-03-21T00:00:00\",\"2022-03-22T00:00:00\",\"2022-03-23T00:00:00\",\"2022-03-24T00:00:00\",\"2022-03-25T00:00:00\",\"2022-03-28T00:00:00\",\"2022-03-29T00:00:00\",\"2022-03-30T00:00:00\",\"2022-03-31T00:00:00\",\"2022-04-01T00:00:00\",\"2022-04-04T00:00:00\",\"2022-04-05T00:00:00\",\"2022-04-06T00:00:00\",\"2022-04-07T00:00:00\",\"2022-04-08T00:00:00\",\"2022-04-11T00:00:00\",\"2022-04-12T00:00:00\",\"2022-04-13T00:00:00\",\"2022-04-14T00:00:00\",\"2022-04-18T00:00:00\",\"2022-04-19T00:00:00\",\"2022-04-20T00:00:00\",\"2022-04-21T00:00:00\",\"2022-04-22T00:00:00\",\"2022-04-25T00:00:00\",\"2022-04-26T00:00:00\",\"2022-04-27T00:00:00\",\"2022-04-28T00:00:00\",\"2022-04-29T00:00:00\",\"2022-05-02T00:00:00\",\"2022-05-03T00:00:00\",\"2022-05-04T00:00:00\",\"2022-05-05T00:00:00\",\"2022-05-06T00:00:00\",\"2022-05-09T00:00:00\",\"2022-05-10T00:00:00\",\"2022-05-11T00:00:00\",\"2022-05-12T00:00:00\",\"2022-05-13T00:00:00\",\"2022-05-16T00:00:00\",\"2022-05-17T00:00:00\",\"2022-05-18T00:00:00\",\"2022-05-19T00:00:00\",\"2022-05-20T00:00:00\",\"2022-05-23T00:00:00\",\"2022-05-24T00:00:00\",\"2022-05-25T00:00:00\",\"2022-05-26T00:00:00\",\"2022-05-27T00:00:00\",\"2022-05-31T00:00:00\",\"2022-06-01T00:00:00\",\"2022-06-02T00:00:00\",\"2022-06-03T00:00:00\",\"2022-06-06T00:00:00\",\"2022-06-07T00:00:00\",\"2022-06-08T00:00:00\",\"2022-06-09T00:00:00\",\"2022-06-10T00:00:00\",\"2022-06-13T00:00:00\",\"2022-06-14T00:00:00\",\"2022-06-15T00:00:00\",\"2022-06-16T00:00:00\",\"2022-06-17T00:00:00\",\"2022-06-21T00:00:00\",\"2022-06-22T00:00:00\",\"2022-06-23T00:00:00\",\"2022-06-24T00:00:00\",\"2022-06-27T00:00:00\",\"2022-06-28T00:00:00\",\"2022-06-29T00:00:00\",\"2022-06-30T00:00:00\",\"2022-07-01T00:00:00\",\"2022-07-05T00:00:00\",\"2022-07-06T00:00:00\",\"2022-07-07T00:00:00\",\"2022-07-08T00:00:00\",\"2022-07-11T00:00:00\",\"2022-07-12T00:00:00\",\"2022-07-13T00:00:00\",\"2022-07-14T00:00:00\",\"2022-07-15T00:00:00\",\"2022-07-18T00:00:00\",\"2022-07-19T00:00:00\",\"2022-07-20T00:00:00\",\"2022-07-21T00:00:00\",\"2022-07-22T00:00:00\",\"2022-07-25T00:00:00\",\"2022-07-26T00:00:00\",\"2022-07-27T00:00:00\",\"2022-07-28T00:00:00\",\"2022-07-29T00:00:00\",\"2022-08-01T00:00:00\",\"2022-08-02T00:00:00\",\"2022-08-03T00:00:00\",\"2022-08-04T00:00:00\",\"2022-08-05T00:00:00\",\"2022-08-08T00:00:00\",\"2022-08-09T00:00:00\",\"2022-08-10T00:00:00\",\"2022-08-11T00:00:00\",\"2022-08-12T00:00:00\",\"2022-08-15T00:00:00\",\"2022-08-16T00:00:00\",\"2022-08-17T00:00:00\",\"2022-08-18T00:00:00\",\"2022-08-19T00:00:00\",\"2022-08-22T00:00:00\",\"2022-08-23T00:00:00\",\"2022-08-24T00:00:00\",\"2022-08-25T00:00:00\",\"2022-08-26T00:00:00\",\"2022-08-29T00:00:00\",\"2022-08-30T00:00:00\",\"2022-08-31T00:00:00\",\"2022-09-01T00:00:00\",\"2022-09-02T00:00:00\",\"2022-09-06T00:00:00\",\"2022-09-07T00:00:00\",\"2022-09-08T00:00:00\",\"2022-09-09T00:00:00\",\"2022-09-12T00:00:00\",\"2022-09-13T00:00:00\",\"2022-09-14T00:00:00\",\"2022-09-15T00:00:00\",\"2022-09-16T00:00:00\",\"2022-09-19T00:00:00\",\"2022-09-20T00:00:00\",\"2022-09-21T00:00:00\",\"2022-09-22T00:00:00\",\"2022-09-23T00:00:00\",\"2022-09-26T00:00:00\",\"2022-09-27T00:00:00\",\"2022-09-28T00:00:00\",\"2022-09-29T00:00:00\",\"2022-09-30T00:00:00\"],\"y\":[0.0,-0.9529591899691825,-1.1332893378100395,-0.9827139919660888,-0.5716692125669831,0.0,-1.0650527015822586,-0.891864808763998,-1.282393733172349,-0.9030919874852938,-0.4056517262538306,-0.8058267639822314,-0.8349323293687427,-1.2760642259160182,-2.0952772435693934,-1.7167690438792738,-0.7871921750119082,-0.12116646851650925,-0.20554350435024737,-0.2567764296622421,-0.16921013176318667,0.0,-1.0897856181672494,-0.7596563688654578,-0.6663530743507451,-0.8930968436703934,-1.4182260094866117,-2.5473338968744708,-2.3683488871077962,-1.161752158711915,-0.7468635647992494,-0.38379147707225947,-0.7609460155308612,-0.8213062645920366,-0.6617599162155097,-0.1922295035379773,-0.28256373023906045,-0.49035129310359693,0.0,-0.13972779997141194,-0.6570373705615196,-0.554697307760732,-0.4786254173997251,-1.7157143523992224,-2.1894090194342297,-2.2081178727376916,-2.3143740665952706,-2.8492339588175097,-2.6937052789577143,-1.9661119122899806,-2.729275818530752,-2.802318982053975,-2.565957376452166,-1.976383660481007,-2.898650718779039,-4.273019847777027,-4.309425489787899,-5.117331446433548,-5.472652478942397,-4.544087470700886,-6.027253664803123,-6.497432782640633,-5.960367044882098,-4.563151967891721,-6.456754474881099,-7.009396183236294,-8.381973021169742,-8.527960605453512,-8.644622395192226,-8.813240715301129,-8.32860038305948,-8.238023337421707,-7.668368254220626,-8.678154368270963,-8.47707119178761,-8.338171540162698,-7.975695285357887,-7.801705746971144,-7.28725130613136,-6.631212194976577,-5.732476053956514,-6.659424302186368,-6.812529128057054,-5.850232561979873,-6.560219474392137,-6.778443854464111,-6.050627386820073,-6.78430389183765,-7.659273024831014,-8.597860997343066,-11.30283182125389,-11.809086589785867,-10.765183517987309,-11.805847954016757,-11.777284609321425,-11.482738747047904,-10.997489022399542,-10.802502173089712,-9.928590928538005,-10.077116974213896,-10.585535103732212,-10.554898450569317,-10.771749945458609,-10.144703158482038,-10.475110066048444,-11.21785851709739,-10.75123531726544,-11.032305336352955,-11.24458014655849,-11.349852655600179,-11.233658194887951,-11.929701032718187,-11.202373977297263,-11.465487093084636,-10.486931009710487,-10.327529150369408,-9.507629053862765,-9.45358641302857,-9.491490842715145,-9.828233562042277,-8.94979659489753,-8.029814771608358,-7.570903070772383,-7.115221685759099,-7.968834049050411,-7.236989214390944,-7.0367116277678114,-7.653817671305118,-7.033737886712199,-7.290947821650562,-6.6098507815100955,-6.865714612880391,-5.903736569723228,-6.073420433724397,-5.860799491054413,-6.591278377904031,-6.402963199339418,-7.400142854929714,-8.412937388705044,-8.376906516477955,-8.303939580341957,-7.432216009745007,-8.708556516367416,-9.080089909825794,-9.68197290548165,-10.245451763091618,-10.84836171555611,-10.80137747019847,-11.572940426353451,-10.451339828554174,-10.447784929013327,-9.705443191575513,-9.34393422048464,-11.109185125645416,-11.093163510704196,-11.765311098547249,-12.172088046702312,-11.796325185241695,-12.540015205470178,-12.766429307928039,-13.742197276610968,-14.713440430564361,-15.728773504648974,-16.11753009152489,-14.41597300034988,-15.221812010206348,-15.757008980122688],\"type\":\"scatter\"},{\"line\":{\"width\":1},\"name\":\"Portfolio4\",\"x\":[\"2022-02-02T00:00:00\",\"2022-02-03T00:00:00\",\"2022-02-04T00:00:00\",\"2022-02-07T00:00:00\",\"2022-02-08T00:00:00\",\"2022-02-09T00:00:00\",\"2022-02-10T00:00:00\",\"2022-02-11T00:00:00\",\"2022-02-14T00:00:00\",\"2022-02-15T00:00:00\",\"2022-02-16T00:00:00\",\"2022-02-17T00:00:00\",\"2022-02-18T00:00:00\",\"2022-02-22T00:00:00\",\"2022-02-23T00:00:00\",\"2022-02-24T00:00:00\",\"2022-02-25T00:00:00\",\"2022-02-28T00:00:00\",\"2022-03-01T00:00:00\",\"2022-03-02T00:00:00\",\"2022-03-03T00:00:00\",\"2022-03-04T00:00:00\",\"2022-03-07T00:00:00\",\"2022-03-08T00:00:00\",\"2022-03-09T00:00:00\",\"2022-03-10T00:00:00\",\"2022-03-11T00:00:00\",\"2022-03-14T00:00:00\",\"2022-03-15T00:00:00\",\"2022-03-16T00:00:00\",\"2022-03-17T00:00:00\",\"2022-03-18T00:00:00\",\"2022-03-21T00:00:00\",\"2022-03-22T00:00:00\",\"2022-03-23T00:00:00\",\"2022-03-24T00:00:00\",\"2022-03-25T00:00:00\",\"2022-03-28T00:00:00\",\"2022-03-29T00:00:00\",\"2022-03-30T00:00:00\",\"2022-03-31T00:00:00\",\"2022-04-01T00:00:00\",\"2022-04-04T00:00:00\",\"2022-04-05T00:00:00\",\"2022-04-06T00:00:00\",\"2022-04-07T00:00:00\",\"2022-04-08T00:00:00\",\"2022-04-11T00:00:00\",\"2022-04-12T00:00:00\",\"2022-04-13T00:00:00\",\"2022-04-14T00:00:00\",\"2022-04-18T00:00:00\",\"2022-04-19T00:00:00\",\"2022-04-20T00:00:00\",\"2022-04-21T00:00:00\",\"2022-04-22T00:00:00\",\"2022-04-25T00:00:00\",\"2022-04-26T00:00:00\",\"2022-04-27T00:00:00\",\"2022-04-28T00:00:00\",\"2022-04-29T00:00:00\",\"2022-05-02T00:00:00\",\"2022-05-03T00:00:00\",\"2022-05-04T00:00:00\",\"2022-05-05T00:00:00\",\"2022-05-06T00:00:00\",\"2022-05-09T00:00:00\",\"2022-05-10T00:00:00\",\"2022-05-11T00:00:00\",\"2022-05-12T00:00:00\",\"2022-05-13T00:00:00\",\"2022-05-16T00:00:00\",\"2022-05-17T00:00:00\",\"2022-05-18T00:00:00\",\"2022-05-19T00:00:00\",\"2022-05-20T00:00:00\",\"2022-05-23T00:00:00\",\"2022-05-24T00:00:00\",\"2022-05-25T00:00:00\",\"2022-05-26T00:00:00\",\"2022-05-27T00:00:00\",\"2022-05-31T00:00:00\",\"2022-06-01T00:00:00\",\"2022-06-02T00:00:00\",\"2022-06-03T00:00:00\",\"2022-06-06T00:00:00\",\"2022-06-07T00:00:00\",\"2022-06-08T00:00:00\",\"2022-06-09T00:00:00\",\"2022-06-10T00:00:00\",\"2022-06-13T00:00:00\",\"2022-06-14T00:00:00\",\"2022-06-15T00:00:00\",\"2022-06-16T00:00:00\",\"2022-06-17T00:00:00\",\"2022-06-21T00:00:00\",\"2022-06-22T00:00:00\",\"2022-06-23T00:00:00\",\"2022-06-24T00:00:00\",\"2022-06-27T00:00:00\",\"2022-06-28T00:00:00\",\"2022-06-29T00:00:00\",\"2022-06-30T00:00:00\",\"2022-07-01T00:00:00\",\"2022-07-05T00:00:00\",\"2022-07-06T00:00:00\",\"2022-07-07T00:00:00\",\"2022-07-08T00:00:00\",\"2022-07-11T00:00:00\",\"2022-07-12T00:00:00\",\"2022-07-13T00:00:00\",\"2022-07-14T00:00:00\",\"2022-07-15T00:00:00\",\"2022-07-18T00:00:00\",\"2022-07-19T00:00:00\",\"2022-07-20T00:00:00\",\"2022-07-21T00:00:00\",\"2022-07-22T00:00:00\",\"2022-07-25T00:00:00\",\"2022-07-26T00:00:00\",\"2022-07-27T00:00:00\",\"2022-07-28T00:00:00\",\"2022-07-29T00:00:00\",\"2022-08-01T00:00:00\",\"2022-08-02T00:00:00\",\"2022-08-03T00:00:00\",\"2022-08-04T00:00:00\",\"2022-08-05T00:00:00\",\"2022-08-08T00:00:00\",\"2022-08-09T00:00:00\",\"2022-08-10T00:00:00\",\"2022-08-11T00:00:00\",\"2022-08-12T00:00:00\",\"2022-08-15T00:00:00\",\"2022-08-16T00:00:00\",\"2022-08-17T00:00:00\",\"2022-08-18T00:00:00\",\"2022-08-19T00:00:00\",\"2022-08-22T00:00:00\",\"2022-08-23T00:00:00\",\"2022-08-24T00:00:00\",\"2022-08-25T00:00:00\",\"2022-08-26T00:00:00\",\"2022-08-29T00:00:00\",\"2022-08-30T00:00:00\",\"2022-08-31T00:00:00\",\"2022-09-01T00:00:00\",\"2022-09-02T00:00:00\",\"2022-09-06T00:00:00\",\"2022-09-07T00:00:00\",\"2022-09-08T00:00:00\",\"2022-09-09T00:00:00\",\"2022-09-12T00:00:00\",\"2022-09-13T00:00:00\",\"2022-09-14T00:00:00\",\"2022-09-15T00:00:00\",\"2022-09-16T00:00:00\",\"2022-09-19T00:00:00\",\"2022-09-20T00:00:00\",\"2022-09-21T00:00:00\",\"2022-09-22T00:00:00\",\"2022-09-23T00:00:00\",\"2022-09-26T00:00:00\",\"2022-09-27T00:00:00\",\"2022-09-28T00:00:00\",\"2022-09-29T00:00:00\",\"2022-09-30T00:00:00\"],\"y\":[0.0,-1.5212751980806405,-1.3503132057683054,-1.480055557208937,-1.0284848602091778,-0.0634776372157031,-1.3918407222676787,-2.2802104318004446,-2.664416465917663,-1.6657458370418876,-1.5321185111215496,-2.765445832464264,-3.176618140916576,-3.8685605825595437,-5.006992128951449,-3.9584531206235063,-2.7107997854789234,-2.5210546672729484,-3.1560428698130583,-2.4418528887499957,-2.8100381526710017,-3.19444203331688,-5.0828270859258895,-5.554162041931798,-4.156726610994099,-4.513869194590258,-5.310161835851501,-6.142491294376596,-5.009599248389884,-3.68107552240563,-2.945851719718817,-2.245647757187652,-2.6286681438066783,-2.0256115779938577,-2.6925249286320674,-1.9620952250725687,-2.0018498014370056,-1.5957059196763712,-0.5905637824066279,-0.9998122962560974,-1.9128880276018,-1.8715975276292762,-1.3356197379887247,-2.4826407627259517,-3.1654863444234516,-2.91151448628052,-3.2146831897788775,-4.180379054629723,-4.168756501147941,-3.355795834843267,-4.275902794765829,-4.410064654180079,-3.5939626196170638,-3.552950426900092,-4.665287412361973,-6.219257704853609,-5.76784597454375,-7.200498635754659,-7.184829320401709,-5.90478105171951,-8.111161255522637,-7.840540430839338,-7.565728363441881,-5.7538535460911255,-8.032946021569709,-8.5552146938922,-10.256442537651678,-10.113858036304213,-10.989320641437883,-10.830050960105542,-9.547656857599318,-9.708662972364213,-8.812813459520019,-10.792556216632022,-10.919001047993005,-10.84313584049913,-10.086272121191175,-10.395098843764716,-9.749433394591723,-8.687777284336073,-7.336692372092546,-7.9737536692671585,-8.500103432209183,-7.371701380265206,-8.299320590598702,-8.291602017809542,-7.635950230064736,-8.314597686305913,-9.651325752890315,-11.522764327807455,-14.028180585856154,-14.321879176986329,-13.278039270721331,-14.873953750333346,-14.728234207769898,-13.643097001076033,-13.363017613812556,-12.780691396475163,-11.226384196556605,-11.50106054459722,-12.551212996262795,-12.464412497851685,-12.695863009127217,-11.859912379747751,-11.640128449395448,-11.771512427078235,-11.07765889926945,-11.256874657478766,-11.760526556516037,-12.139555525785095,-12.3480764616267,-12.685898975862298,-11.655387233221337,-12.058578457589686,-10.763591894750457,-10.380777293544408,-9.571400313485812,-9.881692751266124,-9.877282594683424,-10.533497520132695,-9.07884603188137,-8.156277193068872,-7.419174815898133,-7.487231898460578,-8.137105796536959,-7.203158526172171,-7.125683778135494,-7.51506877902205,-7.3510048020015155,-7.783890259426185,-6.4896282567796,-6.601152114618758,-5.566843259477306,-5.26692658276623,-5.219029414553445,-5.8808157701537915,-5.679812305987886,-6.6162215286539094,-7.917108170892373,-8.048085529810923,-7.895659222944962,-6.997208684347045,-8.890903504428271,-9.390101436827115,-9.993795709438603,-10.462369817549611,-10.560385821027364,-10.909573238419357,-11.345136940681444,-10.23869075616638,-9.922089747123797,-9.07016745087883,-8.511337972954802,-11.05341406446685,-10.88608322572665,-11.53502385318319,-11.948053952297077,-11.664941970442811,-12.3686093326011,-13.219003022313213,-14.076946897121745,-14.9903518395615,-15.840697548398941,-16.010345481265286,-14.507921188179484,-15.637263498322195,-16.374543073151273],\"type\":\"scatter\"},{\"line\":{\"width\":1},\"name\":\"Portfolio5\",\"x\":[\"2022-02-02T00:00:00\",\"2022-02-03T00:00:00\",\"2022-02-04T00:00:00\",\"2022-02-07T00:00:00\",\"2022-02-08T00:00:00\",\"2022-02-09T00:00:00\",\"2022-02-10T00:00:00\",\"2022-02-11T00:00:00\",\"2022-02-14T00:00:00\",\"2022-02-15T00:00:00\",\"2022-02-16T00:00:00\",\"2022-02-17T00:00:00\",\"2022-02-18T00:00:00\",\"2022-02-22T00:00:00\",\"2022-02-23T00:00:00\",\"2022-02-24T00:00:00\",\"2022-02-25T00:00:00\",\"2022-02-28T00:00:00\",\"2022-03-01T00:00:00\",\"2022-03-02T00:00:00\",\"2022-03-03T00:00:00\",\"2022-03-04T00:00:00\",\"2022-03-07T00:00:00\",\"2022-03-08T00:00:00\",\"2022-03-09T00:00:00\",\"2022-03-10T00:00:00\",\"2022-03-11T00:00:00\",\"2022-03-14T00:00:00\",\"2022-03-15T00:00:00\",\"2022-03-16T00:00:00\",\"2022-03-17T00:00:00\",\"2022-03-18T00:00:00\",\"2022-03-21T00:00:00\",\"2022-03-22T00:00:00\",\"2022-03-23T00:00:00\",\"2022-03-24T00:00:00\",\"2022-03-25T00:00:00\",\"2022-03-28T00:00:00\",\"2022-03-29T00:00:00\",\"2022-03-30T00:00:00\",\"2022-03-31T00:00:00\",\"2022-04-01T00:00:00\",\"2022-04-04T00:00:00\",\"2022-04-05T00:00:00\",\"2022-04-06T00:00:00\",\"2022-04-07T00:00:00\",\"2022-04-08T00:00:00\",\"2022-04-11T00:00:00\",\"2022-04-12T00:00:00\",\"2022-04-13T00:00:00\",\"2022-04-14T00:00:00\",\"2022-04-18T00:00:00\",\"2022-04-19T00:00:00\",\"2022-04-20T00:00:00\",\"2022-04-21T00:00:00\",\"2022-04-22T00:00:00\",\"2022-04-25T00:00:00\",\"2022-04-26T00:00:00\",\"2022-04-27T00:00:00\",\"2022-04-28T00:00:00\",\"2022-04-29T00:00:00\",\"2022-05-02T00:00:00\",\"2022-05-03T00:00:00\",\"2022-05-04T00:00:00\",\"2022-05-05T00:00:00\",\"2022-05-06T00:00:00\",\"2022-05-09T00:00:00\",\"2022-05-10T00:00:00\",\"2022-05-11T00:00:00\",\"2022-05-12T00:00:00\",\"2022-05-13T00:00:00\",\"2022-05-16T00:00:00\",\"2022-05-17T00:00:00\",\"2022-05-18T00:00:00\",\"2022-05-19T00:00:00\",\"2022-05-20T00:00:00\",\"2022-05-23T00:00:00\",\"2022-05-24T00:00:00\",\"2022-05-25T00:00:00\",\"2022-05-26T00:00:00\",\"2022-05-27T00:00:00\",\"2022-05-31T00:00:00\",\"2022-06-01T00:00:00\",\"2022-06-02T00:00:00\",\"2022-06-03T00:00:00\",\"2022-06-06T00:00:00\",\"2022-06-07T00:00:00\",\"2022-06-08T00:00:00\",\"2022-06-09T00:00:00\",\"2022-06-10T00:00:00\",\"2022-06-13T00:00:00\",\"2022-06-14T00:00:00\",\"2022-06-15T00:00:00\",\"2022-06-16T00:00:00\",\"2022-06-17T00:00:00\",\"2022-06-21T00:00:00\",\"2022-06-22T00:00:00\",\"2022-06-23T00:00:00\",\"2022-06-24T00:00:00\",\"2022-06-27T00:00:00\",\"2022-06-28T00:00:00\",\"2022-06-29T00:00:00\",\"2022-06-30T00:00:00\",\"2022-07-01T00:00:00\",\"2022-07-05T00:00:00\",\"2022-07-06T00:00:00\",\"2022-07-07T00:00:00\",\"2022-07-08T00:00:00\",\"2022-07-11T00:00:00\",\"2022-07-12T00:00:00\",\"2022-07-13T00:00:00\",\"2022-07-14T00:00:00\",\"2022-07-15T00:00:00\",\"2022-07-18T00:00:00\",\"2022-07-19T00:00:00\",\"2022-07-20T00:00:00\",\"2022-07-21T00:00:00\",\"2022-07-22T00:00:00\",\"2022-07-25T00:00:00\",\"2022-07-26T00:00:00\",\"2022-07-27T00:00:00\",\"2022-07-28T00:00:00\",\"2022-07-29T00:00:00\",\"2022-08-01T00:00:00\",\"2022-08-02T00:00:00\",\"2022-08-03T00:00:00\",\"2022-08-04T00:00:00\",\"2022-08-05T00:00:00\",\"2022-08-08T00:00:00\",\"2022-08-09T00:00:00\",\"2022-08-10T00:00:00\",\"2022-08-11T00:00:00\",\"2022-08-12T00:00:00\",\"2022-08-15T00:00:00\",\"2022-08-16T00:00:00\",\"2022-08-17T00:00:00\",\"2022-08-18T00:00:00\",\"2022-08-19T00:00:00\",\"2022-08-22T00:00:00\",\"2022-08-23T00:00:00\",\"2022-08-24T00:00:00\",\"2022-08-25T00:00:00\",\"2022-08-26T00:00:00\",\"2022-08-29T00:00:00\",\"2022-08-30T00:00:00\",\"2022-08-31T00:00:00\",\"2022-09-01T00:00:00\",\"2022-09-02T00:00:00\",\"2022-09-06T00:00:00\",\"2022-09-07T00:00:00\",\"2022-09-08T00:00:00\",\"2022-09-09T00:00:00\",\"2022-09-12T00:00:00\",\"2022-09-13T00:00:00\",\"2022-09-14T00:00:00\",\"2022-09-15T00:00:00\",\"2022-09-16T00:00:00\",\"2022-09-19T00:00:00\",\"2022-09-20T00:00:00\",\"2022-09-21T00:00:00\",\"2022-09-22T00:00:00\",\"2022-09-23T00:00:00\",\"2022-09-26T00:00:00\",\"2022-09-27T00:00:00\",\"2022-09-28T00:00:00\",\"2022-09-29T00:00:00\",\"2022-09-30T00:00:00\"],\"y\":[0.0,-0.7779267047052896,-0.38844330919070025,-0.34220632046267907,-0.09972745504451819,0.0,-0.7477123659816565,-0.3921362412134921,-0.2699958378463263,-0.28300635146574216,0.0,-0.17411581026506306,-0.3431448510597068,-0.5237015468592454,-0.8527071603990133,-0.4675420361117122,-0.13395437116724418,0.0,0.0,0.0,0.0,0.0,0.0,0.0,-1.2320477127490292,-1.481236628496485,-2.0923814872854885,-3.1386087612968128,-3.2899684064876977,-2.3972580049726577,-1.2971430177086574,-1.5881149408971007,-1.1319690884002642,-1.0937749500052663,-0.42771250248848647,-0.07008948770738099,0.0,-1.0808594979743402,-0.43359018225545,-0.260497880859345,-1.4055425935724397,-1.4752021268781834,-0.7303254952961469,-1.42045336579244,-1.9617434614437879,-1.6558426756208444,-1.4514709772144418,-1.792889727390501,-1.0907704263757756,-0.10192821870240731,-0.5483331228483102,-0.4374338940834055,-0.659096310412699,-0.5531897932544494,-0.926062403933281,-2.071505251975758,-2.7364575252839973,-3.082771908090176,-3.1585495297920207,-2.0770274986129267,-2.891725900818476,-2.9326590863826385,-2.835390635659396,-1.587062778322157,-2.6374230119156072,-2.9112292698486253,-5.162455888381546,-5.010529379088813,-4.82871864040082,-5.064110246318531,-4.389363893318343,-3.917446467229979,-3.4113204387834384,-4.96225857230721,-4.4140178103265875,-4.64739740707687,-3.8070941565093386,-4.164375934690357,-3.771619655293257,-3.4838431459768615,-2.6504974547639226,-3.1220133277225726,-3.216020035678868,-2.2706530141381798,-3.2320764593127826,-3.1426995403162516,-2.4582781241142326,-2.8176797625010686,-3.324336673848538,-3.7216819881303542,-5.602515824396514,-6.077923212111425,-5.220473298551043,-5.302428022252625,-5.583443514798503,-5.203232967158733,-5.591626695002628,-5.58493175253717,-4.619152676602745,-4.627442103225066,-5.050975712621774,-5.1851160741456574,-5.8524942161970905,-5.763172970153329,-7.082987871268809,-7.490450398181691,-6.428073804922585,-6.591577968202733,-6.8090418221949385,-7.75016883019628,-7.342305434960794,-7.97475904002769,-7.608704360424568,-7.550687559005276,-6.356541985083009,-6.530594994118999,-6.144236345861898,-6.20187652653037,-6.004686332623088,-6.31392489928313,-5.454567551918432,-4.65477808139616,-4.305310200608636,-4.484070053800194,-4.860781472181863,-4.469214155526268,-4.294928516655839,-4.921310797982836,-4.384046602787461,-4.257106033109959,-3.3911929456847956,-3.419695279869106,-2.874573249554524,-3.3400638853925635,-3.5474246883442584,-3.68926882919276,-3.782202436727722,-4.117926191870391,-4.881607825680446,-4.2532493898791435,-3.9874620193982246,-3.56944367825901,-4.465472241670221,-4.239528669402414,-4.905726301563962,-5.6507628348594015,-6.106060128812329,-6.170333622033786,-6.351003937043642,-5.804860902087561,-5.605034568308032,-4.934419597915496,-4.051582602976611,-5.434345809335817,-5.38495165242876,-6.125071318091003,-6.312995203651461,-5.850613540538207,-6.403359338531667,-6.8112317503853825,-6.698201676150395,-8.005309711372256,-8.623330540658646,-8.784764654611287,-7.332762893916323,-7.813835227609411,-8.149507655764221],\"type\":\"scatter\"},{\"line\":{\"width\":1},\"name\":\"Portfolio6\",\"x\":[\"2022-02-02T00:00:00\",\"2022-02-03T00:00:00\",\"2022-02-04T00:00:00\",\"2022-02-07T00:00:00\",\"2022-02-08T00:00:00\",\"2022-02-09T00:00:00\",\"2022-02-10T00:00:00\",\"2022-02-11T00:00:00\",\"2022-02-14T00:00:00\",\"2022-02-15T00:00:00\",\"2022-02-16T00:00:00\",\"2022-02-17T00:00:00\",\"2022-02-18T00:00:00\",\"2022-02-22T00:00:00\",\"2022-02-23T00:00:00\",\"2022-02-24T00:00:00\",\"2022-02-25T00:00:00\",\"2022-02-28T00:00:00\",\"2022-03-01T00:00:00\",\"2022-03-02T00:00:00\",\"2022-03-03T00:00:00\",\"2022-03-04T00:00:00\",\"2022-03-07T00:00:00\",\"2022-03-08T00:00:00\",\"2022-03-09T00:00:00\",\"2022-03-10T00:00:00\",\"2022-03-11T00:00:00\",\"2022-03-14T00:00:00\",\"2022-03-15T00:00:00\",\"2022-03-16T00:00:00\",\"2022-03-17T00:00:00\",\"2022-03-18T00:00:00\",\"2022-03-21T00:00:00\",\"2022-03-22T00:00:00\",\"2022-03-23T00:00:00\",\"2022-03-24T00:00:00\",\"2022-03-25T00:00:00\",\"2022-03-28T00:00:00\",\"2022-03-29T00:00:00\",\"2022-03-30T00:00:00\",\"2022-03-31T00:00:00\",\"2022-04-01T00:00:00\",\"2022-04-04T00:00:00\",\"2022-04-05T00:00:00\",\"2022-04-06T00:00:00\",\"2022-04-07T00:00:00\",\"2022-04-08T00:00:00\",\"2022-04-11T00:00:00\",\"2022-04-12T00:00:00\",\"2022-04-13T00:00:00\",\"2022-04-14T00:00:00\",\"2022-04-18T00:00:00\",\"2022-04-19T00:00:00\",\"2022-04-20T00:00:00\",\"2022-04-21T00:00:00\",\"2022-04-22T00:00:00\",\"2022-04-25T00:00:00\",\"2022-04-26T00:00:00\",\"2022-04-27T00:00:00\",\"2022-04-28T00:00:00\",\"2022-04-29T00:00:00\",\"2022-05-02T00:00:00\",\"2022-05-03T00:00:00\",\"2022-05-04T00:00:00\",\"2022-05-05T00:00:00\",\"2022-05-06T00:00:00\",\"2022-05-09T00:00:00\",\"2022-05-10T00:00:00\",\"2022-05-11T00:00:00\",\"2022-05-12T00:00:00\",\"2022-05-13T00:00:00\",\"2022-05-16T00:00:00\",\"2022-05-17T00:00:00\",\"2022-05-18T00:00:00\",\"2022-05-19T00:00:00\",\"2022-05-20T00:00:00\",\"2022-05-23T00:00:00\",\"2022-05-24T00:00:00\",\"2022-05-25T00:00:00\",\"2022-05-26T00:00:00\",\"2022-05-27T00:00:00\",\"2022-05-31T00:00:00\",\"2022-06-01T00:00:00\",\"2022-06-02T00:00:00\",\"2022-06-03T00:00:00\",\"2022-06-06T00:00:00\",\"2022-06-07T00:00:00\",\"2022-06-08T00:00:00\",\"2022-06-09T00:00:00\",\"2022-06-10T00:00:00\",\"2022-06-13T00:00:00\",\"2022-06-14T00:00:00\",\"2022-06-15T00:00:00\",\"2022-06-16T00:00:00\",\"2022-06-17T00:00:00\",\"2022-06-21T00:00:00\",\"2022-06-22T00:00:00\",\"2022-06-23T00:00:00\",\"2022-06-24T00:00:00\",\"2022-06-27T00:00:00\",\"2022-06-28T00:00:00\",\"2022-06-29T00:00:00\",\"2022-06-30T00:00:00\",\"2022-07-01T00:00:00\",\"2022-07-05T00:00:00\",\"2022-07-06T00:00:00\",\"2022-07-07T00:00:00\",\"2022-07-08T00:00:00\",\"2022-07-11T00:00:00\",\"2022-07-12T00:00:00\",\"2022-07-13T00:00:00\",\"2022-07-14T00:00:00\",\"2022-07-15T00:00:00\",\"2022-07-18T00:00:00\",\"2022-07-19T00:00:00\",\"2022-07-20T00:00:00\",\"2022-07-21T00:00:00\",\"2022-07-22T00:00:00\",\"2022-07-25T00:00:00\",\"2022-07-26T00:00:00\",\"2022-07-27T00:00:00\",\"2022-07-28T00:00:00\",\"2022-07-29T00:00:00\",\"2022-08-01T00:00:00\",\"2022-08-02T00:00:00\",\"2022-08-03T00:00:00\",\"2022-08-04T00:00:00\",\"2022-08-05T00:00:00\",\"2022-08-08T00:00:00\",\"2022-08-09T00:00:00\",\"2022-08-10T00:00:00\",\"2022-08-11T00:00:00\",\"2022-08-12T00:00:00\",\"2022-08-15T00:00:00\",\"2022-08-16T00:00:00\",\"2022-08-17T00:00:00\",\"2022-08-18T00:00:00\",\"2022-08-19T00:00:00\",\"2022-08-22T00:00:00\",\"2022-08-23T00:00:00\",\"2022-08-24T00:00:00\",\"2022-08-25T00:00:00\",\"2022-08-26T00:00:00\",\"2022-08-29T00:00:00\",\"2022-08-30T00:00:00\",\"2022-08-31T00:00:00\",\"2022-09-01T00:00:00\",\"2022-09-02T00:00:00\",\"2022-09-06T00:00:00\",\"2022-09-07T00:00:00\",\"2022-09-08T00:00:00\",\"2022-09-09T00:00:00\",\"2022-09-12T00:00:00\",\"2022-09-13T00:00:00\",\"2022-09-14T00:00:00\",\"2022-09-15T00:00:00\",\"2022-09-16T00:00:00\",\"2022-09-19T00:00:00\",\"2022-09-20T00:00:00\",\"2022-09-21T00:00:00\",\"2022-09-22T00:00:00\",\"2022-09-23T00:00:00\",\"2022-09-26T00:00:00\",\"2022-09-27T00:00:00\",\"2022-09-28T00:00:00\",\"2022-09-29T00:00:00\",\"2022-09-30T00:00:00\"],\"y\":[0.0,0.0,-0.20422901467389565,0.0,0.0,0.0,-0.6740365444273921,-0.1762229667637838,-0.38343955559281273,-0.28193781396279594,0.0,0.0,0.0,-0.22336344843369993,0.0,-0.8636009182831361,-0.709699926623153,0.0,0.0,-0.13633507966248626,-0.3230669224074334,-0.14929490557119562,0.0,0.0,-1.6575198306266192,-1.7818333705846623,-2.054624248046144,-2.582843598328799,-3.133994861371414,-2.975555664075513,-2.5703032446448337,-2.734468545148383,-2.4983353748892823,-2.966032442057709,-2.065459077502696,-2.0167930078267227,-2.2709192768588182,-2.9011243829295763,-2.889858962345737,-2.632332637615309,-2.534780016160987,-3.138924066471105,-3.2456654518977834,-4.114962327452332,-4.127712928985772,-4.112967197733363,-4.109348067292529,-3.4654437752954848,-3.1905293700854376,-3.2953743715211536,-3.4478981779634044,-3.0765852892970513,-3.78601258527258,-3.275447457164671,-3.5231284896821036,-4.498112508980478,-5.0414522482739255,-5.226902352478946,-5.244558103956054,-4.5855730193884225,-4.936677308455295,-6.364299786242444,-6.190421557485992,-5.955465554135841,-6.924510869931821,-6.994621346104124,-8.059057004283076,-7.917285759338332,-7.3466957732748694,-7.751972052297873,-7.803627069699138,-7.8299801936003055,-7.705816180804181,-7.386089748107738,-7.44387039133092,-7.28778715088475,-7.291784475843233,-6.597815240710259,-6.445641259228319,-6.208224247446392,-6.372712148184401,-6.811357818657083,-7.55228653623975,-6.9945598357856635,-7.170036163003801,-7.833955596869114,-8.49962564600325,-8.729095037494739,-9.32156190780703,-8.962688624188909,-10.500552545801511,-11.710433615906846,-10.674289993370845,-11.08155730400714,-11.644214724632018,-11.326573074253854,-10.647077515414205,-10.551585107672567,-11.019278896481389,-11.752829135091524,-12.19976186931685,-12.331628059829958,-12.12516376294226,-12.34216960375073,-12.684693206491104,-13.301392209633534,-13.439988169981486,-13.694508939376126,-13.70390838254144,-13.89854939557793,-13.50001486738871,-13.555244544720646,-13.488450003556451,-13.331796573896625,-13.0544277673744,-13.544132703822577,-12.806932399134274,-12.374157546183184,-12.491886273557995,-12.321822215277823,-11.63496384980849,-10.9248156358851,-10.810930148443198,-10.689847659586171,-11.125241216233517,-10.69927423367748,-10.145635974632805,-10.716058275260965,-10.468983481505322,-10.005280811891737,-10.097076704076835,-10.228170692416516,-9.987420487167897,-10.532316087254367,-10.742790849358785,-11.363012873971224,-11.576785768765074,-11.738398326136345,-11.695727668920208,-11.383662055517929,-11.863468693936952,-11.41728305313815,-11.631599299657758,-12.324086567165116,-12.707585922797248,-13.28154293260171,-14.096263403917453,-14.0009377379823,-14.384803879634712,-13.260798623387803,-14.014183541815173,-13.936567158296075,-14.06482879123364,-14.848040467791057,-14.765773267097849,-15.71084781234906,-15.820078839822694,-16.373394593033773,-17.319019462480934,-17.091202883435496,-18.010484028792984,-18.643866936410735,-19.61128943373639,-19.69855620091573,-18.586966228210933,-18.989866897809115,-19.178463584575677],\"type\":\"scatter\"},{\"line\":{\"width\":1},\"name\":\"Benchmark\",\"x\":[\"2022-02-02T00:00:00\",\"2022-02-03T00:00:00\",\"2022-02-04T00:00:00\",\"2022-02-07T00:00:00\",\"2022-02-08T00:00:00\",\"2022-02-09T00:00:00\",\"2022-02-10T00:00:00\",\"2022-02-11T00:00:00\",\"2022-02-14T00:00:00\",\"2022-02-15T00:00:00\",\"2022-02-16T00:00:00\",\"2022-02-17T00:00:00\",\"2022-02-18T00:00:00\",\"2022-02-22T00:00:00\",\"2022-02-23T00:00:00\",\"2022-02-24T00:00:00\",\"2022-02-25T00:00:00\",\"2022-02-28T00:00:00\",\"2022-03-01T00:00:00\",\"2022-03-02T00:00:00\",\"2022-03-03T00:00:00\",\"2022-03-04T00:00:00\",\"2022-03-07T00:00:00\",\"2022-03-08T00:00:00\",\"2022-03-09T00:00:00\",\"2022-03-10T00:00:00\",\"2022-03-11T00:00:00\",\"2022-03-14T00:00:00\",\"2022-03-15T00:00:00\",\"2022-03-16T00:00:00\",\"2022-03-17T00:00:00\",\"2022-03-18T00:00:00\",\"2022-03-21T00:00:00\",\"2022-03-22T00:00:00\",\"2022-03-23T00:00:00\",\"2022-03-24T00:00:00\",\"2022-03-25T00:00:00\",\"2022-03-28T00:00:00\",\"2022-03-29T00:00:00\",\"2022-03-30T00:00:00\",\"2022-03-31T00:00:00\",\"2022-04-01T00:00:00\",\"2022-04-04T00:00:00\",\"2022-04-05T00:00:00\",\"2022-04-06T00:00:00\",\"2022-04-07T00:00:00\",\"2022-04-08T00:00:00\",\"2022-04-11T00:00:00\",\"2022-04-12T00:00:00\",\"2022-04-13T00:00:00\",\"2022-04-14T00:00:00\",\"2022-04-18T00:00:00\",\"2022-04-19T00:00:00\",\"2022-04-20T00:00:00\",\"2022-04-21T00:00:00\",\"2022-04-22T00:00:00\",\"2022-04-25T00:00:00\",\"2022-04-26T00:00:00\",\"2022-04-27T00:00:00\",\"2022-04-28T00:00:00\",\"2022-04-29T00:00:00\",\"2022-05-02T00:00:00\",\"2022-05-03T00:00:00\",\"2022-05-04T00:00:00\",\"2022-05-05T00:00:00\",\"2022-05-06T00:00:00\",\"2022-05-09T00:00:00\",\"2022-05-10T00:00:00\",\"2022-05-11T00:00:00\",\"2022-05-12T00:00:00\",\"2022-05-13T00:00:00\",\"2022-05-16T00:00:00\",\"2022-05-17T00:00:00\",\"2022-05-18T00:00:00\",\"2022-05-19T00:00:00\",\"2022-05-20T00:00:00\",\"2022-05-23T00:00:00\",\"2022-05-24T00:00:00\",\"2022-05-25T00:00:00\",\"2022-05-26T00:00:00\",\"2022-05-27T00:00:00\",\"2022-05-31T00:00:00\",\"2022-06-01T00:00:00\",\"2022-06-02T00:00:00\",\"2022-06-03T00:00:00\",\"2022-06-06T00:00:00\",\"2022-06-07T00:00:00\",\"2022-06-08T00:00:00\",\"2022-06-09T00:00:00\",\"2022-06-10T00:00:00\",\"2022-06-13T00:00:00\",\"2022-06-14T00:00:00\",\"2022-06-15T00:00:00\",\"2022-06-16T00:00:00\",\"2022-06-17T00:00:00\",\"2022-06-21T00:00:00\",\"2022-06-22T00:00:00\",\"2022-06-23T00:00:00\",\"2022-06-24T00:00:00\",\"2022-06-27T00:00:00\",\"2022-06-28T00:00:00\",\"2022-06-29T00:00:00\",\"2022-06-30T00:00:00\",\"2022-07-01T00:00:00\",\"2022-07-05T00:00:00\",\"2022-07-06T00:00:00\",\"2022-07-07T00:00:00\",\"2022-07-08T00:00:00\",\"2022-07-11T00:00:00\",\"2022-07-12T00:00:00\",\"2022-07-13T00:00:00\",\"2022-07-14T00:00:00\",\"2022-07-15T00:00:00\",\"2022-07-18T00:00:00\",\"2022-07-19T00:00:00\",\"2022-07-20T00:00:00\",\"2022-07-21T00:00:00\",\"2022-07-22T00:00:00\",\"2022-07-25T00:00:00\",\"2022-07-26T00:00:00\",\"2022-07-27T00:00:00\",\"2022-07-28T00:00:00\",\"2022-07-29T00:00:00\",\"2022-08-01T00:00:00\",\"2022-08-02T00:00:00\",\"2022-08-03T00:00:00\",\"2022-08-04T00:00:00\",\"2022-08-05T00:00:00\",\"2022-08-08T00:00:00\",\"2022-08-09T00:00:00\",\"2022-08-10T00:00:00\",\"2022-08-11T00:00:00\",\"2022-08-12T00:00:00\",\"2022-08-15T00:00:00\",\"2022-08-16T00:00:00\",\"2022-08-17T00:00:00\",\"2022-08-18T00:00:00\",\"2022-08-19T00:00:00\",\"2022-08-22T00:00:00\",\"2022-08-23T00:00:00\",\"2022-08-24T00:00:00\",\"2022-08-25T00:00:00\",\"2022-08-26T00:00:00\",\"2022-08-29T00:00:00\",\"2022-08-30T00:00:00\",\"2022-08-31T00:00:00\",\"2022-09-01T00:00:00\",\"2022-09-02T00:00:00\",\"2022-09-06T00:00:00\",\"2022-09-07T00:00:00\",\"2022-09-08T00:00:00\",\"2022-09-09T00:00:00\",\"2022-09-12T00:00:00\",\"2022-09-13T00:00:00\",\"2022-09-14T00:00:00\",\"2022-09-15T00:00:00\",\"2022-09-16T00:00:00\",\"2022-09-19T00:00:00\",\"2022-09-20T00:00:00\",\"2022-09-21T00:00:00\",\"2022-09-22T00:00:00\",\"2022-09-23T00:00:00\",\"2022-09-26T00:00:00\",\"2022-09-27T00:00:00\",\"2022-09-28T00:00:00\",\"2022-09-29T00:00:00\",\"2022-09-30T00:00:00\"],\"y\":[0.0,-2.3777444677853032,-1.730056802756752,-1.977832206650365,-1.0780246444861308,0.0,-1.6949877184795237,-3.6018513759532245,-3.956418465964906,-2.248452826643299,-2.1576535655204676,-4.380163746128652,-5.145504793286548,-6.235135513707624,-7.960394051111108,-6.347562443625742,-4.2634152411462285,-4.367192423111133,-5.858953950549717,-4.073160373122842,-4.80390902629243,-5.755176768584825,-8.660871885356759,-9.175423024467877,-6.654559218807076,-7.0739829239064855,-8.336575614269059,-9.240286237380158,-7.34639390292402,-5.028756288304159,-3.757513849988392,-2.633290735579008,-2.7240899967018506,-1.5306820943158495,-3.17378452072522,-1.7944433253801795,-1.3750196202807707,-0.7350702282339916,0.0,-0.8109844947003619,-2.3085195504664813,-1.9180438370174135,-1.0856034096403788,-2.5316494649275434,-3.6515810573643392,-3.28684984415476,-3.5872132593342765,-5.093331997657325,-5.385111730279868,-4.145034771771261,-5.312166797124219,-5.4752240285493965,-3.8103431737953386,-3.934777107429921,-5.505257096351668,-8.079811879201182,-7.577774482237309,-10.212401948122729,-10.036472466577806,-7.843809714620365,-11.22934899217023,-10.559965796218352,-10.135168447404263,-7.500534434087447,-10.911824759308198,-11.628408388176236,-14.76078468346278,-14.58914376948064,-16.13387925816291,-16.043766959893368,-13.795326639894224,-14.2201239887083,-12.387903882397644,-15.816348477869525,-16.18965682620467,-16.18965682620467,-14.756489568468611,-15.610385928522364,-14.670672385193251,-12.924269462157978,-10.718727912649396,-11.452478906631313,-12.036044919307798,-10.242441563356387,-11.675608821092398,-11.413862156272113,-10.452692680266317,-11.456767474194097,-13.57648529299591,-16.14246294071986,-19.566618968628934,-19.7940374506528,-18.626905425299846,-21.467495440532435,-21.171420592915734,-19.261960438455272,-19.274832688575017,-18.867196157443445,-16.245440941677757,-16.502899038935258,-18.223557461731065,-18.360870192916767,-19.06458157166505,-18.21068521161131,-17.918905478988766,-17.755848247563577,-16.399914490545953,-16.485731673821313,-17.541302015659443,-18.253597076964667,-18.609744607617284,-18.970180705832696,-17.395412149348154,-17.96610591190493,-15.674747179120974,-14.992491733049373,-14.151467623115387,-15.082604031318914,-14.966747232809885,-16.018022459653825,-13.812487457576639,-12.688267297577072,-11.499679339547397,-11.705641888894592,-12.181934785618997,-10.770223460559658,-10.856040643835009,-10.886080259068631,-10.804551643356042,-11.366661723355831,-9.345633337949133,-9.34134477038635,-7.770864781464592,-7.410428683249204,-7.213043269027586,-8.04548369640461,-7.805192964261021,-9.122509970919413,-11.066298308176293,-11.233644107164253,-10.860329211397735,-9.568763252410173,-12.563826816511014,-13.20317694466061,-14.16863498822918,-14.799401433821835,-14.747912433342892,-15.593218563408273,-15.936493843941157,-14.383181220133334,-13.705214341624504,-12.272047083888493,-11.32804497299662,-15.138381599360585,-14.80798511637882,-15.717659044474264,-16.485731673821224,-15.893588526019176,-16.871918819707478,-18.292213827323756,-19.2061828704134,-20.93542497576616,-21.802187038508237,-21.918043837017244,-20.27461891493988,-21.930916087137,-22.990774996537876],\"type\":\"scatter\"}],                        {\"template\":{\"data\":{\"histogram2dcontour\":[{\"type\":\"histogram2dcontour\",\"colorbar\":{\"outlinewidth\":0,\"ticks\":\"\"},\"colorscale\":[[0.0,\"#0d0887\"],[0.1111111111111111,\"#46039f\"],[0.2222222222222222,\"#7201a8\"],[0.3333333333333333,\"#9c179e\"],[0.4444444444444444,\"#bd3786\"],[0.5555555555555556,\"#d8576b\"],[0.6666666666666666,\"#ed7953\"],[0.7777777777777778,\"#fb9f3a\"],[0.8888888888888888,\"#fdca26\"],[1.0,\"#f0f921\"]]}],\"choropleth\":[{\"type\":\"choropleth\",\"colorbar\":{\"outlinewidth\":0,\"ticks\":\"\"}}],\"histogram2d\":[{\"type\":\"histogram2d\",\"colorbar\":{\"outlinewidth\":0,\"ticks\":\"\"},\"colorscale\":[[0.0,\"#0d0887\"],[0.1111111111111111,\"#46039f\"],[0.2222222222222222,\"#7201a8\"],[0.3333333333333333,\"#9c179e\"],[0.4444444444444444,\"#bd3786\"],[0.5555555555555556,\"#d8576b\"],[0.6666666666666666,\"#ed7953\"],[0.7777777777777778,\"#fb9f3a\"],[0.8888888888888888,\"#fdca26\"],[1.0,\"#f0f921\"]]}],\"heatmap\":[{\"type\":\"heatmap\",\"colorbar\":{\"outlinewidth\":0,\"ticks\":\"\"},\"colorscale\":[[0.0,\"#0d0887\"],[0.1111111111111111,\"#46039f\"],[0.2222222222222222,\"#7201a8\"],[0.3333333333333333,\"#9c179e\"],[0.4444444444444444,\"#bd3786\"],[0.5555555555555556,\"#d8576b\"],[0.6666666666666666,\"#ed7953\"],[0.7777777777777778,\"#fb9f3a\"],[0.8888888888888888,\"#fdca26\"],[1.0,\"#f0f921\"]]}],\"heatmapgl\":[{\"type\":\"heatmapgl\",\"colorbar\":{\"outlinewidth\":0,\"ticks\":\"\"},\"colorscale\":[[0.0,\"#0d0887\"],[0.1111111111111111,\"#46039f\"],[0.2222222222222222,\"#7201a8\"],[0.3333333333333333,\"#9c179e\"],[0.4444444444444444,\"#bd3786\"],[0.5555555555555556,\"#d8576b\"],[0.6666666666666666,\"#ed7953\"],[0.7777777777777778,\"#fb9f3a\"],[0.8888888888888888,\"#fdca26\"],[1.0,\"#f0f921\"]]}],\"contourcarpet\":[{\"type\":\"contourcarpet\",\"colorbar\":{\"outlinewidth\":0,\"ticks\":\"\"}}],\"contour\":[{\"type\":\"contour\",\"colorbar\":{\"outlinewidth\":0,\"ticks\":\"\"},\"colorscale\":[[0.0,\"#0d0887\"],[0.1111111111111111,\"#46039f\"],[0.2222222222222222,\"#7201a8\"],[0.3333333333333333,\"#9c179e\"],[0.4444444444444444,\"#bd3786\"],[0.5555555555555556,\"#d8576b\"],[0.6666666666666666,\"#ed7953\"],[0.7777777777777778,\"#fb9f3a\"],[0.8888888888888888,\"#fdca26\"],[1.0,\"#f0f921\"]]}],\"surface\":[{\"type\":\"surface\",\"colorbar\":{\"outlinewidth\":0,\"ticks\":\"\"},\"colorscale\":[[0.0,\"#0d0887\"],[0.1111111111111111,\"#46039f\"],[0.2222222222222222,\"#7201a8\"],[0.3333333333333333,\"#9c179e\"],[0.4444444444444444,\"#bd3786\"],[0.5555555555555556,\"#d8576b\"],[0.6666666666666666,\"#ed7953\"],[0.7777777777777778,\"#fb9f3a\"],[0.8888888888888888,\"#fdca26\"],[1.0,\"#f0f921\"]]}],\"mesh3d\":[{\"type\":\"mesh3d\",\"colorbar\":{\"outlinewidth\":0,\"ticks\":\"\"}}],\"scatter\":[{\"fillpattern\":{\"fillmode\":\"overlay\",\"size\":10,\"solidity\":0.2},\"type\":\"scatter\"}],\"parcoords\":[{\"type\":\"parcoords\",\"line\":{\"colorbar\":{\"outlinewidth\":0,\"ticks\":\"\"}}}],\"scatterpolargl\":[{\"type\":\"scatterpolargl\",\"marker\":{\"colorbar\":{\"outlinewidth\":0,\"ticks\":\"\"}}}],\"bar\":[{\"error_x\":{\"color\":\"#2a3f5f\"},\"error_y\":{\"color\":\"#2a3f5f\"},\"marker\":{\"line\":{\"color\":\"#E5ECF6\",\"width\":0.5},\"pattern\":{\"fillmode\":\"overlay\",\"size\":10,\"solidity\":0.2}},\"type\":\"bar\"}],\"scattergeo\":[{\"type\":\"scattergeo\",\"marker\":{\"colorbar\":{\"outlinewidth\":0,\"ticks\":\"\"}}}],\"scatterpolar\":[{\"type\":\"scatterpolar\",\"marker\":{\"colorbar\":{\"outlinewidth\":0,\"ticks\":\"\"}}}],\"histogram\":[{\"marker\":{\"pattern\":{\"fillmode\":\"overlay\",\"size\":10,\"solidity\":0.2}},\"type\":\"histogram\"}],\"scattergl\":[{\"type\":\"scattergl\",\"marker\":{\"colorbar\":{\"outlinewidth\":0,\"ticks\":\"\"}}}],\"scatter3d\":[{\"type\":\"scatter3d\",\"line\":{\"colorbar\":{\"outlinewidth\":0,\"ticks\":\"\"}},\"marker\":{\"colorbar\":{\"outlinewidth\":0,\"ticks\":\"\"}}}],\"scattermapbox\":[{\"type\":\"scattermapbox\",\"marker\":{\"colorbar\":{\"outlinewidth\":0,\"ticks\":\"\"}}}],\"scatterternary\":[{\"type\":\"scatterternary\",\"marker\":{\"colorbar\":{\"outlinewidth\":0,\"ticks\":\"\"}}}],\"scattercarpet\":[{\"type\":\"scattercarpet\",\"marker\":{\"colorbar\":{\"outlinewidth\":0,\"ticks\":\"\"}}}],\"carpet\":[{\"aaxis\":{\"endlinecolor\":\"#2a3f5f\",\"gridcolor\":\"white\",\"linecolor\":\"white\",\"minorgridcolor\":\"white\",\"startlinecolor\":\"#2a3f5f\"},\"baxis\":{\"endlinecolor\":\"#2a3f5f\",\"gridcolor\":\"white\",\"linecolor\":\"white\",\"minorgridcolor\":\"white\",\"startlinecolor\":\"#2a3f5f\"},\"type\":\"carpet\"}],\"table\":[{\"cells\":{\"fill\":{\"color\":\"#EBF0F8\"},\"line\":{\"color\":\"white\"}},\"header\":{\"fill\":{\"color\":\"#C8D4E3\"},\"line\":{\"color\":\"white\"}},\"type\":\"table\"}],\"barpolar\":[{\"marker\":{\"line\":{\"color\":\"#E5ECF6\",\"width\":0.5},\"pattern\":{\"fillmode\":\"overlay\",\"size\":10,\"solidity\":0.2}},\"type\":\"barpolar\"}],\"pie\":[{\"automargin\":true,\"type\":\"pie\"}]},\"layout\":{\"autotypenumbers\":\"strict\",\"colorway\":[\"#636efa\",\"#EF553B\",\"#00cc96\",\"#ab63fa\",\"#FFA15A\",\"#19d3f3\",\"#FF6692\",\"#B6E880\",\"#FF97FF\",\"#FECB52\"],\"font\":{\"color\":\"#2a3f5f\"},\"hovermode\":\"closest\",\"hoverlabel\":{\"align\":\"left\"},\"paper_bgcolor\":\"white\",\"plot_bgcolor\":\"#E5ECF6\",\"polar\":{\"bgcolor\":\"#E5ECF6\",\"angularaxis\":{\"gridcolor\":\"white\",\"linecolor\":\"white\",\"ticks\":\"\"},\"radialaxis\":{\"gridcolor\":\"white\",\"linecolor\":\"white\",\"ticks\":\"\"}},\"ternary\":{\"bgcolor\":\"#E5ECF6\",\"aaxis\":{\"gridcolor\":\"white\",\"linecolor\":\"white\",\"ticks\":\"\"},\"baxis\":{\"gridcolor\":\"white\",\"linecolor\":\"white\",\"ticks\":\"\"},\"caxis\":{\"gridcolor\":\"white\",\"linecolor\":\"white\",\"ticks\":\"\"}},\"coloraxis\":{\"colorbar\":{\"outlinewidth\":0,\"ticks\":\"\"}},\"colorscale\":{\"sequential\":[[0.0,\"#0d0887\"],[0.1111111111111111,\"#46039f\"],[0.2222222222222222,\"#7201a8\"],[0.3333333333333333,\"#9c179e\"],[0.4444444444444444,\"#bd3786\"],[0.5555555555555556,\"#d8576b\"],[0.6666666666666666,\"#ed7953\"],[0.7777777777777778,\"#fb9f3a\"],[0.8888888888888888,\"#fdca26\"],[1.0,\"#f0f921\"]],\"sequentialminus\":[[0.0,\"#0d0887\"],[0.1111111111111111,\"#46039f\"],[0.2222222222222222,\"#7201a8\"],[0.3333333333333333,\"#9c179e\"],[0.4444444444444444,\"#bd3786\"],[0.5555555555555556,\"#d8576b\"],[0.6666666666666666,\"#ed7953\"],[0.7777777777777778,\"#fb9f3a\"],[0.8888888888888888,\"#fdca26\"],[1.0,\"#f0f921\"]],\"diverging\":[[0,\"#8e0152\"],[0.1,\"#c51b7d\"],[0.2,\"#de77ae\"],[0.3,\"#f1b6da\"],[0.4,\"#fde0ef\"],[0.5,\"#f7f7f7\"],[0.6,\"#e6f5d0\"],[0.7,\"#b8e186\"],[0.8,\"#7fbc41\"],[0.9,\"#4d9221\"],[1,\"#276419\"]]},\"xaxis\":{\"gridcolor\":\"white\",\"linecolor\":\"white\",\"ticks\":\"\",\"title\":{\"standoff\":15},\"zerolinecolor\":\"white\",\"automargin\":true,\"zerolinewidth\":2},\"yaxis\":{\"gridcolor\":\"white\",\"linecolor\":\"white\",\"ticks\":\"\",\"title\":{\"standoff\":15},\"zerolinecolor\":\"white\",\"automargin\":true,\"zerolinewidth\":2},\"scene\":{\"xaxis\":{\"backgroundcolor\":\"#E5ECF6\",\"gridcolor\":\"white\",\"linecolor\":\"white\",\"showbackground\":true,\"ticks\":\"\",\"zerolinecolor\":\"white\",\"gridwidth\":2},\"yaxis\":{\"backgroundcolor\":\"#E5ECF6\",\"gridcolor\":\"white\",\"linecolor\":\"white\",\"showbackground\":true,\"ticks\":\"\",\"zerolinecolor\":\"white\",\"gridwidth\":2},\"zaxis\":{\"backgroundcolor\":\"#E5ECF6\",\"gridcolor\":\"white\",\"linecolor\":\"white\",\"showbackground\":true,\"ticks\":\"\",\"zerolinecolor\":\"white\",\"gridwidth\":2}},\"shapedefaults\":{\"line\":{\"color\":\"#2a3f5f\"}},\"annotationdefaults\":{\"arrowcolor\":\"#2a3f5f\",\"arrowhead\":0,\"arrowwidth\":1},\"geo\":{\"bgcolor\":\"white\",\"landcolor\":\"#E5ECF6\",\"subunitcolor\":\"white\",\"showland\":true,\"showlakes\":true,\"lakecolor\":\"white\"},\"title\":{\"x\":0.05},\"mapbox\":{\"style\":\"light\"}}},\"title\":{\"text\":\"\\ub099\\ud3ed \\ube44\\uad50\",\"x\":0.5,\"xanchor\":\"center\",\"yanchor\":\"top\"},\"yaxis\":{\"type\":\"linear\",\"autorange\":true}},                        {\"responsive\": true}                    ).then(function(){\n",
       "                            \n",
       "var gd = document.getElementById('3efa9afe-69da-4edd-bacc-90917e1f992e');\n",
       "var x = new MutationObserver(function (mutations, observer) {{\n",
       "        var display = window.getComputedStyle(gd).display;\n",
       "        if (!display || display === 'none') {{\n",
       "            console.log([gd, 'removed!']);\n",
       "            Plotly.purge(gd);\n",
       "            observer.disconnect();\n",
       "        }}\n",
       "}});\n",
       "\n",
       "// Listen for the removal of the full notebook cells\n",
       "var notebookContainer = gd.closest('#notebook-container');\n",
       "if (notebookContainer) {{\n",
       "    x.observe(notebookContainer, {childList: true});\n",
       "}}\n",
       "\n",
       "// Listen for the clearing of the current output cell\n",
       "var outputEl = gd.closest('.output');\n",
       "if (outputEl) {{\n",
       "    x.observe(outputEl, {childList: true});\n",
       "}}\n",
       "\n",
       "                        })                };                });            </script>        </div>"
      ]
     },
     "metadata": {},
     "output_type": "display_data"
    },
    {
     "data": {
      "application/vnd.plotly.v1+json": {
       "config": {
        "plotlyServerURL": "https://plot.ly"
       },
       "data": [
        {
         "line": {
          "width": 1
         },
         "name": "Portfolio1",
         "type": "scatter",
         "x": [
          "2022-02-02T00:00:00",
          "2022-02-03T00:00:00",
          "2022-02-04T00:00:00",
          "2022-02-07T00:00:00",
          "2022-02-08T00:00:00",
          "2022-02-09T00:00:00",
          "2022-02-10T00:00:00",
          "2022-02-11T00:00:00",
          "2022-02-14T00:00:00",
          "2022-02-15T00:00:00",
          "2022-02-16T00:00:00",
          "2022-02-17T00:00:00",
          "2022-02-18T00:00:00",
          "2022-02-22T00:00:00",
          "2022-02-23T00:00:00",
          "2022-02-24T00:00:00",
          "2022-02-25T00:00:00",
          "2022-02-28T00:00:00",
          "2022-03-01T00:00:00",
          "2022-03-02T00:00:00",
          "2022-03-03T00:00:00",
          "2022-03-04T00:00:00",
          "2022-03-07T00:00:00",
          "2022-03-08T00:00:00",
          "2022-03-09T00:00:00",
          "2022-03-10T00:00:00",
          "2022-03-11T00:00:00",
          "2022-03-14T00:00:00",
          "2022-03-15T00:00:00",
          "2022-03-16T00:00:00",
          "2022-03-17T00:00:00",
          "2022-03-18T00:00:00",
          "2022-03-21T00:00:00",
          "2022-03-22T00:00:00",
          "2022-03-23T00:00:00",
          "2022-03-24T00:00:00",
          "2022-03-25T00:00:00",
          "2022-03-28T00:00:00",
          "2022-03-29T00:00:00",
          "2022-03-30T00:00:00",
          "2022-03-31T00:00:00",
          "2022-04-01T00:00:00",
          "2022-04-04T00:00:00",
          "2022-04-05T00:00:00",
          "2022-04-06T00:00:00",
          "2022-04-07T00:00:00",
          "2022-04-08T00:00:00",
          "2022-04-11T00:00:00",
          "2022-04-12T00:00:00",
          "2022-04-13T00:00:00",
          "2022-04-14T00:00:00",
          "2022-04-18T00:00:00",
          "2022-04-19T00:00:00",
          "2022-04-20T00:00:00",
          "2022-04-21T00:00:00",
          "2022-04-22T00:00:00",
          "2022-04-25T00:00:00",
          "2022-04-26T00:00:00",
          "2022-04-27T00:00:00",
          "2022-04-28T00:00:00",
          "2022-04-29T00:00:00",
          "2022-05-02T00:00:00",
          "2022-05-03T00:00:00",
          "2022-05-04T00:00:00",
          "2022-05-05T00:00:00",
          "2022-05-06T00:00:00",
          "2022-05-09T00:00:00",
          "2022-05-10T00:00:00",
          "2022-05-11T00:00:00",
          "2022-05-12T00:00:00",
          "2022-05-13T00:00:00",
          "2022-05-16T00:00:00",
          "2022-05-17T00:00:00",
          "2022-05-18T00:00:00",
          "2022-05-19T00:00:00",
          "2022-05-20T00:00:00",
          "2022-05-23T00:00:00",
          "2022-05-24T00:00:00",
          "2022-05-25T00:00:00",
          "2022-05-26T00:00:00",
          "2022-05-27T00:00:00",
          "2022-05-31T00:00:00",
          "2022-06-01T00:00:00",
          "2022-06-02T00:00:00",
          "2022-06-03T00:00:00",
          "2022-06-06T00:00:00",
          "2022-06-07T00:00:00",
          "2022-06-08T00:00:00",
          "2022-06-09T00:00:00",
          "2022-06-10T00:00:00",
          "2022-06-13T00:00:00",
          "2022-06-14T00:00:00",
          "2022-06-15T00:00:00",
          "2022-06-16T00:00:00",
          "2022-06-17T00:00:00",
          "2022-06-21T00:00:00",
          "2022-06-22T00:00:00",
          "2022-06-23T00:00:00",
          "2022-06-24T00:00:00",
          "2022-06-27T00:00:00",
          "2022-06-28T00:00:00",
          "2022-06-29T00:00:00",
          "2022-06-30T00:00:00",
          "2022-07-01T00:00:00",
          "2022-07-05T00:00:00",
          "2022-07-06T00:00:00",
          "2022-07-07T00:00:00",
          "2022-07-08T00:00:00",
          "2022-07-11T00:00:00",
          "2022-07-12T00:00:00",
          "2022-07-13T00:00:00",
          "2022-07-14T00:00:00",
          "2022-07-15T00:00:00",
          "2022-07-18T00:00:00",
          "2022-07-19T00:00:00",
          "2022-07-20T00:00:00",
          "2022-07-21T00:00:00",
          "2022-07-22T00:00:00",
          "2022-07-25T00:00:00",
          "2022-07-26T00:00:00",
          "2022-07-27T00:00:00",
          "2022-07-28T00:00:00",
          "2022-07-29T00:00:00",
          "2022-08-01T00:00:00",
          "2022-08-02T00:00:00",
          "2022-08-03T00:00:00",
          "2022-08-04T00:00:00",
          "2022-08-05T00:00:00",
          "2022-08-08T00:00:00",
          "2022-08-09T00:00:00",
          "2022-08-10T00:00:00",
          "2022-08-11T00:00:00",
          "2022-08-12T00:00:00",
          "2022-08-15T00:00:00",
          "2022-08-16T00:00:00",
          "2022-08-17T00:00:00",
          "2022-08-18T00:00:00",
          "2022-08-19T00:00:00",
          "2022-08-22T00:00:00",
          "2022-08-23T00:00:00",
          "2022-08-24T00:00:00",
          "2022-08-25T00:00:00",
          "2022-08-26T00:00:00",
          "2022-08-29T00:00:00",
          "2022-08-30T00:00:00",
          "2022-08-31T00:00:00",
          "2022-09-01T00:00:00",
          "2022-09-02T00:00:00",
          "2022-09-06T00:00:00",
          "2022-09-07T00:00:00",
          "2022-09-08T00:00:00",
          "2022-09-09T00:00:00",
          "2022-09-12T00:00:00",
          "2022-09-13T00:00:00",
          "2022-09-14T00:00:00",
          "2022-09-15T00:00:00",
          "2022-09-16T00:00:00",
          "2022-09-19T00:00:00",
          "2022-09-20T00:00:00",
          "2022-09-21T00:00:00",
          "2022-09-22T00:00:00",
          "2022-09-23T00:00:00",
          "2022-09-26T00:00:00",
          "2022-09-27T00:00:00",
          "2022-09-28T00:00:00",
          "2022-09-29T00:00:00",
          "2022-09-30T00:00:00"
         ],
         "y": [
          10000,
          9955.111312077,
          9906.91135268077,
          9911.216967002567,
          9901.409308808243,
          9945.670191836743,
          9825.400949473356,
          9870.468199336605,
          9804.051949097822,
          9793.111288693693,
          9833.113409598318,
          9848.32089273672,
          9880.9200229051,
          9867.266904998256,
          9798.73721266275,
          9795.784946969967,
          9828.95230263561,
          9964.302295718835,
          10062.93654663737,
          9999.421891870501,
          10017.942359532495,
          10096.101514358474,
          10038.402654843861,
          10076.404340800724,
          9928.422277553786,
          9837.493691828658,
          9826.95129084555,
          9687.379562526265,
          9688.656599754326,
          9762.642838366457,
          9792.008536799896,
          9869.106008381883,
          9831.833372489466,
          9783.00724309537,
          9891.20862813601,
          9873.14057108831,
          9827.916264955113,
          9802.947167064909,
          9866.366596268963,
          9896.830360545768,
          9863.435259024613,
          9870.22819218271,
          9869.080542153668,
          9712.223843819604,
          9656.602074653283,
          9632.918019993689,
          9585.712860231204,
          9522.693785397436,
          9559.895015673532,
          9605.68550620868,
          9517.755422520517,
          9528.938710576514,
          9477.516467779342,
          9560.039084773452,
          9490.554422174371,
          9380.327863036206,
          9408.600198094005,
          9407.955330007575,
          9379.308412317645,
          9446.421061371602,
          9332.744099406902,
          9275.691479148309,
          9286.115851498187,
          9375.404400869435,
          9190.679231063566,
          9128.981935501472,
          9028.315318974206,
          9080.600378599156,
          9152.872811812453,
          9159.21029868388,
          9155.015339295982,
          9159.856165597319,
          9149.922494433,
          9155.068011292367,
          9163.512869953027,
          9215.419898555321,
          9184.898817991376,
          9261.280835553152,
          9309.89362387019,
          9342.68587958829,
          9380.323405979962,
          9281.527144139396,
          9248.591011075325,
          9307.267764317488,
          9277.389359486926,
          9196.124374039025,
          9209.946922532426,
          9164.324630864827,
          9111.082775148114,
          9041.985641923866,
          8837.857808945702,
          8737.30043025942,
          8842.762242882798,
          8807.588947125198,
          8763.571768937685,
          8761.266939617564,
          8861.982182445441,
          8890.114173811406,
          8872.402838813909,
          8815.201483144783,
          8798.643107271046,
          8832.015924395726,
          8848.623793723515,
          8889.499909977358,
          8869.478069789142,
          8793.133077248156,
          8808.186379949539,
          8768.588487858427,
          8814.562740978008,
          8773.13021203914,
          8819.5172264356,
          8792.83032718516,
          8844.55028087576,
          8831.843770570567,
          8863.991344915123,
          8866.098511818022,
          8945.232662611776,
          8993.523160454093,
          8974.507872649314,
          8971.36454454181,
          9027.122973742256,
          9085.94410314529,
          9095.895726838886,
          9164.963515479581,
          9066.403735156184,
          9147.005513653046,
          9151.529415321249,
          9050.351323774694,
          9111.552137001227,
          9120.342792358551,
          9144.782094556058,
          9081.209482924993,
          9134.79895910556,
          9108.718065672178,
          9102.753317944374,
          9034.657588561597,
          9041.43053375117,
          8965.980285898228,
          8941.917615866276,
          8944.081037210264,
          8905.874070955735,
          8978.783311820505,
          8959.642303578776,
          8904.587489195688,
          8859.523114045187,
          8787.608774932376,
          8702.441559092724,
          8707.265277401562,
          8609.421051858448,
          8708.222924443357,
          8662.292205312888,
          8712.205989622526,
          8706.8390874791,
          8617.656521529347,
          8639.86442258703,
          8567.232446217187,
          8526.006231129095,
          8521.352757396058,
          8427.83197095019,
          8459.20748024453,
          8322.865257476697,
          8269.423981037253,
          8151.194093740492,
          8080.230118055729,
          8259.804206568602,
          8210.789357541396,
          8141.526712933535
         ]
        },
        {
         "line": {
          "width": 1
         },
         "name": "Portfolio2",
         "type": "scatter",
         "x": [
          "2022-02-02T00:00:00",
          "2022-02-03T00:00:00",
          "2022-02-04T00:00:00",
          "2022-02-07T00:00:00",
          "2022-02-08T00:00:00",
          "2022-02-09T00:00:00",
          "2022-02-10T00:00:00",
          "2022-02-11T00:00:00",
          "2022-02-14T00:00:00",
          "2022-02-15T00:00:00",
          "2022-02-16T00:00:00",
          "2022-02-17T00:00:00",
          "2022-02-18T00:00:00",
          "2022-02-22T00:00:00",
          "2022-02-23T00:00:00",
          "2022-02-24T00:00:00",
          "2022-02-25T00:00:00",
          "2022-02-28T00:00:00",
          "2022-03-01T00:00:00",
          "2022-03-02T00:00:00",
          "2022-03-03T00:00:00",
          "2022-03-04T00:00:00",
          "2022-03-07T00:00:00",
          "2022-03-08T00:00:00",
          "2022-03-09T00:00:00",
          "2022-03-10T00:00:00",
          "2022-03-11T00:00:00",
          "2022-03-14T00:00:00",
          "2022-03-15T00:00:00",
          "2022-03-16T00:00:00",
          "2022-03-17T00:00:00",
          "2022-03-18T00:00:00",
          "2022-03-21T00:00:00",
          "2022-03-22T00:00:00",
          "2022-03-23T00:00:00",
          "2022-03-24T00:00:00",
          "2022-03-25T00:00:00",
          "2022-03-28T00:00:00",
          "2022-03-29T00:00:00",
          "2022-03-30T00:00:00",
          "2022-03-31T00:00:00",
          "2022-04-01T00:00:00",
          "2022-04-04T00:00:00",
          "2022-04-05T00:00:00",
          "2022-04-06T00:00:00",
          "2022-04-07T00:00:00",
          "2022-04-08T00:00:00",
          "2022-04-11T00:00:00",
          "2022-04-12T00:00:00",
          "2022-04-13T00:00:00",
          "2022-04-14T00:00:00",
          "2022-04-18T00:00:00",
          "2022-04-19T00:00:00",
          "2022-04-20T00:00:00",
          "2022-04-21T00:00:00",
          "2022-04-22T00:00:00",
          "2022-04-25T00:00:00",
          "2022-04-26T00:00:00",
          "2022-04-27T00:00:00",
          "2022-04-28T00:00:00",
          "2022-04-29T00:00:00",
          "2022-05-02T00:00:00",
          "2022-05-03T00:00:00",
          "2022-05-04T00:00:00",
          "2022-05-05T00:00:00",
          "2022-05-06T00:00:00",
          "2022-05-09T00:00:00",
          "2022-05-10T00:00:00",
          "2022-05-11T00:00:00",
          "2022-05-12T00:00:00",
          "2022-05-13T00:00:00",
          "2022-05-16T00:00:00",
          "2022-05-17T00:00:00",
          "2022-05-18T00:00:00",
          "2022-05-19T00:00:00",
          "2022-05-20T00:00:00",
          "2022-05-23T00:00:00",
          "2022-05-24T00:00:00",
          "2022-05-25T00:00:00",
          "2022-05-26T00:00:00",
          "2022-05-27T00:00:00",
          "2022-05-31T00:00:00",
          "2022-06-01T00:00:00",
          "2022-06-02T00:00:00",
          "2022-06-03T00:00:00",
          "2022-06-06T00:00:00",
          "2022-06-07T00:00:00",
          "2022-06-08T00:00:00",
          "2022-06-09T00:00:00",
          "2022-06-10T00:00:00",
          "2022-06-13T00:00:00",
          "2022-06-14T00:00:00",
          "2022-06-15T00:00:00",
          "2022-06-16T00:00:00",
          "2022-06-17T00:00:00",
          "2022-06-21T00:00:00",
          "2022-06-22T00:00:00",
          "2022-06-23T00:00:00",
          "2022-06-24T00:00:00",
          "2022-06-27T00:00:00",
          "2022-06-28T00:00:00",
          "2022-06-29T00:00:00",
          "2022-06-30T00:00:00",
          "2022-07-01T00:00:00",
          "2022-07-05T00:00:00",
          "2022-07-06T00:00:00",
          "2022-07-07T00:00:00",
          "2022-07-08T00:00:00",
          "2022-07-11T00:00:00",
          "2022-07-12T00:00:00",
          "2022-07-13T00:00:00",
          "2022-07-14T00:00:00",
          "2022-07-15T00:00:00",
          "2022-07-18T00:00:00",
          "2022-07-19T00:00:00",
          "2022-07-20T00:00:00",
          "2022-07-21T00:00:00",
          "2022-07-22T00:00:00",
          "2022-07-25T00:00:00",
          "2022-07-26T00:00:00",
          "2022-07-27T00:00:00",
          "2022-07-28T00:00:00",
          "2022-07-29T00:00:00",
          "2022-08-01T00:00:00",
          "2022-08-02T00:00:00",
          "2022-08-03T00:00:00",
          "2022-08-04T00:00:00",
          "2022-08-05T00:00:00",
          "2022-08-08T00:00:00",
          "2022-08-09T00:00:00",
          "2022-08-10T00:00:00",
          "2022-08-11T00:00:00",
          "2022-08-12T00:00:00",
          "2022-08-15T00:00:00",
          "2022-08-16T00:00:00",
          "2022-08-17T00:00:00",
          "2022-08-18T00:00:00",
          "2022-08-19T00:00:00",
          "2022-08-22T00:00:00",
          "2022-08-23T00:00:00",
          "2022-08-24T00:00:00",
          "2022-08-25T00:00:00",
          "2022-08-26T00:00:00",
          "2022-08-29T00:00:00",
          "2022-08-30T00:00:00",
          "2022-08-31T00:00:00",
          "2022-09-01T00:00:00",
          "2022-09-02T00:00:00",
          "2022-09-06T00:00:00",
          "2022-09-07T00:00:00",
          "2022-09-08T00:00:00",
          "2022-09-09T00:00:00",
          "2022-09-12T00:00:00",
          "2022-09-13T00:00:00",
          "2022-09-14T00:00:00",
          "2022-09-15T00:00:00",
          "2022-09-16T00:00:00",
          "2022-09-19T00:00:00",
          "2022-09-20T00:00:00",
          "2022-09-21T00:00:00",
          "2022-09-22T00:00:00",
          "2022-09-23T00:00:00",
          "2022-09-26T00:00:00",
          "2022-09-27T00:00:00",
          "2022-09-28T00:00:00",
          "2022-09-29T00:00:00",
          "2022-09-30T00:00:00"
         ],
         "y": [
          10000,
          9917.488133325896,
          9900.414514326492,
          9914.31185167787,
          9928.429794055766,
          9981.524008708548,
          9890.621598458327,
          9926.33356599221,
          9900.680487033616,
          9892.32287727495,
          9935.025792611632,
          9932.039850253794,
          9936.470316067087,
          9920.892973497346,
          9855.524833375504,
          9880.613477462586,
          9926.015507119972,
          10003.246559396082,
          10042.761982272199,
          9974.630281152437,
          9996.85233017374,
          10057.485923227414,
          10006.044762616862,
          10043.982335692726,
          9999.320811566831,
          9962.864159090674,
          9919.382377835627,
          9800.179118448157,
          9792.690155455422,
          9890.77857804727,
          9918.330037976159,
          9951.110670929063,
          9914.717417647576,
          9895.914290386056,
          9948.67617858032,
          9984.863572340924,
          9951.922141233772,
          9938.261158527112,
          9994.633714339681,
          10013.85517855989,
          9982.480431793898,
          9984.22315921772,
          10001.759968656392,
          9895.65297247417,
          9855.357464267932,
          9857.766240002109,
          9842.43887642899,
          9782.86636004674,
          9793.18625774276,
          9842.128299650984,
          9759.622102529105,
          9753.615028493421,
          9738.458150414352,
          9791.3366008698,
          9725.945958142798,
          9620.65826124093,
          9606.868734651034,
          9565.170941069158,
          9522.11805104987,
          9595.609583640533,
          9481.076079968845,
          9413.28289030898,
          9444.565103572377,
          9548.844310634451,
          9394.86135294971,
          9350.926478733902,
          9251.126315389723,
          9252.236418342723,
          9273.106391016807,
          9232.54555654322,
          9238.77650530442,
          9249.431023538931,
          9255.409525217809,
          9212.735767363785,
          9245.613265794445,
          9270.879344682857,
          9284.695230313528,
          9322.598243642224,
          9339.498351214404,
          9370.137243044974,
          9432.07677702635,
          9343.336382757872,
          9342.324757647008,
          9420.890971131332,
          9353.30254611603,
          9311.110443813102,
          9373.600725189759,
          9327.950688237059,
          9272.952096152903,
          9228.858228408277,
          9010.71901801665,
          8959.937761932953,
          9058.353591072015,
          9030.734087995104,
          9023.326124901578,
          9029.290467563489,
          9092.9143408948,
          9112.416024943414,
          9148.269202254309,
          9121.904126009125,
          9083.617710363038,
          9109.426568608204,
          9094.191833452425,
          9134.572832311262,
          9105.286568779175,
          9036.053375524894,
          9054.066194715662,
          9030.303339294122,
          9025.162546894562,
          9009.891277702209,
          9035.609004396292,
          8976.236313870646,
          9022.914031094842,
          8989.12846566414,
          9042.208357110607,
          9042.71836775015,
          9133.110963687644,
          9150.303731684488,
          9125.905852427797,
          9097.87352524879,
          9166.56418469426,
          9241.169360607104,
          9272.898225746243,
          9331.74305595789,
          9260.248256882005,
          9334.759982988986,
          9372.684141978794,
          9294.190834786794,
          9350.662728334908,
          9335.433259983602,
          9367.362700560832,
          9312.472795145526,
          9396.333821004882,
          9371.494776429188,
          9381.033813073296,
          9322.468525989238,
          9326.345940591504,
          9242.122015898272,
          9170.076411935515,
          9170.9806983015,
          9173.86912968469,
          9242.0175397934,
          9151.253922093967,
          9119.732764808257,
          9080.3647236808,
          9027.282754660184,
          8972.010166794958,
          8982.340171580025,
          8911.226949454236,
          9005.215603713981,
          8988.909600833731,
          9042.173993315573,
          9062.131717702097,
          8938.994675148826,
          8944.975105135178,
          8877.669577380304,
          8854.795065201613,
          8876.124935105872,
          8818.67497791881,
          8825.337038937441,
          8752.669545189012,
          8684.946310296982,
          8599.888835737263,
          8553.747467052064,
          8702.915339416693,
          8650.983534726009,
          8600.13494223646
         ]
        },
        {
         "line": {
          "width": 1
         },
         "name": "Portfolio3",
         "type": "scatter",
         "x": [
          "2022-02-02T00:00:00",
          "2022-02-03T00:00:00",
          "2022-02-04T00:00:00",
          "2022-02-07T00:00:00",
          "2022-02-08T00:00:00",
          "2022-02-09T00:00:00",
          "2022-02-10T00:00:00",
          "2022-02-11T00:00:00",
          "2022-02-14T00:00:00",
          "2022-02-15T00:00:00",
          "2022-02-16T00:00:00",
          "2022-02-17T00:00:00",
          "2022-02-18T00:00:00",
          "2022-02-22T00:00:00",
          "2022-02-23T00:00:00",
          "2022-02-24T00:00:00",
          "2022-02-25T00:00:00",
          "2022-02-28T00:00:00",
          "2022-03-01T00:00:00",
          "2022-03-02T00:00:00",
          "2022-03-03T00:00:00",
          "2022-03-04T00:00:00",
          "2022-03-07T00:00:00",
          "2022-03-08T00:00:00",
          "2022-03-09T00:00:00",
          "2022-03-10T00:00:00",
          "2022-03-11T00:00:00",
          "2022-03-14T00:00:00",
          "2022-03-15T00:00:00",
          "2022-03-16T00:00:00",
          "2022-03-17T00:00:00",
          "2022-03-18T00:00:00",
          "2022-03-21T00:00:00",
          "2022-03-22T00:00:00",
          "2022-03-23T00:00:00",
          "2022-03-24T00:00:00",
          "2022-03-25T00:00:00",
          "2022-03-28T00:00:00",
          "2022-03-29T00:00:00",
          "2022-03-30T00:00:00",
          "2022-03-31T00:00:00",
          "2022-04-01T00:00:00",
          "2022-04-04T00:00:00",
          "2022-04-05T00:00:00",
          "2022-04-06T00:00:00",
          "2022-04-07T00:00:00",
          "2022-04-08T00:00:00",
          "2022-04-11T00:00:00",
          "2022-04-12T00:00:00",
          "2022-04-13T00:00:00",
          "2022-04-14T00:00:00",
          "2022-04-18T00:00:00",
          "2022-04-19T00:00:00",
          "2022-04-20T00:00:00",
          "2022-04-21T00:00:00",
          "2022-04-22T00:00:00",
          "2022-04-25T00:00:00",
          "2022-04-26T00:00:00",
          "2022-04-27T00:00:00",
          "2022-04-28T00:00:00",
          "2022-04-29T00:00:00",
          "2022-05-02T00:00:00",
          "2022-05-03T00:00:00",
          "2022-05-04T00:00:00",
          "2022-05-05T00:00:00",
          "2022-05-06T00:00:00",
          "2022-05-09T00:00:00",
          "2022-05-10T00:00:00",
          "2022-05-11T00:00:00",
          "2022-05-12T00:00:00",
          "2022-05-13T00:00:00",
          "2022-05-16T00:00:00",
          "2022-05-17T00:00:00",
          "2022-05-18T00:00:00",
          "2022-05-19T00:00:00",
          "2022-05-20T00:00:00",
          "2022-05-23T00:00:00",
          "2022-05-24T00:00:00",
          "2022-05-25T00:00:00",
          "2022-05-26T00:00:00",
          "2022-05-27T00:00:00",
          "2022-05-31T00:00:00",
          "2022-06-01T00:00:00",
          "2022-06-02T00:00:00",
          "2022-06-03T00:00:00",
          "2022-06-06T00:00:00",
          "2022-06-07T00:00:00",
          "2022-06-08T00:00:00",
          "2022-06-09T00:00:00",
          "2022-06-10T00:00:00",
          "2022-06-13T00:00:00",
          "2022-06-14T00:00:00",
          "2022-06-15T00:00:00",
          "2022-06-16T00:00:00",
          "2022-06-17T00:00:00",
          "2022-06-21T00:00:00",
          "2022-06-22T00:00:00",
          "2022-06-23T00:00:00",
          "2022-06-24T00:00:00",
          "2022-06-27T00:00:00",
          "2022-06-28T00:00:00",
          "2022-06-29T00:00:00",
          "2022-06-30T00:00:00",
          "2022-07-01T00:00:00",
          "2022-07-05T00:00:00",
          "2022-07-06T00:00:00",
          "2022-07-07T00:00:00",
          "2022-07-08T00:00:00",
          "2022-07-11T00:00:00",
          "2022-07-12T00:00:00",
          "2022-07-13T00:00:00",
          "2022-07-14T00:00:00",
          "2022-07-15T00:00:00",
          "2022-07-18T00:00:00",
          "2022-07-19T00:00:00",
          "2022-07-20T00:00:00",
          "2022-07-21T00:00:00",
          "2022-07-22T00:00:00",
          "2022-07-25T00:00:00",
          "2022-07-26T00:00:00",
          "2022-07-27T00:00:00",
          "2022-07-28T00:00:00",
          "2022-07-29T00:00:00",
          "2022-08-01T00:00:00",
          "2022-08-02T00:00:00",
          "2022-08-03T00:00:00",
          "2022-08-04T00:00:00",
          "2022-08-05T00:00:00",
          "2022-08-08T00:00:00",
          "2022-08-09T00:00:00",
          "2022-08-10T00:00:00",
          "2022-08-11T00:00:00",
          "2022-08-12T00:00:00",
          "2022-08-15T00:00:00",
          "2022-08-16T00:00:00",
          "2022-08-17T00:00:00",
          "2022-08-18T00:00:00",
          "2022-08-19T00:00:00",
          "2022-08-22T00:00:00",
          "2022-08-23T00:00:00",
          "2022-08-24T00:00:00",
          "2022-08-25T00:00:00",
          "2022-08-26T00:00:00",
          "2022-08-29T00:00:00",
          "2022-08-30T00:00:00",
          "2022-08-31T00:00:00",
          "2022-09-01T00:00:00",
          "2022-09-02T00:00:00",
          "2022-09-06T00:00:00",
          "2022-09-07T00:00:00",
          "2022-09-08T00:00:00",
          "2022-09-09T00:00:00",
          "2022-09-12T00:00:00",
          "2022-09-13T00:00:00",
          "2022-09-14T00:00:00",
          "2022-09-15T00:00:00",
          "2022-09-16T00:00:00",
          "2022-09-19T00:00:00",
          "2022-09-20T00:00:00",
          "2022-09-21T00:00:00",
          "2022-09-22T00:00:00",
          "2022-09-23T00:00:00",
          "2022-09-26T00:00:00",
          "2022-09-27T00:00:00",
          "2022-09-28T00:00:00",
          "2022-09-29T00:00:00",
          "2022-09-30T00:00:00"
         ],
         "y": [
          10000,
          9904.704081003083,
          9886.671066218996,
          9901.728600803392,
          9942.8330787433,
          10015.358674991257,
          9908.68982685011,
          9926.035215497519,
          9886.922342988437,
          9924.910773279498,
          9974.731199635644,
          9934.652234279361,
          9931.737207511518,
          9887.556265842519,
          9805.509143812313,
          9843.41809762553,
          9936.51855520235,
          10003.223418575508,
          9994.772755797434,
          9989.641594567747,
          9998.41167338075,
          10020.012990795132,
          9910.816330282958,
          9943.895323949413,
          9953.244326180627,
          9930.524571038979,
          9877.90656040574,
          9764.769803409383,
          9782.70412463958,
          9903.605273571357,
          9945.177164578734,
          9981.55703493493,
          9943.766101186004,
          9937.717996388797,
          9953.704561222465,
          10000.751569568487,
          9991.700068317903,
          9970.879727525622,
          10056.492395395106,
          10042.440679816727,
          9990.417482189681,
          10000.709302822686,
          10008.359466691874,
          9883.951712019374,
          9836.314643851607,
          9834.433189441877,
          9823.747543386955,
          9769.959398999608,
          9785.600128862367,
          9858.770500450706,
          9782.022980255202,
          9774.677400070133,
          9798.447086963113,
          9857.737522875002,
          9764.989806292026,
          9626.776479349684,
          9623.115348729367,
          9541.868347637354,
          9506.135515023861,
          9599.516584463969,
          9450.362088943006,
          9403.07856171294,
          9457.0885367889,
          9597.599364753753,
          9407.169372639355,
          9351.593001264833,
          9213.559915937101,
          9198.878685625383,
          9187.146601611978,
          9170.189513072983,
          9218.927331229881,
          9228.036204936418,
          9285.323525058517,
          9183.774461289288,
          9203.996375640754,
          9217.964808543644,
          9254.417205543203,
          9271.914450239849,
          9323.650521960675,
          9389.625045284773,
          9480.006376961122,
          9386.78789686864,
          9371.390921697972,
          9468.164202686672,
          9396.764422831631,
          9374.818704644795,
          9448.01151236585,
          9374.229390431958,
          9286.238186110426,
          9191.849158030658,
          8919.82397282641,
          8868.912500527667,
          8973.892533558384,
          8869.2381936875,
          8872.110664274658,
          8901.731646515145,
          8950.530748173083,
          8970.139585845947,
          9058.024403696792,
          9043.087893208216,
          8991.958862676396,
          8995.039835371927,
          8973.232181279083,
          9036.291093726952,
          9003.063748193677,
          8928.369306697025,
          8975.295233303274,
          8947.029448208003,
          8925.682048062343,
          8915.095326196124,
          8926.78041330152,
          8856.78291824643,
          8929.926508264485,
          8903.46655778404,
          9001.874975893239,
          9017.905211755993,
          9100.35840261102,
          9105.793196676783,
          9101.981340587834,
          9068.116834626655,
          9156.456781425906,
          9248.974683523998,
          9295.125103820146,
          9340.950667651237,
          9255.107205250695,
          9328.705125394315,
          9348.846025662751,
          9286.786803322899,
          9349.14507970587,
          9323.278782158592,
          9391.773254205578,
          9366.042327461259,
          9462.783576216729,
          9445.719331337239,
          9467.101540267864,
          9393.640986561864,
          9412.57888817359,
          9312.297591940724,
          9210.445986670631,
          9214.069428596144,
          9221.407342979812,
          9309.07215756576,
          9180.71707157793,
          9143.353844118436,
          9082.825526431128,
          9026.159317965923,
          8965.52772444525,
          8970.252691506676,
          8892.660521495263,
          9005.454200319655,
          9005.811698521644,
          9080.465238894922,
          9116.820361081347,
          8939.29803804421,
          8940.909250532393,
          8873.314779475124,
          8832.40728661769,
          8870.195850205197,
          8795.406719875606,
          8772.637402879831,
          8674.50937131253,
          8576.836377394411,
          8474.72948401116,
          8435.634207415387,
          8606.751166892707,
          8525.712028147365,
          8471.889985567343
         ]
        },
        {
         "line": {
          "width": 1
         },
         "name": "Portfolio4",
         "type": "scatter",
         "x": [
          "2022-02-02T00:00:00",
          "2022-02-03T00:00:00",
          "2022-02-04T00:00:00",
          "2022-02-07T00:00:00",
          "2022-02-08T00:00:00",
          "2022-02-09T00:00:00",
          "2022-02-10T00:00:00",
          "2022-02-11T00:00:00",
          "2022-02-14T00:00:00",
          "2022-02-15T00:00:00",
          "2022-02-16T00:00:00",
          "2022-02-17T00:00:00",
          "2022-02-18T00:00:00",
          "2022-02-22T00:00:00",
          "2022-02-23T00:00:00",
          "2022-02-24T00:00:00",
          "2022-02-25T00:00:00",
          "2022-02-28T00:00:00",
          "2022-03-01T00:00:00",
          "2022-03-02T00:00:00",
          "2022-03-03T00:00:00",
          "2022-03-04T00:00:00",
          "2022-03-07T00:00:00",
          "2022-03-08T00:00:00",
          "2022-03-09T00:00:00",
          "2022-03-10T00:00:00",
          "2022-03-11T00:00:00",
          "2022-03-14T00:00:00",
          "2022-03-15T00:00:00",
          "2022-03-16T00:00:00",
          "2022-03-17T00:00:00",
          "2022-03-18T00:00:00",
          "2022-03-21T00:00:00",
          "2022-03-22T00:00:00",
          "2022-03-23T00:00:00",
          "2022-03-24T00:00:00",
          "2022-03-25T00:00:00",
          "2022-03-28T00:00:00",
          "2022-03-29T00:00:00",
          "2022-03-30T00:00:00",
          "2022-03-31T00:00:00",
          "2022-04-01T00:00:00",
          "2022-04-04T00:00:00",
          "2022-04-05T00:00:00",
          "2022-04-06T00:00:00",
          "2022-04-07T00:00:00",
          "2022-04-08T00:00:00",
          "2022-04-11T00:00:00",
          "2022-04-12T00:00:00",
          "2022-04-13T00:00:00",
          "2022-04-14T00:00:00",
          "2022-04-18T00:00:00",
          "2022-04-19T00:00:00",
          "2022-04-20T00:00:00",
          "2022-04-21T00:00:00",
          "2022-04-22T00:00:00",
          "2022-04-25T00:00:00",
          "2022-04-26T00:00:00",
          "2022-04-27T00:00:00",
          "2022-04-28T00:00:00",
          "2022-04-29T00:00:00",
          "2022-05-02T00:00:00",
          "2022-05-03T00:00:00",
          "2022-05-04T00:00:00",
          "2022-05-05T00:00:00",
          "2022-05-06T00:00:00",
          "2022-05-09T00:00:00",
          "2022-05-10T00:00:00",
          "2022-05-11T00:00:00",
          "2022-05-12T00:00:00",
          "2022-05-13T00:00:00",
          "2022-05-16T00:00:00",
          "2022-05-17T00:00:00",
          "2022-05-18T00:00:00",
          "2022-05-19T00:00:00",
          "2022-05-20T00:00:00",
          "2022-05-23T00:00:00",
          "2022-05-24T00:00:00",
          "2022-05-25T00:00:00",
          "2022-05-26T00:00:00",
          "2022-05-27T00:00:00",
          "2022-05-31T00:00:00",
          "2022-06-01T00:00:00",
          "2022-06-02T00:00:00",
          "2022-06-03T00:00:00",
          "2022-06-06T00:00:00",
          "2022-06-07T00:00:00",
          "2022-06-08T00:00:00",
          "2022-06-09T00:00:00",
          "2022-06-10T00:00:00",
          "2022-06-13T00:00:00",
          "2022-06-14T00:00:00",
          "2022-06-15T00:00:00",
          "2022-06-16T00:00:00",
          "2022-06-17T00:00:00",
          "2022-06-21T00:00:00",
          "2022-06-22T00:00:00",
          "2022-06-23T00:00:00",
          "2022-06-24T00:00:00",
          "2022-06-27T00:00:00",
          "2022-06-28T00:00:00",
          "2022-06-29T00:00:00",
          "2022-06-30T00:00:00",
          "2022-07-01T00:00:00",
          "2022-07-05T00:00:00",
          "2022-07-06T00:00:00",
          "2022-07-07T00:00:00",
          "2022-07-08T00:00:00",
          "2022-07-11T00:00:00",
          "2022-07-12T00:00:00",
          "2022-07-13T00:00:00",
          "2022-07-14T00:00:00",
          "2022-07-15T00:00:00",
          "2022-07-18T00:00:00",
          "2022-07-19T00:00:00",
          "2022-07-20T00:00:00",
          "2022-07-21T00:00:00",
          "2022-07-22T00:00:00",
          "2022-07-25T00:00:00",
          "2022-07-26T00:00:00",
          "2022-07-27T00:00:00",
          "2022-07-28T00:00:00",
          "2022-07-29T00:00:00",
          "2022-08-01T00:00:00",
          "2022-08-02T00:00:00",
          "2022-08-03T00:00:00",
          "2022-08-04T00:00:00",
          "2022-08-05T00:00:00",
          "2022-08-08T00:00:00",
          "2022-08-09T00:00:00",
          "2022-08-10T00:00:00",
          "2022-08-11T00:00:00",
          "2022-08-12T00:00:00",
          "2022-08-15T00:00:00",
          "2022-08-16T00:00:00",
          "2022-08-17T00:00:00",
          "2022-08-18T00:00:00",
          "2022-08-19T00:00:00",
          "2022-08-22T00:00:00",
          "2022-08-23T00:00:00",
          "2022-08-24T00:00:00",
          "2022-08-25T00:00:00",
          "2022-08-26T00:00:00",
          "2022-08-29T00:00:00",
          "2022-08-30T00:00:00",
          "2022-08-31T00:00:00",
          "2022-09-01T00:00:00",
          "2022-09-02T00:00:00",
          "2022-09-06T00:00:00",
          "2022-09-07T00:00:00",
          "2022-09-08T00:00:00",
          "2022-09-09T00:00:00",
          "2022-09-12T00:00:00",
          "2022-09-13T00:00:00",
          "2022-09-14T00:00:00",
          "2022-09-15T00:00:00",
          "2022-09-16T00:00:00",
          "2022-09-19T00:00:00",
          "2022-09-20T00:00:00",
          "2022-09-21T00:00:00",
          "2022-09-22T00:00:00",
          "2022-09-23T00:00:00",
          "2022-09-26T00:00:00",
          "2022-09-27T00:00:00",
          "2022-09-28T00:00:00",
          "2022-09-29T00:00:00",
          "2022-09-30T00:00:00"
         ],
         "y": [
          10000,
          9847.872480191934,
          9864.96867942317,
          9851.994444279106,
          9897.151513979083,
          9993.65223627843,
          9860.815927773232,
          9771.978956819956,
          9733.558353408233,
          9833.425416295811,
          9846.788148887845,
          9723.455416753573,
          9682.338185908342,
          9613.143941744045,
          9499.300787104854,
          9604.15468793765,
          9728.920021452108,
          9747.894533272705,
          9684.395713018694,
          9755.814711125002,
          9718.9961847329,
          9680.555796668314,
          9491.71729140741,
          9444.58379580682,
          9584.32733890059,
          9548.613080540974,
          9468.98381641485,
          9385.75087056234,
          9499.04007516101,
          9631.892447759437,
          9705.414828028119,
          9775.435224281235,
          9737.133185619332,
          9797.438842200614,
          9730.747507136794,
          9803.790477492743,
          9799.8150198563,
          9840.429408032363,
          9940.943621759336,
          9900.01877037439,
          9808.711197239822,
          9812.840247237073,
          9866.438026201127,
          9751.735923727405,
          9683.451365557654,
          9708.848551371948,
          9678.531681022112,
          9581.962094537028,
          9583.124349885205,
          9664.420416515673,
          9572.409720523417,
          9558.993534581992,
          9640.603738038295,
          9644.70495730999,
          9533.471258763802,
          9378.07422951464,
          9423.215402545626,
          9279.950136424535,
          9281.51706795983,
          9409.521894828049,
          9188.883874447736,
          9215.945956916066,
          9243.427163655813,
          9424.614645390888,
          9196.705397843029,
          9144.47853061078,
          8974.355746234833,
          8988.614196369579,
          8901.067935856212,
          8916.994903989445,
          9045.234314240068,
          9029.133702763578,
          9118.718654047998,
          8920.744378336798,
          8908.0998952007,
          8915.686415950087,
          8991.372787880884,
          8960.490115623528,
          9025.056660540828,
          9131.222271566392,
          9266.330762790745,
          9202.624633073285,
          9149.98965677908,
          9262.82986197348,
          9170.067940940131,
          9170.839798219045,
          9236.404976993526,
          9168.540231369409,
          9034.867424710968,
          8847.723567219255,
          8597.181941414385,
          8567.812082301367,
          8672.196072927867,
          8512.604624966665,
          8527.17657922301,
          8635.690299892398,
          8663.698238618745,
          8721.930860352484,
          8877.361580344339,
          8849.893945540278,
          8744.878700373722,
          8753.558750214832,
          8730.413699087278,
          8814.008762025225,
          8835.987155060455,
          8822.848757292177,
          8892.234110073055,
          8874.312534252123,
          8823.947344348397,
          8786.044447421491,
          8765.192353837328,
          8731.410102413769,
          8834.461276677866,
          8794.142154241032,
          8923.640810524954,
          8961.922270645558,
          9042.859968651419,
          9011.830724873387,
          9012.271740531658,
          8946.65024798673,
          9092.115396811863,
          9184.372280693113,
          9258.082518410187,
          9251.276810153942,
          9186.289420346304,
          9279.684147382783,
          9287.43162218645,
          9248.493122097796,
          9264.899519799848,
          9221.610974057381,
          9351.03717432204,
          9339.884788538124,
          9443.31567405227,
          9473.307341723377,
          9478.097058544656,
          9411.918422984621,
          9432.018769401211,
          9338.377847134609,
          9208.289182910763,
          9195.191447018908,
          9210.434077705504,
          9300.279131565296,
          9110.909649557174,
          9060.989856317288,
          9000.62042905614,
          8953.76301824504,
          8943.961417897264,
          8909.042676158064,
          8865.486305931856,
          8976.130924383362,
          9007.79102528762,
          9092.983254912117,
          9148.86620270452,
          8894.658593553315,
          8911.391677427335,
          8846.49761468168,
          8805.194604770293,
          8833.505802955719,
          8763.13906673989,
          8678.09969776868,
          8592.305310287826,
          8500.96481604385,
          8415.930245160107,
          8398.965451873471,
          8549.207881182052,
          8436.273650167781,
          8362.545692684873
         ]
        },
        {
         "line": {
          "width": 1
         },
         "name": "Portfolio5",
         "type": "scatter",
         "x": [
          "2022-02-02T00:00:00",
          "2022-02-03T00:00:00",
          "2022-02-04T00:00:00",
          "2022-02-07T00:00:00",
          "2022-02-08T00:00:00",
          "2022-02-09T00:00:00",
          "2022-02-10T00:00:00",
          "2022-02-11T00:00:00",
          "2022-02-14T00:00:00",
          "2022-02-15T00:00:00",
          "2022-02-16T00:00:00",
          "2022-02-17T00:00:00",
          "2022-02-18T00:00:00",
          "2022-02-22T00:00:00",
          "2022-02-23T00:00:00",
          "2022-02-24T00:00:00",
          "2022-02-25T00:00:00",
          "2022-02-28T00:00:00",
          "2022-03-01T00:00:00",
          "2022-03-02T00:00:00",
          "2022-03-03T00:00:00",
          "2022-03-04T00:00:00",
          "2022-03-07T00:00:00",
          "2022-03-08T00:00:00",
          "2022-03-09T00:00:00",
          "2022-03-10T00:00:00",
          "2022-03-11T00:00:00",
          "2022-03-14T00:00:00",
          "2022-03-15T00:00:00",
          "2022-03-16T00:00:00",
          "2022-03-17T00:00:00",
          "2022-03-18T00:00:00",
          "2022-03-21T00:00:00",
          "2022-03-22T00:00:00",
          "2022-03-23T00:00:00",
          "2022-03-24T00:00:00",
          "2022-03-25T00:00:00",
          "2022-03-28T00:00:00",
          "2022-03-29T00:00:00",
          "2022-03-30T00:00:00",
          "2022-03-31T00:00:00",
          "2022-04-01T00:00:00",
          "2022-04-04T00:00:00",
          "2022-04-05T00:00:00",
          "2022-04-06T00:00:00",
          "2022-04-07T00:00:00",
          "2022-04-08T00:00:00",
          "2022-04-11T00:00:00",
          "2022-04-12T00:00:00",
          "2022-04-13T00:00:00",
          "2022-04-14T00:00:00",
          "2022-04-18T00:00:00",
          "2022-04-19T00:00:00",
          "2022-04-20T00:00:00",
          "2022-04-21T00:00:00",
          "2022-04-22T00:00:00",
          "2022-04-25T00:00:00",
          "2022-04-26T00:00:00",
          "2022-04-27T00:00:00",
          "2022-04-28T00:00:00",
          "2022-04-29T00:00:00",
          "2022-05-02T00:00:00",
          "2022-05-03T00:00:00",
          "2022-05-04T00:00:00",
          "2022-05-05T00:00:00",
          "2022-05-06T00:00:00",
          "2022-05-09T00:00:00",
          "2022-05-10T00:00:00",
          "2022-05-11T00:00:00",
          "2022-05-12T00:00:00",
          "2022-05-13T00:00:00",
          "2022-05-16T00:00:00",
          "2022-05-17T00:00:00",
          "2022-05-18T00:00:00",
          "2022-05-19T00:00:00",
          "2022-05-20T00:00:00",
          "2022-05-23T00:00:00",
          "2022-05-24T00:00:00",
          "2022-05-25T00:00:00",
          "2022-05-26T00:00:00",
          "2022-05-27T00:00:00",
          "2022-05-31T00:00:00",
          "2022-06-01T00:00:00",
          "2022-06-02T00:00:00",
          "2022-06-03T00:00:00",
          "2022-06-06T00:00:00",
          "2022-06-07T00:00:00",
          "2022-06-08T00:00:00",
          "2022-06-09T00:00:00",
          "2022-06-10T00:00:00",
          "2022-06-13T00:00:00",
          "2022-06-14T00:00:00",
          "2022-06-15T00:00:00",
          "2022-06-16T00:00:00",
          "2022-06-17T00:00:00",
          "2022-06-21T00:00:00",
          "2022-06-22T00:00:00",
          "2022-06-23T00:00:00",
          "2022-06-24T00:00:00",
          "2022-06-27T00:00:00",
          "2022-06-28T00:00:00",
          "2022-06-29T00:00:00",
          "2022-06-30T00:00:00",
          "2022-07-01T00:00:00",
          "2022-07-05T00:00:00",
          "2022-07-06T00:00:00",
          "2022-07-07T00:00:00",
          "2022-07-08T00:00:00",
          "2022-07-11T00:00:00",
          "2022-07-12T00:00:00",
          "2022-07-13T00:00:00",
          "2022-07-14T00:00:00",
          "2022-07-15T00:00:00",
          "2022-07-18T00:00:00",
          "2022-07-19T00:00:00",
          "2022-07-20T00:00:00",
          "2022-07-21T00:00:00",
          "2022-07-22T00:00:00",
          "2022-07-25T00:00:00",
          "2022-07-26T00:00:00",
          "2022-07-27T00:00:00",
          "2022-07-28T00:00:00",
          "2022-07-29T00:00:00",
          "2022-08-01T00:00:00",
          "2022-08-02T00:00:00",
          "2022-08-03T00:00:00",
          "2022-08-04T00:00:00",
          "2022-08-05T00:00:00",
          "2022-08-08T00:00:00",
          "2022-08-09T00:00:00",
          "2022-08-10T00:00:00",
          "2022-08-11T00:00:00",
          "2022-08-12T00:00:00",
          "2022-08-15T00:00:00",
          "2022-08-16T00:00:00",
          "2022-08-17T00:00:00",
          "2022-08-18T00:00:00",
          "2022-08-19T00:00:00",
          "2022-08-22T00:00:00",
          "2022-08-23T00:00:00",
          "2022-08-24T00:00:00",
          "2022-08-25T00:00:00",
          "2022-08-26T00:00:00",
          "2022-08-29T00:00:00",
          "2022-08-30T00:00:00",
          "2022-08-31T00:00:00",
          "2022-09-01T00:00:00",
          "2022-09-02T00:00:00",
          "2022-09-06T00:00:00",
          "2022-09-07T00:00:00",
          "2022-09-08T00:00:00",
          "2022-09-09T00:00:00",
          "2022-09-12T00:00:00",
          "2022-09-13T00:00:00",
          "2022-09-14T00:00:00",
          "2022-09-15T00:00:00",
          "2022-09-16T00:00:00",
          "2022-09-19T00:00:00",
          "2022-09-20T00:00:00",
          "2022-09-21T00:00:00",
          "2022-09-22T00:00:00",
          "2022-09-23T00:00:00",
          "2022-09-26T00:00:00",
          "2022-09-27T00:00:00",
          "2022-09-28T00:00:00",
          "2022-09-29T00:00:00",
          "2022-09-30T00:00:00"
         ],
         "y": [
          10000,
          9922.20732952947,
          9961.155669080928,
          9965.779367953732,
          9990.027254495548,
          10058.74816054463,
          9983.537656685285,
          10019.30416359474,
          10031.589959171717,
          10030.281264372345,
          10059.701688190213,
          10042.18615708557,
          10025.182339815221,
          10007.018874839736,
          9973.921891580234,
          10012.668354090483,
          10046.226278052496,
          10139.562762208134,
          10196.377665974418,
          10282.95719169968,
          10293.078043029589,
          10363.335334211011,
          10364.938941969856,
          10515.43733517681,
          10385.882130003205,
          10359.678825721578,
          10295.414271068463,
          10185.398897686275,
          10169.482769045482,
          10263.355171901401,
          10379.037074002035,
          10348.440103756195,
          10396.405835032507,
          10400.422115721145,
          10470.461495002917,
          10508.067119018393,
          10524.898473867357,
          10411.139109060405,
          10479.263547392315,
          10497.481336380333,
          10376.966542886896,
          10369.634947729095,
          10448.032456958668,
          10375.39719924907,
          10318.426966232668,
          10350.622713371293,
          10372.132627137888,
          10336.198650311111,
          10410.095993908337,
          10514.170632332707,
          10467.186969388986,
          10478.859000624794,
          10455.529256351414,
          10466.67580975953,
          10427.431346048723,
          10306.874649216077,
          10236.889097550711,
          10200.439860359962,
          10192.464342609932,
          10306.29343836404,
          10220.547258663686,
          10216.23908244094,
          10226.476488126664,
          10357.861727732412,
          10247.312379536826,
          10218.49454887428,
          9981.555232857012,
          9997.545343714963,
          10016.680739376463,
          9991.906011837618,
          10062.92238044701,
          10112.591210423298,
          10165.860461067114,
          10002.625797121244,
          10060.32758071206,
          10035.764615095373,
          10124.205679090213,
          10086.602134671033,
          10127.939334327315,
          10158.227519764507,
          10245.936307701017,
          10196.309740783949,
          10186.415630212925,
          10285.914549435503,
          10184.72570792692,
          10194.132537910376,
          10266.167197099043,
          10228.340539545414,
          10175.015414015259,
          10133.195223096429,
          9935.23937136727,
          9885.203226473011,
          9975.448959339505,
          9966.823307875376,
          9937.246712589083,
          9977.263486715105,
          9936.385441180666,
          9937.090077078039,
          10038.737344301991,
          10037.864890565927,
          9993.288408174218,
          9979.17027131135,
          9908.929399423654,
          9918.330369885354,
          9779.421191499976,
          9736.53617422334,
          9848.350232073994,
          9831.14158488821,
          9808.253735038172,
          9709.201072935884,
          9752.128281196488,
          9685.563181368883,
          9724.090064755952,
          9730.196274203117,
          9855.878883488618,
          9837.55998099687,
          9878.223836470934,
          9872.157265975424,
          9892.911333684588,
          9860.364288501576,
          9950.81077683943,
          10034.98780661658,
          10071.768946268243,
          10052.954653207797,
          10013.30615888366,
          10054.51822141851,
          10072.861607964152,
          10006.935508796192,
          10063.482019876945,
          10076.842385957652,
          10167.978859281082,
          10164.979017545498,
          10222.352557794795,
          10173.36014096748,
          10151.535626982219,
          10136.606675166784,
          10126.825507325628,
          10091.490922944206,
          10011.114206322127,
          10077.248293742194,
          10105.222144641672,
          10149.21815064872,
          10054.912054052838,
          10078.692385642255,
          10008.575761221942,
          9930.161422499375,
          9882.241844556564,
          9875.477124649398,
          9856.461757422196,
          9913.942757373421,
          9934.974276127767,
          10005.555820912137,
          10098.473518319195,
          9952.939094715897,
          9958.137779582386,
          9880.24093618631,
          9860.462138022926,
          9909.127338627375,
          9850.951404569994,
          9808.023247319477,
          9819.919547877646,
          9682.347754226783,
          9617.301689397036,
          9600.310912801335,
          9753.132623953246,
          9702.500249246183,
          9667.171066978124
         ]
        },
        {
         "line": {
          "width": 1
         },
         "name": "Portfolio6",
         "type": "scatter",
         "x": [
          "2022-02-02T00:00:00",
          "2022-02-03T00:00:00",
          "2022-02-04T00:00:00",
          "2022-02-07T00:00:00",
          "2022-02-08T00:00:00",
          "2022-02-09T00:00:00",
          "2022-02-10T00:00:00",
          "2022-02-11T00:00:00",
          "2022-02-14T00:00:00",
          "2022-02-15T00:00:00",
          "2022-02-16T00:00:00",
          "2022-02-17T00:00:00",
          "2022-02-18T00:00:00",
          "2022-02-22T00:00:00",
          "2022-02-23T00:00:00",
          "2022-02-24T00:00:00",
          "2022-02-25T00:00:00",
          "2022-02-28T00:00:00",
          "2022-03-01T00:00:00",
          "2022-03-02T00:00:00",
          "2022-03-03T00:00:00",
          "2022-03-04T00:00:00",
          "2022-03-07T00:00:00",
          "2022-03-08T00:00:00",
          "2022-03-09T00:00:00",
          "2022-03-10T00:00:00",
          "2022-03-11T00:00:00",
          "2022-03-14T00:00:00",
          "2022-03-15T00:00:00",
          "2022-03-16T00:00:00",
          "2022-03-17T00:00:00",
          "2022-03-18T00:00:00",
          "2022-03-21T00:00:00",
          "2022-03-22T00:00:00",
          "2022-03-23T00:00:00",
          "2022-03-24T00:00:00",
          "2022-03-25T00:00:00",
          "2022-03-28T00:00:00",
          "2022-03-29T00:00:00",
          "2022-03-30T00:00:00",
          "2022-03-31T00:00:00",
          "2022-04-01T00:00:00",
          "2022-04-04T00:00:00",
          "2022-04-05T00:00:00",
          "2022-04-06T00:00:00",
          "2022-04-07T00:00:00",
          "2022-04-08T00:00:00",
          "2022-04-11T00:00:00",
          "2022-04-12T00:00:00",
          "2022-04-13T00:00:00",
          "2022-04-14T00:00:00",
          "2022-04-18T00:00:00",
          "2022-04-19T00:00:00",
          "2022-04-20T00:00:00",
          "2022-04-21T00:00:00",
          "2022-04-22T00:00:00",
          "2022-04-25T00:00:00",
          "2022-04-26T00:00:00",
          "2022-04-27T00:00:00",
          "2022-04-28T00:00:00",
          "2022-04-29T00:00:00",
          "2022-05-02T00:00:00",
          "2022-05-03T00:00:00",
          "2022-05-04T00:00:00",
          "2022-05-05T00:00:00",
          "2022-05-06T00:00:00",
          "2022-05-09T00:00:00",
          "2022-05-10T00:00:00",
          "2022-05-11T00:00:00",
          "2022-05-12T00:00:00",
          "2022-05-13T00:00:00",
          "2022-05-16T00:00:00",
          "2022-05-17T00:00:00",
          "2022-05-18T00:00:00",
          "2022-05-19T00:00:00",
          "2022-05-20T00:00:00",
          "2022-05-23T00:00:00",
          "2022-05-24T00:00:00",
          "2022-05-25T00:00:00",
          "2022-05-26T00:00:00",
          "2022-05-27T00:00:00",
          "2022-05-31T00:00:00",
          "2022-06-01T00:00:00",
          "2022-06-02T00:00:00",
          "2022-06-03T00:00:00",
          "2022-06-06T00:00:00",
          "2022-06-07T00:00:00",
          "2022-06-08T00:00:00",
          "2022-06-09T00:00:00",
          "2022-06-10T00:00:00",
          "2022-06-13T00:00:00",
          "2022-06-14T00:00:00",
          "2022-06-15T00:00:00",
          "2022-06-16T00:00:00",
          "2022-06-17T00:00:00",
          "2022-06-21T00:00:00",
          "2022-06-22T00:00:00",
          "2022-06-23T00:00:00",
          "2022-06-24T00:00:00",
          "2022-06-27T00:00:00",
          "2022-06-28T00:00:00",
          "2022-06-29T00:00:00",
          "2022-06-30T00:00:00",
          "2022-07-01T00:00:00",
          "2022-07-05T00:00:00",
          "2022-07-06T00:00:00",
          "2022-07-07T00:00:00",
          "2022-07-08T00:00:00",
          "2022-07-11T00:00:00",
          "2022-07-12T00:00:00",
          "2022-07-13T00:00:00",
          "2022-07-14T00:00:00",
          "2022-07-15T00:00:00",
          "2022-07-18T00:00:00",
          "2022-07-19T00:00:00",
          "2022-07-20T00:00:00",
          "2022-07-21T00:00:00",
          "2022-07-22T00:00:00",
          "2022-07-25T00:00:00",
          "2022-07-26T00:00:00",
          "2022-07-27T00:00:00",
          "2022-07-28T00:00:00",
          "2022-07-29T00:00:00",
          "2022-08-01T00:00:00",
          "2022-08-02T00:00:00",
          "2022-08-03T00:00:00",
          "2022-08-04T00:00:00",
          "2022-08-05T00:00:00",
          "2022-08-08T00:00:00",
          "2022-08-09T00:00:00",
          "2022-08-10T00:00:00",
          "2022-08-11T00:00:00",
          "2022-08-12T00:00:00",
          "2022-08-15T00:00:00",
          "2022-08-16T00:00:00",
          "2022-08-17T00:00:00",
          "2022-08-18T00:00:00",
          "2022-08-19T00:00:00",
          "2022-08-22T00:00:00",
          "2022-08-23T00:00:00",
          "2022-08-24T00:00:00",
          "2022-08-25T00:00:00",
          "2022-08-26T00:00:00",
          "2022-08-29T00:00:00",
          "2022-08-30T00:00:00",
          "2022-08-31T00:00:00",
          "2022-09-01T00:00:00",
          "2022-09-02T00:00:00",
          "2022-09-06T00:00:00",
          "2022-09-07T00:00:00",
          "2022-09-08T00:00:00",
          "2022-09-09T00:00:00",
          "2022-09-12T00:00:00",
          "2022-09-13T00:00:00",
          "2022-09-14T00:00:00",
          "2022-09-15T00:00:00",
          "2022-09-16T00:00:00",
          "2022-09-19T00:00:00",
          "2022-09-20T00:00:00",
          "2022-09-21T00:00:00",
          "2022-09-22T00:00:00",
          "2022-09-23T00:00:00",
          "2022-09-26T00:00:00",
          "2022-09-27T00:00:00",
          "2022-09-28T00:00:00",
          "2022-09-29T00:00:00",
          "2022-09-30T00:00:00"
         ],
         "y": [
          10000,
          10019.998433806873,
          9999.53468973517,
          10025.613444323457,
          10056.722862857923,
          10078.855923188312,
          10010.920751005839,
          10061.094664264623,
          10040.2096028276,
          10050.439817126015,
          10110.001113472721,
          10167.835295838038,
          10175.784124171723,
          10153.055141846802,
          10186.264973086949,
          10098.296295240616,
          10113.973058047311,
          10237.303982390144,
          10328.252602365816,
          10314.171570952638,
          10294.885434544887,
          10312.833047395958,
          10356.650846125869,
          10543.844090603092,
          10369.077783890993,
          10355.970358054306,
          10327.20771324138,
          10271.51308849118,
          10213.400558612577,
          10230.10614055386,
          10272.835323832029,
          10255.525990496064,
          10280.423503814382,
          10231.11025423582,
          10326.065305715998,
          10331.196580227657,
          10304.401902627647,
          10237.954058792528,
          10239.141867175036,
          10266.295041346873,
          10276.580837659316,
          10212.880830911961,
          10201.626185652422,
          10109.968878409465,
          10108.624474863167,
          10110.179241776439,
          10110.560837247554,
          10178.453101888426,
          10207.439648156382,
          10196.38495466821,
          10180.303082315888,
          10219.45373438518,
          10144.65282636134,
          10198.486017450026,
          10172.370915539394,
          10069.570120636276,
          10012.281225642884,
          9992.727655789646,
          9990.866060880877,
          10060.348420778015,
          10023.328531943385,
          9872.802243683102,
          9891.135693030685,
          9915.909087705437,
          9813.734460440617,
          9806.34212114183,
          9694.109684898656,
          9709.057823930936,
          9769.219942458063,
          9726.48824346168,
          9721.041818961916,
          9718.263186664773,
          9731.354846590633,
          9765.066303170594,
          9758.974002234594,
          9775.431175758798,
          9775.009704047381,
          9848.180738236553,
          9864.225725590471,
          9889.258605157327,
          9871.915257355606,
          9825.665141750786,
          9747.542772946364,
          9806.348606693908,
          9787.846656336113,
          9717.844026342138,
          9647.656814203594,
          9623.461919329076,
          9560.993136234873,
          9598.832175742395,
          9436.682201521928,
          9309.114227808299,
          9418.363595923223,
          9375.42196565774,
          9316.096244462844,
          9349.587884845536,
          9421.232837172161,
          9431.301407762803,
          9381.988503849365,
          9304.644110364066,
          9257.520219677479,
          9243.616454141558,
          9265.385727708157,
          9242.50497018581,
          9206.389815539347,
          9141.366034139706,
          9126.752692164744,
          9099.91641906157,
          9098.925356428834,
          9078.402711477896,
          9120.42357077739,
          9114.600239707766,
          9121.642951989152,
          9138.160245375067,
          9167.405579890737,
          9115.771854887655,
          9193.50110564944,
          9239.13221140794,
          9226.71907794369,
          9244.650367102902,
          9317.071642281253,
          9391.948562769538,
          9403.956471007235,
          9416.723219853342,
          9370.816002059915,
          9415.72929657807,
          9474.10405143767,
          9413.959613401406,
          9440.01079444218,
          9488.9028809702,
          9479.224065216626,
          9465.401719473935,
          9490.786045763158,
          9433.333103233485,
          9411.140972467127,
          9345.745729176408,
          9323.205848441376,
          9306.165672361312,
          9310.664799930617,
          9343.568511668138,
          9292.978447776874,
          9340.023566097356,
          9317.426395203496,
          9244.411617370244,
          9203.976043223924,
          9143.458910963054,
          9057.556054693294,
          9067.607044287828,
          9027.132796795384,
          9145.64615858424,
          9066.210427383143,
          9074.39417785016,
          9060.87047124516,
          8978.28985316955,
          8986.963978548345,
          8887.31679195708,
          8875.799642721697,
          8817.458892374374,
          8717.753680457896,
          8741.774305364994,
          8644.846734644188,
          8578.063828368446,
          8476.06030855301,
          8466.85903667871,
          8584.063350327482,
          8541.582131885054,
          8521.696791272343
         ]
        },
        {
         "line": {
          "width": 1
         },
         "name": "Benchmark",
         "type": "scatter",
         "x": [
          "2022-02-02T00:00:00",
          "2022-02-03T00:00:00",
          "2022-02-04T00:00:00",
          "2022-02-07T00:00:00",
          "2022-02-08T00:00:00",
          "2022-02-09T00:00:00",
          "2022-02-10T00:00:00",
          "2022-02-11T00:00:00",
          "2022-02-14T00:00:00",
          "2022-02-15T00:00:00",
          "2022-02-16T00:00:00",
          "2022-02-17T00:00:00",
          "2022-02-18T00:00:00",
          "2022-02-22T00:00:00",
          "2022-02-23T00:00:00",
          "2022-02-24T00:00:00",
          "2022-02-25T00:00:00",
          "2022-02-28T00:00:00",
          "2022-03-01T00:00:00",
          "2022-03-02T00:00:00",
          "2022-03-03T00:00:00",
          "2022-03-04T00:00:00",
          "2022-03-07T00:00:00",
          "2022-03-08T00:00:00",
          "2022-03-09T00:00:00",
          "2022-03-10T00:00:00",
          "2022-03-11T00:00:00",
          "2022-03-14T00:00:00",
          "2022-03-15T00:00:00",
          "2022-03-16T00:00:00",
          "2022-03-17T00:00:00",
          "2022-03-18T00:00:00",
          "2022-03-21T00:00:00",
          "2022-03-22T00:00:00",
          "2022-03-23T00:00:00",
          "2022-03-24T00:00:00",
          "2022-03-25T00:00:00",
          "2022-03-28T00:00:00",
          "2022-03-29T00:00:00",
          "2022-03-30T00:00:00",
          "2022-03-31T00:00:00",
          "2022-04-01T00:00:00",
          "2022-04-04T00:00:00",
          "2022-04-05T00:00:00",
          "2022-04-06T00:00:00",
          "2022-04-07T00:00:00",
          "2022-04-08T00:00:00",
          "2022-04-11T00:00:00",
          "2022-04-12T00:00:00",
          "2022-04-13T00:00:00",
          "2022-04-14T00:00:00",
          "2022-04-18T00:00:00",
          "2022-04-19T00:00:00",
          "2022-04-20T00:00:00",
          "2022-04-21T00:00:00",
          "2022-04-22T00:00:00",
          "2022-04-25T00:00:00",
          "2022-04-26T00:00:00",
          "2022-04-27T00:00:00",
          "2022-04-28T00:00:00",
          "2022-04-29T00:00:00",
          "2022-05-02T00:00:00",
          "2022-05-03T00:00:00",
          "2022-05-04T00:00:00",
          "2022-05-05T00:00:00",
          "2022-05-06T00:00:00",
          "2022-05-09T00:00:00",
          "2022-05-10T00:00:00",
          "2022-05-11T00:00:00",
          "2022-05-12T00:00:00",
          "2022-05-13T00:00:00",
          "2022-05-16T00:00:00",
          "2022-05-17T00:00:00",
          "2022-05-18T00:00:00",
          "2022-05-19T00:00:00",
          "2022-05-20T00:00:00",
          "2022-05-23T00:00:00",
          "2022-05-24T00:00:00",
          "2022-05-25T00:00:00",
          "2022-05-26T00:00:00",
          "2022-05-27T00:00:00",
          "2022-05-31T00:00:00",
          "2022-06-01T00:00:00",
          "2022-06-02T00:00:00",
          "2022-06-03T00:00:00",
          "2022-06-06T00:00:00",
          "2022-06-07T00:00:00",
          "2022-06-08T00:00:00",
          "2022-06-09T00:00:00",
          "2022-06-10T00:00:00",
          "2022-06-13T00:00:00",
          "2022-06-14T00:00:00",
          "2022-06-15T00:00:00",
          "2022-06-16T00:00:00",
          "2022-06-17T00:00:00",
          "2022-06-21T00:00:00",
          "2022-06-22T00:00:00",
          "2022-06-23T00:00:00",
          "2022-06-24T00:00:00",
          "2022-06-27T00:00:00",
          "2022-06-28T00:00:00",
          "2022-06-29T00:00:00",
          "2022-06-30T00:00:00",
          "2022-07-01T00:00:00",
          "2022-07-05T00:00:00",
          "2022-07-06T00:00:00",
          "2022-07-07T00:00:00",
          "2022-07-08T00:00:00",
          "2022-07-11T00:00:00",
          "2022-07-12T00:00:00",
          "2022-07-13T00:00:00",
          "2022-07-14T00:00:00",
          "2022-07-15T00:00:00",
          "2022-07-18T00:00:00",
          "2022-07-19T00:00:00",
          "2022-07-20T00:00:00",
          "2022-07-21T00:00:00",
          "2022-07-22T00:00:00",
          "2022-07-25T00:00:00",
          "2022-07-26T00:00:00",
          "2022-07-27T00:00:00",
          "2022-07-28T00:00:00",
          "2022-07-29T00:00:00",
          "2022-08-01T00:00:00",
          "2022-08-02T00:00:00",
          "2022-08-03T00:00:00",
          "2022-08-04T00:00:00",
          "2022-08-05T00:00:00",
          "2022-08-08T00:00:00",
          "2022-08-09T00:00:00",
          "2022-08-10T00:00:00",
          "2022-08-11T00:00:00",
          "2022-08-12T00:00:00",
          "2022-08-15T00:00:00",
          "2022-08-16T00:00:00",
          "2022-08-17T00:00:00",
          "2022-08-18T00:00:00",
          "2022-08-19T00:00:00",
          "2022-08-22T00:00:00",
          "2022-08-23T00:00:00",
          "2022-08-24T00:00:00",
          "2022-08-25T00:00:00",
          "2022-08-26T00:00:00",
          "2022-08-29T00:00:00",
          "2022-08-30T00:00:00",
          "2022-08-31T00:00:00",
          "2022-09-01T00:00:00",
          "2022-09-02T00:00:00",
          "2022-09-06T00:00:00",
          "2022-09-07T00:00:00",
          "2022-09-08T00:00:00",
          "2022-09-09T00:00:00",
          "2022-09-12T00:00:00",
          "2022-09-13T00:00:00",
          "2022-09-14T00:00:00",
          "2022-09-15T00:00:00",
          "2022-09-16T00:00:00",
          "2022-09-19T00:00:00",
          "2022-09-20T00:00:00",
          "2022-09-21T00:00:00",
          "2022-09-22T00:00:00",
          "2022-09-23T00:00:00",
          "2022-09-26T00:00:00",
          "2022-09-27T00:00:00",
          "2022-09-28T00:00:00",
          "2022-09-29T00:00:00",
          "2022-09-30T00:00:00"
         ],
         "y": [
          10000,
          9762.22555322147,
          9826.994319724325,
          9802.216779334964,
          9892.197535551386,
          10053.03200193519,
          9882.63434416757,
          9690.93673044847,
          9655.291987421264,
          9826.994319724323,
          9836.12239850252,
          9612.692738799713,
          9535.752758404984,
          9426.211833378136,
          9252.771040496844,
          9414.909518134675,
          9624.429503367377,
          9613.996750053739,
          9464.02948630778,
          9643.555886135007,
          9570.093490178158,
          9474.462239621416,
          9182.351779653665,
          9130.623788972503,
          9384.047034080786,
          9341.88223478344,
          9214.953387567195,
          9124.10306942095,
          9314.496671886021,
          9547.489522972644,
          9675.28793211871,
          9788.306441583436,
          9779.178362805238,
          9899.152041145724,
          9733.970428394217,
          9872.63604017813,
          9914.800839475476,
          9979.135156654127,
          10130.406431654115,
          10048.250406243273,
          9896.544018637667,
          9936.100795426957,
          10020.43039402165,
          9873.940051432159,
          9760.486429361816,
          9797.435183643049,
          9767.007148913368,
          9614.431199377941,
          9584.872726578084,
          9710.4975625403,
          9592.26234477805,
          9575.743984518476,
          9744.40318170786,
          9731.797518491781,
          9572.701512686212,
          9311.888649377965,
          9362.747078129303,
          9095.848607875121,
          9113.670979388724,
          9335.796627837504,
          8992.827739118417,
          9060.638977453536,
          9103.672675399295,
          9370.571808934888,
          9024.99423442633,
          8952.401400399303,
          8635.078950717987,
          8652.466872907384,
          8495.97888960987,
          8505.10763166948,
          8732.883774458578,
          8689.850076512821,
          8875.461420004574,
          8528.146048199194,
          8490.32839526955,
          8490.32839526955,
          8635.514063323602,
          8549.010891545058,
          8644.207692777594,
          8821.125406815356,
          9044.555729799577,
          8970.223771912906,
          8911.10616303178,
          9092.805472761447,
          8947.619804707396,
          8974.13580567499,
          9071.506180091377,
          8969.7893225887,
          8755.053292339884,
          8495.10932768005,
          8148.228405198875,
          8125.18998866916,
          8243.425206431411,
          7955.661892831364,
          7985.655478236838,
          8179.091552534172,
          8177.787541280143,
          8219.082778647668,
          8484.677237647822,
          8458.595686004433,
          8284.285994474729,
          8270.375656723212,
          8199.086833950214,
          8285.590005728758,
          8315.148478528616,
          8331.666838788191,
          8469.028439318074,
          8460.334809864082,
          8353.40124406388,
          8281.242859361058,
          8245.163667009649,
          8208.650025334033,
          8368.180480463809,
          8310.36688283671,
          8542.490835274923,
          8611.60608486407,
          8696.805245388585,
          8602.477342804461,
          8614.214107372129,
          8507.715654177544,
          8731.145313880354,
          8845.033385274903,
          8965.442176221006,
          8944.57733287514,
          8896.326926631858,
          9039.33902150206,
          9030.645392048069,
          9027.602256934397,
          9035.861437064184,
          8978.917401366909,
          9183.655790907706,
          9184.090240231912,
          9343.186246037481,
          9379.699887713097,
          9399.69583241055,
          9315.36623381586,
          9339.708661599603,
          9206.259094831807,
          9009.345436096593,
          8992.392626512814,
          9030.21094272387,
          9161.0518237022,
          8857.639711772401,
          8792.870945269544,
          8695.066121528951,
          8631.166916955917,
          8636.38296197203,
          8550.750015404721,
          8515.974834307339,
          8673.331716253262,
          8742.012516518203,
          8887.198184572255,
          8982.829435128995,
          8596.826848464148,
          8630.297355026092,
          8538.14368890723,
          8460.33480986409,
          8520.32131739363,
          8421.212482399009,
          8277.330825598985,
          8184.742046874506,
          8009.562793414979,
          7921.756273663818,
          7910.019509096152,
          8076.505133101686,
          7908.715497842123,
          7801.347482717715
         ]
        }
       ],
       "layout": {
        "template": {
         "data": {
          "bar": [
           {
            "error_x": {
             "color": "#2a3f5f"
            },
            "error_y": {
             "color": "#2a3f5f"
            },
            "marker": {
             "line": {
              "color": "#E5ECF6",
              "width": 0.5
             },
             "pattern": {
              "fillmode": "overlay",
              "size": 10,
              "solidity": 0.2
             }
            },
            "type": "bar"
           }
          ],
          "barpolar": [
           {
            "marker": {
             "line": {
              "color": "#E5ECF6",
              "width": 0.5
             },
             "pattern": {
              "fillmode": "overlay",
              "size": 10,
              "solidity": 0.2
             }
            },
            "type": "barpolar"
           }
          ],
          "carpet": [
           {
            "aaxis": {
             "endlinecolor": "#2a3f5f",
             "gridcolor": "white",
             "linecolor": "white",
             "minorgridcolor": "white",
             "startlinecolor": "#2a3f5f"
            },
            "baxis": {
             "endlinecolor": "#2a3f5f",
             "gridcolor": "white",
             "linecolor": "white",
             "minorgridcolor": "white",
             "startlinecolor": "#2a3f5f"
            },
            "type": "carpet"
           }
          ],
          "choropleth": [
           {
            "colorbar": {
             "outlinewidth": 0,
             "ticks": ""
            },
            "type": "choropleth"
           }
          ],
          "contour": [
           {
            "colorbar": {
             "outlinewidth": 0,
             "ticks": ""
            },
            "colorscale": [
             [
              0,
              "#0d0887"
             ],
             [
              0.1111111111111111,
              "#46039f"
             ],
             [
              0.2222222222222222,
              "#7201a8"
             ],
             [
              0.3333333333333333,
              "#9c179e"
             ],
             [
              0.4444444444444444,
              "#bd3786"
             ],
             [
              0.5555555555555556,
              "#d8576b"
             ],
             [
              0.6666666666666666,
              "#ed7953"
             ],
             [
              0.7777777777777778,
              "#fb9f3a"
             ],
             [
              0.8888888888888888,
              "#fdca26"
             ],
             [
              1,
              "#f0f921"
             ]
            ],
            "type": "contour"
           }
          ],
          "contourcarpet": [
           {
            "colorbar": {
             "outlinewidth": 0,
             "ticks": ""
            },
            "type": "contourcarpet"
           }
          ],
          "heatmap": [
           {
            "colorbar": {
             "outlinewidth": 0,
             "ticks": ""
            },
            "colorscale": [
             [
              0,
              "#0d0887"
             ],
             [
              0.1111111111111111,
              "#46039f"
             ],
             [
              0.2222222222222222,
              "#7201a8"
             ],
             [
              0.3333333333333333,
              "#9c179e"
             ],
             [
              0.4444444444444444,
              "#bd3786"
             ],
             [
              0.5555555555555556,
              "#d8576b"
             ],
             [
              0.6666666666666666,
              "#ed7953"
             ],
             [
              0.7777777777777778,
              "#fb9f3a"
             ],
             [
              0.8888888888888888,
              "#fdca26"
             ],
             [
              1,
              "#f0f921"
             ]
            ],
            "type": "heatmap"
           }
          ],
          "heatmapgl": [
           {
            "colorbar": {
             "outlinewidth": 0,
             "ticks": ""
            },
            "colorscale": [
             [
              0,
              "#0d0887"
             ],
             [
              0.1111111111111111,
              "#46039f"
             ],
             [
              0.2222222222222222,
              "#7201a8"
             ],
             [
              0.3333333333333333,
              "#9c179e"
             ],
             [
              0.4444444444444444,
              "#bd3786"
             ],
             [
              0.5555555555555556,
              "#d8576b"
             ],
             [
              0.6666666666666666,
              "#ed7953"
             ],
             [
              0.7777777777777778,
              "#fb9f3a"
             ],
             [
              0.8888888888888888,
              "#fdca26"
             ],
             [
              1,
              "#f0f921"
             ]
            ],
            "type": "heatmapgl"
           }
          ],
          "histogram": [
           {
            "marker": {
             "pattern": {
              "fillmode": "overlay",
              "size": 10,
              "solidity": 0.2
             }
            },
            "type": "histogram"
           }
          ],
          "histogram2d": [
           {
            "colorbar": {
             "outlinewidth": 0,
             "ticks": ""
            },
            "colorscale": [
             [
              0,
              "#0d0887"
             ],
             [
              0.1111111111111111,
              "#46039f"
             ],
             [
              0.2222222222222222,
              "#7201a8"
             ],
             [
              0.3333333333333333,
              "#9c179e"
             ],
             [
              0.4444444444444444,
              "#bd3786"
             ],
             [
              0.5555555555555556,
              "#d8576b"
             ],
             [
              0.6666666666666666,
              "#ed7953"
             ],
             [
              0.7777777777777778,
              "#fb9f3a"
             ],
             [
              0.8888888888888888,
              "#fdca26"
             ],
             [
              1,
              "#f0f921"
             ]
            ],
            "type": "histogram2d"
           }
          ],
          "histogram2dcontour": [
           {
            "colorbar": {
             "outlinewidth": 0,
             "ticks": ""
            },
            "colorscale": [
             [
              0,
              "#0d0887"
             ],
             [
              0.1111111111111111,
              "#46039f"
             ],
             [
              0.2222222222222222,
              "#7201a8"
             ],
             [
              0.3333333333333333,
              "#9c179e"
             ],
             [
              0.4444444444444444,
              "#bd3786"
             ],
             [
              0.5555555555555556,
              "#d8576b"
             ],
             [
              0.6666666666666666,
              "#ed7953"
             ],
             [
              0.7777777777777778,
              "#fb9f3a"
             ],
             [
              0.8888888888888888,
              "#fdca26"
             ],
             [
              1,
              "#f0f921"
             ]
            ],
            "type": "histogram2dcontour"
           }
          ],
          "mesh3d": [
           {
            "colorbar": {
             "outlinewidth": 0,
             "ticks": ""
            },
            "type": "mesh3d"
           }
          ],
          "parcoords": [
           {
            "line": {
             "colorbar": {
              "outlinewidth": 0,
              "ticks": ""
             }
            },
            "type": "parcoords"
           }
          ],
          "pie": [
           {
            "automargin": true,
            "type": "pie"
           }
          ],
          "scatter": [
           {
            "fillpattern": {
             "fillmode": "overlay",
             "size": 10,
             "solidity": 0.2
            },
            "type": "scatter"
           }
          ],
          "scatter3d": [
           {
            "line": {
             "colorbar": {
              "outlinewidth": 0,
              "ticks": ""
             }
            },
            "marker": {
             "colorbar": {
              "outlinewidth": 0,
              "ticks": ""
             }
            },
            "type": "scatter3d"
           }
          ],
          "scattercarpet": [
           {
            "marker": {
             "colorbar": {
              "outlinewidth": 0,
              "ticks": ""
             }
            },
            "type": "scattercarpet"
           }
          ],
          "scattergeo": [
           {
            "marker": {
             "colorbar": {
              "outlinewidth": 0,
              "ticks": ""
             }
            },
            "type": "scattergeo"
           }
          ],
          "scattergl": [
           {
            "marker": {
             "colorbar": {
              "outlinewidth": 0,
              "ticks": ""
             }
            },
            "type": "scattergl"
           }
          ],
          "scattermapbox": [
           {
            "marker": {
             "colorbar": {
              "outlinewidth": 0,
              "ticks": ""
             }
            },
            "type": "scattermapbox"
           }
          ],
          "scatterpolar": [
           {
            "marker": {
             "colorbar": {
              "outlinewidth": 0,
              "ticks": ""
             }
            },
            "type": "scatterpolar"
           }
          ],
          "scatterpolargl": [
           {
            "marker": {
             "colorbar": {
              "outlinewidth": 0,
              "ticks": ""
             }
            },
            "type": "scatterpolargl"
           }
          ],
          "scatterternary": [
           {
            "marker": {
             "colorbar": {
              "outlinewidth": 0,
              "ticks": ""
             }
            },
            "type": "scatterternary"
           }
          ],
          "surface": [
           {
            "colorbar": {
             "outlinewidth": 0,
             "ticks": ""
            },
            "colorscale": [
             [
              0,
              "#0d0887"
             ],
             [
              0.1111111111111111,
              "#46039f"
             ],
             [
              0.2222222222222222,
              "#7201a8"
             ],
             [
              0.3333333333333333,
              "#9c179e"
             ],
             [
              0.4444444444444444,
              "#bd3786"
             ],
             [
              0.5555555555555556,
              "#d8576b"
             ],
             [
              0.6666666666666666,
              "#ed7953"
             ],
             [
              0.7777777777777778,
              "#fb9f3a"
             ],
             [
              0.8888888888888888,
              "#fdca26"
             ],
             [
              1,
              "#f0f921"
             ]
            ],
            "type": "surface"
           }
          ],
          "table": [
           {
            "cells": {
             "fill": {
              "color": "#EBF0F8"
             },
             "line": {
              "color": "white"
             }
            },
            "header": {
             "fill": {
              "color": "#C8D4E3"
             },
             "line": {
              "color": "white"
             }
            },
            "type": "table"
           }
          ]
         },
         "layout": {
          "annotationdefaults": {
           "arrowcolor": "#2a3f5f",
           "arrowhead": 0,
           "arrowwidth": 1
          },
          "autotypenumbers": "strict",
          "coloraxis": {
           "colorbar": {
            "outlinewidth": 0,
            "ticks": ""
           }
          },
          "colorscale": {
           "diverging": [
            [
             0,
             "#8e0152"
            ],
            [
             0.1,
             "#c51b7d"
            ],
            [
             0.2,
             "#de77ae"
            ],
            [
             0.3,
             "#f1b6da"
            ],
            [
             0.4,
             "#fde0ef"
            ],
            [
             0.5,
             "#f7f7f7"
            ],
            [
             0.6,
             "#e6f5d0"
            ],
            [
             0.7,
             "#b8e186"
            ],
            [
             0.8,
             "#7fbc41"
            ],
            [
             0.9,
             "#4d9221"
            ],
            [
             1,
             "#276419"
            ]
           ],
           "sequential": [
            [
             0,
             "#0d0887"
            ],
            [
             0.1111111111111111,
             "#46039f"
            ],
            [
             0.2222222222222222,
             "#7201a8"
            ],
            [
             0.3333333333333333,
             "#9c179e"
            ],
            [
             0.4444444444444444,
             "#bd3786"
            ],
            [
             0.5555555555555556,
             "#d8576b"
            ],
            [
             0.6666666666666666,
             "#ed7953"
            ],
            [
             0.7777777777777778,
             "#fb9f3a"
            ],
            [
             0.8888888888888888,
             "#fdca26"
            ],
            [
             1,
             "#f0f921"
            ]
           ],
           "sequentialminus": [
            [
             0,
             "#0d0887"
            ],
            [
             0.1111111111111111,
             "#46039f"
            ],
            [
             0.2222222222222222,
             "#7201a8"
            ],
            [
             0.3333333333333333,
             "#9c179e"
            ],
            [
             0.4444444444444444,
             "#bd3786"
            ],
            [
             0.5555555555555556,
             "#d8576b"
            ],
            [
             0.6666666666666666,
             "#ed7953"
            ],
            [
             0.7777777777777778,
             "#fb9f3a"
            ],
            [
             0.8888888888888888,
             "#fdca26"
            ],
            [
             1,
             "#f0f921"
            ]
           ]
          },
          "colorway": [
           "#636efa",
           "#EF553B",
           "#00cc96",
           "#ab63fa",
           "#FFA15A",
           "#19d3f3",
           "#FF6692",
           "#B6E880",
           "#FF97FF",
           "#FECB52"
          ],
          "font": {
           "color": "#2a3f5f"
          },
          "geo": {
           "bgcolor": "white",
           "lakecolor": "white",
           "landcolor": "#E5ECF6",
           "showlakes": true,
           "showland": true,
           "subunitcolor": "white"
          },
          "hoverlabel": {
           "align": "left"
          },
          "hovermode": "closest",
          "mapbox": {
           "style": "light"
          },
          "paper_bgcolor": "white",
          "plot_bgcolor": "#E5ECF6",
          "polar": {
           "angularaxis": {
            "gridcolor": "white",
            "linecolor": "white",
            "ticks": ""
           },
           "bgcolor": "#E5ECF6",
           "radialaxis": {
            "gridcolor": "white",
            "linecolor": "white",
            "ticks": ""
           }
          },
          "scene": {
           "xaxis": {
            "backgroundcolor": "#E5ECF6",
            "gridcolor": "white",
            "gridwidth": 2,
            "linecolor": "white",
            "showbackground": true,
            "ticks": "",
            "zerolinecolor": "white"
           },
           "yaxis": {
            "backgroundcolor": "#E5ECF6",
            "gridcolor": "white",
            "gridwidth": 2,
            "linecolor": "white",
            "showbackground": true,
            "ticks": "",
            "zerolinecolor": "white"
           },
           "zaxis": {
            "backgroundcolor": "#E5ECF6",
            "gridcolor": "white",
            "gridwidth": 2,
            "linecolor": "white",
            "showbackground": true,
            "ticks": "",
            "zerolinecolor": "white"
           }
          },
          "shapedefaults": {
           "line": {
            "color": "#2a3f5f"
           }
          },
          "ternary": {
           "aaxis": {
            "gridcolor": "white",
            "linecolor": "white",
            "ticks": ""
           },
           "baxis": {
            "gridcolor": "white",
            "linecolor": "white",
            "ticks": ""
           },
           "bgcolor": "#E5ECF6",
           "caxis": {
            "gridcolor": "white",
            "linecolor": "white",
            "ticks": ""
           }
          },
          "title": {
           "x": 0.05
          },
          "xaxis": {
           "automargin": true,
           "gridcolor": "white",
           "linecolor": "white",
           "ticks": "",
           "title": {
            "standoff": 15
           },
           "zerolinecolor": "white",
           "zerolinewidth": 2
          },
          "yaxis": {
           "automargin": true,
           "gridcolor": "white",
           "linecolor": "white",
           "ticks": "",
           "title": {
            "standoff": 15
           },
           "zerolinecolor": "white",
           "zerolinewidth": 2
          }
         }
        },
        "title": {
         "text": "평가액 비교(로그)",
         "x": 0.5,
         "xanchor": "center",
         "yanchor": "top"
        },
        "yaxis": {
         "autorange": true,
         "type": "log"
        }
       }
      },
      "text/html": [
       "<div>                            <div id=\"940a3d6d-6362-46b4-bb96-4a9a51e3a8c1\" class=\"plotly-graph-div\" style=\"height:525px; width:100%;\"></div>            <script type=\"text/javascript\">                require([\"plotly\"], function(Plotly) {                    window.PLOTLYENV=window.PLOTLYENV || {};                                    if (document.getElementById(\"940a3d6d-6362-46b4-bb96-4a9a51e3a8c1\")) {                    Plotly.newPlot(                        \"940a3d6d-6362-46b4-bb96-4a9a51e3a8c1\",                        [{\"line\":{\"width\":1},\"name\":\"Portfolio1\",\"x\":[\"2022-02-02T00:00:00\",\"2022-02-03T00:00:00\",\"2022-02-04T00:00:00\",\"2022-02-07T00:00:00\",\"2022-02-08T00:00:00\",\"2022-02-09T00:00:00\",\"2022-02-10T00:00:00\",\"2022-02-11T00:00:00\",\"2022-02-14T00:00:00\",\"2022-02-15T00:00:00\",\"2022-02-16T00:00:00\",\"2022-02-17T00:00:00\",\"2022-02-18T00:00:00\",\"2022-02-22T00:00:00\",\"2022-02-23T00:00:00\",\"2022-02-24T00:00:00\",\"2022-02-25T00:00:00\",\"2022-02-28T00:00:00\",\"2022-03-01T00:00:00\",\"2022-03-02T00:00:00\",\"2022-03-03T00:00:00\",\"2022-03-04T00:00:00\",\"2022-03-07T00:00:00\",\"2022-03-08T00:00:00\",\"2022-03-09T00:00:00\",\"2022-03-10T00:00:00\",\"2022-03-11T00:00:00\",\"2022-03-14T00:00:00\",\"2022-03-15T00:00:00\",\"2022-03-16T00:00:00\",\"2022-03-17T00:00:00\",\"2022-03-18T00:00:00\",\"2022-03-21T00:00:00\",\"2022-03-22T00:00:00\",\"2022-03-23T00:00:00\",\"2022-03-24T00:00:00\",\"2022-03-25T00:00:00\",\"2022-03-28T00:00:00\",\"2022-03-29T00:00:00\",\"2022-03-30T00:00:00\",\"2022-03-31T00:00:00\",\"2022-04-01T00:00:00\",\"2022-04-04T00:00:00\",\"2022-04-05T00:00:00\",\"2022-04-06T00:00:00\",\"2022-04-07T00:00:00\",\"2022-04-08T00:00:00\",\"2022-04-11T00:00:00\",\"2022-04-12T00:00:00\",\"2022-04-13T00:00:00\",\"2022-04-14T00:00:00\",\"2022-04-18T00:00:00\",\"2022-04-19T00:00:00\",\"2022-04-20T00:00:00\",\"2022-04-21T00:00:00\",\"2022-04-22T00:00:00\",\"2022-04-25T00:00:00\",\"2022-04-26T00:00:00\",\"2022-04-27T00:00:00\",\"2022-04-28T00:00:00\",\"2022-04-29T00:00:00\",\"2022-05-02T00:00:00\",\"2022-05-03T00:00:00\",\"2022-05-04T00:00:00\",\"2022-05-05T00:00:00\",\"2022-05-06T00:00:00\",\"2022-05-09T00:00:00\",\"2022-05-10T00:00:00\",\"2022-05-11T00:00:00\",\"2022-05-12T00:00:00\",\"2022-05-13T00:00:00\",\"2022-05-16T00:00:00\",\"2022-05-17T00:00:00\",\"2022-05-18T00:00:00\",\"2022-05-19T00:00:00\",\"2022-05-20T00:00:00\",\"2022-05-23T00:00:00\",\"2022-05-24T00:00:00\",\"2022-05-25T00:00:00\",\"2022-05-26T00:00:00\",\"2022-05-27T00:00:00\",\"2022-05-31T00:00:00\",\"2022-06-01T00:00:00\",\"2022-06-02T00:00:00\",\"2022-06-03T00:00:00\",\"2022-06-06T00:00:00\",\"2022-06-07T00:00:00\",\"2022-06-08T00:00:00\",\"2022-06-09T00:00:00\",\"2022-06-10T00:00:00\",\"2022-06-13T00:00:00\",\"2022-06-14T00:00:00\",\"2022-06-15T00:00:00\",\"2022-06-16T00:00:00\",\"2022-06-17T00:00:00\",\"2022-06-21T00:00:00\",\"2022-06-22T00:00:00\",\"2022-06-23T00:00:00\",\"2022-06-24T00:00:00\",\"2022-06-27T00:00:00\",\"2022-06-28T00:00:00\",\"2022-06-29T00:00:00\",\"2022-06-30T00:00:00\",\"2022-07-01T00:00:00\",\"2022-07-05T00:00:00\",\"2022-07-06T00:00:00\",\"2022-07-07T00:00:00\",\"2022-07-08T00:00:00\",\"2022-07-11T00:00:00\",\"2022-07-12T00:00:00\",\"2022-07-13T00:00:00\",\"2022-07-14T00:00:00\",\"2022-07-15T00:00:00\",\"2022-07-18T00:00:00\",\"2022-07-19T00:00:00\",\"2022-07-20T00:00:00\",\"2022-07-21T00:00:00\",\"2022-07-22T00:00:00\",\"2022-07-25T00:00:00\",\"2022-07-26T00:00:00\",\"2022-07-27T00:00:00\",\"2022-07-28T00:00:00\",\"2022-07-29T00:00:00\",\"2022-08-01T00:00:00\",\"2022-08-02T00:00:00\",\"2022-08-03T00:00:00\",\"2022-08-04T00:00:00\",\"2022-08-05T00:00:00\",\"2022-08-08T00:00:00\",\"2022-08-09T00:00:00\",\"2022-08-10T00:00:00\",\"2022-08-11T00:00:00\",\"2022-08-12T00:00:00\",\"2022-08-15T00:00:00\",\"2022-08-16T00:00:00\",\"2022-08-17T00:00:00\",\"2022-08-18T00:00:00\",\"2022-08-19T00:00:00\",\"2022-08-22T00:00:00\",\"2022-08-23T00:00:00\",\"2022-08-24T00:00:00\",\"2022-08-25T00:00:00\",\"2022-08-26T00:00:00\",\"2022-08-29T00:00:00\",\"2022-08-30T00:00:00\",\"2022-08-31T00:00:00\",\"2022-09-01T00:00:00\",\"2022-09-02T00:00:00\",\"2022-09-06T00:00:00\",\"2022-09-07T00:00:00\",\"2022-09-08T00:00:00\",\"2022-09-09T00:00:00\",\"2022-09-12T00:00:00\",\"2022-09-13T00:00:00\",\"2022-09-14T00:00:00\",\"2022-09-15T00:00:00\",\"2022-09-16T00:00:00\",\"2022-09-19T00:00:00\",\"2022-09-20T00:00:00\",\"2022-09-21T00:00:00\",\"2022-09-22T00:00:00\",\"2022-09-23T00:00:00\",\"2022-09-26T00:00:00\",\"2022-09-27T00:00:00\",\"2022-09-28T00:00:00\",\"2022-09-29T00:00:00\",\"2022-09-30T00:00:00\"],\"y\":[10000.0,9955.111312077,9906.91135268077,9911.216967002567,9901.409308808243,9945.670191836743,9825.400949473356,9870.468199336605,9804.051949097822,9793.111288693693,9833.113409598318,9848.32089273672,9880.9200229051,9867.266904998256,9798.73721266275,9795.784946969967,9828.95230263561,9964.302295718835,10062.93654663737,9999.421891870501,10017.942359532495,10096.101514358474,10038.402654843861,10076.404340800724,9928.422277553786,9837.493691828658,9826.95129084555,9687.379562526265,9688.656599754326,9762.642838366457,9792.008536799896,9869.106008381883,9831.833372489466,9783.00724309537,9891.20862813601,9873.14057108831,9827.916264955113,9802.947167064909,9866.366596268963,9896.830360545768,9863.435259024613,9870.22819218271,9869.080542153668,9712.223843819604,9656.602074653283,9632.918019993689,9585.712860231204,9522.693785397436,9559.895015673532,9605.68550620868,9517.755422520517,9528.938710576514,9477.516467779342,9560.039084773452,9490.554422174371,9380.327863036206,9408.600198094005,9407.955330007575,9379.308412317645,9446.421061371602,9332.744099406902,9275.691479148309,9286.115851498187,9375.404400869435,9190.679231063566,9128.981935501472,9028.315318974206,9080.600378599156,9152.872811812453,9159.21029868388,9155.015339295982,9159.856165597319,9149.922494433,9155.068011292367,9163.512869953027,9215.419898555321,9184.898817991376,9261.280835553152,9309.89362387019,9342.68587958829,9380.323405979962,9281.527144139396,9248.591011075325,9307.267764317488,9277.389359486926,9196.124374039025,9209.946922532426,9164.324630864827,9111.082775148114,9041.985641923866,8837.857808945702,8737.30043025942,8842.762242882798,8807.588947125198,8763.571768937685,8761.266939617564,8861.982182445441,8890.114173811406,8872.402838813909,8815.201483144783,8798.643107271046,8832.015924395726,8848.623793723515,8889.499909977358,8869.478069789142,8793.133077248156,8808.186379949539,8768.588487858427,8814.562740978008,8773.13021203914,8819.5172264356,8792.83032718516,8844.55028087576,8831.843770570567,8863.991344915123,8866.098511818022,8945.232662611776,8993.523160454093,8974.507872649314,8971.36454454181,9027.122973742256,9085.94410314529,9095.895726838886,9164.963515479581,9066.403735156184,9147.005513653046,9151.529415321249,9050.351323774694,9111.552137001227,9120.342792358551,9144.782094556058,9081.209482924993,9134.79895910556,9108.718065672178,9102.753317944374,9034.657588561597,9041.43053375117,8965.980285898228,8941.917615866276,8944.081037210264,8905.874070955735,8978.783311820505,8959.642303578776,8904.587489195688,8859.523114045187,8787.608774932376,8702.441559092724,8707.265277401562,8609.421051858448,8708.222924443357,8662.292205312888,8712.205989622526,8706.8390874791,8617.656521529347,8639.86442258703,8567.232446217187,8526.006231129095,8521.352757396058,8427.83197095019,8459.20748024453,8322.865257476697,8269.423981037253,8151.194093740492,8080.230118055729,8259.804206568602,8210.789357541396,8141.526712933535],\"type\":\"scatter\"},{\"line\":{\"width\":1},\"name\":\"Portfolio2\",\"x\":[\"2022-02-02T00:00:00\",\"2022-02-03T00:00:00\",\"2022-02-04T00:00:00\",\"2022-02-07T00:00:00\",\"2022-02-08T00:00:00\",\"2022-02-09T00:00:00\",\"2022-02-10T00:00:00\",\"2022-02-11T00:00:00\",\"2022-02-14T00:00:00\",\"2022-02-15T00:00:00\",\"2022-02-16T00:00:00\",\"2022-02-17T00:00:00\",\"2022-02-18T00:00:00\",\"2022-02-22T00:00:00\",\"2022-02-23T00:00:00\",\"2022-02-24T00:00:00\",\"2022-02-25T00:00:00\",\"2022-02-28T00:00:00\",\"2022-03-01T00:00:00\",\"2022-03-02T00:00:00\",\"2022-03-03T00:00:00\",\"2022-03-04T00:00:00\",\"2022-03-07T00:00:00\",\"2022-03-08T00:00:00\",\"2022-03-09T00:00:00\",\"2022-03-10T00:00:00\",\"2022-03-11T00:00:00\",\"2022-03-14T00:00:00\",\"2022-03-15T00:00:00\",\"2022-03-16T00:00:00\",\"2022-03-17T00:00:00\",\"2022-03-18T00:00:00\",\"2022-03-21T00:00:00\",\"2022-03-22T00:00:00\",\"2022-03-23T00:00:00\",\"2022-03-24T00:00:00\",\"2022-03-25T00:00:00\",\"2022-03-28T00:00:00\",\"2022-03-29T00:00:00\",\"2022-03-30T00:00:00\",\"2022-03-31T00:00:00\",\"2022-04-01T00:00:00\",\"2022-04-04T00:00:00\",\"2022-04-05T00:00:00\",\"2022-04-06T00:00:00\",\"2022-04-07T00:00:00\",\"2022-04-08T00:00:00\",\"2022-04-11T00:00:00\",\"2022-04-12T00:00:00\",\"2022-04-13T00:00:00\",\"2022-04-14T00:00:00\",\"2022-04-18T00:00:00\",\"2022-04-19T00:00:00\",\"2022-04-20T00:00:00\",\"2022-04-21T00:00:00\",\"2022-04-22T00:00:00\",\"2022-04-25T00:00:00\",\"2022-04-26T00:00:00\",\"2022-04-27T00:00:00\",\"2022-04-28T00:00:00\",\"2022-04-29T00:00:00\",\"2022-05-02T00:00:00\",\"2022-05-03T00:00:00\",\"2022-05-04T00:00:00\",\"2022-05-05T00:00:00\",\"2022-05-06T00:00:00\",\"2022-05-09T00:00:00\",\"2022-05-10T00:00:00\",\"2022-05-11T00:00:00\",\"2022-05-12T00:00:00\",\"2022-05-13T00:00:00\",\"2022-05-16T00:00:00\",\"2022-05-17T00:00:00\",\"2022-05-18T00:00:00\",\"2022-05-19T00:00:00\",\"2022-05-20T00:00:00\",\"2022-05-23T00:00:00\",\"2022-05-24T00:00:00\",\"2022-05-25T00:00:00\",\"2022-05-26T00:00:00\",\"2022-05-27T00:00:00\",\"2022-05-31T00:00:00\",\"2022-06-01T00:00:00\",\"2022-06-02T00:00:00\",\"2022-06-03T00:00:00\",\"2022-06-06T00:00:00\",\"2022-06-07T00:00:00\",\"2022-06-08T00:00:00\",\"2022-06-09T00:00:00\",\"2022-06-10T00:00:00\",\"2022-06-13T00:00:00\",\"2022-06-14T00:00:00\",\"2022-06-15T00:00:00\",\"2022-06-16T00:00:00\",\"2022-06-17T00:00:00\",\"2022-06-21T00:00:00\",\"2022-06-22T00:00:00\",\"2022-06-23T00:00:00\",\"2022-06-24T00:00:00\",\"2022-06-27T00:00:00\",\"2022-06-28T00:00:00\",\"2022-06-29T00:00:00\",\"2022-06-30T00:00:00\",\"2022-07-01T00:00:00\",\"2022-07-05T00:00:00\",\"2022-07-06T00:00:00\",\"2022-07-07T00:00:00\",\"2022-07-08T00:00:00\",\"2022-07-11T00:00:00\",\"2022-07-12T00:00:00\",\"2022-07-13T00:00:00\",\"2022-07-14T00:00:00\",\"2022-07-15T00:00:00\",\"2022-07-18T00:00:00\",\"2022-07-19T00:00:00\",\"2022-07-20T00:00:00\",\"2022-07-21T00:00:00\",\"2022-07-22T00:00:00\",\"2022-07-25T00:00:00\",\"2022-07-26T00:00:00\",\"2022-07-27T00:00:00\",\"2022-07-28T00:00:00\",\"2022-07-29T00:00:00\",\"2022-08-01T00:00:00\",\"2022-08-02T00:00:00\",\"2022-08-03T00:00:00\",\"2022-08-04T00:00:00\",\"2022-08-05T00:00:00\",\"2022-08-08T00:00:00\",\"2022-08-09T00:00:00\",\"2022-08-10T00:00:00\",\"2022-08-11T00:00:00\",\"2022-08-12T00:00:00\",\"2022-08-15T00:00:00\",\"2022-08-16T00:00:00\",\"2022-08-17T00:00:00\",\"2022-08-18T00:00:00\",\"2022-08-19T00:00:00\",\"2022-08-22T00:00:00\",\"2022-08-23T00:00:00\",\"2022-08-24T00:00:00\",\"2022-08-25T00:00:00\",\"2022-08-26T00:00:00\",\"2022-08-29T00:00:00\",\"2022-08-30T00:00:00\",\"2022-08-31T00:00:00\",\"2022-09-01T00:00:00\",\"2022-09-02T00:00:00\",\"2022-09-06T00:00:00\",\"2022-09-07T00:00:00\",\"2022-09-08T00:00:00\",\"2022-09-09T00:00:00\",\"2022-09-12T00:00:00\",\"2022-09-13T00:00:00\",\"2022-09-14T00:00:00\",\"2022-09-15T00:00:00\",\"2022-09-16T00:00:00\",\"2022-09-19T00:00:00\",\"2022-09-20T00:00:00\",\"2022-09-21T00:00:00\",\"2022-09-22T00:00:00\",\"2022-09-23T00:00:00\",\"2022-09-26T00:00:00\",\"2022-09-27T00:00:00\",\"2022-09-28T00:00:00\",\"2022-09-29T00:00:00\",\"2022-09-30T00:00:00\"],\"y\":[10000.0,9917.488133325896,9900.414514326492,9914.31185167787,9928.429794055766,9981.524008708548,9890.621598458327,9926.33356599221,9900.680487033616,9892.32287727495,9935.025792611632,9932.039850253794,9936.470316067087,9920.892973497346,9855.524833375504,9880.613477462586,9926.015507119972,10003.246559396082,10042.761982272199,9974.630281152437,9996.85233017374,10057.485923227414,10006.044762616862,10043.982335692726,9999.320811566831,9962.864159090674,9919.382377835627,9800.179118448157,9792.690155455422,9890.77857804727,9918.330037976159,9951.110670929063,9914.717417647576,9895.914290386056,9948.67617858032,9984.863572340924,9951.922141233772,9938.261158527112,9994.633714339681,10013.85517855989,9982.480431793898,9984.22315921772,10001.759968656392,9895.65297247417,9855.357464267932,9857.766240002109,9842.43887642899,9782.86636004674,9793.18625774276,9842.128299650984,9759.622102529105,9753.615028493421,9738.458150414352,9791.3366008698,9725.945958142798,9620.65826124093,9606.868734651034,9565.170941069158,9522.11805104987,9595.609583640533,9481.076079968845,9413.28289030898,9444.565103572377,9548.844310634451,9394.86135294971,9350.926478733902,9251.126315389723,9252.236418342723,9273.106391016807,9232.54555654322,9238.77650530442,9249.431023538931,9255.409525217809,9212.735767363785,9245.613265794445,9270.879344682857,9284.695230313528,9322.598243642224,9339.498351214404,9370.137243044974,9432.07677702635,9343.336382757872,9342.324757647008,9420.890971131332,9353.30254611603,9311.110443813102,9373.600725189759,9327.950688237059,9272.952096152903,9228.858228408277,9010.71901801665,8959.937761932953,9058.353591072015,9030.734087995104,9023.326124901578,9029.290467563489,9092.9143408948,9112.416024943414,9148.269202254309,9121.904126009125,9083.617710363038,9109.426568608204,9094.191833452425,9134.572832311262,9105.286568779175,9036.053375524894,9054.066194715662,9030.303339294122,9025.162546894562,9009.891277702209,9035.609004396292,8976.236313870646,9022.914031094842,8989.12846566414,9042.208357110607,9042.71836775015,9133.110963687644,9150.303731684488,9125.905852427797,9097.87352524879,9166.56418469426,9241.169360607104,9272.898225746243,9331.74305595789,9260.248256882005,9334.759982988986,9372.684141978794,9294.190834786794,9350.662728334908,9335.433259983602,9367.362700560832,9312.472795145526,9396.333821004882,9371.494776429188,9381.033813073296,9322.468525989238,9326.345940591504,9242.122015898272,9170.076411935515,9170.9806983015,9173.86912968469,9242.0175397934,9151.253922093967,9119.732764808257,9080.3647236808,9027.282754660184,8972.010166794958,8982.340171580025,8911.226949454236,9005.215603713981,8988.909600833731,9042.173993315573,9062.131717702097,8938.994675148826,8944.975105135178,8877.669577380304,8854.795065201613,8876.124935105872,8818.67497791881,8825.337038937441,8752.669545189012,8684.946310296982,8599.888835737263,8553.747467052064,8702.915339416693,8650.983534726009,8600.13494223646],\"type\":\"scatter\"},{\"line\":{\"width\":1},\"name\":\"Portfolio3\",\"x\":[\"2022-02-02T00:00:00\",\"2022-02-03T00:00:00\",\"2022-02-04T00:00:00\",\"2022-02-07T00:00:00\",\"2022-02-08T00:00:00\",\"2022-02-09T00:00:00\",\"2022-02-10T00:00:00\",\"2022-02-11T00:00:00\",\"2022-02-14T00:00:00\",\"2022-02-15T00:00:00\",\"2022-02-16T00:00:00\",\"2022-02-17T00:00:00\",\"2022-02-18T00:00:00\",\"2022-02-22T00:00:00\",\"2022-02-23T00:00:00\",\"2022-02-24T00:00:00\",\"2022-02-25T00:00:00\",\"2022-02-28T00:00:00\",\"2022-03-01T00:00:00\",\"2022-03-02T00:00:00\",\"2022-03-03T00:00:00\",\"2022-03-04T00:00:00\",\"2022-03-07T00:00:00\",\"2022-03-08T00:00:00\",\"2022-03-09T00:00:00\",\"2022-03-10T00:00:00\",\"2022-03-11T00:00:00\",\"2022-03-14T00:00:00\",\"2022-03-15T00:00:00\",\"2022-03-16T00:00:00\",\"2022-03-17T00:00:00\",\"2022-03-18T00:00:00\",\"2022-03-21T00:00:00\",\"2022-03-22T00:00:00\",\"2022-03-23T00:00:00\",\"2022-03-24T00:00:00\",\"2022-03-25T00:00:00\",\"2022-03-28T00:00:00\",\"2022-03-29T00:00:00\",\"2022-03-30T00:00:00\",\"2022-03-31T00:00:00\",\"2022-04-01T00:00:00\",\"2022-04-04T00:00:00\",\"2022-04-05T00:00:00\",\"2022-04-06T00:00:00\",\"2022-04-07T00:00:00\",\"2022-04-08T00:00:00\",\"2022-04-11T00:00:00\",\"2022-04-12T00:00:00\",\"2022-04-13T00:00:00\",\"2022-04-14T00:00:00\",\"2022-04-18T00:00:00\",\"2022-04-19T00:00:00\",\"2022-04-20T00:00:00\",\"2022-04-21T00:00:00\",\"2022-04-22T00:00:00\",\"2022-04-25T00:00:00\",\"2022-04-26T00:00:00\",\"2022-04-27T00:00:00\",\"2022-04-28T00:00:00\",\"2022-04-29T00:00:00\",\"2022-05-02T00:00:00\",\"2022-05-03T00:00:00\",\"2022-05-04T00:00:00\",\"2022-05-05T00:00:00\",\"2022-05-06T00:00:00\",\"2022-05-09T00:00:00\",\"2022-05-10T00:00:00\",\"2022-05-11T00:00:00\",\"2022-05-12T00:00:00\",\"2022-05-13T00:00:00\",\"2022-05-16T00:00:00\",\"2022-05-17T00:00:00\",\"2022-05-18T00:00:00\",\"2022-05-19T00:00:00\",\"2022-05-20T00:00:00\",\"2022-05-23T00:00:00\",\"2022-05-24T00:00:00\",\"2022-05-25T00:00:00\",\"2022-05-26T00:00:00\",\"2022-05-27T00:00:00\",\"2022-05-31T00:00:00\",\"2022-06-01T00:00:00\",\"2022-06-02T00:00:00\",\"2022-06-03T00:00:00\",\"2022-06-06T00:00:00\",\"2022-06-07T00:00:00\",\"2022-06-08T00:00:00\",\"2022-06-09T00:00:00\",\"2022-06-10T00:00:00\",\"2022-06-13T00:00:00\",\"2022-06-14T00:00:00\",\"2022-06-15T00:00:00\",\"2022-06-16T00:00:00\",\"2022-06-17T00:00:00\",\"2022-06-21T00:00:00\",\"2022-06-22T00:00:00\",\"2022-06-23T00:00:00\",\"2022-06-24T00:00:00\",\"2022-06-27T00:00:00\",\"2022-06-28T00:00:00\",\"2022-06-29T00:00:00\",\"2022-06-30T00:00:00\",\"2022-07-01T00:00:00\",\"2022-07-05T00:00:00\",\"2022-07-06T00:00:00\",\"2022-07-07T00:00:00\",\"2022-07-08T00:00:00\",\"2022-07-11T00:00:00\",\"2022-07-12T00:00:00\",\"2022-07-13T00:00:00\",\"2022-07-14T00:00:00\",\"2022-07-15T00:00:00\",\"2022-07-18T00:00:00\",\"2022-07-19T00:00:00\",\"2022-07-20T00:00:00\",\"2022-07-21T00:00:00\",\"2022-07-22T00:00:00\",\"2022-07-25T00:00:00\",\"2022-07-26T00:00:00\",\"2022-07-27T00:00:00\",\"2022-07-28T00:00:00\",\"2022-07-29T00:00:00\",\"2022-08-01T00:00:00\",\"2022-08-02T00:00:00\",\"2022-08-03T00:00:00\",\"2022-08-04T00:00:00\",\"2022-08-05T00:00:00\",\"2022-08-08T00:00:00\",\"2022-08-09T00:00:00\",\"2022-08-10T00:00:00\",\"2022-08-11T00:00:00\",\"2022-08-12T00:00:00\",\"2022-08-15T00:00:00\",\"2022-08-16T00:00:00\",\"2022-08-17T00:00:00\",\"2022-08-18T00:00:00\",\"2022-08-19T00:00:00\",\"2022-08-22T00:00:00\",\"2022-08-23T00:00:00\",\"2022-08-24T00:00:00\",\"2022-08-25T00:00:00\",\"2022-08-26T00:00:00\",\"2022-08-29T00:00:00\",\"2022-08-30T00:00:00\",\"2022-08-31T00:00:00\",\"2022-09-01T00:00:00\",\"2022-09-02T00:00:00\",\"2022-09-06T00:00:00\",\"2022-09-07T00:00:00\",\"2022-09-08T00:00:00\",\"2022-09-09T00:00:00\",\"2022-09-12T00:00:00\",\"2022-09-13T00:00:00\",\"2022-09-14T00:00:00\",\"2022-09-15T00:00:00\",\"2022-09-16T00:00:00\",\"2022-09-19T00:00:00\",\"2022-09-20T00:00:00\",\"2022-09-21T00:00:00\",\"2022-09-22T00:00:00\",\"2022-09-23T00:00:00\",\"2022-09-26T00:00:00\",\"2022-09-27T00:00:00\",\"2022-09-28T00:00:00\",\"2022-09-29T00:00:00\",\"2022-09-30T00:00:00\"],\"y\":[10000.0,9904.704081003083,9886.671066218996,9901.728600803392,9942.8330787433,10015.358674991257,9908.68982685011,9926.035215497519,9886.922342988437,9924.910773279498,9974.731199635644,9934.652234279361,9931.737207511518,9887.556265842519,9805.509143812313,9843.41809762553,9936.51855520235,10003.223418575508,9994.772755797434,9989.641594567747,9998.41167338075,10020.012990795132,9910.816330282958,9943.895323949413,9953.244326180627,9930.524571038979,9877.90656040574,9764.769803409383,9782.70412463958,9903.605273571357,9945.177164578734,9981.55703493493,9943.766101186004,9937.717996388797,9953.704561222465,10000.751569568487,9991.700068317903,9970.879727525622,10056.492395395106,10042.440679816727,9990.417482189681,10000.709302822686,10008.359466691874,9883.951712019374,9836.314643851607,9834.433189441877,9823.747543386955,9769.959398999608,9785.600128862367,9858.770500450706,9782.022980255202,9774.677400070133,9798.447086963113,9857.737522875002,9764.989806292026,9626.776479349684,9623.115348729367,9541.868347637354,9506.135515023861,9599.516584463969,9450.362088943006,9403.07856171294,9457.0885367889,9597.599364753753,9407.169372639355,9351.593001264833,9213.559915937101,9198.878685625383,9187.146601611978,9170.189513072983,9218.927331229881,9228.036204936418,9285.323525058517,9183.774461289288,9203.996375640754,9217.964808543644,9254.417205543203,9271.914450239849,9323.650521960675,9389.625045284773,9480.006376961122,9386.78789686864,9371.390921697972,9468.164202686672,9396.764422831631,9374.818704644795,9448.01151236585,9374.229390431958,9286.238186110426,9191.849158030658,8919.82397282641,8868.912500527667,8973.892533558384,8869.2381936875,8872.110664274658,8901.731646515145,8950.530748173083,8970.139585845947,9058.024403696792,9043.087893208216,8991.958862676396,8995.039835371927,8973.232181279083,9036.291093726952,9003.063748193677,8928.369306697025,8975.295233303274,8947.029448208003,8925.682048062343,8915.095326196124,8926.78041330152,8856.78291824643,8929.926508264485,8903.46655778404,9001.874975893239,9017.905211755993,9100.35840261102,9105.793196676783,9101.981340587834,9068.116834626655,9156.456781425906,9248.974683523998,9295.125103820146,9340.950667651237,9255.107205250695,9328.705125394315,9348.846025662751,9286.786803322899,9349.14507970587,9323.278782158592,9391.773254205578,9366.042327461259,9462.783576216729,9445.719331337239,9467.101540267864,9393.640986561864,9412.57888817359,9312.297591940724,9210.445986670631,9214.069428596144,9221.407342979812,9309.07215756576,9180.71707157793,9143.353844118436,9082.825526431128,9026.159317965923,8965.52772444525,8970.252691506676,8892.660521495263,9005.454200319655,9005.811698521644,9080.465238894922,9116.820361081347,8939.29803804421,8940.909250532393,8873.314779475124,8832.40728661769,8870.195850205197,8795.406719875606,8772.637402879831,8674.50937131253,8576.836377394411,8474.72948401116,8435.634207415387,8606.751166892707,8525.712028147365,8471.889985567343],\"type\":\"scatter\"},{\"line\":{\"width\":1},\"name\":\"Portfolio4\",\"x\":[\"2022-02-02T00:00:00\",\"2022-02-03T00:00:00\",\"2022-02-04T00:00:00\",\"2022-02-07T00:00:00\",\"2022-02-08T00:00:00\",\"2022-02-09T00:00:00\",\"2022-02-10T00:00:00\",\"2022-02-11T00:00:00\",\"2022-02-14T00:00:00\",\"2022-02-15T00:00:00\",\"2022-02-16T00:00:00\",\"2022-02-17T00:00:00\",\"2022-02-18T00:00:00\",\"2022-02-22T00:00:00\",\"2022-02-23T00:00:00\",\"2022-02-24T00:00:00\",\"2022-02-25T00:00:00\",\"2022-02-28T00:00:00\",\"2022-03-01T00:00:00\",\"2022-03-02T00:00:00\",\"2022-03-03T00:00:00\",\"2022-03-04T00:00:00\",\"2022-03-07T00:00:00\",\"2022-03-08T00:00:00\",\"2022-03-09T00:00:00\",\"2022-03-10T00:00:00\",\"2022-03-11T00:00:00\",\"2022-03-14T00:00:00\",\"2022-03-15T00:00:00\",\"2022-03-16T00:00:00\",\"2022-03-17T00:00:00\",\"2022-03-18T00:00:00\",\"2022-03-21T00:00:00\",\"2022-03-22T00:00:00\",\"2022-03-23T00:00:00\",\"2022-03-24T00:00:00\",\"2022-03-25T00:00:00\",\"2022-03-28T00:00:00\",\"2022-03-29T00:00:00\",\"2022-03-30T00:00:00\",\"2022-03-31T00:00:00\",\"2022-04-01T00:00:00\",\"2022-04-04T00:00:00\",\"2022-04-05T00:00:00\",\"2022-04-06T00:00:00\",\"2022-04-07T00:00:00\",\"2022-04-08T00:00:00\",\"2022-04-11T00:00:00\",\"2022-04-12T00:00:00\",\"2022-04-13T00:00:00\",\"2022-04-14T00:00:00\",\"2022-04-18T00:00:00\",\"2022-04-19T00:00:00\",\"2022-04-20T00:00:00\",\"2022-04-21T00:00:00\",\"2022-04-22T00:00:00\",\"2022-04-25T00:00:00\",\"2022-04-26T00:00:00\",\"2022-04-27T00:00:00\",\"2022-04-28T00:00:00\",\"2022-04-29T00:00:00\",\"2022-05-02T00:00:00\",\"2022-05-03T00:00:00\",\"2022-05-04T00:00:00\",\"2022-05-05T00:00:00\",\"2022-05-06T00:00:00\",\"2022-05-09T00:00:00\",\"2022-05-10T00:00:00\",\"2022-05-11T00:00:00\",\"2022-05-12T00:00:00\",\"2022-05-13T00:00:00\",\"2022-05-16T00:00:00\",\"2022-05-17T00:00:00\",\"2022-05-18T00:00:00\",\"2022-05-19T00:00:00\",\"2022-05-20T00:00:00\",\"2022-05-23T00:00:00\",\"2022-05-24T00:00:00\",\"2022-05-25T00:00:00\",\"2022-05-26T00:00:00\",\"2022-05-27T00:00:00\",\"2022-05-31T00:00:00\",\"2022-06-01T00:00:00\",\"2022-06-02T00:00:00\",\"2022-06-03T00:00:00\",\"2022-06-06T00:00:00\",\"2022-06-07T00:00:00\",\"2022-06-08T00:00:00\",\"2022-06-09T00:00:00\",\"2022-06-10T00:00:00\",\"2022-06-13T00:00:00\",\"2022-06-14T00:00:00\",\"2022-06-15T00:00:00\",\"2022-06-16T00:00:00\",\"2022-06-17T00:00:00\",\"2022-06-21T00:00:00\",\"2022-06-22T00:00:00\",\"2022-06-23T00:00:00\",\"2022-06-24T00:00:00\",\"2022-06-27T00:00:00\",\"2022-06-28T00:00:00\",\"2022-06-29T00:00:00\",\"2022-06-30T00:00:00\",\"2022-07-01T00:00:00\",\"2022-07-05T00:00:00\",\"2022-07-06T00:00:00\",\"2022-07-07T00:00:00\",\"2022-07-08T00:00:00\",\"2022-07-11T00:00:00\",\"2022-07-12T00:00:00\",\"2022-07-13T00:00:00\",\"2022-07-14T00:00:00\",\"2022-07-15T00:00:00\",\"2022-07-18T00:00:00\",\"2022-07-19T00:00:00\",\"2022-07-20T00:00:00\",\"2022-07-21T00:00:00\",\"2022-07-22T00:00:00\",\"2022-07-25T00:00:00\",\"2022-07-26T00:00:00\",\"2022-07-27T00:00:00\",\"2022-07-28T00:00:00\",\"2022-07-29T00:00:00\",\"2022-08-01T00:00:00\",\"2022-08-02T00:00:00\",\"2022-08-03T00:00:00\",\"2022-08-04T00:00:00\",\"2022-08-05T00:00:00\",\"2022-08-08T00:00:00\",\"2022-08-09T00:00:00\",\"2022-08-10T00:00:00\",\"2022-08-11T00:00:00\",\"2022-08-12T00:00:00\",\"2022-08-15T00:00:00\",\"2022-08-16T00:00:00\",\"2022-08-17T00:00:00\",\"2022-08-18T00:00:00\",\"2022-08-19T00:00:00\",\"2022-08-22T00:00:00\",\"2022-08-23T00:00:00\",\"2022-08-24T00:00:00\",\"2022-08-25T00:00:00\",\"2022-08-26T00:00:00\",\"2022-08-29T00:00:00\",\"2022-08-30T00:00:00\",\"2022-08-31T00:00:00\",\"2022-09-01T00:00:00\",\"2022-09-02T00:00:00\",\"2022-09-06T00:00:00\",\"2022-09-07T00:00:00\",\"2022-09-08T00:00:00\",\"2022-09-09T00:00:00\",\"2022-09-12T00:00:00\",\"2022-09-13T00:00:00\",\"2022-09-14T00:00:00\",\"2022-09-15T00:00:00\",\"2022-09-16T00:00:00\",\"2022-09-19T00:00:00\",\"2022-09-20T00:00:00\",\"2022-09-21T00:00:00\",\"2022-09-22T00:00:00\",\"2022-09-23T00:00:00\",\"2022-09-26T00:00:00\",\"2022-09-27T00:00:00\",\"2022-09-28T00:00:00\",\"2022-09-29T00:00:00\",\"2022-09-30T00:00:00\"],\"y\":[10000.0,9847.872480191934,9864.96867942317,9851.994444279106,9897.151513979083,9993.65223627843,9860.815927773232,9771.978956819956,9733.558353408233,9833.425416295811,9846.788148887845,9723.455416753573,9682.338185908342,9613.143941744045,9499.300787104854,9604.15468793765,9728.920021452108,9747.894533272705,9684.395713018694,9755.814711125002,9718.9961847329,9680.555796668314,9491.71729140741,9444.58379580682,9584.32733890059,9548.613080540974,9468.98381641485,9385.75087056234,9499.04007516101,9631.892447759437,9705.414828028119,9775.435224281235,9737.133185619332,9797.438842200614,9730.747507136794,9803.790477492743,9799.8150198563,9840.429408032363,9940.943621759336,9900.01877037439,9808.711197239822,9812.840247237073,9866.438026201127,9751.735923727405,9683.451365557654,9708.848551371948,9678.531681022112,9581.962094537028,9583.124349885205,9664.420416515673,9572.409720523417,9558.993534581992,9640.603738038295,9644.70495730999,9533.471258763802,9378.07422951464,9423.215402545626,9279.950136424535,9281.51706795983,9409.521894828049,9188.883874447736,9215.945956916066,9243.427163655813,9424.614645390888,9196.705397843029,9144.47853061078,8974.355746234833,8988.614196369579,8901.067935856212,8916.994903989445,9045.234314240068,9029.133702763578,9118.718654047998,8920.744378336798,8908.0998952007,8915.686415950087,8991.372787880884,8960.490115623528,9025.056660540828,9131.222271566392,9266.330762790745,9202.624633073285,9149.98965677908,9262.82986197348,9170.067940940131,9170.839798219045,9236.404976993526,9168.540231369409,9034.867424710968,8847.723567219255,8597.181941414385,8567.812082301367,8672.196072927867,8512.604624966665,8527.17657922301,8635.690299892398,8663.698238618745,8721.930860352484,8877.361580344339,8849.893945540278,8744.878700373722,8753.558750214832,8730.413699087278,8814.008762025225,8835.987155060455,8822.848757292177,8892.234110073055,8874.312534252123,8823.947344348397,8786.044447421491,8765.192353837328,8731.410102413769,8834.461276677866,8794.142154241032,8923.640810524954,8961.922270645558,9042.859968651419,9011.830724873387,9012.271740531658,8946.65024798673,9092.115396811863,9184.372280693113,9258.082518410187,9251.276810153942,9186.289420346304,9279.684147382783,9287.43162218645,9248.493122097796,9264.899519799848,9221.610974057381,9351.03717432204,9339.884788538124,9443.31567405227,9473.307341723377,9478.097058544656,9411.918422984621,9432.018769401211,9338.377847134609,9208.289182910763,9195.191447018908,9210.434077705504,9300.279131565296,9110.909649557174,9060.989856317288,9000.62042905614,8953.76301824504,8943.961417897264,8909.042676158064,8865.486305931856,8976.130924383362,9007.79102528762,9092.983254912117,9148.86620270452,8894.658593553315,8911.391677427335,8846.49761468168,8805.194604770293,8833.505802955719,8763.13906673989,8678.09969776868,8592.305310287826,8500.96481604385,8415.930245160107,8398.965451873471,8549.207881182052,8436.273650167781,8362.545692684873],\"type\":\"scatter\"},{\"line\":{\"width\":1},\"name\":\"Portfolio5\",\"x\":[\"2022-02-02T00:00:00\",\"2022-02-03T00:00:00\",\"2022-02-04T00:00:00\",\"2022-02-07T00:00:00\",\"2022-02-08T00:00:00\",\"2022-02-09T00:00:00\",\"2022-02-10T00:00:00\",\"2022-02-11T00:00:00\",\"2022-02-14T00:00:00\",\"2022-02-15T00:00:00\",\"2022-02-16T00:00:00\",\"2022-02-17T00:00:00\",\"2022-02-18T00:00:00\",\"2022-02-22T00:00:00\",\"2022-02-23T00:00:00\",\"2022-02-24T00:00:00\",\"2022-02-25T00:00:00\",\"2022-02-28T00:00:00\",\"2022-03-01T00:00:00\",\"2022-03-02T00:00:00\",\"2022-03-03T00:00:00\",\"2022-03-04T00:00:00\",\"2022-03-07T00:00:00\",\"2022-03-08T00:00:00\",\"2022-03-09T00:00:00\",\"2022-03-10T00:00:00\",\"2022-03-11T00:00:00\",\"2022-03-14T00:00:00\",\"2022-03-15T00:00:00\",\"2022-03-16T00:00:00\",\"2022-03-17T00:00:00\",\"2022-03-18T00:00:00\",\"2022-03-21T00:00:00\",\"2022-03-22T00:00:00\",\"2022-03-23T00:00:00\",\"2022-03-24T00:00:00\",\"2022-03-25T00:00:00\",\"2022-03-28T00:00:00\",\"2022-03-29T00:00:00\",\"2022-03-30T00:00:00\",\"2022-03-31T00:00:00\",\"2022-04-01T00:00:00\",\"2022-04-04T00:00:00\",\"2022-04-05T00:00:00\",\"2022-04-06T00:00:00\",\"2022-04-07T00:00:00\",\"2022-04-08T00:00:00\",\"2022-04-11T00:00:00\",\"2022-04-12T00:00:00\",\"2022-04-13T00:00:00\",\"2022-04-14T00:00:00\",\"2022-04-18T00:00:00\",\"2022-04-19T00:00:00\",\"2022-04-20T00:00:00\",\"2022-04-21T00:00:00\",\"2022-04-22T00:00:00\",\"2022-04-25T00:00:00\",\"2022-04-26T00:00:00\",\"2022-04-27T00:00:00\",\"2022-04-28T00:00:00\",\"2022-04-29T00:00:00\",\"2022-05-02T00:00:00\",\"2022-05-03T00:00:00\",\"2022-05-04T00:00:00\",\"2022-05-05T00:00:00\",\"2022-05-06T00:00:00\",\"2022-05-09T00:00:00\",\"2022-05-10T00:00:00\",\"2022-05-11T00:00:00\",\"2022-05-12T00:00:00\",\"2022-05-13T00:00:00\",\"2022-05-16T00:00:00\",\"2022-05-17T00:00:00\",\"2022-05-18T00:00:00\",\"2022-05-19T00:00:00\",\"2022-05-20T00:00:00\",\"2022-05-23T00:00:00\",\"2022-05-24T00:00:00\",\"2022-05-25T00:00:00\",\"2022-05-26T00:00:00\",\"2022-05-27T00:00:00\",\"2022-05-31T00:00:00\",\"2022-06-01T00:00:00\",\"2022-06-02T00:00:00\",\"2022-06-03T00:00:00\",\"2022-06-06T00:00:00\",\"2022-06-07T00:00:00\",\"2022-06-08T00:00:00\",\"2022-06-09T00:00:00\",\"2022-06-10T00:00:00\",\"2022-06-13T00:00:00\",\"2022-06-14T00:00:00\",\"2022-06-15T00:00:00\",\"2022-06-16T00:00:00\",\"2022-06-17T00:00:00\",\"2022-06-21T00:00:00\",\"2022-06-22T00:00:00\",\"2022-06-23T00:00:00\",\"2022-06-24T00:00:00\",\"2022-06-27T00:00:00\",\"2022-06-28T00:00:00\",\"2022-06-29T00:00:00\",\"2022-06-30T00:00:00\",\"2022-07-01T00:00:00\",\"2022-07-05T00:00:00\",\"2022-07-06T00:00:00\",\"2022-07-07T00:00:00\",\"2022-07-08T00:00:00\",\"2022-07-11T00:00:00\",\"2022-07-12T00:00:00\",\"2022-07-13T00:00:00\",\"2022-07-14T00:00:00\",\"2022-07-15T00:00:00\",\"2022-07-18T00:00:00\",\"2022-07-19T00:00:00\",\"2022-07-20T00:00:00\",\"2022-07-21T00:00:00\",\"2022-07-22T00:00:00\",\"2022-07-25T00:00:00\",\"2022-07-26T00:00:00\",\"2022-07-27T00:00:00\",\"2022-07-28T00:00:00\",\"2022-07-29T00:00:00\",\"2022-08-01T00:00:00\",\"2022-08-02T00:00:00\",\"2022-08-03T00:00:00\",\"2022-08-04T00:00:00\",\"2022-08-05T00:00:00\",\"2022-08-08T00:00:00\",\"2022-08-09T00:00:00\",\"2022-08-10T00:00:00\",\"2022-08-11T00:00:00\",\"2022-08-12T00:00:00\",\"2022-08-15T00:00:00\",\"2022-08-16T00:00:00\",\"2022-08-17T00:00:00\",\"2022-08-18T00:00:00\",\"2022-08-19T00:00:00\",\"2022-08-22T00:00:00\",\"2022-08-23T00:00:00\",\"2022-08-24T00:00:00\",\"2022-08-25T00:00:00\",\"2022-08-26T00:00:00\",\"2022-08-29T00:00:00\",\"2022-08-30T00:00:00\",\"2022-08-31T00:00:00\",\"2022-09-01T00:00:00\",\"2022-09-02T00:00:00\",\"2022-09-06T00:00:00\",\"2022-09-07T00:00:00\",\"2022-09-08T00:00:00\",\"2022-09-09T00:00:00\",\"2022-09-12T00:00:00\",\"2022-09-13T00:00:00\",\"2022-09-14T00:00:00\",\"2022-09-15T00:00:00\",\"2022-09-16T00:00:00\",\"2022-09-19T00:00:00\",\"2022-09-20T00:00:00\",\"2022-09-21T00:00:00\",\"2022-09-22T00:00:00\",\"2022-09-23T00:00:00\",\"2022-09-26T00:00:00\",\"2022-09-27T00:00:00\",\"2022-09-28T00:00:00\",\"2022-09-29T00:00:00\",\"2022-09-30T00:00:00\"],\"y\":[10000.0,9922.20732952947,9961.155669080928,9965.779367953732,9990.027254495548,10058.74816054463,9983.537656685285,10019.30416359474,10031.589959171717,10030.281264372345,10059.701688190213,10042.18615708557,10025.182339815221,10007.018874839736,9973.921891580234,10012.668354090483,10046.226278052496,10139.562762208134,10196.377665974418,10282.95719169968,10293.078043029589,10363.335334211011,10364.938941969856,10515.43733517681,10385.882130003205,10359.678825721578,10295.414271068463,10185.398897686275,10169.482769045482,10263.355171901401,10379.037074002035,10348.440103756195,10396.405835032507,10400.422115721145,10470.461495002917,10508.067119018393,10524.898473867357,10411.139109060405,10479.263547392315,10497.481336380333,10376.966542886896,10369.634947729095,10448.032456958668,10375.39719924907,10318.426966232668,10350.622713371293,10372.132627137888,10336.198650311111,10410.095993908337,10514.170632332707,10467.186969388986,10478.859000624794,10455.529256351414,10466.67580975953,10427.431346048723,10306.874649216077,10236.889097550711,10200.439860359962,10192.464342609932,10306.29343836404,10220.547258663686,10216.23908244094,10226.476488126664,10357.861727732412,10247.312379536826,10218.49454887428,9981.555232857012,9997.545343714963,10016.680739376463,9991.906011837618,10062.92238044701,10112.591210423298,10165.860461067114,10002.625797121244,10060.32758071206,10035.764615095373,10124.205679090213,10086.602134671033,10127.939334327315,10158.227519764507,10245.936307701017,10196.309740783949,10186.415630212925,10285.914549435503,10184.72570792692,10194.132537910376,10266.167197099043,10228.340539545414,10175.015414015259,10133.195223096429,9935.23937136727,9885.203226473011,9975.448959339505,9966.823307875376,9937.246712589083,9977.263486715105,9936.385441180666,9937.090077078039,10038.737344301991,10037.864890565927,9993.288408174218,9979.17027131135,9908.929399423654,9918.330369885354,9779.421191499976,9736.53617422334,9848.350232073994,9831.14158488821,9808.253735038172,9709.201072935884,9752.128281196488,9685.563181368883,9724.090064755952,9730.196274203117,9855.878883488618,9837.55998099687,9878.223836470934,9872.157265975424,9892.911333684588,9860.364288501576,9950.81077683943,10034.98780661658,10071.768946268243,10052.954653207797,10013.30615888366,10054.51822141851,10072.861607964152,10006.935508796192,10063.482019876945,10076.842385957652,10167.978859281082,10164.979017545498,10222.352557794795,10173.36014096748,10151.535626982219,10136.606675166784,10126.825507325628,10091.490922944206,10011.114206322127,10077.248293742194,10105.222144641672,10149.21815064872,10054.912054052838,10078.692385642255,10008.575761221942,9930.161422499375,9882.241844556564,9875.477124649398,9856.461757422196,9913.942757373421,9934.974276127767,10005.555820912137,10098.473518319195,9952.939094715897,9958.137779582386,9880.24093618631,9860.462138022926,9909.127338627375,9850.951404569994,9808.023247319477,9819.919547877646,9682.347754226783,9617.301689397036,9600.310912801335,9753.132623953246,9702.500249246183,9667.171066978124],\"type\":\"scatter\"},{\"line\":{\"width\":1},\"name\":\"Portfolio6\",\"x\":[\"2022-02-02T00:00:00\",\"2022-02-03T00:00:00\",\"2022-02-04T00:00:00\",\"2022-02-07T00:00:00\",\"2022-02-08T00:00:00\",\"2022-02-09T00:00:00\",\"2022-02-10T00:00:00\",\"2022-02-11T00:00:00\",\"2022-02-14T00:00:00\",\"2022-02-15T00:00:00\",\"2022-02-16T00:00:00\",\"2022-02-17T00:00:00\",\"2022-02-18T00:00:00\",\"2022-02-22T00:00:00\",\"2022-02-23T00:00:00\",\"2022-02-24T00:00:00\",\"2022-02-25T00:00:00\",\"2022-02-28T00:00:00\",\"2022-03-01T00:00:00\",\"2022-03-02T00:00:00\",\"2022-03-03T00:00:00\",\"2022-03-04T00:00:00\",\"2022-03-07T00:00:00\",\"2022-03-08T00:00:00\",\"2022-03-09T00:00:00\",\"2022-03-10T00:00:00\",\"2022-03-11T00:00:00\",\"2022-03-14T00:00:00\",\"2022-03-15T00:00:00\",\"2022-03-16T00:00:00\",\"2022-03-17T00:00:00\",\"2022-03-18T00:00:00\",\"2022-03-21T00:00:00\",\"2022-03-22T00:00:00\",\"2022-03-23T00:00:00\",\"2022-03-24T00:00:00\",\"2022-03-25T00:00:00\",\"2022-03-28T00:00:00\",\"2022-03-29T00:00:00\",\"2022-03-30T00:00:00\",\"2022-03-31T00:00:00\",\"2022-04-01T00:00:00\",\"2022-04-04T00:00:00\",\"2022-04-05T00:00:00\",\"2022-04-06T00:00:00\",\"2022-04-07T00:00:00\",\"2022-04-08T00:00:00\",\"2022-04-11T00:00:00\",\"2022-04-12T00:00:00\",\"2022-04-13T00:00:00\",\"2022-04-14T00:00:00\",\"2022-04-18T00:00:00\",\"2022-04-19T00:00:00\",\"2022-04-20T00:00:00\",\"2022-04-21T00:00:00\",\"2022-04-22T00:00:00\",\"2022-04-25T00:00:00\",\"2022-04-26T00:00:00\",\"2022-04-27T00:00:00\",\"2022-04-28T00:00:00\",\"2022-04-29T00:00:00\",\"2022-05-02T00:00:00\",\"2022-05-03T00:00:00\",\"2022-05-04T00:00:00\",\"2022-05-05T00:00:00\",\"2022-05-06T00:00:00\",\"2022-05-09T00:00:00\",\"2022-05-10T00:00:00\",\"2022-05-11T00:00:00\",\"2022-05-12T00:00:00\",\"2022-05-13T00:00:00\",\"2022-05-16T00:00:00\",\"2022-05-17T00:00:00\",\"2022-05-18T00:00:00\",\"2022-05-19T00:00:00\",\"2022-05-20T00:00:00\",\"2022-05-23T00:00:00\",\"2022-05-24T00:00:00\",\"2022-05-25T00:00:00\",\"2022-05-26T00:00:00\",\"2022-05-27T00:00:00\",\"2022-05-31T00:00:00\",\"2022-06-01T00:00:00\",\"2022-06-02T00:00:00\",\"2022-06-03T00:00:00\",\"2022-06-06T00:00:00\",\"2022-06-07T00:00:00\",\"2022-06-08T00:00:00\",\"2022-06-09T00:00:00\",\"2022-06-10T00:00:00\",\"2022-06-13T00:00:00\",\"2022-06-14T00:00:00\",\"2022-06-15T00:00:00\",\"2022-06-16T00:00:00\",\"2022-06-17T00:00:00\",\"2022-06-21T00:00:00\",\"2022-06-22T00:00:00\",\"2022-06-23T00:00:00\",\"2022-06-24T00:00:00\",\"2022-06-27T00:00:00\",\"2022-06-28T00:00:00\",\"2022-06-29T00:00:00\",\"2022-06-30T00:00:00\",\"2022-07-01T00:00:00\",\"2022-07-05T00:00:00\",\"2022-07-06T00:00:00\",\"2022-07-07T00:00:00\",\"2022-07-08T00:00:00\",\"2022-07-11T00:00:00\",\"2022-07-12T00:00:00\",\"2022-07-13T00:00:00\",\"2022-07-14T00:00:00\",\"2022-07-15T00:00:00\",\"2022-07-18T00:00:00\",\"2022-07-19T00:00:00\",\"2022-07-20T00:00:00\",\"2022-07-21T00:00:00\",\"2022-07-22T00:00:00\",\"2022-07-25T00:00:00\",\"2022-07-26T00:00:00\",\"2022-07-27T00:00:00\",\"2022-07-28T00:00:00\",\"2022-07-29T00:00:00\",\"2022-08-01T00:00:00\",\"2022-08-02T00:00:00\",\"2022-08-03T00:00:00\",\"2022-08-04T00:00:00\",\"2022-08-05T00:00:00\",\"2022-08-08T00:00:00\",\"2022-08-09T00:00:00\",\"2022-08-10T00:00:00\",\"2022-08-11T00:00:00\",\"2022-08-12T00:00:00\",\"2022-08-15T00:00:00\",\"2022-08-16T00:00:00\",\"2022-08-17T00:00:00\",\"2022-08-18T00:00:00\",\"2022-08-19T00:00:00\",\"2022-08-22T00:00:00\",\"2022-08-23T00:00:00\",\"2022-08-24T00:00:00\",\"2022-08-25T00:00:00\",\"2022-08-26T00:00:00\",\"2022-08-29T00:00:00\",\"2022-08-30T00:00:00\",\"2022-08-31T00:00:00\",\"2022-09-01T00:00:00\",\"2022-09-02T00:00:00\",\"2022-09-06T00:00:00\",\"2022-09-07T00:00:00\",\"2022-09-08T00:00:00\",\"2022-09-09T00:00:00\",\"2022-09-12T00:00:00\",\"2022-09-13T00:00:00\",\"2022-09-14T00:00:00\",\"2022-09-15T00:00:00\",\"2022-09-16T00:00:00\",\"2022-09-19T00:00:00\",\"2022-09-20T00:00:00\",\"2022-09-21T00:00:00\",\"2022-09-22T00:00:00\",\"2022-09-23T00:00:00\",\"2022-09-26T00:00:00\",\"2022-09-27T00:00:00\",\"2022-09-28T00:00:00\",\"2022-09-29T00:00:00\",\"2022-09-30T00:00:00\"],\"y\":[10000.0,10019.998433806873,9999.53468973517,10025.613444323457,10056.722862857923,10078.855923188312,10010.920751005839,10061.094664264623,10040.2096028276,10050.439817126015,10110.001113472721,10167.835295838038,10175.784124171723,10153.055141846802,10186.264973086949,10098.296295240616,10113.973058047311,10237.303982390144,10328.252602365816,10314.171570952638,10294.885434544887,10312.833047395958,10356.650846125869,10543.844090603092,10369.077783890993,10355.970358054306,10327.20771324138,10271.51308849118,10213.400558612577,10230.10614055386,10272.835323832029,10255.525990496064,10280.423503814382,10231.11025423582,10326.065305715998,10331.196580227657,10304.401902627647,10237.954058792528,10239.141867175036,10266.295041346873,10276.580837659316,10212.880830911961,10201.626185652422,10109.968878409465,10108.624474863167,10110.179241776439,10110.560837247554,10178.453101888426,10207.439648156382,10196.38495466821,10180.303082315888,10219.45373438518,10144.65282636134,10198.486017450026,10172.370915539394,10069.570120636276,10012.281225642884,9992.727655789646,9990.866060880877,10060.348420778015,10023.328531943385,9872.802243683102,9891.135693030685,9915.909087705437,9813.734460440617,9806.34212114183,9694.109684898656,9709.057823930936,9769.219942458063,9726.48824346168,9721.041818961916,9718.263186664773,9731.354846590633,9765.066303170594,9758.974002234594,9775.431175758798,9775.009704047381,9848.180738236553,9864.225725590471,9889.258605157327,9871.915257355606,9825.665141750786,9747.542772946364,9806.348606693908,9787.846656336113,9717.844026342138,9647.656814203594,9623.461919329076,9560.993136234873,9598.832175742395,9436.682201521928,9309.114227808299,9418.363595923223,9375.42196565774,9316.096244462844,9349.587884845536,9421.232837172161,9431.301407762803,9381.988503849365,9304.644110364066,9257.520219677479,9243.616454141558,9265.385727708157,9242.50497018581,9206.389815539347,9141.366034139706,9126.752692164744,9099.91641906157,9098.925356428834,9078.402711477896,9120.42357077739,9114.600239707766,9121.642951989152,9138.160245375067,9167.405579890737,9115.771854887655,9193.50110564944,9239.13221140794,9226.71907794369,9244.650367102902,9317.071642281253,9391.948562769538,9403.956471007235,9416.723219853342,9370.816002059915,9415.72929657807,9474.10405143767,9413.959613401406,9440.01079444218,9488.9028809702,9479.224065216626,9465.401719473935,9490.786045763158,9433.333103233485,9411.140972467127,9345.745729176408,9323.205848441376,9306.165672361312,9310.664799930617,9343.568511668138,9292.978447776874,9340.023566097356,9317.426395203496,9244.411617370244,9203.976043223924,9143.458910963054,9057.556054693294,9067.607044287828,9027.132796795384,9145.64615858424,9066.210427383143,9074.39417785016,9060.87047124516,8978.28985316955,8986.963978548345,8887.31679195708,8875.799642721697,8817.458892374374,8717.753680457896,8741.774305364994,8644.846734644188,8578.063828368446,8476.06030855301,8466.85903667871,8584.063350327482,8541.582131885054,8521.696791272343],\"type\":\"scatter\"},{\"line\":{\"width\":1},\"name\":\"Benchmark\",\"x\":[\"2022-02-02T00:00:00\",\"2022-02-03T00:00:00\",\"2022-02-04T00:00:00\",\"2022-02-07T00:00:00\",\"2022-02-08T00:00:00\",\"2022-02-09T00:00:00\",\"2022-02-10T00:00:00\",\"2022-02-11T00:00:00\",\"2022-02-14T00:00:00\",\"2022-02-15T00:00:00\",\"2022-02-16T00:00:00\",\"2022-02-17T00:00:00\",\"2022-02-18T00:00:00\",\"2022-02-22T00:00:00\",\"2022-02-23T00:00:00\",\"2022-02-24T00:00:00\",\"2022-02-25T00:00:00\",\"2022-02-28T00:00:00\",\"2022-03-01T00:00:00\",\"2022-03-02T00:00:00\",\"2022-03-03T00:00:00\",\"2022-03-04T00:00:00\",\"2022-03-07T00:00:00\",\"2022-03-08T00:00:00\",\"2022-03-09T00:00:00\",\"2022-03-10T00:00:00\",\"2022-03-11T00:00:00\",\"2022-03-14T00:00:00\",\"2022-03-15T00:00:00\",\"2022-03-16T00:00:00\",\"2022-03-17T00:00:00\",\"2022-03-18T00:00:00\",\"2022-03-21T00:00:00\",\"2022-03-22T00:00:00\",\"2022-03-23T00:00:00\",\"2022-03-24T00:00:00\",\"2022-03-25T00:00:00\",\"2022-03-28T00:00:00\",\"2022-03-29T00:00:00\",\"2022-03-30T00:00:00\",\"2022-03-31T00:00:00\",\"2022-04-01T00:00:00\",\"2022-04-04T00:00:00\",\"2022-04-05T00:00:00\",\"2022-04-06T00:00:00\",\"2022-04-07T00:00:00\",\"2022-04-08T00:00:00\",\"2022-04-11T00:00:00\",\"2022-04-12T00:00:00\",\"2022-04-13T00:00:00\",\"2022-04-14T00:00:00\",\"2022-04-18T00:00:00\",\"2022-04-19T00:00:00\",\"2022-04-20T00:00:00\",\"2022-04-21T00:00:00\",\"2022-04-22T00:00:00\",\"2022-04-25T00:00:00\",\"2022-04-26T00:00:00\",\"2022-04-27T00:00:00\",\"2022-04-28T00:00:00\",\"2022-04-29T00:00:00\",\"2022-05-02T00:00:00\",\"2022-05-03T00:00:00\",\"2022-05-04T00:00:00\",\"2022-05-05T00:00:00\",\"2022-05-06T00:00:00\",\"2022-05-09T00:00:00\",\"2022-05-10T00:00:00\",\"2022-05-11T00:00:00\",\"2022-05-12T00:00:00\",\"2022-05-13T00:00:00\",\"2022-05-16T00:00:00\",\"2022-05-17T00:00:00\",\"2022-05-18T00:00:00\",\"2022-05-19T00:00:00\",\"2022-05-20T00:00:00\",\"2022-05-23T00:00:00\",\"2022-05-24T00:00:00\",\"2022-05-25T00:00:00\",\"2022-05-26T00:00:00\",\"2022-05-27T00:00:00\",\"2022-05-31T00:00:00\",\"2022-06-01T00:00:00\",\"2022-06-02T00:00:00\",\"2022-06-03T00:00:00\",\"2022-06-06T00:00:00\",\"2022-06-07T00:00:00\",\"2022-06-08T00:00:00\",\"2022-06-09T00:00:00\",\"2022-06-10T00:00:00\",\"2022-06-13T00:00:00\",\"2022-06-14T00:00:00\",\"2022-06-15T00:00:00\",\"2022-06-16T00:00:00\",\"2022-06-17T00:00:00\",\"2022-06-21T00:00:00\",\"2022-06-22T00:00:00\",\"2022-06-23T00:00:00\",\"2022-06-24T00:00:00\",\"2022-06-27T00:00:00\",\"2022-06-28T00:00:00\",\"2022-06-29T00:00:00\",\"2022-06-30T00:00:00\",\"2022-07-01T00:00:00\",\"2022-07-05T00:00:00\",\"2022-07-06T00:00:00\",\"2022-07-07T00:00:00\",\"2022-07-08T00:00:00\",\"2022-07-11T00:00:00\",\"2022-07-12T00:00:00\",\"2022-07-13T00:00:00\",\"2022-07-14T00:00:00\",\"2022-07-15T00:00:00\",\"2022-07-18T00:00:00\",\"2022-07-19T00:00:00\",\"2022-07-20T00:00:00\",\"2022-07-21T00:00:00\",\"2022-07-22T00:00:00\",\"2022-07-25T00:00:00\",\"2022-07-26T00:00:00\",\"2022-07-27T00:00:00\",\"2022-07-28T00:00:00\",\"2022-07-29T00:00:00\",\"2022-08-01T00:00:00\",\"2022-08-02T00:00:00\",\"2022-08-03T00:00:00\",\"2022-08-04T00:00:00\",\"2022-08-05T00:00:00\",\"2022-08-08T00:00:00\",\"2022-08-09T00:00:00\",\"2022-08-10T00:00:00\",\"2022-08-11T00:00:00\",\"2022-08-12T00:00:00\",\"2022-08-15T00:00:00\",\"2022-08-16T00:00:00\",\"2022-08-17T00:00:00\",\"2022-08-18T00:00:00\",\"2022-08-19T00:00:00\",\"2022-08-22T00:00:00\",\"2022-08-23T00:00:00\",\"2022-08-24T00:00:00\",\"2022-08-25T00:00:00\",\"2022-08-26T00:00:00\",\"2022-08-29T00:00:00\",\"2022-08-30T00:00:00\",\"2022-08-31T00:00:00\",\"2022-09-01T00:00:00\",\"2022-09-02T00:00:00\",\"2022-09-06T00:00:00\",\"2022-09-07T00:00:00\",\"2022-09-08T00:00:00\",\"2022-09-09T00:00:00\",\"2022-09-12T00:00:00\",\"2022-09-13T00:00:00\",\"2022-09-14T00:00:00\",\"2022-09-15T00:00:00\",\"2022-09-16T00:00:00\",\"2022-09-19T00:00:00\",\"2022-09-20T00:00:00\",\"2022-09-21T00:00:00\",\"2022-09-22T00:00:00\",\"2022-09-23T00:00:00\",\"2022-09-26T00:00:00\",\"2022-09-27T00:00:00\",\"2022-09-28T00:00:00\",\"2022-09-29T00:00:00\",\"2022-09-30T00:00:00\"],\"y\":[10000.0,9762.22555322147,9826.994319724325,9802.216779334964,9892.197535551386,10053.03200193519,9882.63434416757,9690.93673044847,9655.291987421264,9826.994319724323,9836.12239850252,9612.692738799713,9535.752758404984,9426.211833378136,9252.771040496844,9414.909518134675,9624.429503367377,9613.996750053739,9464.02948630778,9643.555886135007,9570.093490178158,9474.462239621416,9182.351779653665,9130.623788972503,9384.047034080786,9341.88223478344,9214.953387567195,9124.10306942095,9314.496671886021,9547.489522972644,9675.28793211871,9788.306441583436,9779.178362805238,9899.152041145724,9733.970428394217,9872.63604017813,9914.800839475476,9979.135156654127,10130.406431654115,10048.250406243273,9896.544018637667,9936.100795426957,10020.43039402165,9873.940051432159,9760.486429361816,9797.435183643049,9767.007148913368,9614.431199377941,9584.872726578084,9710.4975625403,9592.26234477805,9575.743984518476,9744.40318170786,9731.797518491781,9572.701512686212,9311.888649377965,9362.747078129303,9095.848607875121,9113.670979388724,9335.796627837504,8992.827739118417,9060.638977453536,9103.672675399295,9370.571808934888,9024.99423442633,8952.401400399303,8635.078950717987,8652.466872907384,8495.97888960987,8505.10763166948,8732.883774458578,8689.850076512821,8875.461420004574,8528.146048199194,8490.32839526955,8490.32839526955,8635.514063323602,8549.010891545058,8644.207692777594,8821.125406815356,9044.555729799577,8970.223771912906,8911.10616303178,9092.805472761447,8947.619804707396,8974.13580567499,9071.506180091377,8969.7893225887,8755.053292339884,8495.10932768005,8148.228405198875,8125.18998866916,8243.425206431411,7955.661892831364,7985.655478236838,8179.091552534172,8177.787541280143,8219.082778647668,8484.677237647822,8458.595686004433,8284.285994474729,8270.375656723212,8199.086833950214,8285.590005728758,8315.148478528616,8331.666838788191,8469.028439318074,8460.334809864082,8353.40124406388,8281.242859361058,8245.163667009649,8208.650025334033,8368.180480463809,8310.36688283671,8542.490835274923,8611.60608486407,8696.805245388585,8602.477342804461,8614.214107372129,8507.715654177544,8731.145313880354,8845.033385274903,8965.442176221006,8944.57733287514,8896.326926631858,9039.33902150206,9030.645392048069,9027.602256934397,9035.861437064184,8978.917401366909,9183.655790907706,9184.090240231912,9343.186246037481,9379.699887713097,9399.69583241055,9315.36623381586,9339.708661599603,9206.259094831807,9009.345436096593,8992.392626512814,9030.21094272387,9161.0518237022,8857.639711772401,8792.870945269544,8695.066121528951,8631.166916955917,8636.38296197203,8550.750015404721,8515.974834307339,8673.331716253262,8742.012516518203,8887.198184572255,8982.829435128995,8596.826848464148,8630.297355026092,8538.14368890723,8460.33480986409,8520.32131739363,8421.212482399009,8277.330825598985,8184.742046874506,8009.562793414979,7921.756273663818,7910.019509096152,8076.505133101686,7908.715497842123,7801.347482717715],\"type\":\"scatter\"}],                        {\"template\":{\"data\":{\"histogram2dcontour\":[{\"type\":\"histogram2dcontour\",\"colorbar\":{\"outlinewidth\":0,\"ticks\":\"\"},\"colorscale\":[[0.0,\"#0d0887\"],[0.1111111111111111,\"#46039f\"],[0.2222222222222222,\"#7201a8\"],[0.3333333333333333,\"#9c179e\"],[0.4444444444444444,\"#bd3786\"],[0.5555555555555556,\"#d8576b\"],[0.6666666666666666,\"#ed7953\"],[0.7777777777777778,\"#fb9f3a\"],[0.8888888888888888,\"#fdca26\"],[1.0,\"#f0f921\"]]}],\"choropleth\":[{\"type\":\"choropleth\",\"colorbar\":{\"outlinewidth\":0,\"ticks\":\"\"}}],\"histogram2d\":[{\"type\":\"histogram2d\",\"colorbar\":{\"outlinewidth\":0,\"ticks\":\"\"},\"colorscale\":[[0.0,\"#0d0887\"],[0.1111111111111111,\"#46039f\"],[0.2222222222222222,\"#7201a8\"],[0.3333333333333333,\"#9c179e\"],[0.4444444444444444,\"#bd3786\"],[0.5555555555555556,\"#d8576b\"],[0.6666666666666666,\"#ed7953\"],[0.7777777777777778,\"#fb9f3a\"],[0.8888888888888888,\"#fdca26\"],[1.0,\"#f0f921\"]]}],\"heatmap\":[{\"type\":\"heatmap\",\"colorbar\":{\"outlinewidth\":0,\"ticks\":\"\"},\"colorscale\":[[0.0,\"#0d0887\"],[0.1111111111111111,\"#46039f\"],[0.2222222222222222,\"#7201a8\"],[0.3333333333333333,\"#9c179e\"],[0.4444444444444444,\"#bd3786\"],[0.5555555555555556,\"#d8576b\"],[0.6666666666666666,\"#ed7953\"],[0.7777777777777778,\"#fb9f3a\"],[0.8888888888888888,\"#fdca26\"],[1.0,\"#f0f921\"]]}],\"heatmapgl\":[{\"type\":\"heatmapgl\",\"colorbar\":{\"outlinewidth\":0,\"ticks\":\"\"},\"colorscale\":[[0.0,\"#0d0887\"],[0.1111111111111111,\"#46039f\"],[0.2222222222222222,\"#7201a8\"],[0.3333333333333333,\"#9c179e\"],[0.4444444444444444,\"#bd3786\"],[0.5555555555555556,\"#d8576b\"],[0.6666666666666666,\"#ed7953\"],[0.7777777777777778,\"#fb9f3a\"],[0.8888888888888888,\"#fdca26\"],[1.0,\"#f0f921\"]]}],\"contourcarpet\":[{\"type\":\"contourcarpet\",\"colorbar\":{\"outlinewidth\":0,\"ticks\":\"\"}}],\"contour\":[{\"type\":\"contour\",\"colorbar\":{\"outlinewidth\":0,\"ticks\":\"\"},\"colorscale\":[[0.0,\"#0d0887\"],[0.1111111111111111,\"#46039f\"],[0.2222222222222222,\"#7201a8\"],[0.3333333333333333,\"#9c179e\"],[0.4444444444444444,\"#bd3786\"],[0.5555555555555556,\"#d8576b\"],[0.6666666666666666,\"#ed7953\"],[0.7777777777777778,\"#fb9f3a\"],[0.8888888888888888,\"#fdca26\"],[1.0,\"#f0f921\"]]}],\"surface\":[{\"type\":\"surface\",\"colorbar\":{\"outlinewidth\":0,\"ticks\":\"\"},\"colorscale\":[[0.0,\"#0d0887\"],[0.1111111111111111,\"#46039f\"],[0.2222222222222222,\"#7201a8\"],[0.3333333333333333,\"#9c179e\"],[0.4444444444444444,\"#bd3786\"],[0.5555555555555556,\"#d8576b\"],[0.6666666666666666,\"#ed7953\"],[0.7777777777777778,\"#fb9f3a\"],[0.8888888888888888,\"#fdca26\"],[1.0,\"#f0f921\"]]}],\"mesh3d\":[{\"type\":\"mesh3d\",\"colorbar\":{\"outlinewidth\":0,\"ticks\":\"\"}}],\"scatter\":[{\"fillpattern\":{\"fillmode\":\"overlay\",\"size\":10,\"solidity\":0.2},\"type\":\"scatter\"}],\"parcoords\":[{\"type\":\"parcoords\",\"line\":{\"colorbar\":{\"outlinewidth\":0,\"ticks\":\"\"}}}],\"scatterpolargl\":[{\"type\":\"scatterpolargl\",\"marker\":{\"colorbar\":{\"outlinewidth\":0,\"ticks\":\"\"}}}],\"bar\":[{\"error_x\":{\"color\":\"#2a3f5f\"},\"error_y\":{\"color\":\"#2a3f5f\"},\"marker\":{\"line\":{\"color\":\"#E5ECF6\",\"width\":0.5},\"pattern\":{\"fillmode\":\"overlay\",\"size\":10,\"solidity\":0.2}},\"type\":\"bar\"}],\"scattergeo\":[{\"type\":\"scattergeo\",\"marker\":{\"colorbar\":{\"outlinewidth\":0,\"ticks\":\"\"}}}],\"scatterpolar\":[{\"type\":\"scatterpolar\",\"marker\":{\"colorbar\":{\"outlinewidth\":0,\"ticks\":\"\"}}}],\"histogram\":[{\"marker\":{\"pattern\":{\"fillmode\":\"overlay\",\"size\":10,\"solidity\":0.2}},\"type\":\"histogram\"}],\"scattergl\":[{\"type\":\"scattergl\",\"marker\":{\"colorbar\":{\"outlinewidth\":0,\"ticks\":\"\"}}}],\"scatter3d\":[{\"type\":\"scatter3d\",\"line\":{\"colorbar\":{\"outlinewidth\":0,\"ticks\":\"\"}},\"marker\":{\"colorbar\":{\"outlinewidth\":0,\"ticks\":\"\"}}}],\"scattermapbox\":[{\"type\":\"scattermapbox\",\"marker\":{\"colorbar\":{\"outlinewidth\":0,\"ticks\":\"\"}}}],\"scatterternary\":[{\"type\":\"scatterternary\",\"marker\":{\"colorbar\":{\"outlinewidth\":0,\"ticks\":\"\"}}}],\"scattercarpet\":[{\"type\":\"scattercarpet\",\"marker\":{\"colorbar\":{\"outlinewidth\":0,\"ticks\":\"\"}}}],\"carpet\":[{\"aaxis\":{\"endlinecolor\":\"#2a3f5f\",\"gridcolor\":\"white\",\"linecolor\":\"white\",\"minorgridcolor\":\"white\",\"startlinecolor\":\"#2a3f5f\"},\"baxis\":{\"endlinecolor\":\"#2a3f5f\",\"gridcolor\":\"white\",\"linecolor\":\"white\",\"minorgridcolor\":\"white\",\"startlinecolor\":\"#2a3f5f\"},\"type\":\"carpet\"}],\"table\":[{\"cells\":{\"fill\":{\"color\":\"#EBF0F8\"},\"line\":{\"color\":\"white\"}},\"header\":{\"fill\":{\"color\":\"#C8D4E3\"},\"line\":{\"color\":\"white\"}},\"type\":\"table\"}],\"barpolar\":[{\"marker\":{\"line\":{\"color\":\"#E5ECF6\",\"width\":0.5},\"pattern\":{\"fillmode\":\"overlay\",\"size\":10,\"solidity\":0.2}},\"type\":\"barpolar\"}],\"pie\":[{\"automargin\":true,\"type\":\"pie\"}]},\"layout\":{\"autotypenumbers\":\"strict\",\"colorway\":[\"#636efa\",\"#EF553B\",\"#00cc96\",\"#ab63fa\",\"#FFA15A\",\"#19d3f3\",\"#FF6692\",\"#B6E880\",\"#FF97FF\",\"#FECB52\"],\"font\":{\"color\":\"#2a3f5f\"},\"hovermode\":\"closest\",\"hoverlabel\":{\"align\":\"left\"},\"paper_bgcolor\":\"white\",\"plot_bgcolor\":\"#E5ECF6\",\"polar\":{\"bgcolor\":\"#E5ECF6\",\"angularaxis\":{\"gridcolor\":\"white\",\"linecolor\":\"white\",\"ticks\":\"\"},\"radialaxis\":{\"gridcolor\":\"white\",\"linecolor\":\"white\",\"ticks\":\"\"}},\"ternary\":{\"bgcolor\":\"#E5ECF6\",\"aaxis\":{\"gridcolor\":\"white\",\"linecolor\":\"white\",\"ticks\":\"\"},\"baxis\":{\"gridcolor\":\"white\",\"linecolor\":\"white\",\"ticks\":\"\"},\"caxis\":{\"gridcolor\":\"white\",\"linecolor\":\"white\",\"ticks\":\"\"}},\"coloraxis\":{\"colorbar\":{\"outlinewidth\":0,\"ticks\":\"\"}},\"colorscale\":{\"sequential\":[[0.0,\"#0d0887\"],[0.1111111111111111,\"#46039f\"],[0.2222222222222222,\"#7201a8\"],[0.3333333333333333,\"#9c179e\"],[0.4444444444444444,\"#bd3786\"],[0.5555555555555556,\"#d8576b\"],[0.6666666666666666,\"#ed7953\"],[0.7777777777777778,\"#fb9f3a\"],[0.8888888888888888,\"#fdca26\"],[1.0,\"#f0f921\"]],\"sequentialminus\":[[0.0,\"#0d0887\"],[0.1111111111111111,\"#46039f\"],[0.2222222222222222,\"#7201a8\"],[0.3333333333333333,\"#9c179e\"],[0.4444444444444444,\"#bd3786\"],[0.5555555555555556,\"#d8576b\"],[0.6666666666666666,\"#ed7953\"],[0.7777777777777778,\"#fb9f3a\"],[0.8888888888888888,\"#fdca26\"],[1.0,\"#f0f921\"]],\"diverging\":[[0,\"#8e0152\"],[0.1,\"#c51b7d\"],[0.2,\"#de77ae\"],[0.3,\"#f1b6da\"],[0.4,\"#fde0ef\"],[0.5,\"#f7f7f7\"],[0.6,\"#e6f5d0\"],[0.7,\"#b8e186\"],[0.8,\"#7fbc41\"],[0.9,\"#4d9221\"],[1,\"#276419\"]]},\"xaxis\":{\"gridcolor\":\"white\",\"linecolor\":\"white\",\"ticks\":\"\",\"title\":{\"standoff\":15},\"zerolinecolor\":\"white\",\"automargin\":true,\"zerolinewidth\":2},\"yaxis\":{\"gridcolor\":\"white\",\"linecolor\":\"white\",\"ticks\":\"\",\"title\":{\"standoff\":15},\"zerolinecolor\":\"white\",\"automargin\":true,\"zerolinewidth\":2},\"scene\":{\"xaxis\":{\"backgroundcolor\":\"#E5ECF6\",\"gridcolor\":\"white\",\"linecolor\":\"white\",\"showbackground\":true,\"ticks\":\"\",\"zerolinecolor\":\"white\",\"gridwidth\":2},\"yaxis\":{\"backgroundcolor\":\"#E5ECF6\",\"gridcolor\":\"white\",\"linecolor\":\"white\",\"showbackground\":true,\"ticks\":\"\",\"zerolinecolor\":\"white\",\"gridwidth\":2},\"zaxis\":{\"backgroundcolor\":\"#E5ECF6\",\"gridcolor\":\"white\",\"linecolor\":\"white\",\"showbackground\":true,\"ticks\":\"\",\"zerolinecolor\":\"white\",\"gridwidth\":2}},\"shapedefaults\":{\"line\":{\"color\":\"#2a3f5f\"}},\"annotationdefaults\":{\"arrowcolor\":\"#2a3f5f\",\"arrowhead\":0,\"arrowwidth\":1},\"geo\":{\"bgcolor\":\"white\",\"landcolor\":\"#E5ECF6\",\"subunitcolor\":\"white\",\"showland\":true,\"showlakes\":true,\"lakecolor\":\"white\"},\"title\":{\"x\":0.05},\"mapbox\":{\"style\":\"light\"}}},\"title\":{\"text\":\"\\ud3c9\\uac00\\uc561 \\ube44\\uad50(\\ub85c\\uadf8)\",\"x\":0.5,\"xanchor\":\"center\",\"yanchor\":\"top\"},\"yaxis\":{\"type\":\"log\",\"autorange\":true}},                        {\"responsive\": true}                    ).then(function(){\n",
       "                            \n",
       "var gd = document.getElementById('940a3d6d-6362-46b4-bb96-4a9a51e3a8c1');\n",
       "var x = new MutationObserver(function (mutations, observer) {{\n",
       "        var display = window.getComputedStyle(gd).display;\n",
       "        if (!display || display === 'none') {{\n",
       "            console.log([gd, 'removed!']);\n",
       "            Plotly.purge(gd);\n",
       "            observer.disconnect();\n",
       "        }}\n",
       "}});\n",
       "\n",
       "// Listen for the removal of the full notebook cells\n",
       "var notebookContainer = gd.closest('#notebook-container');\n",
       "if (notebookContainer) {{\n",
       "    x.observe(notebookContainer, {childList: true});\n",
       "}}\n",
       "\n",
       "// Listen for the clearing of the current output cell\n",
       "var outputEl = gd.closest('.output');\n",
       "if (outputEl) {{\n",
       "    x.observe(outputEl, {childList: true});\n",
       "}}\n",
       "\n",
       "                        })                };                });            </script>        </div>"
      ]
     },
     "metadata": {},
     "output_type": "display_data"
    },
    {
     "data": {
      "application/vnd.plotly.v1+json": {
       "config": {
        "plotlyServerURL": "https://plot.ly"
       },
       "data": [
        {
         "name": "Portfolio1",
         "type": "bar",
         "x": [
          2022
         ],
         "y": [
          -18.584732870664645
         ]
        },
        {
         "name": "Portfolio2",
         "type": "bar",
         "x": [
          2022
         ],
         "y": [
          -13.998650577635397
         ]
        },
        {
         "name": "Portfolio3",
         "type": "bar",
         "x": [
          2022
         ],
         "y": [
          -15.281100144326576
         ]
        },
        {
         "name": "Portfolio4",
         "type": "bar",
         "x": [
          2022
         ],
         "y": [
          -16.374543073151273
         ]
        },
        {
         "name": "Portfolio5",
         "type": "bar",
         "x": [
          2022
         ],
         "y": [
          -3.328289330218759
         ]
        },
        {
         "name": "Portfolio6",
         "type": "bar",
         "x": [
          2022
         ],
         "y": [
          -14.78303208727657
         ]
        },
        {
         "name": "Benchmark",
         "type": "bar",
         "x": [
          2022
         ],
         "y": [
          -21.986525172822844
         ]
        }
       ],
       "layout": {
        "template": {
         "data": {
          "bar": [
           {
            "error_x": {
             "color": "#2a3f5f"
            },
            "error_y": {
             "color": "#2a3f5f"
            },
            "marker": {
             "line": {
              "color": "#E5ECF6",
              "width": 0.5
             },
             "pattern": {
              "fillmode": "overlay",
              "size": 10,
              "solidity": 0.2
             }
            },
            "type": "bar"
           }
          ],
          "barpolar": [
           {
            "marker": {
             "line": {
              "color": "#E5ECF6",
              "width": 0.5
             },
             "pattern": {
              "fillmode": "overlay",
              "size": 10,
              "solidity": 0.2
             }
            },
            "type": "barpolar"
           }
          ],
          "carpet": [
           {
            "aaxis": {
             "endlinecolor": "#2a3f5f",
             "gridcolor": "white",
             "linecolor": "white",
             "minorgridcolor": "white",
             "startlinecolor": "#2a3f5f"
            },
            "baxis": {
             "endlinecolor": "#2a3f5f",
             "gridcolor": "white",
             "linecolor": "white",
             "minorgridcolor": "white",
             "startlinecolor": "#2a3f5f"
            },
            "type": "carpet"
           }
          ],
          "choropleth": [
           {
            "colorbar": {
             "outlinewidth": 0,
             "ticks": ""
            },
            "type": "choropleth"
           }
          ],
          "contour": [
           {
            "colorbar": {
             "outlinewidth": 0,
             "ticks": ""
            },
            "colorscale": [
             [
              0,
              "#0d0887"
             ],
             [
              0.1111111111111111,
              "#46039f"
             ],
             [
              0.2222222222222222,
              "#7201a8"
             ],
             [
              0.3333333333333333,
              "#9c179e"
             ],
             [
              0.4444444444444444,
              "#bd3786"
             ],
             [
              0.5555555555555556,
              "#d8576b"
             ],
             [
              0.6666666666666666,
              "#ed7953"
             ],
             [
              0.7777777777777778,
              "#fb9f3a"
             ],
             [
              0.8888888888888888,
              "#fdca26"
             ],
             [
              1,
              "#f0f921"
             ]
            ],
            "type": "contour"
           }
          ],
          "contourcarpet": [
           {
            "colorbar": {
             "outlinewidth": 0,
             "ticks": ""
            },
            "type": "contourcarpet"
           }
          ],
          "heatmap": [
           {
            "colorbar": {
             "outlinewidth": 0,
             "ticks": ""
            },
            "colorscale": [
             [
              0,
              "#0d0887"
             ],
             [
              0.1111111111111111,
              "#46039f"
             ],
             [
              0.2222222222222222,
              "#7201a8"
             ],
             [
              0.3333333333333333,
              "#9c179e"
             ],
             [
              0.4444444444444444,
              "#bd3786"
             ],
             [
              0.5555555555555556,
              "#d8576b"
             ],
             [
              0.6666666666666666,
              "#ed7953"
             ],
             [
              0.7777777777777778,
              "#fb9f3a"
             ],
             [
              0.8888888888888888,
              "#fdca26"
             ],
             [
              1,
              "#f0f921"
             ]
            ],
            "type": "heatmap"
           }
          ],
          "heatmapgl": [
           {
            "colorbar": {
             "outlinewidth": 0,
             "ticks": ""
            },
            "colorscale": [
             [
              0,
              "#0d0887"
             ],
             [
              0.1111111111111111,
              "#46039f"
             ],
             [
              0.2222222222222222,
              "#7201a8"
             ],
             [
              0.3333333333333333,
              "#9c179e"
             ],
             [
              0.4444444444444444,
              "#bd3786"
             ],
             [
              0.5555555555555556,
              "#d8576b"
             ],
             [
              0.6666666666666666,
              "#ed7953"
             ],
             [
              0.7777777777777778,
              "#fb9f3a"
             ],
             [
              0.8888888888888888,
              "#fdca26"
             ],
             [
              1,
              "#f0f921"
             ]
            ],
            "type": "heatmapgl"
           }
          ],
          "histogram": [
           {
            "marker": {
             "pattern": {
              "fillmode": "overlay",
              "size": 10,
              "solidity": 0.2
             }
            },
            "type": "histogram"
           }
          ],
          "histogram2d": [
           {
            "colorbar": {
             "outlinewidth": 0,
             "ticks": ""
            },
            "colorscale": [
             [
              0,
              "#0d0887"
             ],
             [
              0.1111111111111111,
              "#46039f"
             ],
             [
              0.2222222222222222,
              "#7201a8"
             ],
             [
              0.3333333333333333,
              "#9c179e"
             ],
             [
              0.4444444444444444,
              "#bd3786"
             ],
             [
              0.5555555555555556,
              "#d8576b"
             ],
             [
              0.6666666666666666,
              "#ed7953"
             ],
             [
              0.7777777777777778,
              "#fb9f3a"
             ],
             [
              0.8888888888888888,
              "#fdca26"
             ],
             [
              1,
              "#f0f921"
             ]
            ],
            "type": "histogram2d"
           }
          ],
          "histogram2dcontour": [
           {
            "colorbar": {
             "outlinewidth": 0,
             "ticks": ""
            },
            "colorscale": [
             [
              0,
              "#0d0887"
             ],
             [
              0.1111111111111111,
              "#46039f"
             ],
             [
              0.2222222222222222,
              "#7201a8"
             ],
             [
              0.3333333333333333,
              "#9c179e"
             ],
             [
              0.4444444444444444,
              "#bd3786"
             ],
             [
              0.5555555555555556,
              "#d8576b"
             ],
             [
              0.6666666666666666,
              "#ed7953"
             ],
             [
              0.7777777777777778,
              "#fb9f3a"
             ],
             [
              0.8888888888888888,
              "#fdca26"
             ],
             [
              1,
              "#f0f921"
             ]
            ],
            "type": "histogram2dcontour"
           }
          ],
          "mesh3d": [
           {
            "colorbar": {
             "outlinewidth": 0,
             "ticks": ""
            },
            "type": "mesh3d"
           }
          ],
          "parcoords": [
           {
            "line": {
             "colorbar": {
              "outlinewidth": 0,
              "ticks": ""
             }
            },
            "type": "parcoords"
           }
          ],
          "pie": [
           {
            "automargin": true,
            "type": "pie"
           }
          ],
          "scatter": [
           {
            "fillpattern": {
             "fillmode": "overlay",
             "size": 10,
             "solidity": 0.2
            },
            "type": "scatter"
           }
          ],
          "scatter3d": [
           {
            "line": {
             "colorbar": {
              "outlinewidth": 0,
              "ticks": ""
             }
            },
            "marker": {
             "colorbar": {
              "outlinewidth": 0,
              "ticks": ""
             }
            },
            "type": "scatter3d"
           }
          ],
          "scattercarpet": [
           {
            "marker": {
             "colorbar": {
              "outlinewidth": 0,
              "ticks": ""
             }
            },
            "type": "scattercarpet"
           }
          ],
          "scattergeo": [
           {
            "marker": {
             "colorbar": {
              "outlinewidth": 0,
              "ticks": ""
             }
            },
            "type": "scattergeo"
           }
          ],
          "scattergl": [
           {
            "marker": {
             "colorbar": {
              "outlinewidth": 0,
              "ticks": ""
             }
            },
            "type": "scattergl"
           }
          ],
          "scattermapbox": [
           {
            "marker": {
             "colorbar": {
              "outlinewidth": 0,
              "ticks": ""
             }
            },
            "type": "scattermapbox"
           }
          ],
          "scatterpolar": [
           {
            "marker": {
             "colorbar": {
              "outlinewidth": 0,
              "ticks": ""
             }
            },
            "type": "scatterpolar"
           }
          ],
          "scatterpolargl": [
           {
            "marker": {
             "colorbar": {
              "outlinewidth": 0,
              "ticks": ""
             }
            },
            "type": "scatterpolargl"
           }
          ],
          "scatterternary": [
           {
            "marker": {
             "colorbar": {
              "outlinewidth": 0,
              "ticks": ""
             }
            },
            "type": "scatterternary"
           }
          ],
          "surface": [
           {
            "colorbar": {
             "outlinewidth": 0,
             "ticks": ""
            },
            "colorscale": [
             [
              0,
              "#0d0887"
             ],
             [
              0.1111111111111111,
              "#46039f"
             ],
             [
              0.2222222222222222,
              "#7201a8"
             ],
             [
              0.3333333333333333,
              "#9c179e"
             ],
             [
              0.4444444444444444,
              "#bd3786"
             ],
             [
              0.5555555555555556,
              "#d8576b"
             ],
             [
              0.6666666666666666,
              "#ed7953"
             ],
             [
              0.7777777777777778,
              "#fb9f3a"
             ],
             [
              0.8888888888888888,
              "#fdca26"
             ],
             [
              1,
              "#f0f921"
             ]
            ],
            "type": "surface"
           }
          ],
          "table": [
           {
            "cells": {
             "fill": {
              "color": "#EBF0F8"
             },
             "line": {
              "color": "white"
             }
            },
            "header": {
             "fill": {
              "color": "#C8D4E3"
             },
             "line": {
              "color": "white"
             }
            },
            "type": "table"
           }
          ]
         },
         "layout": {
          "annotationdefaults": {
           "arrowcolor": "#2a3f5f",
           "arrowhead": 0,
           "arrowwidth": 1
          },
          "autotypenumbers": "strict",
          "coloraxis": {
           "colorbar": {
            "outlinewidth": 0,
            "ticks": ""
           }
          },
          "colorscale": {
           "diverging": [
            [
             0,
             "#8e0152"
            ],
            [
             0.1,
             "#c51b7d"
            ],
            [
             0.2,
             "#de77ae"
            ],
            [
             0.3,
             "#f1b6da"
            ],
            [
             0.4,
             "#fde0ef"
            ],
            [
             0.5,
             "#f7f7f7"
            ],
            [
             0.6,
             "#e6f5d0"
            ],
            [
             0.7,
             "#b8e186"
            ],
            [
             0.8,
             "#7fbc41"
            ],
            [
             0.9,
             "#4d9221"
            ],
            [
             1,
             "#276419"
            ]
           ],
           "sequential": [
            [
             0,
             "#0d0887"
            ],
            [
             0.1111111111111111,
             "#46039f"
            ],
            [
             0.2222222222222222,
             "#7201a8"
            ],
            [
             0.3333333333333333,
             "#9c179e"
            ],
            [
             0.4444444444444444,
             "#bd3786"
            ],
            [
             0.5555555555555556,
             "#d8576b"
            ],
            [
             0.6666666666666666,
             "#ed7953"
            ],
            [
             0.7777777777777778,
             "#fb9f3a"
            ],
            [
             0.8888888888888888,
             "#fdca26"
            ],
            [
             1,
             "#f0f921"
            ]
           ],
           "sequentialminus": [
            [
             0,
             "#0d0887"
            ],
            [
             0.1111111111111111,
             "#46039f"
            ],
            [
             0.2222222222222222,
             "#7201a8"
            ],
            [
             0.3333333333333333,
             "#9c179e"
            ],
            [
             0.4444444444444444,
             "#bd3786"
            ],
            [
             0.5555555555555556,
             "#d8576b"
            ],
            [
             0.6666666666666666,
             "#ed7953"
            ],
            [
             0.7777777777777778,
             "#fb9f3a"
            ],
            [
             0.8888888888888888,
             "#fdca26"
            ],
            [
             1,
             "#f0f921"
            ]
           ]
          },
          "colorway": [
           "#636efa",
           "#EF553B",
           "#00cc96",
           "#ab63fa",
           "#FFA15A",
           "#19d3f3",
           "#FF6692",
           "#B6E880",
           "#FF97FF",
           "#FECB52"
          ],
          "font": {
           "color": "#2a3f5f"
          },
          "geo": {
           "bgcolor": "white",
           "lakecolor": "white",
           "landcolor": "#E5ECF6",
           "showlakes": true,
           "showland": true,
           "subunitcolor": "white"
          },
          "hoverlabel": {
           "align": "left"
          },
          "hovermode": "closest",
          "mapbox": {
           "style": "light"
          },
          "paper_bgcolor": "white",
          "plot_bgcolor": "#E5ECF6",
          "polar": {
           "angularaxis": {
            "gridcolor": "white",
            "linecolor": "white",
            "ticks": ""
           },
           "bgcolor": "#E5ECF6",
           "radialaxis": {
            "gridcolor": "white",
            "linecolor": "white",
            "ticks": ""
           }
          },
          "scene": {
           "xaxis": {
            "backgroundcolor": "#E5ECF6",
            "gridcolor": "white",
            "gridwidth": 2,
            "linecolor": "white",
            "showbackground": true,
            "ticks": "",
            "zerolinecolor": "white"
           },
           "yaxis": {
            "backgroundcolor": "#E5ECF6",
            "gridcolor": "white",
            "gridwidth": 2,
            "linecolor": "white",
            "showbackground": true,
            "ticks": "",
            "zerolinecolor": "white"
           },
           "zaxis": {
            "backgroundcolor": "#E5ECF6",
            "gridcolor": "white",
            "gridwidth": 2,
            "linecolor": "white",
            "showbackground": true,
            "ticks": "",
            "zerolinecolor": "white"
           }
          },
          "shapedefaults": {
           "line": {
            "color": "#2a3f5f"
           }
          },
          "ternary": {
           "aaxis": {
            "gridcolor": "white",
            "linecolor": "white",
            "ticks": ""
           },
           "baxis": {
            "gridcolor": "white",
            "linecolor": "white",
            "ticks": ""
           },
           "bgcolor": "#E5ECF6",
           "caxis": {
            "gridcolor": "white",
            "linecolor": "white",
            "ticks": ""
           }
          },
          "title": {
           "x": 0.05
          },
          "xaxis": {
           "automargin": true,
           "gridcolor": "white",
           "linecolor": "white",
           "ticks": "",
           "title": {
            "standoff": 15
           },
           "zerolinecolor": "white",
           "zerolinewidth": 2
          },
          "yaxis": {
           "automargin": true,
           "gridcolor": "white",
           "linecolor": "white",
           "ticks": "",
           "title": {
            "standoff": 15
           },
           "zerolinecolor": "white",
           "zerolinewidth": 2
          }
         }
        },
        "title": {
         "text": "연도별 수익률 비교",
         "x": 0.5,
         "xanchor": "center",
         "yanchor": "top"
        },
        "yaxis": {
         "autorange": true,
         "type": "linear"
        }
       }
      },
      "text/html": [
       "<div>                            <div id=\"f33084cd-773f-4ff2-ab4d-298f8bf08891\" class=\"plotly-graph-div\" style=\"height:525px; width:100%;\"></div>            <script type=\"text/javascript\">                require([\"plotly\"], function(Plotly) {                    window.PLOTLYENV=window.PLOTLYENV || {};                                    if (document.getElementById(\"f33084cd-773f-4ff2-ab4d-298f8bf08891\")) {                    Plotly.newPlot(                        \"f33084cd-773f-4ff2-ab4d-298f8bf08891\",                        [{\"name\":\"Portfolio1\",\"x\":[2022],\"y\":[-18.584732870664645],\"type\":\"bar\"},{\"name\":\"Portfolio2\",\"x\":[2022],\"y\":[-13.998650577635397],\"type\":\"bar\"},{\"name\":\"Portfolio3\",\"x\":[2022],\"y\":[-15.281100144326576],\"type\":\"bar\"},{\"name\":\"Portfolio4\",\"x\":[2022],\"y\":[-16.374543073151273],\"type\":\"bar\"},{\"name\":\"Portfolio5\",\"x\":[2022],\"y\":[-3.328289330218759],\"type\":\"bar\"},{\"name\":\"Portfolio6\",\"x\":[2022],\"y\":[-14.78303208727657],\"type\":\"bar\"},{\"name\":\"Benchmark\",\"x\":[2022],\"y\":[-21.986525172822844],\"type\":\"bar\"}],                        {\"template\":{\"data\":{\"histogram2dcontour\":[{\"type\":\"histogram2dcontour\",\"colorbar\":{\"outlinewidth\":0,\"ticks\":\"\"},\"colorscale\":[[0.0,\"#0d0887\"],[0.1111111111111111,\"#46039f\"],[0.2222222222222222,\"#7201a8\"],[0.3333333333333333,\"#9c179e\"],[0.4444444444444444,\"#bd3786\"],[0.5555555555555556,\"#d8576b\"],[0.6666666666666666,\"#ed7953\"],[0.7777777777777778,\"#fb9f3a\"],[0.8888888888888888,\"#fdca26\"],[1.0,\"#f0f921\"]]}],\"choropleth\":[{\"type\":\"choropleth\",\"colorbar\":{\"outlinewidth\":0,\"ticks\":\"\"}}],\"histogram2d\":[{\"type\":\"histogram2d\",\"colorbar\":{\"outlinewidth\":0,\"ticks\":\"\"},\"colorscale\":[[0.0,\"#0d0887\"],[0.1111111111111111,\"#46039f\"],[0.2222222222222222,\"#7201a8\"],[0.3333333333333333,\"#9c179e\"],[0.4444444444444444,\"#bd3786\"],[0.5555555555555556,\"#d8576b\"],[0.6666666666666666,\"#ed7953\"],[0.7777777777777778,\"#fb9f3a\"],[0.8888888888888888,\"#fdca26\"],[1.0,\"#f0f921\"]]}],\"heatmap\":[{\"type\":\"heatmap\",\"colorbar\":{\"outlinewidth\":0,\"ticks\":\"\"},\"colorscale\":[[0.0,\"#0d0887\"],[0.1111111111111111,\"#46039f\"],[0.2222222222222222,\"#7201a8\"],[0.3333333333333333,\"#9c179e\"],[0.4444444444444444,\"#bd3786\"],[0.5555555555555556,\"#d8576b\"],[0.6666666666666666,\"#ed7953\"],[0.7777777777777778,\"#fb9f3a\"],[0.8888888888888888,\"#fdca26\"],[1.0,\"#f0f921\"]]}],\"heatmapgl\":[{\"type\":\"heatmapgl\",\"colorbar\":{\"outlinewidth\":0,\"ticks\":\"\"},\"colorscale\":[[0.0,\"#0d0887\"],[0.1111111111111111,\"#46039f\"],[0.2222222222222222,\"#7201a8\"],[0.3333333333333333,\"#9c179e\"],[0.4444444444444444,\"#bd3786\"],[0.5555555555555556,\"#d8576b\"],[0.6666666666666666,\"#ed7953\"],[0.7777777777777778,\"#fb9f3a\"],[0.8888888888888888,\"#fdca26\"],[1.0,\"#f0f921\"]]}],\"contourcarpet\":[{\"type\":\"contourcarpet\",\"colorbar\":{\"outlinewidth\":0,\"ticks\":\"\"}}],\"contour\":[{\"type\":\"contour\",\"colorbar\":{\"outlinewidth\":0,\"ticks\":\"\"},\"colorscale\":[[0.0,\"#0d0887\"],[0.1111111111111111,\"#46039f\"],[0.2222222222222222,\"#7201a8\"],[0.3333333333333333,\"#9c179e\"],[0.4444444444444444,\"#bd3786\"],[0.5555555555555556,\"#d8576b\"],[0.6666666666666666,\"#ed7953\"],[0.7777777777777778,\"#fb9f3a\"],[0.8888888888888888,\"#fdca26\"],[1.0,\"#f0f921\"]]}],\"surface\":[{\"type\":\"surface\",\"colorbar\":{\"outlinewidth\":0,\"ticks\":\"\"},\"colorscale\":[[0.0,\"#0d0887\"],[0.1111111111111111,\"#46039f\"],[0.2222222222222222,\"#7201a8\"],[0.3333333333333333,\"#9c179e\"],[0.4444444444444444,\"#bd3786\"],[0.5555555555555556,\"#d8576b\"],[0.6666666666666666,\"#ed7953\"],[0.7777777777777778,\"#fb9f3a\"],[0.8888888888888888,\"#fdca26\"],[1.0,\"#f0f921\"]]}],\"mesh3d\":[{\"type\":\"mesh3d\",\"colorbar\":{\"outlinewidth\":0,\"ticks\":\"\"}}],\"scatter\":[{\"fillpattern\":{\"fillmode\":\"overlay\",\"size\":10,\"solidity\":0.2},\"type\":\"scatter\"}],\"parcoords\":[{\"type\":\"parcoords\",\"line\":{\"colorbar\":{\"outlinewidth\":0,\"ticks\":\"\"}}}],\"scatterpolargl\":[{\"type\":\"scatterpolargl\",\"marker\":{\"colorbar\":{\"outlinewidth\":0,\"ticks\":\"\"}}}],\"bar\":[{\"error_x\":{\"color\":\"#2a3f5f\"},\"error_y\":{\"color\":\"#2a3f5f\"},\"marker\":{\"line\":{\"color\":\"#E5ECF6\",\"width\":0.5},\"pattern\":{\"fillmode\":\"overlay\",\"size\":10,\"solidity\":0.2}},\"type\":\"bar\"}],\"scattergeo\":[{\"type\":\"scattergeo\",\"marker\":{\"colorbar\":{\"outlinewidth\":0,\"ticks\":\"\"}}}],\"scatterpolar\":[{\"type\":\"scatterpolar\",\"marker\":{\"colorbar\":{\"outlinewidth\":0,\"ticks\":\"\"}}}],\"histogram\":[{\"marker\":{\"pattern\":{\"fillmode\":\"overlay\",\"size\":10,\"solidity\":0.2}},\"type\":\"histogram\"}],\"scattergl\":[{\"type\":\"scattergl\",\"marker\":{\"colorbar\":{\"outlinewidth\":0,\"ticks\":\"\"}}}],\"scatter3d\":[{\"type\":\"scatter3d\",\"line\":{\"colorbar\":{\"outlinewidth\":0,\"ticks\":\"\"}},\"marker\":{\"colorbar\":{\"outlinewidth\":0,\"ticks\":\"\"}}}],\"scattermapbox\":[{\"type\":\"scattermapbox\",\"marker\":{\"colorbar\":{\"outlinewidth\":0,\"ticks\":\"\"}}}],\"scatterternary\":[{\"type\":\"scatterternary\",\"marker\":{\"colorbar\":{\"outlinewidth\":0,\"ticks\":\"\"}}}],\"scattercarpet\":[{\"type\":\"scattercarpet\",\"marker\":{\"colorbar\":{\"outlinewidth\":0,\"ticks\":\"\"}}}],\"carpet\":[{\"aaxis\":{\"endlinecolor\":\"#2a3f5f\",\"gridcolor\":\"white\",\"linecolor\":\"white\",\"minorgridcolor\":\"white\",\"startlinecolor\":\"#2a3f5f\"},\"baxis\":{\"endlinecolor\":\"#2a3f5f\",\"gridcolor\":\"white\",\"linecolor\":\"white\",\"minorgridcolor\":\"white\",\"startlinecolor\":\"#2a3f5f\"},\"type\":\"carpet\"}],\"table\":[{\"cells\":{\"fill\":{\"color\":\"#EBF0F8\"},\"line\":{\"color\":\"white\"}},\"header\":{\"fill\":{\"color\":\"#C8D4E3\"},\"line\":{\"color\":\"white\"}},\"type\":\"table\"}],\"barpolar\":[{\"marker\":{\"line\":{\"color\":\"#E5ECF6\",\"width\":0.5},\"pattern\":{\"fillmode\":\"overlay\",\"size\":10,\"solidity\":0.2}},\"type\":\"barpolar\"}],\"pie\":[{\"automargin\":true,\"type\":\"pie\"}]},\"layout\":{\"autotypenumbers\":\"strict\",\"colorway\":[\"#636efa\",\"#EF553B\",\"#00cc96\",\"#ab63fa\",\"#FFA15A\",\"#19d3f3\",\"#FF6692\",\"#B6E880\",\"#FF97FF\",\"#FECB52\"],\"font\":{\"color\":\"#2a3f5f\"},\"hovermode\":\"closest\",\"hoverlabel\":{\"align\":\"left\"},\"paper_bgcolor\":\"white\",\"plot_bgcolor\":\"#E5ECF6\",\"polar\":{\"bgcolor\":\"#E5ECF6\",\"angularaxis\":{\"gridcolor\":\"white\",\"linecolor\":\"white\",\"ticks\":\"\"},\"radialaxis\":{\"gridcolor\":\"white\",\"linecolor\":\"white\",\"ticks\":\"\"}},\"ternary\":{\"bgcolor\":\"#E5ECF6\",\"aaxis\":{\"gridcolor\":\"white\",\"linecolor\":\"white\",\"ticks\":\"\"},\"baxis\":{\"gridcolor\":\"white\",\"linecolor\":\"white\",\"ticks\":\"\"},\"caxis\":{\"gridcolor\":\"white\",\"linecolor\":\"white\",\"ticks\":\"\"}},\"coloraxis\":{\"colorbar\":{\"outlinewidth\":0,\"ticks\":\"\"}},\"colorscale\":{\"sequential\":[[0.0,\"#0d0887\"],[0.1111111111111111,\"#46039f\"],[0.2222222222222222,\"#7201a8\"],[0.3333333333333333,\"#9c179e\"],[0.4444444444444444,\"#bd3786\"],[0.5555555555555556,\"#d8576b\"],[0.6666666666666666,\"#ed7953\"],[0.7777777777777778,\"#fb9f3a\"],[0.8888888888888888,\"#fdca26\"],[1.0,\"#f0f921\"]],\"sequentialminus\":[[0.0,\"#0d0887\"],[0.1111111111111111,\"#46039f\"],[0.2222222222222222,\"#7201a8\"],[0.3333333333333333,\"#9c179e\"],[0.4444444444444444,\"#bd3786\"],[0.5555555555555556,\"#d8576b\"],[0.6666666666666666,\"#ed7953\"],[0.7777777777777778,\"#fb9f3a\"],[0.8888888888888888,\"#fdca26\"],[1.0,\"#f0f921\"]],\"diverging\":[[0,\"#8e0152\"],[0.1,\"#c51b7d\"],[0.2,\"#de77ae\"],[0.3,\"#f1b6da\"],[0.4,\"#fde0ef\"],[0.5,\"#f7f7f7\"],[0.6,\"#e6f5d0\"],[0.7,\"#b8e186\"],[0.8,\"#7fbc41\"],[0.9,\"#4d9221\"],[1,\"#276419\"]]},\"xaxis\":{\"gridcolor\":\"white\",\"linecolor\":\"white\",\"ticks\":\"\",\"title\":{\"standoff\":15},\"zerolinecolor\":\"white\",\"automargin\":true,\"zerolinewidth\":2},\"yaxis\":{\"gridcolor\":\"white\",\"linecolor\":\"white\",\"ticks\":\"\",\"title\":{\"standoff\":15},\"zerolinecolor\":\"white\",\"automargin\":true,\"zerolinewidth\":2},\"scene\":{\"xaxis\":{\"backgroundcolor\":\"#E5ECF6\",\"gridcolor\":\"white\",\"linecolor\":\"white\",\"showbackground\":true,\"ticks\":\"\",\"zerolinecolor\":\"white\",\"gridwidth\":2},\"yaxis\":{\"backgroundcolor\":\"#E5ECF6\",\"gridcolor\":\"white\",\"linecolor\":\"white\",\"showbackground\":true,\"ticks\":\"\",\"zerolinecolor\":\"white\",\"gridwidth\":2},\"zaxis\":{\"backgroundcolor\":\"#E5ECF6\",\"gridcolor\":\"white\",\"linecolor\":\"white\",\"showbackground\":true,\"ticks\":\"\",\"zerolinecolor\":\"white\",\"gridwidth\":2}},\"shapedefaults\":{\"line\":{\"color\":\"#2a3f5f\"}},\"annotationdefaults\":{\"arrowcolor\":\"#2a3f5f\",\"arrowhead\":0,\"arrowwidth\":1},\"geo\":{\"bgcolor\":\"white\",\"landcolor\":\"#E5ECF6\",\"subunitcolor\":\"white\",\"showland\":true,\"showlakes\":true,\"lakecolor\":\"white\"},\"title\":{\"x\":0.05},\"mapbox\":{\"style\":\"light\"}}},\"title\":{\"text\":\"\\uc5f0\\ub3c4\\ubcc4 \\uc218\\uc775\\ub960 \\ube44\\uad50\",\"x\":0.5,\"xanchor\":\"center\",\"yanchor\":\"top\"},\"yaxis\":{\"type\":\"linear\",\"autorange\":true}},                        {\"responsive\": true}                    ).then(function(){\n",
       "                            \n",
       "var gd = document.getElementById('f33084cd-773f-4ff2-ab4d-298f8bf08891');\n",
       "var x = new MutationObserver(function (mutations, observer) {{\n",
       "        var display = window.getComputedStyle(gd).display;\n",
       "        if (!display || display === 'none') {{\n",
       "            console.log([gd, 'removed!']);\n",
       "            Plotly.purge(gd);\n",
       "            observer.disconnect();\n",
       "        }}\n",
       "}});\n",
       "\n",
       "// Listen for the removal of the full notebook cells\n",
       "var notebookContainer = gd.closest('#notebook-container');\n",
       "if (notebookContainer) {{\n",
       "    x.observe(notebookContainer, {childList: true});\n",
       "}}\n",
       "\n",
       "// Listen for the clearing of the current output cell\n",
       "var outputEl = gd.closest('.output');\n",
       "if (outputEl) {{\n",
       "    x.observe(outputEl, {childList: true});\n",
       "}}\n",
       "\n",
       "                        })                };                });            </script>        </div>"
      ]
     },
     "metadata": {},
     "output_type": "display_data"
    },
    {
     "data": {
      "application/vnd.plotly.v1+json": {
       "config": {
        "plotlyServerURL": "https://plot.ly"
       },
       "data": [
        {
         "name": "Portfolio1",
         "type": "bar",
         "x": [
          "2022-02",
          "2022-03",
          "2022-04",
          "2022-05",
          "2022-06",
          "2022-07",
          "2022-08",
          "2022-09"
         ],
         "y": [
          -0.3569770428116459,
          -1.9825354824424712,
          -5.445508273066069,
          0.06291353053522464,
          -4.324628658277174,
          2.3217933399141355,
          -4.117362168543881,
          -6.445488227072527
         ]
        },
        {
         "name": "Portfolio2",
         "type": "bar",
         "x": [
          "2022-02",
          "2022-03",
          "2022-04",
          "2022-05",
          "2022-06",
          "2022-07",
          "2022-08",
          "2022-09"
         ],
         "y": [
          0.03246559396081761,
          -0.6002487222609876,
          -5.039421407406697,
          -0.7430617815928686,
          -2.6560083344509877,
          1.514306098098972,
          -3.2626305661440425,
          -4.144837306747529
         ]
        },
        {
         "name": "Portfolio3",
         "type": "bar",
         "x": [
          "2022-02",
          "2022-03",
          "2022-04",
          "2022-05",
          "2022-06",
          "2022-07",
          "2022-08",
          "2022-09"
         ],
         "y": [
          0.03223418575508674,
          -0.04357551406285465,
          -5.503081803651122,
          -0.17324820522750528,
          -4.248662164940908,
          2.864383267520876,
          -3.370014047665104,
          -5.5059529572583195
         ]
        },
        {
         "name": "Portfolio4",
         "type": "bar",
         "x": [
          "2022-02",
          "2022-03",
          "2022-04",
          "2022-05",
          "2022-06",
          "2022-07",
          "2022-08",
          "2022-09"
         ],
         "y": [
          -2.5210546672729484,
          1.2836679531177175,
          -6.358570577616596,
          -0.14454646224117962,
          -4.585534775779177,
          5.038272236558616,
          -3.2159214129487523,
          -6.500651087883192
         ]
        },
        {
         "name": "Portfolio5",
         "type": "bar",
         "x": [
          "2022-02",
          "2022-03",
          "2022-04",
          "2022-05",
          "2022-06",
          "2022-07",
          "2022-08",
          "2022-09"
         ],
         "y": [
          1.3956276220813413,
          1.771108160451007,
          -1.4377332453545888,
          -0.19507512986108866,
          -2.724081176957338,
          1.5470202207497286,
          -1.2214640863742354,
          -2.1763359059757015
         ]
        },
        {
         "name": "Portfolio6",
         "type": "bar",
         "x": [
          "2022-02",
          "2022-03",
          "2022-04",
          "2022-05",
          "2022-06",
          "2022-07",
          "2022-08",
          "2022-09"
         ],
         "y": [
          2.373039823901446,
          -0.500295322895794,
          -1.856012050927358,
          -0.4774439998783131,
          -4.946447083837391,
          1.7468370462578209,
          -2.9019044365046542,
          -5.916157296573266
         ]
        },
        {
         "name": "Benchmark",
         "type": "bar",
         "x": [
          "2022-02",
          "2022-03",
          "2022-04",
          "2022-05",
          "2022-06",
          "2022-07",
          "2022-08",
          "2022-09"
         ],
         "y": [
          -3.860032499462618,
          4.570088596571198,
          -9.493392586583639,
          -0.9978899475590941,
          -7.990246284298774,
          8.205235475351657,
          -3.5039153249567856,
          -9.66881022913375
         ]
        }
       ],
       "layout": {
        "template": {
         "data": {
          "bar": [
           {
            "error_x": {
             "color": "#2a3f5f"
            },
            "error_y": {
             "color": "#2a3f5f"
            },
            "marker": {
             "line": {
              "color": "#E5ECF6",
              "width": 0.5
             },
             "pattern": {
              "fillmode": "overlay",
              "size": 10,
              "solidity": 0.2
             }
            },
            "type": "bar"
           }
          ],
          "barpolar": [
           {
            "marker": {
             "line": {
              "color": "#E5ECF6",
              "width": 0.5
             },
             "pattern": {
              "fillmode": "overlay",
              "size": 10,
              "solidity": 0.2
             }
            },
            "type": "barpolar"
           }
          ],
          "carpet": [
           {
            "aaxis": {
             "endlinecolor": "#2a3f5f",
             "gridcolor": "white",
             "linecolor": "white",
             "minorgridcolor": "white",
             "startlinecolor": "#2a3f5f"
            },
            "baxis": {
             "endlinecolor": "#2a3f5f",
             "gridcolor": "white",
             "linecolor": "white",
             "minorgridcolor": "white",
             "startlinecolor": "#2a3f5f"
            },
            "type": "carpet"
           }
          ],
          "choropleth": [
           {
            "colorbar": {
             "outlinewidth": 0,
             "ticks": ""
            },
            "type": "choropleth"
           }
          ],
          "contour": [
           {
            "colorbar": {
             "outlinewidth": 0,
             "ticks": ""
            },
            "colorscale": [
             [
              0,
              "#0d0887"
             ],
             [
              0.1111111111111111,
              "#46039f"
             ],
             [
              0.2222222222222222,
              "#7201a8"
             ],
             [
              0.3333333333333333,
              "#9c179e"
             ],
             [
              0.4444444444444444,
              "#bd3786"
             ],
             [
              0.5555555555555556,
              "#d8576b"
             ],
             [
              0.6666666666666666,
              "#ed7953"
             ],
             [
              0.7777777777777778,
              "#fb9f3a"
             ],
             [
              0.8888888888888888,
              "#fdca26"
             ],
             [
              1,
              "#f0f921"
             ]
            ],
            "type": "contour"
           }
          ],
          "contourcarpet": [
           {
            "colorbar": {
             "outlinewidth": 0,
             "ticks": ""
            },
            "type": "contourcarpet"
           }
          ],
          "heatmap": [
           {
            "colorbar": {
             "outlinewidth": 0,
             "ticks": ""
            },
            "colorscale": [
             [
              0,
              "#0d0887"
             ],
             [
              0.1111111111111111,
              "#46039f"
             ],
             [
              0.2222222222222222,
              "#7201a8"
             ],
             [
              0.3333333333333333,
              "#9c179e"
             ],
             [
              0.4444444444444444,
              "#bd3786"
             ],
             [
              0.5555555555555556,
              "#d8576b"
             ],
             [
              0.6666666666666666,
              "#ed7953"
             ],
             [
              0.7777777777777778,
              "#fb9f3a"
             ],
             [
              0.8888888888888888,
              "#fdca26"
             ],
             [
              1,
              "#f0f921"
             ]
            ],
            "type": "heatmap"
           }
          ],
          "heatmapgl": [
           {
            "colorbar": {
             "outlinewidth": 0,
             "ticks": ""
            },
            "colorscale": [
             [
              0,
              "#0d0887"
             ],
             [
              0.1111111111111111,
              "#46039f"
             ],
             [
              0.2222222222222222,
              "#7201a8"
             ],
             [
              0.3333333333333333,
              "#9c179e"
             ],
             [
              0.4444444444444444,
              "#bd3786"
             ],
             [
              0.5555555555555556,
              "#d8576b"
             ],
             [
              0.6666666666666666,
              "#ed7953"
             ],
             [
              0.7777777777777778,
              "#fb9f3a"
             ],
             [
              0.8888888888888888,
              "#fdca26"
             ],
             [
              1,
              "#f0f921"
             ]
            ],
            "type": "heatmapgl"
           }
          ],
          "histogram": [
           {
            "marker": {
             "pattern": {
              "fillmode": "overlay",
              "size": 10,
              "solidity": 0.2
             }
            },
            "type": "histogram"
           }
          ],
          "histogram2d": [
           {
            "colorbar": {
             "outlinewidth": 0,
             "ticks": ""
            },
            "colorscale": [
             [
              0,
              "#0d0887"
             ],
             [
              0.1111111111111111,
              "#46039f"
             ],
             [
              0.2222222222222222,
              "#7201a8"
             ],
             [
              0.3333333333333333,
              "#9c179e"
             ],
             [
              0.4444444444444444,
              "#bd3786"
             ],
             [
              0.5555555555555556,
              "#d8576b"
             ],
             [
              0.6666666666666666,
              "#ed7953"
             ],
             [
              0.7777777777777778,
              "#fb9f3a"
             ],
             [
              0.8888888888888888,
              "#fdca26"
             ],
             [
              1,
              "#f0f921"
             ]
            ],
            "type": "histogram2d"
           }
          ],
          "histogram2dcontour": [
           {
            "colorbar": {
             "outlinewidth": 0,
             "ticks": ""
            },
            "colorscale": [
             [
              0,
              "#0d0887"
             ],
             [
              0.1111111111111111,
              "#46039f"
             ],
             [
              0.2222222222222222,
              "#7201a8"
             ],
             [
              0.3333333333333333,
              "#9c179e"
             ],
             [
              0.4444444444444444,
              "#bd3786"
             ],
             [
              0.5555555555555556,
              "#d8576b"
             ],
             [
              0.6666666666666666,
              "#ed7953"
             ],
             [
              0.7777777777777778,
              "#fb9f3a"
             ],
             [
              0.8888888888888888,
              "#fdca26"
             ],
             [
              1,
              "#f0f921"
             ]
            ],
            "type": "histogram2dcontour"
           }
          ],
          "mesh3d": [
           {
            "colorbar": {
             "outlinewidth": 0,
             "ticks": ""
            },
            "type": "mesh3d"
           }
          ],
          "parcoords": [
           {
            "line": {
             "colorbar": {
              "outlinewidth": 0,
              "ticks": ""
             }
            },
            "type": "parcoords"
           }
          ],
          "pie": [
           {
            "automargin": true,
            "type": "pie"
           }
          ],
          "scatter": [
           {
            "fillpattern": {
             "fillmode": "overlay",
             "size": 10,
             "solidity": 0.2
            },
            "type": "scatter"
           }
          ],
          "scatter3d": [
           {
            "line": {
             "colorbar": {
              "outlinewidth": 0,
              "ticks": ""
             }
            },
            "marker": {
             "colorbar": {
              "outlinewidth": 0,
              "ticks": ""
             }
            },
            "type": "scatter3d"
           }
          ],
          "scattercarpet": [
           {
            "marker": {
             "colorbar": {
              "outlinewidth": 0,
              "ticks": ""
             }
            },
            "type": "scattercarpet"
           }
          ],
          "scattergeo": [
           {
            "marker": {
             "colorbar": {
              "outlinewidth": 0,
              "ticks": ""
             }
            },
            "type": "scattergeo"
           }
          ],
          "scattergl": [
           {
            "marker": {
             "colorbar": {
              "outlinewidth": 0,
              "ticks": ""
             }
            },
            "type": "scattergl"
           }
          ],
          "scattermapbox": [
           {
            "marker": {
             "colorbar": {
              "outlinewidth": 0,
              "ticks": ""
             }
            },
            "type": "scattermapbox"
           }
          ],
          "scatterpolar": [
           {
            "marker": {
             "colorbar": {
              "outlinewidth": 0,
              "ticks": ""
             }
            },
            "type": "scatterpolar"
           }
          ],
          "scatterpolargl": [
           {
            "marker": {
             "colorbar": {
              "outlinewidth": 0,
              "ticks": ""
             }
            },
            "type": "scatterpolargl"
           }
          ],
          "scatterternary": [
           {
            "marker": {
             "colorbar": {
              "outlinewidth": 0,
              "ticks": ""
             }
            },
            "type": "scatterternary"
           }
          ],
          "surface": [
           {
            "colorbar": {
             "outlinewidth": 0,
             "ticks": ""
            },
            "colorscale": [
             [
              0,
              "#0d0887"
             ],
             [
              0.1111111111111111,
              "#46039f"
             ],
             [
              0.2222222222222222,
              "#7201a8"
             ],
             [
              0.3333333333333333,
              "#9c179e"
             ],
             [
              0.4444444444444444,
              "#bd3786"
             ],
             [
              0.5555555555555556,
              "#d8576b"
             ],
             [
              0.6666666666666666,
              "#ed7953"
             ],
             [
              0.7777777777777778,
              "#fb9f3a"
             ],
             [
              0.8888888888888888,
              "#fdca26"
             ],
             [
              1,
              "#f0f921"
             ]
            ],
            "type": "surface"
           }
          ],
          "table": [
           {
            "cells": {
             "fill": {
              "color": "#EBF0F8"
             },
             "line": {
              "color": "white"
             }
            },
            "header": {
             "fill": {
              "color": "#C8D4E3"
             },
             "line": {
              "color": "white"
             }
            },
            "type": "table"
           }
          ]
         },
         "layout": {
          "annotationdefaults": {
           "arrowcolor": "#2a3f5f",
           "arrowhead": 0,
           "arrowwidth": 1
          },
          "autotypenumbers": "strict",
          "coloraxis": {
           "colorbar": {
            "outlinewidth": 0,
            "ticks": ""
           }
          },
          "colorscale": {
           "diverging": [
            [
             0,
             "#8e0152"
            ],
            [
             0.1,
             "#c51b7d"
            ],
            [
             0.2,
             "#de77ae"
            ],
            [
             0.3,
             "#f1b6da"
            ],
            [
             0.4,
             "#fde0ef"
            ],
            [
             0.5,
             "#f7f7f7"
            ],
            [
             0.6,
             "#e6f5d0"
            ],
            [
             0.7,
             "#b8e186"
            ],
            [
             0.8,
             "#7fbc41"
            ],
            [
             0.9,
             "#4d9221"
            ],
            [
             1,
             "#276419"
            ]
           ],
           "sequential": [
            [
             0,
             "#0d0887"
            ],
            [
             0.1111111111111111,
             "#46039f"
            ],
            [
             0.2222222222222222,
             "#7201a8"
            ],
            [
             0.3333333333333333,
             "#9c179e"
            ],
            [
             0.4444444444444444,
             "#bd3786"
            ],
            [
             0.5555555555555556,
             "#d8576b"
            ],
            [
             0.6666666666666666,
             "#ed7953"
            ],
            [
             0.7777777777777778,
             "#fb9f3a"
            ],
            [
             0.8888888888888888,
             "#fdca26"
            ],
            [
             1,
             "#f0f921"
            ]
           ],
           "sequentialminus": [
            [
             0,
             "#0d0887"
            ],
            [
             0.1111111111111111,
             "#46039f"
            ],
            [
             0.2222222222222222,
             "#7201a8"
            ],
            [
             0.3333333333333333,
             "#9c179e"
            ],
            [
             0.4444444444444444,
             "#bd3786"
            ],
            [
             0.5555555555555556,
             "#d8576b"
            ],
            [
             0.6666666666666666,
             "#ed7953"
            ],
            [
             0.7777777777777778,
             "#fb9f3a"
            ],
            [
             0.8888888888888888,
             "#fdca26"
            ],
            [
             1,
             "#f0f921"
            ]
           ]
          },
          "colorway": [
           "#636efa",
           "#EF553B",
           "#00cc96",
           "#ab63fa",
           "#FFA15A",
           "#19d3f3",
           "#FF6692",
           "#B6E880",
           "#FF97FF",
           "#FECB52"
          ],
          "font": {
           "color": "#2a3f5f"
          },
          "geo": {
           "bgcolor": "white",
           "lakecolor": "white",
           "landcolor": "#E5ECF6",
           "showlakes": true,
           "showland": true,
           "subunitcolor": "white"
          },
          "hoverlabel": {
           "align": "left"
          },
          "hovermode": "closest",
          "mapbox": {
           "style": "light"
          },
          "paper_bgcolor": "white",
          "plot_bgcolor": "#E5ECF6",
          "polar": {
           "angularaxis": {
            "gridcolor": "white",
            "linecolor": "white",
            "ticks": ""
           },
           "bgcolor": "#E5ECF6",
           "radialaxis": {
            "gridcolor": "white",
            "linecolor": "white",
            "ticks": ""
           }
          },
          "scene": {
           "xaxis": {
            "backgroundcolor": "#E5ECF6",
            "gridcolor": "white",
            "gridwidth": 2,
            "linecolor": "white",
            "showbackground": true,
            "ticks": "",
            "zerolinecolor": "white"
           },
           "yaxis": {
            "backgroundcolor": "#E5ECF6",
            "gridcolor": "white",
            "gridwidth": 2,
            "linecolor": "white",
            "showbackground": true,
            "ticks": "",
            "zerolinecolor": "white"
           },
           "zaxis": {
            "backgroundcolor": "#E5ECF6",
            "gridcolor": "white",
            "gridwidth": 2,
            "linecolor": "white",
            "showbackground": true,
            "ticks": "",
            "zerolinecolor": "white"
           }
          },
          "shapedefaults": {
           "line": {
            "color": "#2a3f5f"
           }
          },
          "ternary": {
           "aaxis": {
            "gridcolor": "white",
            "linecolor": "white",
            "ticks": ""
           },
           "baxis": {
            "gridcolor": "white",
            "linecolor": "white",
            "ticks": ""
           },
           "bgcolor": "#E5ECF6",
           "caxis": {
            "gridcolor": "white",
            "linecolor": "white",
            "ticks": ""
           }
          },
          "title": {
           "x": 0.05
          },
          "xaxis": {
           "automargin": true,
           "gridcolor": "white",
           "linecolor": "white",
           "ticks": "",
           "title": {
            "standoff": 15
           },
           "zerolinecolor": "white",
           "zerolinewidth": 2
          },
          "yaxis": {
           "automargin": true,
           "gridcolor": "white",
           "linecolor": "white",
           "ticks": "",
           "title": {
            "standoff": 15
           },
           "zerolinecolor": "white",
           "zerolinewidth": 2
          }
         }
        },
        "title": {
         "text": "월별 수익률 비교",
         "x": 0.5,
         "xanchor": "center",
         "yanchor": "top"
        },
        "yaxis": {
         "autorange": true,
         "type": "linear"
        }
       }
      },
      "text/html": [
       "<div>                            <div id=\"6558773d-8048-41a9-8f0d-a0f618f14be0\" class=\"plotly-graph-div\" style=\"height:525px; width:100%;\"></div>            <script type=\"text/javascript\">                require([\"plotly\"], function(Plotly) {                    window.PLOTLYENV=window.PLOTLYENV || {};                                    if (document.getElementById(\"6558773d-8048-41a9-8f0d-a0f618f14be0\")) {                    Plotly.newPlot(                        \"6558773d-8048-41a9-8f0d-a0f618f14be0\",                        [{\"name\":\"Portfolio1\",\"x\":[\"2022-02\",\"2022-03\",\"2022-04\",\"2022-05\",\"2022-06\",\"2022-07\",\"2022-08\",\"2022-09\"],\"y\":[-0.3569770428116459,-1.9825354824424712,-5.445508273066069,0.06291353053522464,-4.324628658277174,2.3217933399141355,-4.117362168543881,-6.445488227072527],\"type\":\"bar\"},{\"name\":\"Portfolio2\",\"x\":[\"2022-02\",\"2022-03\",\"2022-04\",\"2022-05\",\"2022-06\",\"2022-07\",\"2022-08\",\"2022-09\"],\"y\":[0.03246559396081761,-0.6002487222609876,-5.039421407406697,-0.7430617815928686,-2.6560083344509877,1.514306098098972,-3.2626305661440425,-4.144837306747529],\"type\":\"bar\"},{\"name\":\"Portfolio3\",\"x\":[\"2022-02\",\"2022-03\",\"2022-04\",\"2022-05\",\"2022-06\",\"2022-07\",\"2022-08\",\"2022-09\"],\"y\":[0.03223418575508674,-0.04357551406285465,-5.503081803651122,-0.17324820522750528,-4.248662164940908,2.864383267520876,-3.370014047665104,-5.5059529572583195],\"type\":\"bar\"},{\"name\":\"Portfolio4\",\"x\":[\"2022-02\",\"2022-03\",\"2022-04\",\"2022-05\",\"2022-06\",\"2022-07\",\"2022-08\",\"2022-09\"],\"y\":[-2.5210546672729484,1.2836679531177175,-6.358570577616596,-0.14454646224117962,-4.585534775779177,5.038272236558616,-3.2159214129487523,-6.500651087883192],\"type\":\"bar\"},{\"name\":\"Portfolio5\",\"x\":[\"2022-02\",\"2022-03\",\"2022-04\",\"2022-05\",\"2022-06\",\"2022-07\",\"2022-08\",\"2022-09\"],\"y\":[1.3956276220813413,1.771108160451007,-1.4377332453545888,-0.19507512986108866,-2.724081176957338,1.5470202207497286,-1.2214640863742354,-2.1763359059757015],\"type\":\"bar\"},{\"name\":\"Portfolio6\",\"x\":[\"2022-02\",\"2022-03\",\"2022-04\",\"2022-05\",\"2022-06\",\"2022-07\",\"2022-08\",\"2022-09\"],\"y\":[2.373039823901446,-0.500295322895794,-1.856012050927358,-0.4774439998783131,-4.946447083837391,1.7468370462578209,-2.9019044365046542,-5.916157296573266],\"type\":\"bar\"},{\"name\":\"Benchmark\",\"x\":[\"2022-02\",\"2022-03\",\"2022-04\",\"2022-05\",\"2022-06\",\"2022-07\",\"2022-08\",\"2022-09\"],\"y\":[-3.860032499462618,4.570088596571198,-9.493392586583639,-0.9978899475590941,-7.990246284298774,8.205235475351657,-3.5039153249567856,-9.66881022913375],\"type\":\"bar\"}],                        {\"template\":{\"data\":{\"histogram2dcontour\":[{\"type\":\"histogram2dcontour\",\"colorbar\":{\"outlinewidth\":0,\"ticks\":\"\"},\"colorscale\":[[0.0,\"#0d0887\"],[0.1111111111111111,\"#46039f\"],[0.2222222222222222,\"#7201a8\"],[0.3333333333333333,\"#9c179e\"],[0.4444444444444444,\"#bd3786\"],[0.5555555555555556,\"#d8576b\"],[0.6666666666666666,\"#ed7953\"],[0.7777777777777778,\"#fb9f3a\"],[0.8888888888888888,\"#fdca26\"],[1.0,\"#f0f921\"]]}],\"choropleth\":[{\"type\":\"choropleth\",\"colorbar\":{\"outlinewidth\":0,\"ticks\":\"\"}}],\"histogram2d\":[{\"type\":\"histogram2d\",\"colorbar\":{\"outlinewidth\":0,\"ticks\":\"\"},\"colorscale\":[[0.0,\"#0d0887\"],[0.1111111111111111,\"#46039f\"],[0.2222222222222222,\"#7201a8\"],[0.3333333333333333,\"#9c179e\"],[0.4444444444444444,\"#bd3786\"],[0.5555555555555556,\"#d8576b\"],[0.6666666666666666,\"#ed7953\"],[0.7777777777777778,\"#fb9f3a\"],[0.8888888888888888,\"#fdca26\"],[1.0,\"#f0f921\"]]}],\"heatmap\":[{\"type\":\"heatmap\",\"colorbar\":{\"outlinewidth\":0,\"ticks\":\"\"},\"colorscale\":[[0.0,\"#0d0887\"],[0.1111111111111111,\"#46039f\"],[0.2222222222222222,\"#7201a8\"],[0.3333333333333333,\"#9c179e\"],[0.4444444444444444,\"#bd3786\"],[0.5555555555555556,\"#d8576b\"],[0.6666666666666666,\"#ed7953\"],[0.7777777777777778,\"#fb9f3a\"],[0.8888888888888888,\"#fdca26\"],[1.0,\"#f0f921\"]]}],\"heatmapgl\":[{\"type\":\"heatmapgl\",\"colorbar\":{\"outlinewidth\":0,\"ticks\":\"\"},\"colorscale\":[[0.0,\"#0d0887\"],[0.1111111111111111,\"#46039f\"],[0.2222222222222222,\"#7201a8\"],[0.3333333333333333,\"#9c179e\"],[0.4444444444444444,\"#bd3786\"],[0.5555555555555556,\"#d8576b\"],[0.6666666666666666,\"#ed7953\"],[0.7777777777777778,\"#fb9f3a\"],[0.8888888888888888,\"#fdca26\"],[1.0,\"#f0f921\"]]}],\"contourcarpet\":[{\"type\":\"contourcarpet\",\"colorbar\":{\"outlinewidth\":0,\"ticks\":\"\"}}],\"contour\":[{\"type\":\"contour\",\"colorbar\":{\"outlinewidth\":0,\"ticks\":\"\"},\"colorscale\":[[0.0,\"#0d0887\"],[0.1111111111111111,\"#46039f\"],[0.2222222222222222,\"#7201a8\"],[0.3333333333333333,\"#9c179e\"],[0.4444444444444444,\"#bd3786\"],[0.5555555555555556,\"#d8576b\"],[0.6666666666666666,\"#ed7953\"],[0.7777777777777778,\"#fb9f3a\"],[0.8888888888888888,\"#fdca26\"],[1.0,\"#f0f921\"]]}],\"surface\":[{\"type\":\"surface\",\"colorbar\":{\"outlinewidth\":0,\"ticks\":\"\"},\"colorscale\":[[0.0,\"#0d0887\"],[0.1111111111111111,\"#46039f\"],[0.2222222222222222,\"#7201a8\"],[0.3333333333333333,\"#9c179e\"],[0.4444444444444444,\"#bd3786\"],[0.5555555555555556,\"#d8576b\"],[0.6666666666666666,\"#ed7953\"],[0.7777777777777778,\"#fb9f3a\"],[0.8888888888888888,\"#fdca26\"],[1.0,\"#f0f921\"]]}],\"mesh3d\":[{\"type\":\"mesh3d\",\"colorbar\":{\"outlinewidth\":0,\"ticks\":\"\"}}],\"scatter\":[{\"fillpattern\":{\"fillmode\":\"overlay\",\"size\":10,\"solidity\":0.2},\"type\":\"scatter\"}],\"parcoords\":[{\"type\":\"parcoords\",\"line\":{\"colorbar\":{\"outlinewidth\":0,\"ticks\":\"\"}}}],\"scatterpolargl\":[{\"type\":\"scatterpolargl\",\"marker\":{\"colorbar\":{\"outlinewidth\":0,\"ticks\":\"\"}}}],\"bar\":[{\"error_x\":{\"color\":\"#2a3f5f\"},\"error_y\":{\"color\":\"#2a3f5f\"},\"marker\":{\"line\":{\"color\":\"#E5ECF6\",\"width\":0.5},\"pattern\":{\"fillmode\":\"overlay\",\"size\":10,\"solidity\":0.2}},\"type\":\"bar\"}],\"scattergeo\":[{\"type\":\"scattergeo\",\"marker\":{\"colorbar\":{\"outlinewidth\":0,\"ticks\":\"\"}}}],\"scatterpolar\":[{\"type\":\"scatterpolar\",\"marker\":{\"colorbar\":{\"outlinewidth\":0,\"ticks\":\"\"}}}],\"histogram\":[{\"marker\":{\"pattern\":{\"fillmode\":\"overlay\",\"size\":10,\"solidity\":0.2}},\"type\":\"histogram\"}],\"scattergl\":[{\"type\":\"scattergl\",\"marker\":{\"colorbar\":{\"outlinewidth\":0,\"ticks\":\"\"}}}],\"scatter3d\":[{\"type\":\"scatter3d\",\"line\":{\"colorbar\":{\"outlinewidth\":0,\"ticks\":\"\"}},\"marker\":{\"colorbar\":{\"outlinewidth\":0,\"ticks\":\"\"}}}],\"scattermapbox\":[{\"type\":\"scattermapbox\",\"marker\":{\"colorbar\":{\"outlinewidth\":0,\"ticks\":\"\"}}}],\"scatterternary\":[{\"type\":\"scatterternary\",\"marker\":{\"colorbar\":{\"outlinewidth\":0,\"ticks\":\"\"}}}],\"scattercarpet\":[{\"type\":\"scattercarpet\",\"marker\":{\"colorbar\":{\"outlinewidth\":0,\"ticks\":\"\"}}}],\"carpet\":[{\"aaxis\":{\"endlinecolor\":\"#2a3f5f\",\"gridcolor\":\"white\",\"linecolor\":\"white\",\"minorgridcolor\":\"white\",\"startlinecolor\":\"#2a3f5f\"},\"baxis\":{\"endlinecolor\":\"#2a3f5f\",\"gridcolor\":\"white\",\"linecolor\":\"white\",\"minorgridcolor\":\"white\",\"startlinecolor\":\"#2a3f5f\"},\"type\":\"carpet\"}],\"table\":[{\"cells\":{\"fill\":{\"color\":\"#EBF0F8\"},\"line\":{\"color\":\"white\"}},\"header\":{\"fill\":{\"color\":\"#C8D4E3\"},\"line\":{\"color\":\"white\"}},\"type\":\"table\"}],\"barpolar\":[{\"marker\":{\"line\":{\"color\":\"#E5ECF6\",\"width\":0.5},\"pattern\":{\"fillmode\":\"overlay\",\"size\":10,\"solidity\":0.2}},\"type\":\"barpolar\"}],\"pie\":[{\"automargin\":true,\"type\":\"pie\"}]},\"layout\":{\"autotypenumbers\":\"strict\",\"colorway\":[\"#636efa\",\"#EF553B\",\"#00cc96\",\"#ab63fa\",\"#FFA15A\",\"#19d3f3\",\"#FF6692\",\"#B6E880\",\"#FF97FF\",\"#FECB52\"],\"font\":{\"color\":\"#2a3f5f\"},\"hovermode\":\"closest\",\"hoverlabel\":{\"align\":\"left\"},\"paper_bgcolor\":\"white\",\"plot_bgcolor\":\"#E5ECF6\",\"polar\":{\"bgcolor\":\"#E5ECF6\",\"angularaxis\":{\"gridcolor\":\"white\",\"linecolor\":\"white\",\"ticks\":\"\"},\"radialaxis\":{\"gridcolor\":\"white\",\"linecolor\":\"white\",\"ticks\":\"\"}},\"ternary\":{\"bgcolor\":\"#E5ECF6\",\"aaxis\":{\"gridcolor\":\"white\",\"linecolor\":\"white\",\"ticks\":\"\"},\"baxis\":{\"gridcolor\":\"white\",\"linecolor\":\"white\",\"ticks\":\"\"},\"caxis\":{\"gridcolor\":\"white\",\"linecolor\":\"white\",\"ticks\":\"\"}},\"coloraxis\":{\"colorbar\":{\"outlinewidth\":0,\"ticks\":\"\"}},\"colorscale\":{\"sequential\":[[0.0,\"#0d0887\"],[0.1111111111111111,\"#46039f\"],[0.2222222222222222,\"#7201a8\"],[0.3333333333333333,\"#9c179e\"],[0.4444444444444444,\"#bd3786\"],[0.5555555555555556,\"#d8576b\"],[0.6666666666666666,\"#ed7953\"],[0.7777777777777778,\"#fb9f3a\"],[0.8888888888888888,\"#fdca26\"],[1.0,\"#f0f921\"]],\"sequentialminus\":[[0.0,\"#0d0887\"],[0.1111111111111111,\"#46039f\"],[0.2222222222222222,\"#7201a8\"],[0.3333333333333333,\"#9c179e\"],[0.4444444444444444,\"#bd3786\"],[0.5555555555555556,\"#d8576b\"],[0.6666666666666666,\"#ed7953\"],[0.7777777777777778,\"#fb9f3a\"],[0.8888888888888888,\"#fdca26\"],[1.0,\"#f0f921\"]],\"diverging\":[[0,\"#8e0152\"],[0.1,\"#c51b7d\"],[0.2,\"#de77ae\"],[0.3,\"#f1b6da\"],[0.4,\"#fde0ef\"],[0.5,\"#f7f7f7\"],[0.6,\"#e6f5d0\"],[0.7,\"#b8e186\"],[0.8,\"#7fbc41\"],[0.9,\"#4d9221\"],[1,\"#276419\"]]},\"xaxis\":{\"gridcolor\":\"white\",\"linecolor\":\"white\",\"ticks\":\"\",\"title\":{\"standoff\":15},\"zerolinecolor\":\"white\",\"automargin\":true,\"zerolinewidth\":2},\"yaxis\":{\"gridcolor\":\"white\",\"linecolor\":\"white\",\"ticks\":\"\",\"title\":{\"standoff\":15},\"zerolinecolor\":\"white\",\"automargin\":true,\"zerolinewidth\":2},\"scene\":{\"xaxis\":{\"backgroundcolor\":\"#E5ECF6\",\"gridcolor\":\"white\",\"linecolor\":\"white\",\"showbackground\":true,\"ticks\":\"\",\"zerolinecolor\":\"white\",\"gridwidth\":2},\"yaxis\":{\"backgroundcolor\":\"#E5ECF6\",\"gridcolor\":\"white\",\"linecolor\":\"white\",\"showbackground\":true,\"ticks\":\"\",\"zerolinecolor\":\"white\",\"gridwidth\":2},\"zaxis\":{\"backgroundcolor\":\"#E5ECF6\",\"gridcolor\":\"white\",\"linecolor\":\"white\",\"showbackground\":true,\"ticks\":\"\",\"zerolinecolor\":\"white\",\"gridwidth\":2}},\"shapedefaults\":{\"line\":{\"color\":\"#2a3f5f\"}},\"annotationdefaults\":{\"arrowcolor\":\"#2a3f5f\",\"arrowhead\":0,\"arrowwidth\":1},\"geo\":{\"bgcolor\":\"white\",\"landcolor\":\"#E5ECF6\",\"subunitcolor\":\"white\",\"showland\":true,\"showlakes\":true,\"lakecolor\":\"white\"},\"title\":{\"x\":0.05},\"mapbox\":{\"style\":\"light\"}}},\"title\":{\"text\":\"\\uc6d4\\ubcc4 \\uc218\\uc775\\ub960 \\ube44\\uad50\",\"x\":0.5,\"xanchor\":\"center\",\"yanchor\":\"top\"},\"yaxis\":{\"type\":\"linear\",\"autorange\":true}},                        {\"responsive\": true}                    ).then(function(){\n",
       "                            \n",
       "var gd = document.getElementById('6558773d-8048-41a9-8f0d-a0f618f14be0');\n",
       "var x = new MutationObserver(function (mutations, observer) {{\n",
       "        var display = window.getComputedStyle(gd).display;\n",
       "        if (!display || display === 'none') {{\n",
       "            console.log([gd, 'removed!']);\n",
       "            Plotly.purge(gd);\n",
       "            observer.disconnect();\n",
       "        }}\n",
       "}});\n",
       "\n",
       "// Listen for the removal of the full notebook cells\n",
       "var notebookContainer = gd.closest('#notebook-container');\n",
       "if (notebookContainer) {{\n",
       "    x.observe(notebookContainer, {childList: true});\n",
       "}}\n",
       "\n",
       "// Listen for the clearing of the current output cell\n",
       "var outputEl = gd.closest('.output');\n",
       "if (outputEl) {{\n",
       "    x.observe(outputEl, {childList: true});\n",
       "}}\n",
       "\n",
       "                        })                };                });            </script>        </div>"
      ]
     },
     "metadata": {},
     "output_type": "display_data"
    }
   ],
   "source": [
    "#### 차트 출력\n",
    "line_plotting('cum_return', '누적 수익률 비교', 'linear')\n",
    "line_plotting('drawdown', '낙폭 비교', 'linear')\n",
    "line_plotting('balance', '평가액 비교(로그)', 'log')\n",
    "\n",
    "bar_plotting('annual', '연도별 수익률 비교')\n",
    "bar_plotting('monthly', '월별 수익률 비교')\n"
   ]
  },
  {
   "cell_type": "code",
   "execution_count": 55,
   "metadata": {},
   "outputs": [],
   "source": [
    "# csv 파일 만들기\n",
    "csv_name = ''\n",
    "for port_num in range(1,portfolio+1):\n",
    "    #for i in range(len(globals()['port'+str(port_num)+'_asset'])):\n",
    "        #csv_name = csv_name + globals()['port'+str(port_num)+'_asset'][i] + '(' + str(int(globals()['port'+str(port_num)+'_ratio'][i]/sum(globals()['port'+str(port_num)+'_ratio'])*100)) + '%,' + str(globals()['port'+str(port_num)+'_leverage'][i]) + 'x)'\n",
    "    csv_name = '정적 자산배분_포트폴리오'+ str(port_num) + '_' + csv_name + '-' + start_day + '~' + end_day + '(' + str(round(time_period,1)) + '년).csv'\n",
    "    \n",
    "    try:\n",
    "        locals()['port'+str(port_num)+'_backtest_result_df'].to_csv(csv_name, encoding='euc-kr')\n",
    "    except: # 파일 열려있어서 에러 뜨면 건너뛰기\n",
    "        pass\n",
    "    \n",
    "    csv_name = ''"
   ]
  }
 ],
 "metadata": {
  "kernelspec": {
   "display_name": "Python 3 (ipykernel)",
   "language": "python",
   "name": "python3"
  },
  "language_info": {
   "codemirror_mode": {
    "name": "ipython",
    "version": 3
   },
   "file_extension": ".py",
   "mimetype": "text/x-python",
   "name": "python",
   "nbconvert_exporter": "python",
   "pygments_lexer": "ipython3",
   "version": "3.10.2"
  }
 },
 "nbformat": 4,
 "nbformat_minor": 2
}
